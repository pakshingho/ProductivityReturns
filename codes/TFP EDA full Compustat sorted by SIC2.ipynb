{
 "cells": [
  {
   "cell_type": "markdown",
   "metadata": {},
   "source": [
    "# Total Factor of Productivity (TFP)"
   ]
  },
  {
   "cell_type": "code",
   "execution_count": 1,
   "metadata": {
    "scrolled": true
   },
   "outputs": [],
   "source": [
    "import pandas as pd\n",
    "import numpy as np\n",
    "import matplotlib.pyplot as plt"
   ]
  },
  {
   "cell_type": "code",
   "execution_count": 2,
   "metadata": {},
   "outputs": [],
   "source": [
    "dt = pd.read_csv('../data/TFPData_updated.csv')"
   ]
  },
  {
   "cell_type": "code",
   "execution_count": 4,
   "metadata": {},
   "outputs": [
    {
     "name": "stderr",
     "output_type": "stream",
     "text": [
      "/Users/shinggg/anaconda3/lib/python3.6/site-packages/IPython/core/interactiveshell.py:3072: DtypeWarning: Columns (8,10,12,26,30,945,946,948,949,950,955,965,969,970,975,976) have mixed types.Specify dtype option on import or set low_memory=False.\n",
      "  interactivity=interactivity, compiler=compiler, result=result)\n"
     ]
    }
   ],
   "source": [
    "comp = pd.read_csv('../data/CompFunda.csv')"
   ]
  },
  {
   "cell_type": "code",
   "execution_count": 5,
   "metadata": {},
   "outputs": [
    {
     "data": {
      "text/plain": [
       "(143912, 3)"
      ]
     },
     "execution_count": 5,
     "metadata": {},
     "output_type": "execute_result"
    }
   ],
   "source": [
    "dt.shape"
   ]
  },
  {
   "cell_type": "code",
   "execution_count": 6,
   "metadata": {},
   "outputs": [
    {
     "data": {
      "text/plain": [
       "2016"
      ]
     },
     "execution_count": 6,
     "metadata": {},
     "output_type": "execute_result"
    }
   ],
   "source": [
    "dt.fyear.max()"
   ]
  },
  {
   "cell_type": "code",
   "execution_count": 7,
   "metadata": {},
   "outputs": [
    {
     "data": {
      "text/plain": [
       "(429025, 981)"
      ]
     },
     "execution_count": 7,
     "metadata": {},
     "output_type": "execute_result"
    }
   ],
   "source": [
    "comp.shape"
   ]
  },
  {
   "cell_type": "code",
   "execution_count": 8,
   "metadata": {},
   "outputs": [
    {
     "data": {
      "text/plain": [
       "1963"
      ]
     },
     "execution_count": 8,
     "metadata": {},
     "output_type": "execute_result"
    }
   ],
   "source": [
    "comp.fyear.min()"
   ]
  },
  {
   "cell_type": "code",
   "execution_count": 9,
   "metadata": {},
   "outputs": [
    {
     "data": {
      "text/html": [
       "<div>\n",
       "<style scoped>\n",
       "    .dataframe tbody tr th:only-of-type {\n",
       "        vertical-align: middle;\n",
       "    }\n",
       "\n",
       "    .dataframe tbody tr th {\n",
       "        vertical-align: top;\n",
       "    }\n",
       "\n",
       "    .dataframe thead th {\n",
       "        text-align: right;\n",
       "    }\n",
       "</style>\n",
       "<table border=\"1\" class=\"dataframe\">\n",
       "  <thead>\n",
       "    <tr style=\"text-align: right;\">\n",
       "      <th></th>\n",
       "      <th>gvkey</th>\n",
       "      <th>fyear</th>\n",
       "      <th>TFP</th>\n",
       "    </tr>\n",
       "  </thead>\n",
       "  <tbody>\n",
       "    <tr>\n",
       "      <th>0</th>\n",
       "      <td>1000</td>\n",
       "      <td>1970</td>\n",
       "      <td>-0.103652</td>\n",
       "    </tr>\n",
       "    <tr>\n",
       "      <th>1</th>\n",
       "      <td>1000</td>\n",
       "      <td>1971</td>\n",
       "      <td>-0.451370</td>\n",
       "    </tr>\n",
       "    <tr>\n",
       "      <th>2</th>\n",
       "      <td>1000</td>\n",
       "      <td>1972</td>\n",
       "      <td>-0.279306</td>\n",
       "    </tr>\n",
       "    <tr>\n",
       "      <th>3</th>\n",
       "      <td>1000</td>\n",
       "      <td>1973</td>\n",
       "      <td>-0.247248</td>\n",
       "    </tr>\n",
       "    <tr>\n",
       "      <th>4</th>\n",
       "      <td>1000</td>\n",
       "      <td>1974</td>\n",
       "      <td>-0.298531</td>\n",
       "    </tr>\n",
       "  </tbody>\n",
       "</table>\n",
       "</div>"
      ],
      "text/plain": [
       "   gvkey  fyear       TFP\n",
       "0   1000   1970 -0.103652\n",
       "1   1000   1971 -0.451370\n",
       "2   1000   1972 -0.279306\n",
       "3   1000   1973 -0.247248\n",
       "4   1000   1974 -0.298531"
      ]
     },
     "execution_count": 9,
     "metadata": {},
     "output_type": "execute_result"
    }
   ],
   "source": [
    "dt.head()"
   ]
  },
  {
   "cell_type": "code",
   "execution_count": 10,
   "metadata": {},
   "outputs": [
    {
     "data": {
      "text/plain": [
       "count    143912.000000\n",
       "mean         -0.325610\n",
       "std           0.449125\n",
       "min          -5.487288\n",
       "25%          -0.513174\n",
       "50%          -0.306304\n",
       "75%          -0.109718\n",
       "max           3.402086\n",
       "Name: TFP, dtype: float64"
      ]
     },
     "execution_count": 10,
     "metadata": {},
     "output_type": "execute_result"
    }
   ],
   "source": [
    "dt.TFP.describe()"
   ]
  },
  {
   "cell_type": "code",
   "execution_count": 11,
   "metadata": {},
   "outputs": [
    {
     "data": {
      "text/plain": [
       "<matplotlib.axes._subplots.AxesSubplot at 0x7f9b63e0be10>"
      ]
     },
     "execution_count": 11,
     "metadata": {},
     "output_type": "execute_result"
    },
    {
     "data": {
      "image/png": "[encoded data removed]",
      "text/plain": [
       "<Figure size 432x288 with 1 Axes>"
      ]
     },
     "metadata": {
      "needs_background": "light"
     },
     "output_type": "display_data"
    }
   ],
   "source": [
    "dt.TFP.hist(bins=100)"
   ]
  },
  {
   "cell_type": "code",
   "execution_count": 12,
   "metadata": {},
   "outputs": [],
   "source": [
    "dt_TFP_frontier_yearly = dt.groupby('fyear')[['TFP']].max()\n",
    "dt_TFP_mean_yearly = dt.groupby('fyear')[['TFP']].mean()\n",
    "dt_TFP_median_yearly = dt.groupby('fyear')[['TFP']].median()"
   ]
  },
  {
   "cell_type": "code",
   "execution_count": 13,
   "metadata": {},
   "outputs": [
    {
     "data": {
      "text/plain": [
       "<matplotlib.axes._subplots.AxesSubplot at 0x7f9bf3c1b8d0>"
      ]
     },
     "execution_count": 13,
     "metadata": {},
     "output_type": "execute_result"
    },
    {
     "data": {
      "image/png": "[encoded data removed]",
      "text/plain": [
       "<Figure size 432x288 with 1 Axes>"
      ]
     },
     "metadata": {
      "needs_background": "light"
     },
     "output_type": "display_data"
    },
    {
     "data": {
      "image/png": "[encoded data removed]",
      "text/plain": [
       "<Figure size 432x288 with 1 Axes>"
      ]
     },
     "metadata": {
      "needs_background": "light"
     },
     "output_type": "display_data"
    },
    {
     "data": {
      "image/png": "[encoded data removed]",
      "text/plain": [
       "<Figure size 432x288 with 1 Axes>"
      ]
     },
     "metadata": {
      "needs_background": "light"
     },
     "output_type": "display_data"
    }
   ],
   "source": [
    "dt_TFP_frontier_yearly.plot()\n",
    "dt_TFP_mean_yearly.plot()\n",
    "dt_TFP_median_yearly.plot()"
   ]
  },
  {
   "cell_type": "code",
   "execution_count": 14,
   "metadata": {},
   "outputs": [],
   "source": [
    "# create preferrerd stock\n",
    "comp['ps']=np.where(comp['pstkrv'].isnull(), comp['pstkl'], comp['pstkrv'])\n",
    "comp['ps']=np.where(comp['ps'].isnull(),comp['pstk'], comp['ps'])\n",
    "comp['ps']=np.where(comp['ps'].isnull(),0,comp['ps'])\n",
    "\n",
    "comp['txditc']=comp['txditc'].fillna(0)\n",
    "\n",
    "# create book equity\n",
    "comp['be']=comp['seq']+comp['txditc']-comp['ps']\n",
    "comp['be']=np.where(comp['be']>0, comp['be'], np.nan)"
   ]
  },
  {
   "cell_type": "code",
   "execution_count": 15,
   "metadata": {},
   "outputs": [],
   "source": [
    "# create market value\n",
    "comp['me']=comp['prcc_f']*comp['csho']"
   ]
  },
  {
   "cell_type": "code",
   "execution_count": 16,
   "metadata": {
    "scrolled": true
   },
   "outputs": [
    {
     "data": {
      "text/html": [
       "<div>\n",
       "<style scoped>\n",
       "    .dataframe tbody tr th:only-of-type {\n",
       "        vertical-align: middle;\n",
       "    }\n",
       "\n",
       "    .dataframe tbody tr th {\n",
       "        vertical-align: top;\n",
       "    }\n",
       "\n",
       "    .dataframe thead th {\n",
       "        text-align: right;\n",
       "    }\n",
       "</style>\n",
       "<table border=\"1\" class=\"dataframe\">\n",
       "  <thead>\n",
       "    <tr style=\"text-align: right;\">\n",
       "      <th></th>\n",
       "      <th>fyear</th>\n",
       "      <th>mkvalt</th>\n",
       "      <th>me</th>\n",
       "      <th>sic</th>\n",
       "    </tr>\n",
       "  </thead>\n",
       "  <tbody>\n",
       "    <tr>\n",
       "      <th>114088</th>\n",
       "      <td>1964</td>\n",
       "      <td>NaN</td>\n",
       "      <td>2953.093375</td>\n",
       "      <td>2670</td>\n",
       "    </tr>\n",
       "    <tr>\n",
       "      <th>114089</th>\n",
       "      <td>1965</td>\n",
       "      <td>NaN</td>\n",
       "      <td>3631.676000</td>\n",
       "      <td>2670</td>\n",
       "    </tr>\n",
       "    <tr>\n",
       "      <th>114090</th>\n",
       "      <td>1966</td>\n",
       "      <td>NaN</td>\n",
       "      <td>4175.730000</td>\n",
       "      <td>2670</td>\n",
       "    </tr>\n",
       "    <tr>\n",
       "      <th>114091</th>\n",
       "      <td>1967</td>\n",
       "      <td>NaN</td>\n",
       "      <td>5079.847500</td>\n",
       "      <td>2670</td>\n",
       "    </tr>\n",
       "    <tr>\n",
       "      <th>114092</th>\n",
       "      <td>1968</td>\n",
       "      <td>NaN</td>\n",
       "      <td>5678.041260</td>\n",
       "      <td>2670</td>\n",
       "    </tr>\n",
       "    <tr>\n",
       "      <th>114093</th>\n",
       "      <td>1969</td>\n",
       "      <td>NaN</td>\n",
       "      <td>6145.358250</td>\n",
       "      <td>2670</td>\n",
       "    </tr>\n",
       "    <tr>\n",
       "      <th>114094</th>\n",
       "      <td>1970</td>\n",
       "      <td>NaN</td>\n",
       "      <td>5553.801000</td>\n",
       "      <td>2670</td>\n",
       "    </tr>\n",
       "    <tr>\n",
       "      <th>114095</th>\n",
       "      <td>1971</td>\n",
       "      <td>NaN</td>\n",
       "      <td>7597.935000</td>\n",
       "      <td>2670</td>\n",
       "    </tr>\n",
       "    <tr>\n",
       "      <th>114096</th>\n",
       "      <td>1972</td>\n",
       "      <td>NaN</td>\n",
       "      <td>9679.991875</td>\n",
       "      <td>2670</td>\n",
       "    </tr>\n",
       "    <tr>\n",
       "      <th>114097</th>\n",
       "      <td>1973</td>\n",
       "      <td>NaN</td>\n",
       "      <td>8821.800000</td>\n",
       "      <td>2670</td>\n",
       "    </tr>\n",
       "    <tr>\n",
       "      <th>114098</th>\n",
       "      <td>1974</td>\n",
       "      <td>NaN</td>\n",
       "      <td>5267.475000</td>\n",
       "      <td>2670</td>\n",
       "    </tr>\n",
       "    <tr>\n",
       "      <th>114099</th>\n",
       "      <td>1975</td>\n",
       "      <td>NaN</td>\n",
       "      <td>6370.290000</td>\n",
       "      <td>2670</td>\n",
       "    </tr>\n",
       "    <tr>\n",
       "      <th>114100</th>\n",
       "      <td>1976</td>\n",
       "      <td>NaN</td>\n",
       "      <td>6534.411750</td>\n",
       "      <td>2670</td>\n",
       "    </tr>\n",
       "    <tr>\n",
       "      <th>114101</th>\n",
       "      <td>1977</td>\n",
       "      <td>NaN</td>\n",
       "      <td>5628.037000</td>\n",
       "      <td>2670</td>\n",
       "    </tr>\n",
       "    <tr>\n",
       "      <th>114102</th>\n",
       "      <td>1978</td>\n",
       "      <td>NaN</td>\n",
       "      <td>7397.303125</td>\n",
       "      <td>2670</td>\n",
       "    </tr>\n",
       "    <tr>\n",
       "      <th>114103</th>\n",
       "      <td>1979</td>\n",
       "      <td>NaN</td>\n",
       "      <td>5894.124000</td>\n",
       "      <td>2670</td>\n",
       "    </tr>\n",
       "    <tr>\n",
       "      <th>114104</th>\n",
       "      <td>1980</td>\n",
       "      <td>NaN</td>\n",
       "      <td>6920.877000</td>\n",
       "      <td>2670</td>\n",
       "    </tr>\n",
       "    <tr>\n",
       "      <th>114105</th>\n",
       "      <td>1981</td>\n",
       "      <td>NaN</td>\n",
       "      <td>6401.951500</td>\n",
       "      <td>2670</td>\n",
       "    </tr>\n",
       "    <tr>\n",
       "      <th>114106</th>\n",
       "      <td>1982</td>\n",
       "      <td>NaN</td>\n",
       "      <td>8841.825000</td>\n",
       "      <td>2670</td>\n",
       "    </tr>\n",
       "    <tr>\n",
       "      <th>114107</th>\n",
       "      <td>1983</td>\n",
       "      <td>NaN</td>\n",
       "      <td>9671.887500</td>\n",
       "      <td>2670</td>\n",
       "    </tr>\n",
       "    <tr>\n",
       "      <th>114108</th>\n",
       "      <td>1984</td>\n",
       "      <td>NaN</td>\n",
       "      <td>9143.930250</td>\n",
       "      <td>2670</td>\n",
       "    </tr>\n",
       "    <tr>\n",
       "      <th>114109</th>\n",
       "      <td>1985</td>\n",
       "      <td>NaN</td>\n",
       "      <td>10282.837000</td>\n",
       "      <td>2670</td>\n",
       "    </tr>\n",
       "    <tr>\n",
       "      <th>114110</th>\n",
       "      <td>1986</td>\n",
       "      <td>NaN</td>\n",
       "      <td>13326.272250</td>\n",
       "      <td>2670</td>\n",
       "    </tr>\n",
       "    <tr>\n",
       "      <th>114111</th>\n",
       "      <td>1987</td>\n",
       "      <td>NaN</td>\n",
       "      <td>14644.861875</td>\n",
       "      <td>2670</td>\n",
       "    </tr>\n",
       "    <tr>\n",
       "      <th>114112</th>\n",
       "      <td>1988</td>\n",
       "      <td>NaN</td>\n",
       "      <td>13908.646000</td>\n",
       "      <td>2670</td>\n",
       "    </tr>\n",
       "    <tr>\n",
       "      <th>114113</th>\n",
       "      <td>1989</td>\n",
       "      <td>NaN</td>\n",
       "      <td>17729.621000</td>\n",
       "      <td>2670</td>\n",
       "    </tr>\n",
       "    <tr>\n",
       "      <th>114114</th>\n",
       "      <td>1990</td>\n",
       "      <td>NaN</td>\n",
       "      <td>18850.679750</td>\n",
       "      <td>2670</td>\n",
       "    </tr>\n",
       "    <tr>\n",
       "      <th>114115</th>\n",
       "      <td>1991</td>\n",
       "      <td>NaN</td>\n",
       "      <td>20873.085000</td>\n",
       "      <td>2670</td>\n",
       "    </tr>\n",
       "    <tr>\n",
       "      <th>114116</th>\n",
       "      <td>1992</td>\n",
       "      <td>NaN</td>\n",
       "      <td>22040.296250</td>\n",
       "      <td>2670</td>\n",
       "    </tr>\n",
       "    <tr>\n",
       "      <th>114117</th>\n",
       "      <td>1993</td>\n",
       "      <td>NaN</td>\n",
       "      <td>23352.866250</td>\n",
       "      <td>2670</td>\n",
       "    </tr>\n",
       "    <tr>\n",
       "      <th>114118</th>\n",
       "      <td>1994</td>\n",
       "      <td>NaN</td>\n",
       "      <td>22406.504750</td>\n",
       "      <td>2670</td>\n",
       "    </tr>\n",
       "    <tr>\n",
       "      <th>114119</th>\n",
       "      <td>1995</td>\n",
       "      <td>NaN</td>\n",
       "      <td>27791.411625</td>\n",
       "      <td>2670</td>\n",
       "    </tr>\n",
       "    <tr>\n",
       "      <th>114120</th>\n",
       "      <td>1996</td>\n",
       "      <td>NaN</td>\n",
       "      <td>34597.388000</td>\n",
       "      <td>2670</td>\n",
       "    </tr>\n",
       "    <tr>\n",
       "      <th>114121</th>\n",
       "      <td>1997</td>\n",
       "      <td>NaN</td>\n",
       "      <td>33212.542950</td>\n",
       "      <td>2670</td>\n",
       "    </tr>\n",
       "    <tr>\n",
       "      <th>114122</th>\n",
       "      <td>1998</td>\n",
       "      <td>28586.8445</td>\n",
       "      <td>28586.844500</td>\n",
       "      <td>2670</td>\n",
       "    </tr>\n",
       "    <tr>\n",
       "      <th>114123</th>\n",
       "      <td>1999</td>\n",
       "      <td>39023.8391</td>\n",
       "      <td>39023.839125</td>\n",
       "      <td>2670</td>\n",
       "    </tr>\n",
       "    <tr>\n",
       "      <th>114124</th>\n",
       "      <td>2000</td>\n",
       "      <td>47728.2425</td>\n",
       "      <td>47728.242500</td>\n",
       "      <td>2670</td>\n",
       "    </tr>\n",
       "    <tr>\n",
       "      <th>114125</th>\n",
       "      <td>2001</td>\n",
       "      <td>46256.0458</td>\n",
       "      <td>46256.045840</td>\n",
       "      <td>2670</td>\n",
       "    </tr>\n",
       "    <tr>\n",
       "      <th>114126</th>\n",
       "      <td>2002</td>\n",
       "      <td>48111.1668</td>\n",
       "      <td>48111.166800</td>\n",
       "      <td>2670</td>\n",
       "    </tr>\n",
       "    <tr>\n",
       "      <th>114127</th>\n",
       "      <td>2003</td>\n",
       "      <td>66673.4685</td>\n",
       "      <td>66673.468510</td>\n",
       "      <td>2670</td>\n",
       "    </tr>\n",
       "    <tr>\n",
       "      <th>114128</th>\n",
       "      <td>2004</td>\n",
       "      <td>63482.6223</td>\n",
       "      <td>63482.622260</td>\n",
       "      <td>2670</td>\n",
       "    </tr>\n",
       "    <tr>\n",
       "      <th>114129</th>\n",
       "      <td>2005</td>\n",
       "      <td>58476.6950</td>\n",
       "      <td>58476.695000</td>\n",
       "      <td>2670</td>\n",
       "    </tr>\n",
       "    <tr>\n",
       "      <th>114130</th>\n",
       "      <td>2006</td>\n",
       "      <td>57228.9086</td>\n",
       "      <td>57228.908590</td>\n",
       "      <td>2670</td>\n",
       "    </tr>\n",
       "    <tr>\n",
       "      <th>114131</th>\n",
       "      <td>2007</td>\n",
       "      <td>59796.0339</td>\n",
       "      <td>59796.033920</td>\n",
       "      <td>2670</td>\n",
       "    </tr>\n",
       "    <tr>\n",
       "      <th>114132</th>\n",
       "      <td>2008</td>\n",
       "      <td>39906.4642</td>\n",
       "      <td>39906.464220</td>\n",
       "      <td>2670</td>\n",
       "    </tr>\n",
       "    <tr>\n",
       "      <th>114133</th>\n",
       "      <td>2009</td>\n",
       "      <td>58745.2193</td>\n",
       "      <td>58745.219330</td>\n",
       "      <td>2670</td>\n",
       "    </tr>\n",
       "    <tr>\n",
       "      <th>114134</th>\n",
       "      <td>2010</td>\n",
       "      <td>61443.7014</td>\n",
       "      <td>61443.701400</td>\n",
       "      <td>2670</td>\n",
       "    </tr>\n",
       "    <tr>\n",
       "      <th>114135</th>\n",
       "      <td>2011</td>\n",
       "      <td>56799.8981</td>\n",
       "      <td>56799.898100</td>\n",
       "      <td>2670</td>\n",
       "    </tr>\n",
       "    <tr>\n",
       "      <th>114136</th>\n",
       "      <td>2012</td>\n",
       "      <td>63796.4922</td>\n",
       "      <td>63796.492200</td>\n",
       "      <td>2670</td>\n",
       "    </tr>\n",
       "    <tr>\n",
       "      <th>114137</th>\n",
       "      <td>2013</td>\n",
       "      <td>93027.2640</td>\n",
       "      <td>93027.264000</td>\n",
       "      <td>2670</td>\n",
       "    </tr>\n",
       "    <tr>\n",
       "      <th>114138</th>\n",
       "      <td>2014</td>\n",
       "      <td>104365.3832</td>\n",
       "      <td>104365.383200</td>\n",
       "      <td>2670</td>\n",
       "    </tr>\n",
       "    <tr>\n",
       "      <th>114139</th>\n",
       "      <td>2015</td>\n",
       "      <td>91789.4712</td>\n",
       "      <td>91789.471200</td>\n",
       "      <td>2670</td>\n",
       "    </tr>\n",
       "    <tr>\n",
       "      <th>114140</th>\n",
       "      <td>2016</td>\n",
       "      <td>106557.3618</td>\n",
       "      <td>106557.361820</td>\n",
       "      <td>2670</td>\n",
       "    </tr>\n",
       "    <tr>\n",
       "      <th>114141</th>\n",
       "      <td>2017</td>\n",
       "      <td>140017.8471</td>\n",
       "      <td>140017.847080</td>\n",
       "      <td>2670</td>\n",
       "    </tr>\n",
       "  </tbody>\n",
       "</table>\n",
       "</div>"
      ],
      "text/plain": [
       "        fyear       mkvalt             me   sic\n",
       "114088   1964          NaN    2953.093375  2670\n",
       "114089   1965          NaN    3631.676000  2670\n",
       "114090   1966          NaN    4175.730000  2670\n",
       "114091   1967          NaN    5079.847500  2670\n",
       "114092   1968          NaN    5678.041260  2670\n",
       "114093   1969          NaN    6145.358250  2670\n",
       "114094   1970          NaN    5553.801000  2670\n",
       "114095   1971          NaN    7597.935000  2670\n",
       "114096   1972          NaN    9679.991875  2670\n",
       "114097   1973          NaN    8821.800000  2670\n",
       "114098   1974          NaN    5267.475000  2670\n",
       "114099   1975          NaN    6370.290000  2670\n",
       "114100   1976          NaN    6534.411750  2670\n",
       "114101   1977          NaN    5628.037000  2670\n",
       "114102   1978          NaN    7397.303125  2670\n",
       "114103   1979          NaN    5894.124000  2670\n",
       "114104   1980          NaN    6920.877000  2670\n",
       "114105   1981          NaN    6401.951500  2670\n",
       "114106   1982          NaN    8841.825000  2670\n",
       "114107   1983          NaN    9671.887500  2670\n",
       "114108   1984          NaN    9143.930250  2670\n",
       "114109   1985          NaN   10282.837000  2670\n",
       "114110   1986          NaN   13326.272250  2670\n",
       "114111   1987          NaN   14644.861875  2670\n",
       "114112   1988          NaN   13908.646000  2670\n",
       "114113   1989          NaN   17729.621000  2670\n",
       "114114   1990          NaN   18850.679750  2670\n",
       "114115   1991          NaN   20873.085000  2670\n",
       "114116   1992          NaN   22040.296250  2670\n",
       "114117   1993          NaN   23352.866250  2670\n",
       "114118   1994          NaN   22406.504750  2670\n",
       "114119   1995          NaN   27791.411625  2670\n",
       "114120   1996          NaN   34597.388000  2670\n",
       "114121   1997          NaN   33212.542950  2670\n",
       "114122   1998   28586.8445   28586.844500  2670\n",
       "114123   1999   39023.8391   39023.839125  2670\n",
       "114124   2000   47728.2425   47728.242500  2670\n",
       "114125   2001   46256.0458   46256.045840  2670\n",
       "114126   2002   48111.1668   48111.166800  2670\n",
       "114127   2003   66673.4685   66673.468510  2670\n",
       "114128   2004   63482.6223   63482.622260  2670\n",
       "114129   2005   58476.6950   58476.695000  2670\n",
       "114130   2006   57228.9086   57228.908590  2670\n",
       "114131   2007   59796.0339   59796.033920  2670\n",
       "114132   2008   39906.4642   39906.464220  2670\n",
       "114133   2009   58745.2193   58745.219330  2670\n",
       "114134   2010   61443.7014   61443.701400  2670\n",
       "114135   2011   56799.8981   56799.898100  2670\n",
       "114136   2012   63796.4922   63796.492200  2670\n",
       "114137   2013   93027.2640   93027.264000  2670\n",
       "114138   2014  104365.3832  104365.383200  2670\n",
       "114139   2015   91789.4712   91789.471200  2670\n",
       "114140   2016  106557.3618  106557.361820  2670\n",
       "114141   2017  140017.8471  140017.847080  2670"
      ]
     },
     "execution_count": 16,
     "metadata": {},
     "output_type": "execute_result"
    }
   ],
   "source": [
    "# compare me and mkvalt\n",
    "comp[comp.tic=='MMM'][['fyear','mkvalt','me','sic']]"
   ]
  },
  {
   "cell_type": "code",
   "execution_count": 17,
   "metadata": {},
   "outputs": [],
   "source": [
    "comp['gvkey']=comp.gvkey.astype('int')"
   ]
  },
  {
   "cell_type": "markdown",
   "metadata": {},
   "source": [
    "# Control\n",
    "## Age\n",
    "AGE is the number of years since the firm first shows up in Compustat."
   ]
  },
  {
   "cell_type": "code",
   "execution_count": 18,
   "metadata": {},
   "outputs": [],
   "source": [
    "comp['age']=comp.fyear - comp.groupby('gvkey').fyear.transform(min)"
   ]
  },
  {
   "cell_type": "markdown",
   "metadata": {},
   "source": [
    "# Merge"
   ]
  },
  {
   "cell_type": "code",
   "execution_count": 19,
   "metadata": {},
   "outputs": [],
   "source": [
    "df_merged=pd.merge(dt,comp, on=['gvkey','fyear'])"
   ]
  },
  {
   "cell_type": "code",
   "execution_count": 20,
   "metadata": {},
   "outputs": [],
   "source": [
    "df = df_merged.copy()"
   ]
  },
  {
   "cell_type": "code",
   "execution_count": 21,
   "metadata": {},
   "outputs": [
    {
     "data": {
      "text/plain": [
       "(143391, 986)"
      ]
     },
     "execution_count": 21,
     "metadata": {},
     "output_type": "execute_result"
    }
   ],
   "source": [
    "df.shape"
   ]
  },
  {
   "cell_type": "code",
   "execution_count": 22,
   "metadata": {},
   "outputs": [],
   "source": [
    "df=df[df['sic'].notna()]"
   ]
  },
  {
   "cell_type": "code",
   "execution_count": 23,
   "metadata": {},
   "outputs": [
    {
     "data": {
      "text/plain": [
       "(143391, 986)"
      ]
     },
     "execution_count": 23,
     "metadata": {},
     "output_type": "execute_result"
    }
   ],
   "source": [
    "df.shape"
   ]
  },
  {
   "cell_type": "code",
   "execution_count": 24,
   "metadata": {},
   "outputs": [],
   "source": [
    "#df= df[~((df.sic >= 4900) & (df.sic < 5000))]\n",
    "#df= df[~((df.sic >= 6000) & (df.sic < 7000))]"
   ]
  },
  {
   "cell_type": "code",
   "execution_count": 25,
   "metadata": {},
   "outputs": [
    {
     "data": {
      "text/plain": [
       "(143391, 986)"
      ]
     },
     "execution_count": 25,
     "metadata": {},
     "output_type": "execute_result"
    }
   ],
   "source": [
    "df.shape"
   ]
  },
  {
   "cell_type": "code",
   "execution_count": 26,
   "metadata": {},
   "outputs": [],
   "source": [
    "#df=df[(df.aqc <= (0.05 * df['at']))]"
   ]
  },
  {
   "cell_type": "code",
   "execution_count": 27,
   "metadata": {},
   "outputs": [
    {
     "data": {
      "text/plain": [
       "(143391, 986)"
      ]
     },
     "execution_count": 27,
     "metadata": {},
     "output_type": "execute_result"
    }
   ],
   "source": [
    "df.shape"
   ]
  },
  {
   "cell_type": "markdown",
   "metadata": {},
   "source": [
    "# Construct Frontier Productivity"
   ]
  },
  {
   "cell_type": "code",
   "execution_count": 28,
   "metadata": {
    "scrolled": true
   },
   "outputs": [],
   "source": [
    "# clip TFP\n",
    "lr = df['TFP'].describe(percentiles=[0.005])['0.5%']\n",
    "up = df['TFP'].describe(percentiles=[0.995])['99.5%']\n",
    "df.TFP = df.TFP.clip(lr, up)"
   ]
  },
  {
   "cell_type": "code",
   "execution_count": 29,
   "metadata": {},
   "outputs": [
    {
     "data": {
      "text/plain": [
       "<matplotlib.axes._subplots.AxesSubplot at 0x7f9b93c81550>"
      ]
     },
     "execution_count": 29,
     "metadata": {},
     "output_type": "execute_result"
    },
    {
     "data": {
      "image/png": "[encoded data removed]",
      "text/plain": [
       "<Figure size 432x288 with 1 Axes>"
      ]
     },
     "metadata": {
      "needs_background": "light"
     },
     "output_type": "display_data"
    }
   ],
   "source": [
    "df.TFP.hist(bins=100)"
   ]
  },
  {
   "cell_type": "code",
   "execution_count": 30,
   "metadata": {},
   "outputs": [],
   "source": [
    "df['sic'] = df.sic.astype('str')"
   ]
  },
  {
   "cell_type": "markdown",
   "metadata": {},
   "source": [
    "## Construct Froniter using by SIC2"
   ]
  },
  {
   "cell_type": "code",
   "execution_count": 31,
   "metadata": {},
   "outputs": [],
   "source": [
    "df['sic2'] = df['sic'].str[0:2]"
   ]
  },
  {
   "cell_type": "code",
   "execution_count": 32,
   "metadata": {},
   "outputs": [],
   "source": [
    "df.loc[df.index,'TFP_frontier_fyear_sic2'] = df.groupby(['fyear', 'sic2'])['TFP'].transform(max)\n",
    "df.loc[df.index,'TFP_mean_fyear_sic2'] = df.groupby(['fyear', 'sic2'])['TFP'].transform(np.mean)\n",
    "df.loc[df.index,'TFP_median_fyear_sic2'] = df.groupby(['fyear', 'sic2'])['TFP'].transform(np.median)\n",
    "\n",
    "df.loc[df.index,'gap'] = df['TFP_frontier_fyear_sic2'] - df['TFP']"
   ]
  },
  {
   "cell_type": "code",
   "execution_count": 33,
   "metadata": {},
   "outputs": [
    {
     "data": {
      "text/plain": [
       "<matplotlib.axes._subplots.AxesSubplot at 0x7f97a88fe7b8>"
      ]
     },
     "execution_count": 33,
     "metadata": {},
     "output_type": "execute_result"
    },
    {
     "data": {
      "image/png": "[encoded data removed]",
      "text/plain": [
       "<Figure size 432x288 with 1 Axes>"
      ]
     },
     "metadata": {
      "needs_background": "light"
     },
     "output_type": "display_data"
    }
   ],
   "source": [
    "df.gap.hist(bins=100)"
   ]
  },
  {
   "cell_type": "code",
   "execution_count": 34,
   "metadata": {},
   "outputs": [],
   "source": [
    "# remove gap == 0\n",
    "df = df[df.gap > 0]"
   ]
  },
  {
   "cell_type": "code",
   "execution_count": 35,
   "metadata": {},
   "outputs": [
    {
     "data": {
      "text/plain": [
       "<matplotlib.axes._subplots.AxesSubplot at 0x7f97a88f6d30>"
      ]
     },
     "execution_count": 35,
     "metadata": {},
     "output_type": "execute_result"
    },
    {
     "data": {
      "image/png": "[encoded data removed]",
      "text/plain": [
       "<Figure size 432x288 with 1 Axes>"
      ]
     },
     "metadata": {
      "needs_background": "light"
     },
     "output_type": "display_data"
    }
   ],
   "source": [
    "df.gap.hist(bins=100)"
   ]
  },
  {
   "cell_type": "markdown",
   "metadata": {},
   "source": [
    "# Construct Book to Market"
   ]
  },
  {
   "cell_type": "code",
   "execution_count": 36,
   "metadata": {},
   "outputs": [],
   "source": [
    "df=df[df['be'].notna()]\n",
    "df=df[df['me'].notna()]\n",
    "\n",
    "df=df[df['be']>0]\n",
    "df=df[df['me']>0]"
   ]
  },
  {
   "cell_type": "code",
   "execution_count": 37,
   "metadata": {},
   "outputs": [
    {
     "data": {
      "text/plain": [
       "(124269, 991)"
      ]
     },
     "execution_count": 37,
     "metadata": {},
     "output_type": "execute_result"
    }
   ],
   "source": [
    "df.shape"
   ]
  },
  {
   "cell_type": "code",
   "execution_count": 38,
   "metadata": {},
   "outputs": [],
   "source": [
    "df['beme'] = df['be']/df['me']"
   ]
  },
  {
   "cell_type": "code",
   "execution_count": 39,
   "metadata": {},
   "outputs": [
    {
     "data": {
      "text/plain": [
       "count    124269.000000\n",
       "mean         12.105924\n",
       "std        1382.438018\n",
       "min           0.000052\n",
       "25%           0.382729\n",
       "50%           0.660058\n",
       "75%           1.116265\n",
       "max      308133.891213\n",
       "Name: beme, dtype: float64"
      ]
     },
     "execution_count": 39,
     "metadata": {},
     "output_type": "execute_result"
    }
   ],
   "source": [
    "df['beme'].describe()"
   ]
  },
  {
   "cell_type": "code",
   "execution_count": 40,
   "metadata": {},
   "outputs": [
    {
     "data": {
      "text/plain": [
       "<matplotlib.axes._subplots.AxesSubplot at 0x7f97a88a3e48>"
      ]
     },
     "execution_count": 40,
     "metadata": {},
     "output_type": "execute_result"
    },
    {
     "data": {
      "image/png": "[encoded data removed]",
      "text/plain": [
       "<Figure size 432x288 with 1 Axes>"
      ]
     },
     "metadata": {
      "needs_background": "light"
     },
     "output_type": "display_data"
    }
   ],
   "source": [
    "df['beme'].hist(bins=100)"
   ]
  },
  {
   "cell_type": "code",
   "execution_count": 41,
   "metadata": {},
   "outputs": [
    {
     "data": {
      "text/html": [
       "<div>\n",
       "<style scoped>\n",
       "    .dataframe tbody tr th:only-of-type {\n",
       "        vertical-align: middle;\n",
       "    }\n",
       "\n",
       "    .dataframe tbody tr th {\n",
       "        vertical-align: top;\n",
       "    }\n",
       "\n",
       "    .dataframe thead th {\n",
       "        text-align: right;\n",
       "    }\n",
       "</style>\n",
       "<table border=\"1\" class=\"dataframe\">\n",
       "  <thead>\n",
       "    <tr style=\"text-align: right;\">\n",
       "      <th></th>\n",
       "      <th>gap</th>\n",
       "      <th>beme</th>\n",
       "    </tr>\n",
       "  </thead>\n",
       "  <tbody>\n",
       "    <tr>\n",
       "      <th>gap</th>\n",
       "      <td>1.000000</td>\n",
       "      <td>-0.001953</td>\n",
       "    </tr>\n",
       "    <tr>\n",
       "      <th>beme</th>\n",
       "      <td>-0.001953</td>\n",
       "      <td>1.000000</td>\n",
       "    </tr>\n",
       "  </tbody>\n",
       "</table>\n",
       "</div>"
      ],
      "text/plain": [
       "           gap      beme\n",
       "gap   1.000000 -0.001953\n",
       "beme -0.001953  1.000000"
      ]
     },
     "execution_count": 41,
     "metadata": {},
     "output_type": "execute_result"
    }
   ],
   "source": [
    "df[['gap', 'beme']].corr()"
   ]
  },
  {
   "cell_type": "code",
   "execution_count": 42,
   "metadata": {},
   "outputs": [],
   "source": [
    "lr = df['beme'].describe(percentiles=[0.005])['0.5%']\n",
    "up = df['beme'].describe(percentiles=[0.995])['99.5%']\n",
    "df.beme = df.beme.clip(lr, up)"
   ]
  },
  {
   "cell_type": "code",
   "execution_count": 43,
   "metadata": {},
   "outputs": [
    {
     "data": {
      "text/plain": [
       "(124269, 992)"
      ]
     },
     "execution_count": 43,
     "metadata": {},
     "output_type": "execute_result"
    }
   ],
   "source": [
    "df.shape"
   ]
  },
  {
   "cell_type": "code",
   "execution_count": 44,
   "metadata": {
    "scrolled": true
   },
   "outputs": [
    {
     "data": {
      "text/plain": [
       "<matplotlib.axes._subplots.AxesSubplot at 0x7f97a3d11a90>"
      ]
     },
     "execution_count": 44,
     "metadata": {},
     "output_type": "execute_result"
    },
    {
     "data": {
      "image/png": "[encoded data removed]",
      "text/plain": [
       "<Figure size 432x288 with 1 Axes>"
      ]
     },
     "metadata": {
      "needs_background": "light"
     },
     "output_type": "display_data"
    }
   ],
   "source": [
    "df.beme.hist(bins=100)"
   ]
  },
  {
   "cell_type": "code",
   "execution_count": 45,
   "metadata": {},
   "outputs": [],
   "source": [
    "# clip gap\n",
    "# lr = df['gap'].describe(percentiles=[0.005])['0.5%']\n",
    "# up = df['gap'].describe(percentiles=[0.995])['99.5%']\n",
    "# df.gap = df.gap.clip(lr, up)"
   ]
  },
  {
   "cell_type": "code",
   "execution_count": 46,
   "metadata": {},
   "outputs": [
    {
     "data": {
      "text/html": [
       "<div>\n",
       "<style scoped>\n",
       "    .dataframe tbody tr th:only-of-type {\n",
       "        vertical-align: middle;\n",
       "    }\n",
       "\n",
       "    .dataframe tbody tr th {\n",
       "        vertical-align: top;\n",
       "    }\n",
       "\n",
       "    .dataframe thead th {\n",
       "        text-align: right;\n",
       "    }\n",
       "</style>\n",
       "<table border=\"1\" class=\"dataframe\">\n",
       "  <thead>\n",
       "    <tr style=\"text-align: right;\">\n",
       "      <th></th>\n",
       "      <th>gap</th>\n",
       "      <th>beme</th>\n",
       "    </tr>\n",
       "  </thead>\n",
       "  <tbody>\n",
       "    <tr>\n",
       "      <th>gap</th>\n",
       "      <td>1.000000</td>\n",
       "      <td>0.053965</td>\n",
       "    </tr>\n",
       "    <tr>\n",
       "      <th>beme</th>\n",
       "      <td>0.053965</td>\n",
       "      <td>1.000000</td>\n",
       "    </tr>\n",
       "  </tbody>\n",
       "</table>\n",
       "</div>"
      ],
      "text/plain": [
       "           gap      beme\n",
       "gap   1.000000  0.053965\n",
       "beme  0.053965  1.000000"
      ]
     },
     "execution_count": 46,
     "metadata": {},
     "output_type": "execute_result"
    }
   ],
   "source": [
    "df[['gap', 'beme']].corr()"
   ]
  },
  {
   "cell_type": "code",
   "execution_count": 47,
   "metadata": {
    "scrolled": false
   },
   "outputs": [
    {
     "data": {
      "text/plain": [
       "<matplotlib.axes._subplots.AxesSubplot at 0x7f9ba3dc6a58>"
      ]
     },
     "execution_count": 47,
     "metadata": {},
     "output_type": "execute_result"
    },
    {
     "data": {
      "image/png": "[encoded data removed]",
      "text/plain": [
       "<Figure size 432x288 with 1 Axes>"
      ]
     },
     "metadata": {
      "needs_background": "light"
     },
     "output_type": "display_data"
    }
   ],
   "source": [
    "df.plot.scatter(x='gap', y='beme')"
   ]
  },
  {
   "cell_type": "markdown",
   "metadata": {},
   "source": [
    "# Control Variables"
   ]
  },
  {
   "cell_type": "markdown",
   "metadata": {},
   "source": [
    "## Size: Natural logarithm of total assets in \\$ Million"
   ]
  },
  {
   "cell_type": "code",
   "execution_count": 48,
   "metadata": {},
   "outputs": [],
   "source": [
    "df['size'] = np.log(df['at'])"
   ]
  },
  {
   "cell_type": "markdown",
   "metadata": {},
   "source": [
    "## Leverage ratio: the ratio of total debt to the market value of equity"
   ]
  },
  {
   "cell_type": "code",
   "execution_count": 49,
   "metadata": {},
   "outputs": [],
   "source": [
    "df['lev'] = (df['dltt'] + df['dlc']) / (df['prcc_f'] * df['csho'])"
   ]
  },
  {
   "cell_type": "markdown",
   "metadata": {},
   "source": [
    "## R&D Intensity\n",
    "research and development expenditures over sales"
   ]
  },
  {
   "cell_type": "code",
   "execution_count": 50,
   "metadata": {},
   "outputs": [],
   "source": [
    "df['rdi'] = df['xrd'] / df['sale']"
   ]
  },
  {
   "cell_type": "markdown",
   "metadata": {},
   "source": [
    "# Advertising Intensity\n",
    "advertising expenses over sales;"
   ]
  },
  {
   "cell_type": "code",
   "execution_count": 51,
   "metadata": {},
   "outputs": [],
   "source": [
    "df['adi'] = df['xad'] / df['sale']"
   ]
  },
  {
   "cell_type": "markdown",
   "metadata": {},
   "source": [
    "# Employee Size"
   ]
  },
  {
   "cell_type": "code",
   "execution_count": 52,
   "metadata": {},
   "outputs": [
    {
     "name": "stderr",
     "output_type": "stream",
     "text": [
      "/Users/shinggg/anaconda3/lib/python3.6/site-packages/pandas/core/series.py:726: RuntimeWarning: divide by zero encountered in log\n",
      "  result = getattr(ufunc, method)(*inputs, **kwargs)\n"
     ]
    }
   ],
   "source": [
    "df['emp_size'] = np.log(df['emp'])"
   ]
  },
  {
   "cell_type": "markdown",
   "metadata": {},
   "source": [
    "# ROA\n",
    "The net income in year t divided by total assets for year t."
   ]
  },
  {
   "cell_type": "code",
   "execution_count": 53,
   "metadata": {},
   "outputs": [],
   "source": [
    "df['roa'] = df['ni']/df['at']"
   ]
  },
  {
   "cell_type": "markdown",
   "metadata": {},
   "source": [
    "# ROE\n",
    "The net income in year t divided by book equity for year t."
   ]
  },
  {
   "cell_type": "code",
   "execution_count": 54,
   "metadata": {},
   "outputs": [],
   "source": [
    "df['roe'] = df['ni']/df['be']"
   ]
  },
  {
   "cell_type": "markdown",
   "metadata": {},
   "source": [
    "# GPR \n",
    "The gross profits in year t divided by book assets for year t."
   ]
  },
  {
   "cell_type": "code",
   "execution_count": 55,
   "metadata": {},
   "outputs": [],
   "source": [
    "df['gpr'] = df['gp']/df['at']"
   ]
  },
  {
   "cell_type": "markdown",
   "metadata": {},
   "source": [
    "# Panel Regressions"
   ]
  },
  {
   "cell_type": "code",
   "execution_count": 56,
   "metadata": {},
   "outputs": [],
   "source": [
    "from linearmodels import PanelOLS"
   ]
  },
  {
   "cell_type": "code",
   "execution_count": 57,
   "metadata": {},
   "outputs": [],
   "source": [
    "df=df.set_index(['gvkey','fyear'])"
   ]
  },
  {
   "cell_type": "code",
   "execution_count": 58,
   "metadata": {
    "scrolled": false
   },
   "outputs": [
    {
     "name": "stderr",
     "output_type": "stream",
     "text": [
      "/Users/shinggg/anaconda3/lib/python3.6/site-packages/linearmodels/panel/data.py:98: FutureWarning: is_categorical is deprecated and will be removed in a future version.  Use is_categorical_dtype instead\n",
      "  if is_categorical(s):\n"
     ]
    },
    {
     "name": "stdout",
     "output_type": "stream",
     "text": [
      "                          PanelOLS Estimation Summary                           \n",
      "================================================================================\n",
      "Dep. Variable:                   beme   R-squared:                        0.0425\n",
      "Estimator:                   PanelOLS   R-squared (Between):             -0.1977\n",
      "No. Observations:              124269   R-squared (Within):               0.0017\n",
      "Date:                Wed, Dec 09 2020   R-squared (Overall):             -0.1346\n",
      "Time:                        18:48:22   Log-likelihood                -9.748e+04\n",
      "Cov. Estimator:             Clustered                                           \n",
      "                                        F-statistic:                      2489.8\n",
      "Entities:                       12116   P-value                           0.0000\n",
      "Avg Obs:                       10.257   Distribution:                F(2,112098)\n",
      "Min Obs:                       1.0000                                           \n",
      "Max Obs:                       54.000   F-statistic (robust):             678.23\n",
      "                                        P-value                           0.0000\n",
      "Time periods:                      54   Distribution:                F(2,112098)\n",
      "Avg Obs:                       2301.3                                           \n",
      "Min Obs:                       21.000                                           \n",
      "Max Obs:                       3447.0                                           \n",
      "                                                                                \n",
      "                             Parameter Estimates                              \n",
      "==============================================================================\n",
      "            Parameter  Std. Err.     T-stat    P-value    Lower CI    Upper CI\n",
      "------------------------------------------------------------------------------\n",
      "Intercept      0.0755     0.0412     1.8304     0.0672     -0.0053      0.1562\n",
      "gap            0.3508     0.0096     36.493     0.0000      0.3320      0.3696\n",
      "size           0.0854     0.0069     12.322     0.0000      0.0718      0.0990\n",
      "==============================================================================\n",
      "\n",
      "F-test for Poolability: 12.789\n",
      "P-value: 0.0000\n",
      "Distribution: F(12168,112098)\n",
      "\n",
      "Included effects: Entity, Time\n"
     ]
    }
   ],
   "source": [
    "mod = PanelOLS.from_formula('beme ~ 1 + gap + size + EntityEffects + TimeEffects', data=df)\n",
    "res = mod.fit(cov_type='clustered', cluster_entity=True)\n",
    "print(res)"
   ]
  },
  {
   "cell_type": "code",
   "execution_count": 59,
   "metadata": {},
   "outputs": [
    {
     "name": "stdout",
     "output_type": "stream",
     "text": [
      "                          PanelOLS Estimation Summary                           \n",
      "================================================================================\n",
      "Dep. Variable:                   beme   R-squared:                        0.0425\n",
      "Estimator:                   PanelOLS   R-squared (Between):             -0.1977\n",
      "No. Observations:              124269   R-squared (Within):               0.0017\n",
      "Date:                Wed, Dec 09 2020   R-squared (Overall):             -0.1346\n",
      "Time:                        18:48:29   Log-likelihood                -9.748e+04\n",
      "Cov. Estimator:             Clustered                                           \n",
      "                                        F-statistic:                      2489.8\n",
      "Entities:                       12116   P-value                           0.0000\n",
      "Avg Obs:                       10.257   Distribution:                F(2,112098)\n",
      "Min Obs:                       1.0000                                           \n",
      "Max Obs:                       54.000   F-statistic (robust):             222.31\n",
      "                                        P-value                           0.0000\n",
      "Time periods:                      54   Distribution:                F(2,112098)\n",
      "Avg Obs:                       2301.3                                           \n",
      "Min Obs:                       21.000                                           \n",
      "Max Obs:                       3447.0                                           \n",
      "                                                                                \n",
      "                             Parameter Estimates                              \n",
      "==============================================================================\n",
      "            Parameter  Std. Err.     T-stat    P-value    Lower CI    Upper CI\n",
      "------------------------------------------------------------------------------\n",
      "Intercept      0.0755     0.0616     1.2253     0.2205     -0.0452      0.1962\n",
      "gap            0.3508     0.0179     19.642     0.0000      0.3158      0.3858\n",
      "size           0.0854     0.0106     8.0235     0.0000      0.0645      0.1062\n",
      "==============================================================================\n",
      "\n",
      "F-test for Poolability: 12.789\n",
      "P-value: 0.0000\n",
      "Distribution: F(12168,112098)\n",
      "\n",
      "Included effects: Entity, Time\n"
     ]
    }
   ],
   "source": [
    "mod = PanelOLS.from_formula('beme ~ 1 + gap + size + EntityEffects + TimeEffects', data=df)\n",
    "res = mod.fit(cov_type='clustered', cluster_entity=True, cluster_time=True)\n",
    "print(res)"
   ]
  },
  {
   "cell_type": "code",
   "execution_count": 60,
   "metadata": {
    "scrolled": false
   },
   "outputs": [
    {
     "name": "stderr",
     "output_type": "stream",
     "text": [
      "/Users/shinggg/anaconda3/lib/python3.6/site-packages/linearmodels/utility.py:549: MissingValueWarning: \n",
      "Inputs contain missing values. Dropping rows with missing observations.\n",
      "  warnings.warn(missing_value_warning_msg, MissingValueWarning)\n"
     ]
    },
    {
     "name": "stdout",
     "output_type": "stream",
     "text": [
      "                          PanelOLS Estimation Summary                           \n",
      "================================================================================\n",
      "Dep. Variable:                   beme   R-squared:                        0.0680\n",
      "Estimator:                   PanelOLS   R-squared (Between):             -0.1163\n",
      "No. Observations:               32532   R-squared (Within):               0.0321\n",
      "Date:                Wed, Dec 09 2020   R-squared (Overall):             -0.0681\n",
      "Time:                        18:48:36   Log-likelihood                -2.086e+04\n",
      "Cov. Estimator:             Clustered                                           \n",
      "                                        F-statistic:                      225.40\n",
      "Entities:                        4655   P-value                           0.0000\n",
      "Avg Obs:                       6.9886   Distribution:                 F(9,27816)\n",
      "Min Obs:                       1.0000                                           \n",
      "Max Obs:                       51.000   F-statistic (robust):             24.075\n",
      "                                        P-value                           0.0000\n",
      "Time periods:                      53   Distribution:                 F(9,27816)\n",
      "Avg Obs:                       613.81                                           \n",
      "Min Obs:                       3.0000                                           \n",
      "Max Obs:                       910.00                                           \n",
      "                                                                                \n",
      "                             Parameter Estimates                              \n",
      "==============================================================================\n",
      "            Parameter  Std. Err.     T-stat    P-value    Lower CI    Upper CI\n",
      "------------------------------------------------------------------------------\n",
      "Intercept      0.5167     0.1673     3.0877     0.0020      0.1887      0.8447\n",
      "gap            0.2335     0.0220     10.600     0.0000      0.1903      0.2767\n",
      "size           0.0659     0.0294     2.2401     0.0251      0.0082      0.1237\n",
      "emp_size      -0.0288     0.0291    -0.9920     0.3212     -0.0858      0.0281\n",
      "lev         6.949e-05  3.143e-05     2.2112     0.0270   7.894e-06      0.0001\n",
      "rdi           -0.3808     0.1129    -3.3741     0.0007     -0.6020     -0.1596\n",
      "adi           -0.0727     0.3103    -0.2342     0.8149     -0.6809      0.5356\n",
      "roa           -0.4981     0.0910    -5.4754     0.0000     -0.6764     -0.3198\n",
      "roe            0.0020     0.0010     1.9741     0.0484   1.445e-05      0.0040\n",
      "gpr           -0.3978     0.0694    -5.7289     0.0000     -0.5338     -0.2617\n",
      "==============================================================================\n",
      "\n",
      "F-test for Poolability: 9.6488\n",
      "P-value: 0.0000\n",
      "Distribution: F(4706,27816)\n",
      "\n",
      "Included effects: Entity, Time\n"
     ]
    }
   ],
   "source": [
    "mod = PanelOLS.from_formula('beme ~ 1 + gap + size + emp_size + lev + rdi + adi + roa + roe + gpr + EntityEffects + TimeEffects', data=df)\n",
    "res = mod.fit(cov_type='clustered', cluster_entity=True, cluster_time=True)\n",
    "print(res)"
   ]
  },
  {
   "cell_type": "code",
   "execution_count": 61,
   "metadata": {
    "scrolled": false
   },
   "outputs": [
    {
     "name": "stdout",
     "output_type": "stream",
     "text": [
      "                          PanelOLS Estimation Summary                           \n",
      "================================================================================\n",
      "Dep. Variable:                   beme   R-squared:                        0.0727\n",
      "Estimator:                   PanelOLS   R-squared (Between):             -0.0787\n",
      "No. Observations:               32532   R-squared (Within):               0.0326\n",
      "Date:                Wed, Dec 09 2020   R-squared (Overall):             -0.0366\n",
      "Time:                        18:48:48   Log-likelihood                -2.078e+04\n",
      "Cov. Estimator:             Clustered                                           \n",
      "                                        F-statistic:                      242.44\n",
      "Entities:                        4655   P-value                           0.0000\n",
      "Avg Obs:                       6.9886   Distribution:                 F(9,27816)\n",
      "Min Obs:                       1.0000                                           \n",
      "Max Obs:                       51.000   F-statistic (robust):             24.510\n",
      "                                        P-value                           0.0000\n",
      "Time periods:                      53   Distribution:                 F(9,27816)\n",
      "Avg Obs:                       613.81                                           \n",
      "Min Obs:                       3.0000                                           \n",
      "Max Obs:                       910.00                                           \n",
      "                                                                                \n",
      "                             Parameter Estimates                              \n",
      "==============================================================================\n",
      "            Parameter  Std. Err.     T-stat    P-value    Lower CI    Upper CI\n",
      "------------------------------------------------------------------------------\n",
      "Intercept      0.4311     0.1709     2.5235     0.0116      0.0963      0.7660\n",
      "TFP           -0.3234     0.0277    -11.665     0.0000     -0.3778     -0.2691\n",
      "size           0.1057     0.0314     3.3633     0.0008      0.0441      0.1673\n",
      "emp_size      -0.0602     0.0301    -1.9962     0.0459     -0.1192     -0.0011\n",
      "lev         6.968e-05   3.13e-05     2.2260     0.0260   8.326e-06      0.0001\n",
      "rdi           -0.4935     0.1247    -3.9588     0.0001     -0.7378     -0.2491\n",
      "adi           -0.2451     0.3119    -0.7857     0.4320     -0.8564      0.3663\n",
      "roa           -0.4006     0.0927    -4.3227     0.0000     -0.5823     -0.2190\n",
      "roe            0.0020     0.0010     1.9895     0.0467   2.989e-05      0.0040\n",
      "gpr           -0.3311     0.0656    -5.0434     0.0000     -0.4597     -0.2024\n",
      "==============================================================================\n",
      "\n",
      "F-test for Poolability: 9.5780\n",
      "P-value: 0.0000\n",
      "Distribution: F(4706,27816)\n",
      "\n",
      "Included effects: Entity, Time\n"
     ]
    }
   ],
   "source": [
    "mod = PanelOLS.from_formula('beme ~ 1 + TFP + size + emp_size + lev + rdi + adi + roa + roe + gpr + EntityEffects + TimeEffects', data=df)\n",
    "res = mod.fit(cov_type='clustered', cluster_entity=True, cluster_time=True)\n",
    "print(res)"
   ]
  },
  {
   "cell_type": "markdown",
   "metadata": {},
   "source": [
    "# Sort Portfolios"
   ]
  },
  {
   "cell_type": "markdown",
   "metadata": {},
   "source": [
    "## Overall sort"
   ]
  },
  {
   "cell_type": "code",
   "execution_count": 62,
   "metadata": {},
   "outputs": [],
   "source": [
    "dec_dict=df.gap.quantile([0, 0.1, 0.2, 0.3, 0.4, 0.5, 0.6, 0.7, 0.8, 0.9, 1]).to_dict()\n",
    "#dec_dict=df.gap.quantile([0, 0.2, 0.4, 0.6, 0.8, 1]).to_dict()"
   ]
  },
  {
   "cell_type": "code",
   "execution_count": 63,
   "metadata": {},
   "outputs": [
    {
     "data": {
      "text/plain": [
       "{0.0: 1.3999999999847468e-06,\n",
       " 0.1: 0.3524705,\n",
       " 0.2: 0.5271269999999978,\n",
       " 0.3: 0.67539872,\n",
       " 0.4: 0.8149337000000003,\n",
       " 0.5: 0.9532274000000001,\n",
       " 0.6: 1.0944180200000002,\n",
       " 0.7: 1.2471682199999967,\n",
       " 0.8: 1.4138485599999968,\n",
       " 0.9: 1.6585746799999954,\n",
       " 1.0: 3.268710949999994}"
      ]
     },
     "execution_count": 63,
     "metadata": {},
     "output_type": "execute_result"
    }
   ],
   "source": [
    "dec_dict"
   ]
  },
  {
   "cell_type": "code",
   "execution_count": 64,
   "metadata": {},
   "outputs": [
    {
     "data": {
      "text/plain": [
       "gap     0.216873\n",
       "TFP     0.028106\n",
       "beme    0.691318\n",
       "dtype: float64"
      ]
     },
     "execution_count": 64,
     "metadata": {},
     "output_type": "execute_result"
    }
   ],
   "source": [
    "df.loc[(df.gap >=dec_dict[0.0]) & (df.gap <= dec_dict[0.1]),['gap','TFP','beme']].mean()"
   ]
  },
  {
   "cell_type": "code",
   "execution_count": 65,
   "metadata": {},
   "outputs": [
    {
     "data": {
      "text/plain": [
       "[0.1, 0.2, 0.3, 0.4, 0.5, 0.6, 0.7, 0.8, 0.9, 1.0]"
      ]
     },
     "execution_count": 65,
     "metadata": {},
     "output_type": "execute_result"
    }
   ],
   "source": [
    "list(dec_dict.keys())[1::]"
   ]
  },
  {
   "cell_type": "code",
   "execution_count": 66,
   "metadata": {},
   "outputs": [
    {
     "name": "stdout",
     "output_type": "stream",
     "text": [
      "decile = 0.1\n",
      "0.2\n",
      "0.3\n",
      "0.4\n",
      "0.5\n",
      "0.6\n",
      "0.7\n",
      "0.8\n",
      "0.9\n",
      "1.0\n"
     ]
    }
   ],
   "source": [
    "var_list=['gap','TFP','beme']\n",
    "overall_sort_dict={}\n",
    "overall_sort_gap=[]\n",
    "overall_sort_TFP=[]\n",
    "overall_sort_beme=[]\n",
    "\n",
    "for i in range(0,10):\n",
    "    decile = list(dec_dict.keys())[1::][i]\n",
    "    if i == 0:\n",
    "        print('decile = 0.1')\n",
    "        overall_sort_gap.append(df.loc[(df.gap >=dec_dict[0]) & (df.gap <= dec_dict[decile]),var_list].mean()['gap'])\n",
    "        overall_sort_TFP.append(df.loc[(df.gap >=dec_dict[0]) & (df.gap <= dec_dict[decile]),var_list].mean()['TFP'])\n",
    "        overall_sort_beme.append(df.loc[(df.gap >=dec_dict[0]) & (df.gap <= dec_dict[decile]),var_list].mean()['beme'])\n",
    "    else:\n",
    "        print(decile)\n",
    "        decile0 = list(dec_dict.keys())[1::][i-1]\n",
    "        overall_sort_gap.append(df.loc[(df.gap >dec_dict[decile0]) & (df.gap <= dec_dict[decile]),var_list].mean()['gap'])\n",
    "        overall_sort_TFP.append(df.loc[(df.gap >dec_dict[decile0]) & (df.gap <= dec_dict[decile]),var_list].mean()['TFP'])\n",
    "        overall_sort_beme.append(df.loc[(df.gap >dec_dict[decile0]) & (df.gap <= dec_dict[decile]),var_list].mean()['beme'])\n",
    "        \n",
    "overall_sort_dict['gap']=overall_sort_gap\n",
    "overall_sort_dict['TFP']=overall_sort_TFP\n",
    "overall_sort_dict['beme']=overall_sort_beme"
   ]
  },
  {
   "cell_type": "code",
   "execution_count": 67,
   "metadata": {},
   "outputs": [
    {
     "data": {
      "text/plain": [
       "{'gap': [0.21687279257262362,\n",
       "  0.44304451071054896,\n",
       "  0.6023487224752558,\n",
       "  0.7459769119175991,\n",
       "  0.883608363708051,\n",
       "  1.0231454282769987,\n",
       "  1.1697584952925038,\n",
       "  1.3285376135269966,\n",
       "  1.5226920008771143,\n",
       "  2.0754500888991783],\n",
       " 'TFP': [0.028106011644000912,\n",
       "  -0.1099021719642715,\n",
       "  -0.15342471483060993,\n",
       "  -0.19984043572060842,\n",
       "  -0.2303274408545909,\n",
       "  -0.26947538457830406,\n",
       "  -0.31829835809930057,\n",
       "  -0.40661133497223917,\n",
       "  -0.5603943426732112,\n",
       "  -1.0987702829363506],\n",
       " 'beme': [0.6913175305132674,\n",
       "  0.8753638281528465,\n",
       "  0.9227480423598248,\n",
       "  0.9492765111701459,\n",
       "  0.9319594410369667,\n",
       "  0.9128313986923442,\n",
       "  0.8774494735412652,\n",
       "  0.8751868461230226,\n",
       "  0.9588665167796353,\n",
       "  0.9738862520850164]}"
      ]
     },
     "execution_count": 67,
     "metadata": {},
     "output_type": "execute_result"
    }
   ],
   "source": [
    "overall_sort_dict"
   ]
  },
  {
   "cell_type": "code",
   "execution_count": 68,
   "metadata": {},
   "outputs": [],
   "source": [
    "overall_sort_df=pd.DataFrame(overall_sort_dict)"
   ]
  },
  {
   "cell_type": "code",
   "execution_count": 69,
   "metadata": {},
   "outputs": [
    {
     "data": {
      "text/plain": [
       "<matplotlib.axes._subplots.AxesSubplot at 0x7f9bd3c68978>"
      ]
     },
     "execution_count": 69,
     "metadata": {},
     "output_type": "execute_result"
    },
    {
     "data": {
      "image/png": "[encoded data removed]",
      "text/plain": [
       "<Figure size 432x288 with 1 Axes>"
      ]
     },
     "metadata": {
      "needs_background": "light"
     },
     "output_type": "display_data"
    }
   ],
   "source": [
    "overall_sort_df.plot()"
   ]
  },
  {
   "cell_type": "code",
   "execution_count": 70,
   "metadata": {},
   "outputs": [
    {
     "data": {
      "text/plain": [
       "gap     1.858577\n",
       "TFP    -1.126876\n",
       "beme    0.282569\n",
       "dtype: float64"
      ]
     },
     "execution_count": 70,
     "metadata": {},
     "output_type": "execute_result"
    }
   ],
   "source": [
    "overall_sort_df.loc[9]-overall_sort_df.loc[0]"
   ]
  },
  {
   "cell_type": "markdown",
   "metadata": {},
   "source": [
    "## Sort within year then average across year"
   ]
  },
  {
   "cell_type": "code",
   "execution_count": 71,
   "metadata": {},
   "outputs": [],
   "source": [
    "df.reset_index(inplace=True)"
   ]
  },
  {
   "cell_type": "code",
   "execution_count": 73,
   "metadata": {},
   "outputs": [],
   "source": [
    "dec_year_dict=df[df.fyear==1987].gap.quantile([0, 0.1, 0.2, 0.3, 0.4, 0.5, 0.6, 0.7, 0.8, 0.9, 1]).to_dict()"
   ]
  },
  {
   "cell_type": "code",
   "execution_count": 74,
   "metadata": {},
   "outputs": [
    {
     "data": {
      "text/plain": [
       "{0.0: 0.0034797000000000022,\n",
       " 0.1: 0.34144134000000004,\n",
       " 0.2: 0.50206474,\n",
       " 0.3: 0.6677730099999999,\n",
       " 0.4: 0.8217415199999978,\n",
       " 0.5: 0.9882929999999971,\n",
       " 0.6: 1.1316405999999977,\n",
       " 0.7: 1.2664163899999958,\n",
       " 0.8: 1.4127625799999999,\n",
       " 0.9: 1.6190611399999941,\n",
       " 1.0: 3.268710949999994}"
      ]
     },
     "execution_count": 74,
     "metadata": {},
     "output_type": "execute_result"
    }
   ],
   "source": [
    "dec_year_dict"
   ]
  },
  {
   "cell_type": "code",
   "execution_count": 75,
   "metadata": {},
   "outputs": [
    {
     "data": {
      "text/plain": [
       "gap     0.428375\n",
       "TFP    -0.160628\n",
       "beme    0.874461\n",
       "dtype: float64"
      ]
     },
     "execution_count": 75,
     "metadata": {},
     "output_type": "execute_result"
    }
   ],
   "source": [
    "df[df.fyear==1987].loc[(df[df.fyear==1987].gap >dec_year_dict[0.1]) & (df[df.fyear==1987].gap <= dec_year_dict[0.2]), ['gap','TFP','beme']].mean()"
   ]
  },
  {
   "cell_type": "code",
   "execution_count": 76,
   "metadata": {},
   "outputs": [
    {
     "data": {
      "text/plain": [
       "[0.1, 0.2, 0.3, 0.4, 0.5, 0.6, 0.7, 0.8, 0.9, 1.0]"
      ]
     },
     "execution_count": 76,
     "metadata": {},
     "output_type": "execute_result"
    }
   ],
   "source": [
    "list(dec_year_dict.keys())[1::]"
   ]
  },
  {
   "cell_type": "code",
   "execution_count": 77,
   "metadata": {},
   "outputs": [
    {
     "data": {
      "text/plain": [
       "54"
      ]
     },
     "execution_count": 77,
     "metadata": {},
     "output_type": "execute_result"
    }
   ],
   "source": [
    "len(set(df.fyear))"
   ]
  },
  {
   "cell_type": "code",
   "execution_count": 78,
   "metadata": {},
   "outputs": [
    {
     "name": "stdout",
     "output_type": "stream",
     "text": [
      "1963\n",
      "1964\n",
      "1965\n",
      "1966\n",
      "1967\n",
      "1968\n",
      "1969\n",
      "1970\n",
      "1971\n",
      "1972\n",
      "1973\n",
      "1974\n",
      "1975\n",
      "1976\n",
      "1977\n",
      "1978\n",
      "1979\n",
      "1980\n",
      "1981\n",
      "1982\n",
      "1983\n",
      "1984\n",
      "1985\n",
      "1986\n",
      "1987\n",
      "1988\n",
      "1989\n",
      "1990\n",
      "1991\n",
      "1992\n",
      "1993\n",
      "1994\n",
      "1995\n",
      "1996\n",
      "1997\n",
      "1998\n",
      "1999\n",
      "2000\n",
      "2001\n",
      "2002\n",
      "2003\n",
      "2004\n",
      "2005\n",
      "2006\n",
      "2007\n",
      "2008\n",
      "2009\n",
      "2010\n",
      "2011\n",
      "2012\n",
      "2013\n",
      "2014\n",
      "2015\n",
      "2016\n"
     ]
    }
   ],
   "source": [
    "var_list=['gap','TFP','beme']\n",
    "for year in set(df.fyear):\n",
    "    overall_sort_dict={}\n",
    "    overall_sort_gap=[]\n",
    "    overall_sort_TFP=[]\n",
    "    overall_sort_beme=[]\n",
    "    dec_year_dict=df[df.fyear==year].gap.quantile([0, 0.1, 0.2, 0.3, 0.4, 0.5, 0.6, 0.7, 0.8, 0.9, 1]).to_dict()\n",
    "    print(year)\n",
    "\n",
    "    for i in range(0,10):\n",
    "        decile = list(dec_year_dict.keys())[1::][i]\n",
    "        if i == 0:\n",
    "            #print('decile = 0.1')\n",
    "            overall_sort_gap.append(df[df.fyear==year].loc[(df[df.fyear==year].gap >=dec_year_dict[0]) & (df[df.fyear==year].gap <= dec_year_dict[decile]), var_list].mean()['gap'])\n",
    "            overall_sort_TFP.append(df[df.fyear==year].loc[(df[df.fyear==year].gap >=dec_year_dict[0]) & (df[df.fyear==year].gap <= dec_year_dict[decile]), var_list].mean()['TFP'])\n",
    "            overall_sort_beme.append(df[df.fyear==year].loc[(df[df.fyear==year].gap >=dec_year_dict[0]) & (df[df.fyear==year].gap <= dec_year_dict[decile]), var_list].mean()['beme'])\n",
    "        else:\n",
    "            #print(decile)\n",
    "            decile0 = list(dec_year_dict.keys())[1::][i-1]\n",
    "            overall_sort_gap.append(df[df.fyear==year].loc[(df[df.fyear==year].gap >dec_year_dict[decile0]) & (df[df.fyear==year].gap <= dec_year_dict[decile]), var_list].mean()['gap'])\n",
    "            overall_sort_TFP.append(df[df.fyear==year].loc[(df[df.fyear==year].gap >dec_year_dict[decile0]) & (df[df.fyear==year].gap <= dec_year_dict[decile]), var_list].mean()['TFP'])\n",
    "            overall_sort_beme.append(df[df.fyear==year].loc[(df[df.fyear==year].gap >dec_year_dict[decile0]) & (df[df.fyear==year].gap <= dec_year_dict[decile]), var_list].mean()['beme'])\n",
    "\n",
    "    overall_sort_dict['gap']=overall_sort_gap\n",
    "    overall_sort_dict['TFP']=overall_sort_TFP\n",
    "    overall_sort_dict['beme']=overall_sort_beme\n",
    "\n",
    "    if year==1987:\n",
    "        overall_sort_df=pd.DataFrame(overall_sort_dict)\n",
    "    else:\n",
    "        overall_sort_df+=pd.DataFrame(overall_sort_dict)\n",
    "\n",
    "overall_sort_df=overall_sort_df/len(set(df.fyear))"
   ]
  },
  {
   "cell_type": "code",
   "execution_count": 79,
   "metadata": {},
   "outputs": [
    {
     "data": {
      "text/plain": [
       "<matplotlib.axes._subplots.AxesSubplot at 0x7f9c0c989160>"
      ]
     },
     "execution_count": 79,
     "metadata": {},
     "output_type": "execute_result"
    },
    {
     "data": {
      "image/png": "[encoded data removed]",
      "text/plain": [
       "<Figure size 432x288 with 1 Axes>"
      ]
     },
     "metadata": {
      "needs_background": "light"
     },
     "output_type": "display_data"
    }
   ],
   "source": [
    "overall_sort_df.plot()"
   ]
  },
  {
   "cell_type": "code",
   "execution_count": 80,
   "metadata": {},
   "outputs": [
    {
     "data": {
      "text/html": [
       "<div>\n",
       "<style scoped>\n",
       "    .dataframe tbody tr th:only-of-type {\n",
       "        vertical-align: middle;\n",
       "    }\n",
       "\n",
       "    .dataframe tbody tr th {\n",
       "        vertical-align: top;\n",
       "    }\n",
       "\n",
       "    .dataframe thead th {\n",
       "        text-align: right;\n",
       "    }\n",
       "</style>\n",
       "<table border=\"1\" class=\"dataframe\">\n",
       "  <thead>\n",
       "    <tr style=\"text-align: right;\">\n",
       "      <th></th>\n",
       "      <th>gap</th>\n",
       "      <th>TFP</th>\n",
       "      <th>beme</th>\n",
       "    </tr>\n",
       "  </thead>\n",
       "  <tbody>\n",
       "    <tr>\n",
       "      <th>0</th>\n",
       "      <td>0.137948</td>\n",
       "      <td>0.038969</td>\n",
       "      <td>0.327283</td>\n",
       "    </tr>\n",
       "    <tr>\n",
       "      <th>1</th>\n",
       "      <td>0.289509</td>\n",
       "      <td>-0.031438</td>\n",
       "      <td>0.403069</td>\n",
       "    </tr>\n",
       "    <tr>\n",
       "      <th>2</th>\n",
       "      <td>0.399433</td>\n",
       "      <td>-0.062891</td>\n",
       "      <td>0.393277</td>\n",
       "    </tr>\n",
       "    <tr>\n",
       "      <th>3</th>\n",
       "      <td>0.494008</td>\n",
       "      <td>-0.092798</td>\n",
       "      <td>0.392425</td>\n",
       "    </tr>\n",
       "    <tr>\n",
       "      <th>4</th>\n",
       "      <td>0.575298</td>\n",
       "      <td>-0.120193</td>\n",
       "      <td>0.385042</td>\n",
       "    </tr>\n",
       "    <tr>\n",
       "      <th>5</th>\n",
       "      <td>0.651582</td>\n",
       "      <td>-0.157140</td>\n",
       "      <td>0.390174</td>\n",
       "    </tr>\n",
       "    <tr>\n",
       "      <th>6</th>\n",
       "      <td>0.725090</td>\n",
       "      <td>-0.205535</td>\n",
       "      <td>0.409746</td>\n",
       "    </tr>\n",
       "    <tr>\n",
       "      <th>7</th>\n",
       "      <td>0.802406</td>\n",
       "      <td>-0.265158</td>\n",
       "      <td>0.456557</td>\n",
       "    </tr>\n",
       "    <tr>\n",
       "      <th>8</th>\n",
       "      <td>0.909887</td>\n",
       "      <td>-0.364883</td>\n",
       "      <td>0.514141</td>\n",
       "    </tr>\n",
       "    <tr>\n",
       "      <th>9</th>\n",
       "      <td>1.227762</td>\n",
       "      <td>-0.679241</td>\n",
       "      <td>0.521404</td>\n",
       "    </tr>\n",
       "  </tbody>\n",
       "</table>\n",
       "</div>"
      ],
      "text/plain": [
       "        gap       TFP      beme\n",
       "0  0.137948  0.038969  0.327283\n",
       "1  0.289509 -0.031438  0.403069\n",
       "2  0.399433 -0.062891  0.393277\n",
       "3  0.494008 -0.092798  0.392425\n",
       "4  0.575298 -0.120193  0.385042\n",
       "5  0.651582 -0.157140  0.390174\n",
       "6  0.725090 -0.205535  0.409746\n",
       "7  0.802406 -0.265158  0.456557\n",
       "8  0.909887 -0.364883  0.514141\n",
       "9  1.227762 -0.679241  0.521404"
      ]
     },
     "execution_count": 80,
     "metadata": {},
     "output_type": "execute_result"
    }
   ],
   "source": [
    "overall_sort_df"
   ]
  },
  {
   "cell_type": "code",
   "execution_count": 81,
   "metadata": {},
   "outputs": [
    {
     "data": {
      "text/html": [
       "<div>\n",
       "<style scoped>\n",
       "    .dataframe tbody tr th:only-of-type {\n",
       "        vertical-align: middle;\n",
       "    }\n",
       "\n",
       "    .dataframe tbody tr th {\n",
       "        vertical-align: top;\n",
       "    }\n",
       "\n",
       "    .dataframe thead th {\n",
       "        text-align: right;\n",
       "    }\n",
       "</style>\n",
       "<table border=\"1\" class=\"dataframe\">\n",
       "  <thead>\n",
       "    <tr style=\"text-align: right;\">\n",
       "      <th></th>\n",
       "      <th>gap</th>\n",
       "      <th>TFP</th>\n",
       "      <th>beme</th>\n",
       "    </tr>\n",
       "  </thead>\n",
       "  <tbody>\n",
       "    <tr>\n",
       "      <th>gap</th>\n",
       "      <td>1.000000</td>\n",
       "      <td>-0.962348</td>\n",
       "      <td>0.894149</td>\n",
       "    </tr>\n",
       "    <tr>\n",
       "      <th>TFP</th>\n",
       "      <td>-0.962348</td>\n",
       "      <td>1.000000</td>\n",
       "      <td>-0.905369</td>\n",
       "    </tr>\n",
       "    <tr>\n",
       "      <th>beme</th>\n",
       "      <td>0.894149</td>\n",
       "      <td>-0.905369</td>\n",
       "      <td>1.000000</td>\n",
       "    </tr>\n",
       "  </tbody>\n",
       "</table>\n",
       "</div>"
      ],
      "text/plain": [
       "           gap       TFP      beme\n",
       "gap   1.000000 -0.962348  0.894149\n",
       "TFP  -0.962348  1.000000 -0.905369\n",
       "beme  0.894149 -0.905369  1.000000"
      ]
     },
     "execution_count": 81,
     "metadata": {},
     "output_type": "execute_result"
    }
   ],
   "source": [
    "overall_sort_df.corr()"
   ]
  },
  {
   "cell_type": "code",
   "execution_count": 82,
   "metadata": {},
   "outputs": [
    {
     "data": {
      "text/plain": [
       "<matplotlib.axes._subplots.AxesSubplot at 0x7f97a3c5d128>"
      ]
     },
     "execution_count": 82,
     "metadata": {},
     "output_type": "execute_result"
    },
    {
     "data": {
      "image/png": "[encoded data removed]",
      "text/plain": [
       "<Figure size 432x288 with 1 Axes>"
      ]
     },
     "metadata": {
      "needs_background": "light"
     },
     "output_type": "display_data"
    }
   ],
   "source": [
    "overall_sort_df.plot.scatter(y='beme',x='gap')"
   ]
  },
  {
   "cell_type": "code",
   "execution_count": 83,
   "metadata": {},
   "outputs": [],
   "source": [
    "var_list_keep = ['gvkey', 'fyear', 'sic', 'sic2', 'beme', 'TFP', 'gap', 'size', 'emp_size', 'lev', 'rdi', 'adi', 'roa', 'roe', 'gpr', 'age']"
   ]
  },
  {
   "cell_type": "code",
   "execution_count": 84,
   "metadata": {},
   "outputs": [],
   "source": [
    "df2 = df[var_list_keep]"
   ]
  },
  {
   "cell_type": "code",
   "execution_count": 85,
   "metadata": {},
   "outputs": [],
   "source": [
    "df2.to_csv('../data/TFP_Compustat_sic2_keep.csv', index=False)"
   ]
  }
 ],
 "metadata": {
  "kernelspec": {
   "display_name": "Python 3",
   "language": "python",
   "name": "python3"
  },
  "language_info": {
   "codemirror_mode": {
    "name": "ipython",
    "version": 3
   },
   "file_extension": ".py",
   "mimetype": "text/x-python",
   "name": "python",
   "nbconvert_exporter": "python",
   "pygments_lexer": "ipython3",
   "version": "3.6.10"
  }
 },
 "nbformat": 4,
 "nbformat_minor": 4
}
