{
 "cells": [
  {
   "cell_type": "markdown",
   "metadata": {},
   "source": [
    "# Total Factor of Productivity (TFP)"
   ]
  },
  {
   "cell_type": "code",
   "execution_count": 93,
   "metadata": {
    "scrolled": true
   },
   "outputs": [],
   "source": [
    "import pandas as pd\n",
    "import numpy as np\n",
    "import matplotlib.pyplot as plt"
   ]
  },
  {
   "cell_type": "code",
   "execution_count": 94,
   "metadata": {},
   "outputs": [],
   "source": [
    "dt = pd.read_csv('../data/TFPData_updated.csv')"
   ]
  },
  {
   "cell_type": "code",
   "execution_count": 95,
   "metadata": {},
   "outputs": [
    {
     "name": "stderr",
     "output_type": "stream",
     "text": [
      "/Users/shinggg/anaconda3/lib/python3.6/site-packages/IPython/core/interactiveshell.py:3072: DtypeWarning: Columns (8,10,12,26,30,945,946,948,949,950,955,965,969,970,975,976) have mixed types.Specify dtype option on import or set low_memory=False.\n",
      "  interactivity=interactivity, compiler=compiler, result=result)\n"
     ]
    }
   ],
   "source": [
    "comp = pd.read_csv('../data/CompFunda.csv')"
   ]
  },
  {
   "cell_type": "code",
   "execution_count": 96,
   "metadata": {},
   "outputs": [
    {
     "data": {
      "text/plain": [
       "(143912, 3)"
      ]
     },
     "execution_count": 96,
     "metadata": {},
     "output_type": "execute_result"
    }
   ],
   "source": [
    "dt.shape"
   ]
  },
  {
   "cell_type": "code",
   "execution_count": 97,
   "metadata": {},
   "outputs": [
    {
     "data": {
      "text/plain": [
       "2016"
      ]
     },
     "execution_count": 97,
     "metadata": {},
     "output_type": "execute_result"
    }
   ],
   "source": [
    "dt.fyear.max()"
   ]
  },
  {
   "cell_type": "code",
   "execution_count": 98,
   "metadata": {},
   "outputs": [
    {
     "data": {
      "text/plain": [
       "(429025, 981)"
      ]
     },
     "execution_count": 98,
     "metadata": {},
     "output_type": "execute_result"
    }
   ],
   "source": [
    "comp.shape"
   ]
  },
  {
   "cell_type": "code",
   "execution_count": 99,
   "metadata": {},
   "outputs": [
    {
     "data": {
      "text/plain": [
       "1963"
      ]
     },
     "execution_count": 99,
     "metadata": {},
     "output_type": "execute_result"
    }
   ],
   "source": [
    "comp.fyear.min()"
   ]
  },
  {
   "cell_type": "code",
   "execution_count": 100,
   "metadata": {},
   "outputs": [
    {
     "data": {
      "text/html": [
       "<div>\n",
       "<style scoped>\n",
       "    .dataframe tbody tr th:only-of-type {\n",
       "        vertical-align: middle;\n",
       "    }\n",
       "\n",
       "    .dataframe tbody tr th {\n",
       "        vertical-align: top;\n",
       "    }\n",
       "\n",
       "    .dataframe thead th {\n",
       "        text-align: right;\n",
       "    }\n",
       "</style>\n",
       "<table border=\"1\" class=\"dataframe\">\n",
       "  <thead>\n",
       "    <tr style=\"text-align: right;\">\n",
       "      <th></th>\n",
       "      <th>gvkey</th>\n",
       "      <th>fyear</th>\n",
       "      <th>TFP</th>\n",
       "    </tr>\n",
       "  </thead>\n",
       "  <tbody>\n",
       "    <tr>\n",
       "      <th>0</th>\n",
       "      <td>1000</td>\n",
       "      <td>1970</td>\n",
       "      <td>-0.103652</td>\n",
       "    </tr>\n",
       "    <tr>\n",
       "      <th>1</th>\n",
       "      <td>1000</td>\n",
       "      <td>1971</td>\n",
       "      <td>-0.451370</td>\n",
       "    </tr>\n",
       "    <tr>\n",
       "      <th>2</th>\n",
       "      <td>1000</td>\n",
       "      <td>1972</td>\n",
       "      <td>-0.279306</td>\n",
       "    </tr>\n",
       "    <tr>\n",
       "      <th>3</th>\n",
       "      <td>1000</td>\n",
       "      <td>1973</td>\n",
       "      <td>-0.247248</td>\n",
       "    </tr>\n",
       "    <tr>\n",
       "      <th>4</th>\n",
       "      <td>1000</td>\n",
       "      <td>1974</td>\n",
       "      <td>-0.298531</td>\n",
       "    </tr>\n",
       "  </tbody>\n",
       "</table>\n",
       "</div>"
      ],
      "text/plain": [
       "   gvkey  fyear       TFP\n",
       "0   1000   1970 -0.103652\n",
       "1   1000   1971 -0.451370\n",
       "2   1000   1972 -0.279306\n",
       "3   1000   1973 -0.247248\n",
       "4   1000   1974 -0.298531"
      ]
     },
     "execution_count": 100,
     "metadata": {},
     "output_type": "execute_result"
    }
   ],
   "source": [
    "dt.head()"
   ]
  },
  {
   "cell_type": "code",
   "execution_count": 101,
   "metadata": {},
   "outputs": [
    {
     "data": {
      "text/plain": [
       "count    143912.000000\n",
       "mean         -0.325610\n",
       "std           0.449125\n",
       "min          -5.487288\n",
       "25%          -0.513174\n",
       "50%          -0.306304\n",
       "75%          -0.109718\n",
       "max           3.402086\n",
       "Name: TFP, dtype: float64"
      ]
     },
     "execution_count": 101,
     "metadata": {},
     "output_type": "execute_result"
    }
   ],
   "source": [
    "dt.TFP.describe()"
   ]
  },
  {
   "cell_type": "code",
   "execution_count": 102,
   "metadata": {},
   "outputs": [
    {
     "data": {
      "text/plain": [
       "<matplotlib.axes._subplots.AxesSubplot at 0x7fec62c07048>"
      ]
     },
     "execution_count": 102,
     "metadata": {},
     "output_type": "execute_result"
    },
    {
     "data": {
      "image/png": "[encoded data removed]",
      "text/plain": [
       "<Figure size 432x288 with 1 Axes>"
      ]
     },
     "metadata": {
      "needs_background": "light"
     },
     "output_type": "display_data"
    }
   ],
   "source": [
    "dt.TFP.hist(bins=100)"
   ]
  },
  {
   "cell_type": "code",
   "execution_count": 103,
   "metadata": {},
   "outputs": [],
   "source": [
    "dt_TFP_frontier_yearly = dt.groupby('fyear')[['TFP']].max()\n",
    "dt_TFP_mean_yearly = dt.groupby('fyear')[['TFP']].mean()\n",
    "dt_TFP_median_yearly = dt.groupby('fyear')[['TFP']].median()"
   ]
  },
  {
   "cell_type": "code",
   "execution_count": 104,
   "metadata": {},
   "outputs": [
    {
     "data": {
      "text/plain": [
       "<matplotlib.axes._subplots.AxesSubplot at 0x7fec628260b8>"
      ]
     },
     "execution_count": 104,
     "metadata": {},
     "output_type": "execute_result"
    },
    {
     "data": {
      "image/png": "[encoded data removed]",
      "text/plain": [
       "<Figure size 432x288 with 1 Axes>"
      ]
     },
     "metadata": {
      "needs_background": "light"
     },
     "output_type": "display_data"
    },
    {
     "data": {
      "image/png": "[encoded data removed]",
      "text/plain": [
       "<Figure size 432x288 with 1 Axes>"
      ]
     },
     "metadata": {
      "needs_background": "light"
     },
     "output_type": "display_data"
    },
    {
     "data": {
      "image/png": "[encoded data removed]",
      "text/plain": [
       "<Figure size 432x288 with 1 Axes>"
      ]
     },
     "metadata": {
      "needs_background": "light"
     },
     "output_type": "display_data"
    }
   ],
   "source": [
    "dt_TFP_frontier_yearly.plot()\n",
    "dt_TFP_mean_yearly.plot()\n",
    "dt_TFP_median_yearly.plot()"
   ]
  },
  {
   "cell_type": "code",
   "execution_count": 105,
   "metadata": {},
   "outputs": [],
   "source": [
    "# create preferrerd stock\n",
    "comp['ps']=np.where(comp['pstkrv'].isnull(), comp['pstkl'], comp['pstkrv'])\n",
    "comp['ps']=np.where(comp['ps'].isnull(),comp['pstk'], comp['ps'])\n",
    "comp['ps']=np.where(comp['ps'].isnull(),0,comp['ps'])\n",
    "\n",
    "comp['txditc']=comp['txditc'].fillna(0)\n",
    "\n",
    "# create book equity\n",
    "comp['be']=comp['seq']+comp['txditc']-comp['ps']\n",
    "comp['be']=np.where(comp['be']>0, comp['be'], np.nan)"
   ]
  },
  {
   "cell_type": "code",
   "execution_count": 106,
   "metadata": {},
   "outputs": [],
   "source": [
    "# create market value\n",
    "comp['me']=comp['prcc_f']*comp['csho']"
   ]
  },
  {
   "cell_type": "code",
   "execution_count": 107,
   "metadata": {
    "scrolled": true
   },
   "outputs": [
    {
     "data": {
      "text/html": [
       "<div>\n",
       "<style scoped>\n",
       "    .dataframe tbody tr th:only-of-type {\n",
       "        vertical-align: middle;\n",
       "    }\n",
       "\n",
       "    .dataframe tbody tr th {\n",
       "        vertical-align: top;\n",
       "    }\n",
       "\n",
       "    .dataframe thead th {\n",
       "        text-align: right;\n",
       "    }\n",
       "</style>\n",
       "<table border=\"1\" class=\"dataframe\">\n",
       "  <thead>\n",
       "    <tr style=\"text-align: right;\">\n",
       "      <th></th>\n",
       "      <th>fyear</th>\n",
       "      <th>mkvalt</th>\n",
       "      <th>me</th>\n",
       "      <th>sic</th>\n",
       "    </tr>\n",
       "  </thead>\n",
       "  <tbody>\n",
       "    <tr>\n",
       "      <th>114088</th>\n",
       "      <td>1964</td>\n",
       "      <td>NaN</td>\n",
       "      <td>2953.093375</td>\n",
       "      <td>2670</td>\n",
       "    </tr>\n",
       "    <tr>\n",
       "      <th>114089</th>\n",
       "      <td>1965</td>\n",
       "      <td>NaN</td>\n",
       "      <td>3631.676000</td>\n",
       "      <td>2670</td>\n",
       "    </tr>\n",
       "    <tr>\n",
       "      <th>114090</th>\n",
       "      <td>1966</td>\n",
       "      <td>NaN</td>\n",
       "      <td>4175.730000</td>\n",
       "      <td>2670</td>\n",
       "    </tr>\n",
       "    <tr>\n",
       "      <th>114091</th>\n",
       "      <td>1967</td>\n",
       "      <td>NaN</td>\n",
       "      <td>5079.847500</td>\n",
       "      <td>2670</td>\n",
       "    </tr>\n",
       "    <tr>\n",
       "      <th>114092</th>\n",
       "      <td>1968</td>\n",
       "      <td>NaN</td>\n",
       "      <td>5678.041260</td>\n",
       "      <td>2670</td>\n",
       "    </tr>\n",
       "    <tr>\n",
       "      <th>114093</th>\n",
       "      <td>1969</td>\n",
       "      <td>NaN</td>\n",
       "      <td>6145.358250</td>\n",
       "      <td>2670</td>\n",
       "    </tr>\n",
       "    <tr>\n",
       "      <th>114094</th>\n",
       "      <td>1970</td>\n",
       "      <td>NaN</td>\n",
       "      <td>5553.801000</td>\n",
       "      <td>2670</td>\n",
       "    </tr>\n",
       "    <tr>\n",
       "      <th>114095</th>\n",
       "      <td>1971</td>\n",
       "      <td>NaN</td>\n",
       "      <td>7597.935000</td>\n",
       "      <td>2670</td>\n",
       "    </tr>\n",
       "    <tr>\n",
       "      <th>114096</th>\n",
       "      <td>1972</td>\n",
       "      <td>NaN</td>\n",
       "      <td>9679.991875</td>\n",
       "      <td>2670</td>\n",
       "    </tr>\n",
       "    <tr>\n",
       "      <th>114097</th>\n",
       "      <td>1973</td>\n",
       "      <td>NaN</td>\n",
       "      <td>8821.800000</td>\n",
       "      <td>2670</td>\n",
       "    </tr>\n",
       "    <tr>\n",
       "      <th>114098</th>\n",
       "      <td>1974</td>\n",
       "      <td>NaN</td>\n",
       "      <td>5267.475000</td>\n",
       "      <td>2670</td>\n",
       "    </tr>\n",
       "    <tr>\n",
       "      <th>114099</th>\n",
       "      <td>1975</td>\n",
       "      <td>NaN</td>\n",
       "      <td>6370.290000</td>\n",
       "      <td>2670</td>\n",
       "    </tr>\n",
       "    <tr>\n",
       "      <th>114100</th>\n",
       "      <td>1976</td>\n",
       "      <td>NaN</td>\n",
       "      <td>6534.411750</td>\n",
       "      <td>2670</td>\n",
       "    </tr>\n",
       "    <tr>\n",
       "      <th>114101</th>\n",
       "      <td>1977</td>\n",
       "      <td>NaN</td>\n",
       "      <td>5628.037000</td>\n",
       "      <td>2670</td>\n",
       "    </tr>\n",
       "    <tr>\n",
       "      <th>114102</th>\n",
       "      <td>1978</td>\n",
       "      <td>NaN</td>\n",
       "      <td>7397.303125</td>\n",
       "      <td>2670</td>\n",
       "    </tr>\n",
       "    <tr>\n",
       "      <th>114103</th>\n",
       "      <td>1979</td>\n",
       "      <td>NaN</td>\n",
       "      <td>5894.124000</td>\n",
       "      <td>2670</td>\n",
       "    </tr>\n",
       "    <tr>\n",
       "      <th>114104</th>\n",
       "      <td>1980</td>\n",
       "      <td>NaN</td>\n",
       "      <td>6920.877000</td>\n",
       "      <td>2670</td>\n",
       "    </tr>\n",
       "    <tr>\n",
       "      <th>114105</th>\n",
       "      <td>1981</td>\n",
       "      <td>NaN</td>\n",
       "      <td>6401.951500</td>\n",
       "      <td>2670</td>\n",
       "    </tr>\n",
       "    <tr>\n",
       "      <th>114106</th>\n",
       "      <td>1982</td>\n",
       "      <td>NaN</td>\n",
       "      <td>8841.825000</td>\n",
       "      <td>2670</td>\n",
       "    </tr>\n",
       "    <tr>\n",
       "      <th>114107</th>\n",
       "      <td>1983</td>\n",
       "      <td>NaN</td>\n",
       "      <td>9671.887500</td>\n",
       "      <td>2670</td>\n",
       "    </tr>\n",
       "    <tr>\n",
       "      <th>114108</th>\n",
       "      <td>1984</td>\n",
       "      <td>NaN</td>\n",
       "      <td>9143.930250</td>\n",
       "      <td>2670</td>\n",
       "    </tr>\n",
       "    <tr>\n",
       "      <th>114109</th>\n",
       "      <td>1985</td>\n",
       "      <td>NaN</td>\n",
       "      <td>10282.837000</td>\n",
       "      <td>2670</td>\n",
       "    </tr>\n",
       "    <tr>\n",
       "      <th>114110</th>\n",
       "      <td>1986</td>\n",
       "      <td>NaN</td>\n",
       "      <td>13326.272250</td>\n",
       "      <td>2670</td>\n",
       "    </tr>\n",
       "    <tr>\n",
       "      <th>114111</th>\n",
       "      <td>1987</td>\n",
       "      <td>NaN</td>\n",
       "      <td>14644.861875</td>\n",
       "      <td>2670</td>\n",
       "    </tr>\n",
       "    <tr>\n",
       "      <th>114112</th>\n",
       "      <td>1988</td>\n",
       "      <td>NaN</td>\n",
       "      <td>13908.646000</td>\n",
       "      <td>2670</td>\n",
       "    </tr>\n",
       "    <tr>\n",
       "      <th>114113</th>\n",
       "      <td>1989</td>\n",
       "      <td>NaN</td>\n",
       "      <td>17729.621000</td>\n",
       "      <td>2670</td>\n",
       "    </tr>\n",
       "    <tr>\n",
       "      <th>114114</th>\n",
       "      <td>1990</td>\n",
       "      <td>NaN</td>\n",
       "      <td>18850.679750</td>\n",
       "      <td>2670</td>\n",
       "    </tr>\n",
       "    <tr>\n",
       "      <th>114115</th>\n",
       "      <td>1991</td>\n",
       "      <td>NaN</td>\n",
       "      <td>20873.085000</td>\n",
       "      <td>2670</td>\n",
       "    </tr>\n",
       "    <tr>\n",
       "      <th>114116</th>\n",
       "      <td>1992</td>\n",
       "      <td>NaN</td>\n",
       "      <td>22040.296250</td>\n",
       "      <td>2670</td>\n",
       "    </tr>\n",
       "    <tr>\n",
       "      <th>114117</th>\n",
       "      <td>1993</td>\n",
       "      <td>NaN</td>\n",
       "      <td>23352.866250</td>\n",
       "      <td>2670</td>\n",
       "    </tr>\n",
       "    <tr>\n",
       "      <th>114118</th>\n",
       "      <td>1994</td>\n",
       "      <td>NaN</td>\n",
       "      <td>22406.504750</td>\n",
       "      <td>2670</td>\n",
       "    </tr>\n",
       "    <tr>\n",
       "      <th>114119</th>\n",
       "      <td>1995</td>\n",
       "      <td>NaN</td>\n",
       "      <td>27791.411625</td>\n",
       "      <td>2670</td>\n",
       "    </tr>\n",
       "    <tr>\n",
       "      <th>114120</th>\n",
       "      <td>1996</td>\n",
       "      <td>NaN</td>\n",
       "      <td>34597.388000</td>\n",
       "      <td>2670</td>\n",
       "    </tr>\n",
       "    <tr>\n",
       "      <th>114121</th>\n",
       "      <td>1997</td>\n",
       "      <td>NaN</td>\n",
       "      <td>33212.542950</td>\n",
       "      <td>2670</td>\n",
       "    </tr>\n",
       "    <tr>\n",
       "      <th>114122</th>\n",
       "      <td>1998</td>\n",
       "      <td>28586.8445</td>\n",
       "      <td>28586.844500</td>\n",
       "      <td>2670</td>\n",
       "    </tr>\n",
       "    <tr>\n",
       "      <th>114123</th>\n",
       "      <td>1999</td>\n",
       "      <td>39023.8391</td>\n",
       "      <td>39023.839125</td>\n",
       "      <td>2670</td>\n",
       "    </tr>\n",
       "    <tr>\n",
       "      <th>114124</th>\n",
       "      <td>2000</td>\n",
       "      <td>47728.2425</td>\n",
       "      <td>47728.242500</td>\n",
       "      <td>2670</td>\n",
       "    </tr>\n",
       "    <tr>\n",
       "      <th>114125</th>\n",
       "      <td>2001</td>\n",
       "      <td>46256.0458</td>\n",
       "      <td>46256.045840</td>\n",
       "      <td>2670</td>\n",
       "    </tr>\n",
       "    <tr>\n",
       "      <th>114126</th>\n",
       "      <td>2002</td>\n",
       "      <td>48111.1668</td>\n",
       "      <td>48111.166800</td>\n",
       "      <td>2670</td>\n",
       "    </tr>\n",
       "    <tr>\n",
       "      <th>114127</th>\n",
       "      <td>2003</td>\n",
       "      <td>66673.4685</td>\n",
       "      <td>66673.468510</td>\n",
       "      <td>2670</td>\n",
       "    </tr>\n",
       "    <tr>\n",
       "      <th>114128</th>\n",
       "      <td>2004</td>\n",
       "      <td>63482.6223</td>\n",
       "      <td>63482.622260</td>\n",
       "      <td>2670</td>\n",
       "    </tr>\n",
       "    <tr>\n",
       "      <th>114129</th>\n",
       "      <td>2005</td>\n",
       "      <td>58476.6950</td>\n",
       "      <td>58476.695000</td>\n",
       "      <td>2670</td>\n",
       "    </tr>\n",
       "    <tr>\n",
       "      <th>114130</th>\n",
       "      <td>2006</td>\n",
       "      <td>57228.9086</td>\n",
       "      <td>57228.908590</td>\n",
       "      <td>2670</td>\n",
       "    </tr>\n",
       "    <tr>\n",
       "      <th>114131</th>\n",
       "      <td>2007</td>\n",
       "      <td>59796.0339</td>\n",
       "      <td>59796.033920</td>\n",
       "      <td>2670</td>\n",
       "    </tr>\n",
       "    <tr>\n",
       "      <th>114132</th>\n",
       "      <td>2008</td>\n",
       "      <td>39906.4642</td>\n",
       "      <td>39906.464220</td>\n",
       "      <td>2670</td>\n",
       "    </tr>\n",
       "    <tr>\n",
       "      <th>114133</th>\n",
       "      <td>2009</td>\n",
       "      <td>58745.2193</td>\n",
       "      <td>58745.219330</td>\n",
       "      <td>2670</td>\n",
       "    </tr>\n",
       "    <tr>\n",
       "      <th>114134</th>\n",
       "      <td>2010</td>\n",
       "      <td>61443.7014</td>\n",
       "      <td>61443.701400</td>\n",
       "      <td>2670</td>\n",
       "    </tr>\n",
       "    <tr>\n",
       "      <th>114135</th>\n",
       "      <td>2011</td>\n",
       "      <td>56799.8981</td>\n",
       "      <td>56799.898100</td>\n",
       "      <td>2670</td>\n",
       "    </tr>\n",
       "    <tr>\n",
       "      <th>114136</th>\n",
       "      <td>2012</td>\n",
       "      <td>63796.4922</td>\n",
       "      <td>63796.492200</td>\n",
       "      <td>2670</td>\n",
       "    </tr>\n",
       "    <tr>\n",
       "      <th>114137</th>\n",
       "      <td>2013</td>\n",
       "      <td>93027.2640</td>\n",
       "      <td>93027.264000</td>\n",
       "      <td>2670</td>\n",
       "    </tr>\n",
       "    <tr>\n",
       "      <th>114138</th>\n",
       "      <td>2014</td>\n",
       "      <td>104365.3832</td>\n",
       "      <td>104365.383200</td>\n",
       "      <td>2670</td>\n",
       "    </tr>\n",
       "    <tr>\n",
       "      <th>114139</th>\n",
       "      <td>2015</td>\n",
       "      <td>91789.4712</td>\n",
       "      <td>91789.471200</td>\n",
       "      <td>2670</td>\n",
       "    </tr>\n",
       "    <tr>\n",
       "      <th>114140</th>\n",
       "      <td>2016</td>\n",
       "      <td>106557.3618</td>\n",
       "      <td>106557.361820</td>\n",
       "      <td>2670</td>\n",
       "    </tr>\n",
       "    <tr>\n",
       "      <th>114141</th>\n",
       "      <td>2017</td>\n",
       "      <td>140017.8471</td>\n",
       "      <td>140017.847080</td>\n",
       "      <td>2670</td>\n",
       "    </tr>\n",
       "  </tbody>\n",
       "</table>\n",
       "</div>"
      ],
      "text/plain": [
       "        fyear       mkvalt             me   sic\n",
       "114088   1964          NaN    2953.093375  2670\n",
       "114089   1965          NaN    3631.676000  2670\n",
       "114090   1966          NaN    4175.730000  2670\n",
       "114091   1967          NaN    5079.847500  2670\n",
       "114092   1968          NaN    5678.041260  2670\n",
       "114093   1969          NaN    6145.358250  2670\n",
       "114094   1970          NaN    5553.801000  2670\n",
       "114095   1971          NaN    7597.935000  2670\n",
       "114096   1972          NaN    9679.991875  2670\n",
       "114097   1973          NaN    8821.800000  2670\n",
       "114098   1974          NaN    5267.475000  2670\n",
       "114099   1975          NaN    6370.290000  2670\n",
       "114100   1976          NaN    6534.411750  2670\n",
       "114101   1977          NaN    5628.037000  2670\n",
       "114102   1978          NaN    7397.303125  2670\n",
       "114103   1979          NaN    5894.124000  2670\n",
       "114104   1980          NaN    6920.877000  2670\n",
       "114105   1981          NaN    6401.951500  2670\n",
       "114106   1982          NaN    8841.825000  2670\n",
       "114107   1983          NaN    9671.887500  2670\n",
       "114108   1984          NaN    9143.930250  2670\n",
       "114109   1985          NaN   10282.837000  2670\n",
       "114110   1986          NaN   13326.272250  2670\n",
       "114111   1987          NaN   14644.861875  2670\n",
       "114112   1988          NaN   13908.646000  2670\n",
       "114113   1989          NaN   17729.621000  2670\n",
       "114114   1990          NaN   18850.679750  2670\n",
       "114115   1991          NaN   20873.085000  2670\n",
       "114116   1992          NaN   22040.296250  2670\n",
       "114117   1993          NaN   23352.866250  2670\n",
       "114118   1994          NaN   22406.504750  2670\n",
       "114119   1995          NaN   27791.411625  2670\n",
       "114120   1996          NaN   34597.388000  2670\n",
       "114121   1997          NaN   33212.542950  2670\n",
       "114122   1998   28586.8445   28586.844500  2670\n",
       "114123   1999   39023.8391   39023.839125  2670\n",
       "114124   2000   47728.2425   47728.242500  2670\n",
       "114125   2001   46256.0458   46256.045840  2670\n",
       "114126   2002   48111.1668   48111.166800  2670\n",
       "114127   2003   66673.4685   66673.468510  2670\n",
       "114128   2004   63482.6223   63482.622260  2670\n",
       "114129   2005   58476.6950   58476.695000  2670\n",
       "114130   2006   57228.9086   57228.908590  2670\n",
       "114131   2007   59796.0339   59796.033920  2670\n",
       "114132   2008   39906.4642   39906.464220  2670\n",
       "114133   2009   58745.2193   58745.219330  2670\n",
       "114134   2010   61443.7014   61443.701400  2670\n",
       "114135   2011   56799.8981   56799.898100  2670\n",
       "114136   2012   63796.4922   63796.492200  2670\n",
       "114137   2013   93027.2640   93027.264000  2670\n",
       "114138   2014  104365.3832  104365.383200  2670\n",
       "114139   2015   91789.4712   91789.471200  2670\n",
       "114140   2016  106557.3618  106557.361820  2670\n",
       "114141   2017  140017.8471  140017.847080  2670"
      ]
     },
     "execution_count": 107,
     "metadata": {},
     "output_type": "execute_result"
    }
   ],
   "source": [
    "# compare me and mkvalt\n",
    "comp[comp.tic=='MMM'][['fyear','mkvalt','me','sic']]"
   ]
  },
  {
   "cell_type": "code",
   "execution_count": 108,
   "metadata": {},
   "outputs": [],
   "source": [
    "comp['gvkey']=comp.gvkey.astype('int')"
   ]
  },
  {
   "cell_type": "markdown",
   "metadata": {},
   "source": [
    "# Control\n",
    "## Age\n",
    "AGE is the number of years since the firm first shows up in Compustat."
   ]
  },
  {
   "cell_type": "code",
   "execution_count": 109,
   "metadata": {},
   "outputs": [],
   "source": [
    "comp['age']=comp.fyear - comp.groupby('gvkey').fyear.transform(min)"
   ]
  },
  {
   "cell_type": "markdown",
   "metadata": {},
   "source": [
    "# Merge"
   ]
  },
  {
   "cell_type": "code",
   "execution_count": 110,
   "metadata": {},
   "outputs": [],
   "source": [
    "df_merged=pd.merge(dt,comp, on=['gvkey','fyear'])"
   ]
  },
  {
   "cell_type": "code",
   "execution_count": 111,
   "metadata": {},
   "outputs": [],
   "source": [
    "df = df_merged.copy()"
   ]
  },
  {
   "cell_type": "code",
   "execution_count": 112,
   "metadata": {},
   "outputs": [
    {
     "data": {
      "text/plain": [
       "(143391, 986)"
      ]
     },
     "execution_count": 112,
     "metadata": {},
     "output_type": "execute_result"
    }
   ],
   "source": [
    "df.shape"
   ]
  },
  {
   "cell_type": "code",
   "execution_count": 113,
   "metadata": {},
   "outputs": [],
   "source": [
    "df=df[df['sic'].notna()]"
   ]
  },
  {
   "cell_type": "code",
   "execution_count": 114,
   "metadata": {},
   "outputs": [
    {
     "data": {
      "text/plain": [
       "(143391, 986)"
      ]
     },
     "execution_count": 114,
     "metadata": {},
     "output_type": "execute_result"
    }
   ],
   "source": [
    "df.shape"
   ]
  },
  {
   "cell_type": "code",
   "execution_count": 115,
   "metadata": {},
   "outputs": [],
   "source": [
    "#df= df[~((df.sic >= 4900) & (df.sic < 5000))]\n",
    "#df= df[~((df.sic >= 6000) & (df.sic < 7000))]"
   ]
  },
  {
   "cell_type": "code",
   "execution_count": 116,
   "metadata": {},
   "outputs": [
    {
     "data": {
      "text/plain": [
       "(143391, 986)"
      ]
     },
     "execution_count": 116,
     "metadata": {},
     "output_type": "execute_result"
    }
   ],
   "source": [
    "df.shape"
   ]
  },
  {
   "cell_type": "code",
   "execution_count": 117,
   "metadata": {},
   "outputs": [],
   "source": [
    "#df=df[(df.aqc <= (0.05 * df['at']))]"
   ]
  },
  {
   "cell_type": "code",
   "execution_count": 118,
   "metadata": {},
   "outputs": [
    {
     "data": {
      "text/plain": [
       "(143391, 986)"
      ]
     },
     "execution_count": 118,
     "metadata": {},
     "output_type": "execute_result"
    }
   ],
   "source": [
    "df.shape"
   ]
  },
  {
   "cell_type": "markdown",
   "metadata": {},
   "source": [
    "# Construct Frontier Productivity"
   ]
  },
  {
   "cell_type": "code",
   "execution_count": 119,
   "metadata": {
    "scrolled": true
   },
   "outputs": [],
   "source": [
    "# clip TFP\n",
    "lr = df['TFP'].describe(percentiles=[0.005])['0.5%']\n",
    "up = df['TFP'].describe(percentiles=[0.995])['99.5%']\n",
    "df.TFP = df.TFP.clip(lr, up)"
   ]
  },
  {
   "cell_type": "code",
   "execution_count": 120,
   "metadata": {},
   "outputs": [
    {
     "data": {
      "text/plain": [
       "<matplotlib.axes._subplots.AxesSubplot at 0x7fec4a462e10>"
      ]
     },
     "execution_count": 120,
     "metadata": {},
     "output_type": "execute_result"
    },
    {
     "data": {
      "image/png": "[encoded data removed]",
      "text/plain": [
       "<Figure size 432x288 with 1 Axes>"
      ]
     },
     "metadata": {
      "needs_background": "light"
     },
     "output_type": "display_data"
    }
   ],
   "source": [
    "df.TFP.hist(bins=100)"
   ]
  },
  {
   "cell_type": "markdown",
   "metadata": {},
   "source": [
    "## Construct Froniter using by Fama-French 48"
   ]
  },
  {
   "cell_type": "code",
   "execution_count": 121,
   "metadata": {},
   "outputs": [],
   "source": [
    "df['sic'] = df.sic.astype('str')"
   ]
  },
  {
   "cell_type": "code",
   "execution_count": 122,
   "metadata": {},
   "outputs": [],
   "source": [
    "#########################\n",
    "# Assign Fama-French 48 #\n",
    "#########################\n",
    "\n",
    "# function to assign ffi48 classification\n",
    "def ffi48(row):\n",
    "    if (100<=row['sic'] <=299) or (700<=row['sic']<=799) or (910<=row['sic']<=919) or (row['sic']==2048):\n",
    "        ffi48=1\n",
    "        ffi48_desc='Agric'\n",
    "    elif (2000<=row['sic']<=2046) or (2050<=row['sic']<=2063) or (2070<=row['sic']<=2079)\\\n",
    "    or (2090<=row['sic']<=2092) or (row['sic']==2095) or (2098<=row['sic']<=2099):\n",
    "        ffi48=2\n",
    "        ffi48_desc='Food'\n",
    "    elif (2064<=row['sic']<=2068) or (2086<=row['sic']<=2087) or (2096<=row['sic']<=2097):\n",
    "        ffi48=3\n",
    "        ffi48_desc='Soda'\n",
    "    elif (row['sic']==2080) or (2082<=row['sic']<=2085):\n",
    "        ffi48=4\n",
    "        ffi48_desc='Beer'\n",
    "    elif (2100<=row['sic']<=2199):\n",
    "        ffi48=5\n",
    "        ffi48_desc='Smoke'\n",
    "    elif (920<=row['sic']<=999) or (3650<=row['sic']<=3652) or (row['sic']==3732) or (3930<=row['sic']<=3931) or (3940<=row['sic']<=3949):\n",
    "        ffi48=6\n",
    "        ffi48_desc='Toys'\n",
    "    elif (7800<=row['sic']<=7833) or (7840<=row['sic']<=7841) or(row['sic']==7900)or (7910<=row['sic']<=7911) or (7920<=row['sic']<=7933)\\\n",
    "    or (7940<=row['sic']<=7949) or (row['sic']==7980) or (7990<=row['sic']<=7999):\n",
    "        ffi48=7\n",
    "        ffi48_desc='Fun'\n",
    "    elif (2700<=row['sic']<=2749) or (2770<=row['sic']<=2771) or (2780<=row['sic']<=2799):\n",
    "        ffi48=8\n",
    "        ffi48_desc='Books'\n",
    "    elif (row['sic']==2047) or (2391<=row['sic']<=2392) or (2510<=row['sic']<=2519) or (2590<=row['sic']<=2599) or (2840<=row['sic']<=2844)\\\n",
    "    or (3160<=row['sic']<=3161) or (3170<=row['sic']<=3172) or (3190<=row['sic']<=3199) or (row['sic']==3229) or (row['sic']==3260)\\\n",
    "    or (3262<=row['sic']<=3263) or (row['sic']==3269) or (3230<=row['sic']<=3231) or(3630<=row['sic']<=3639) or (3750<=row['sic']<=3751)\\\n",
    "    or (row['sic']==3800) or (3860<=row['sic']<=3861) or (3870<=row['sic']<=3873) or (3910<=row['sic']<=3911) or (3914<=row['sic']<=3915)\\\n",
    "    or (3960<=row['sic']<=3962) or (row['sic']==3991) or (row['sic']==3995):\n",
    "        ffi48=9\n",
    "        ffi48_desc='Hshld'\n",
    "    elif (2300<=row['sic']<=2390) or (3020<=row['sic']<=3021) or (3100<=row['sic']<=3111)\\\n",
    "    or (3130<=row['sic']<=3131) or (3140<=row['sic']<=3151) or (3963<=row['sic']<=3965):\n",
    "        ffi48=10\n",
    "        ffi48_desc='Clths'\n",
    "    elif (8000<=row['sic']<=8099):\n",
    "        ffi48=11\n",
    "        ffi48_desc='Hlth'\n",
    "    elif (row['sic']==3693) or (3840<=row['sic']<=3851):\n",
    "        ffi48=12\n",
    "        ffi48_desc='MedEq'\n",
    "    elif (2830<=row['sic']<=2831) or (2833<=row['sic']<=2836):\n",
    "        ffi48=13\n",
    "        ffi48_desc='Drugs'\n",
    "    elif (2800<=row['sic']<=2829) or (2850<=row['sic']<=2879) or (2890<=row['sic']<=2899):\n",
    "        ffi48=14\n",
    "        ffi48_desc='Chems'\n",
    "    elif (row['sic']==3031) or (row['sic']==3041) or (3050<=row['sic']<=3053) or (3060<=row['sic']<=3069) or (3070<=row['sic']<=3099):\n",
    "        ffi48=15\n",
    "        ffi48_desc='Rubbr'\n",
    "    elif (2200<=row['sic']<=2284) or (2290<=row['sic']<=2295) or (2297<=row['sic']<=2299) or (2393<=row['sic']<=2395) or (2397<=row['sic']<=2399):\n",
    "        ffi48=16\n",
    "        ffi48_desc='Txtls'\n",
    "    elif (800<=row['sic']<=899) or (2400<=row['sic']<=2439) or (2450<=row['sic']<=2459) or (2490<=row['sic']<=2499) or (2660<=row['sic']<=2661)\\\n",
    "    or (2950<=row['sic']<=2952) or (row['sic']==3200) or (3210<=row['sic']<=3211) or (3240<=row['sic']<=3241) or (3250<=row['sic']<=3259)\\\n",
    "    or (row['sic']==3261) or (row['sic']==3264) or (3270<=row['sic']<=3275) or (3280<=row['sic']<=3281) or (3290<=row['sic']<=3293)\\\n",
    "    or (3295<=row['sic']<=3299) or (3420<=row['sic']<=3433) or (3440<=row['sic']<=3442) or (row['sic']==3446) or (3448<=row['sic']<=3452)\\\n",
    "    or (3490<=row['sic']<=3499) or (row['sic']==3996):\n",
    "        ffi48=17\n",
    "        ffi48_desc='BldMt'\n",
    "    elif (1500<=row['sic']<=1511) or (1520<=row['sic']<=1549) or (1600<=row['sic']<=1799):\n",
    "        ffi48=18\n",
    "        ffi48_desc='Cnstr'\n",
    "    elif (row['sic']==3300) or (3310<=row['sic']<=3317) or (3320<=row['sic']<=3325) or (3330<=row['sic']<=3341) or(3350<=row['sic']<=3357)\\\n",
    "    or (3360<=row['sic']<=3379) or (3390<=row['sic']<=3399):\n",
    "        ffi48=19\n",
    "        ffi48_desc='Steel'\n",
    "    elif (row['sic']==3400) or (3443<=row['sic']<=3444) or (3460<=row['sic']<=3479):\n",
    "        ffi48=20\n",
    "        ffi48_desc='FabPr'\n",
    "    elif (3510<=row['sic']<=3536) or (row['sic']==3538) or (3540<=row['sic']<=3569)\\\n",
    "    or (3580<=row['sic']<=3582) or (3585<=row['sic']<=3586) or (3589<=row['sic']<=3599):\n",
    "        ffi48=21\n",
    "        ffi48_desc='Mach'\n",
    "    elif (row['sic']==3600) or (3610<=row['sic']<=3613) or (3620<=row['sic']<=3621) or (3623<=row['sic']<=3629) or (3640<=row['sic']<=3646)\\\n",
    "    or (3648<=row['sic']<=3649) or (row['sic']==3660) or (3690<=row['sic']<=3692) or (row['sic']==3699):\n",
    "            ffi48=22\n",
    "            ffi48_desc='ElcEq'\n",
    "    elif (row['sic']==2296) or (row['sic']==2396) or (3010<=row['sic']<=3011) or (row['sic']==3537) or (row['sic']==3647) or (row['sic']==3694)\\\n",
    "    or (row['sic']==3700) or (3710<=row['sic']<=3711) or (3713<=row['sic']<=3716) or (3790<=row['sic']<=3792) or (row['sic']==3799):\n",
    "        ffi48=23\n",
    "        ffi48_desc='Autos'\n",
    "    elif (3720<=row['sic']<=3721) or (3723<=row['sic']<=3725) or (3728<=row['sic']<=3729):\n",
    "        ffi48=24\n",
    "        ffi48_desc='Aero'\n",
    "    elif (3730<=row['sic']<=3731) or (3740<=row['sic']<=3743):\n",
    "        ffi48=25\n",
    "        ffi48_desc='Ships'\n",
    "    elif (3760<=row['sic']<=3769) or (row['sic']==3795) or (3480<=row['sic']<=3489):\n",
    "        ffi48=26\n",
    "        ffi48_desc='Guns'\n",
    "    elif (1040<=row['sic']<=1049):\n",
    "        ffi48=27\n",
    "        ffi48_desc='Gold'\n",
    "    elif (1000<=row['sic']<=1039) or (1050<=row['sic']<=1119) or (1400<=row['sic']<=1499):\n",
    "        ffi48=28\n",
    "        ffi48_desc='Mines'\n",
    "    elif (1200<=row['sic']<=1299):\n",
    "        ffi48=29\n",
    "        ffi48_desc='Coal'\n",
    "    elif (row['sic']==1300) or (1310<=row['sic']<=1339) or (1370<=row['sic']<=1382) or (row['sic']==1389) or (2900<=row['sic']<=2912) or (2990<=row['sic']<=2999):\n",
    "        ffi48=30\n",
    "        ffi48_desc='Oil'\n",
    "    elif (row['sic']==4900) or (4910<=row['sic']<=4911) or (4920<=row['sic']<=4925) or (4930<=row['sic']<=4932) or (4939<=row['sic']<=4942):\n",
    "        ffi48=31\n",
    "        ffi48_desc='Util'\n",
    "    elif (row['sic']==4800) or (4810<=row['sic']<=4813) or (4820<=row['sic']<=4822) or (4830<=row['sic']<=4841) or (4880<=row['sic']<=4892) or (row['sic']==4899):\n",
    "        ffi48=32\n",
    "        ffi48_desc='Telcm'\n",
    "    elif (7020<=row['sic']<=7021) or (7030<=row['sic']<=7033) or (row['sic']==7200) or (7210<=row['sic']<=7212) or (7214<=row['sic']<=7217)\\\n",
    "    or (7219<=row['sic']<=7221) or (7230<=row['sic']<=7231) or (7240<=row['sic']<=7241) or (7250<=row['sic']<=7251) or (7260<=row['sic']<=7299)\\\n",
    "    or (row['sic']==7395) or (row['sic']==7500) or (7520<=row['sic']<=7549) or (row['sic']==7600) or (row['sic']==7620)\\\n",
    "    or (7622<=row['sic']<=7623) or (7629<=row['sic']<=7631) or (7640<=row['sic']<=7641) or (7690<=row['sic']<=7699) or (8100<=row['sic']<=8499)\\\n",
    "    or (8600<=row['sic']<=8699) or (8800<=row['sic']<=8899) or (7510<=row['sic']<=7515):\n",
    "        ffi48=33\n",
    "        ffi48_desc='PerSv'\n",
    "    elif (2750<=row['sic']<=2759) or (row['sic']==3993) or (row['sic']==7218) or (row['sic']==7300) or (7310<=row['sic']<=7342)\\\n",
    "    or (7349<=row['sic']<=7353) or (7359<=row['sic']<=7372) or (7374<=row['sic']<=7385) or (7389<=row['sic']<=7394) or (7396<=row['sic']<=7397)\\\n",
    "    or (row['sic']==7399) or (row['sic']==7519) or (row['sic']==8700) or (8710<=row['sic']<=8713) or (8720<=row['sic']<=8721) \\\n",
    "    or (8730<=row['sic']<=8734) or (8740<=row['sic']<=8748) or (8900<=row['sic']<=8911) or (8920<=row['sic']<=8999) or (4220<=row['sic']<=4229):\n",
    "        ffi48=34\n",
    "        ffi48_desc='BusSv'\n",
    "    elif (3570<=row['sic']<=3579) or (3680<=row['sic']<=3689) or (row['sic']==3695) or (row['sic']==7373):\n",
    "        ffi48=35\n",
    "        ffi48_desc='Comps'\n",
    "    elif (row['sic']==3622) or (3661<=row['sic']<=3666) or (3669<=row['sic']<=3679) or (row['sic']==3810) or (row['sic']==3812):\n",
    "        ffi48=36\n",
    "        ffi48_desc='Chips'\n",
    "    elif (row['sic']==3811) or (3820<=row['sic']<=3827) or (3829<=row['sic']<=3839):\n",
    "        ffi48=37\n",
    "        ffi48_desc='LabEq'\n",
    "    elif (2520<=row['sic']<=2549) or (2600<=row['sic']<=2639) or (2670<=row['sic']<=2699) or (2760<=row['sic']<=2761) or (3950<=row['sic']<=3955):\n",
    "        ffi48=38\n",
    "        ffi48_desc='Paper'\n",
    "    elif (2440<=row['sic']<=2449) or (2640<=row['sic']<=2659) or (3220<=row['sic']<=3221) or (3410<=row['sic']<=3412):\n",
    "        ffi48=39\n",
    "        ffi48_desc='Boxes'\n",
    "    elif (4000<=row['sic']<=4013) or (4040<=row['sic']<=4049) or (row['sic']==4100)  or (4110<=row['sic']<=4121) or (4130<=row['sic']<=4131)\\\n",
    "    or (4140<=row['sic']<=4142) or (4150<=row['sic']<=4151) or (4170<=row['sic']<=4173) or (4190<=row['sic']<=4200)\\\n",
    "    or (4210<=row['sic']<=4219) or (4230<=row['sic']<=4231) or (4240<=row['sic']<=4249) or (4400<=row['sic']<=4700) or (4710<=row['sic']<=4712)\\\n",
    "    or (4720<=row['sic']<=4749) or (row['sic']==4780) or (4782<=row['sic']<=4785) or (row['sic']==4789):\n",
    "        ffi48=40\n",
    "        ffi48_desc='Trans'\n",
    "    elif (row['sic']==5000) or (5010<=row['sic']<=5015) or (5020<=row['sic']<=5023) or (5030<=row['sic']<=5060) or (5063<=row['sic']<=5065)\\\n",
    "    or (5070<=row['sic']<=5078) or (5080<=row['sic']<=5088) or (5090<=row['sic']<=5094) or (5099<=row['sic']<=5100)\\\n",
    "    or (5110<=row['sic']<=5113) or (5120<=row['sic']<=5122) or (5130<=row['sic']<=5172) or (5180<=row['sic']<=5182) or (5190<=row['sic']<=5199):\n",
    "        ffi48=41\n",
    "        ffi48_desc='Whlsl'\n",
    "    elif (row['sic']==5200) or (5210<=row['sic']<=5231) or (5250<=row['sic']<=5251) or (5260<=row['sic']<=5261) or (5270<=row['sic']<=5271)\\\n",
    "    or (row['sic']==5300) or (5310<=row['sic']<=5311) or (row['sic']==5320) or (5330<=row['sic']<=5331) or (row['sic']==5334)\\\n",
    "    or (5340<=row['sic']<=5349) or (5390<=row['sic']<=5400) or (5410<=row['sic']<=5412) or (5420<=row['sic']<=5469) or (5490<=row['sic']<=5500)\\\n",
    "    or (5510<=row['sic']<=5579) or (5590<=row['sic']<=5700) or (5710<=row['sic']<=5722) or (5730<=row['sic']<=5736) or (5750<=row['sic']<=5799)\\\n",
    "    or (row['sic']==5900) or (5910<=row['sic']<=5912) or (5920<=row['sic']<=5932) or (5940<=row['sic']<=5990) or (5992<=row['sic']<=5995) or (row['sic']==5999):\n",
    "        ffi48=42\n",
    "        ffi48_desc='Rtail'\n",
    "    elif (5800<=row['sic']<=5829) or (5890<=row['sic']<=5899) or (row['sic']==7000) or (7010<=row['sic']<=7019) or (7040<=row['sic']<=7049) or (row['sic']==7213):\n",
    "        ffi48=43\n",
    "        ffi48_desc='Meals'\n",
    "    elif (row['sic']==6000) or (6010<=row['sic']<=6036) or (6040<=row['sic']<=6062) or (6080<=row['sic']<=6082) or (6090<=row['sic']<=6100)\\\n",
    "    or (6110<=row['sic']<=6113) or (6120<=row['sic']<=6179) or (6190<=row['sic']<=6199):\n",
    "        ffi48=44\n",
    "        ffi48_desc='Banks'\n",
    "    elif (row['sic']==6300) or (6310<=row['sic']<=6331) or (6350<=row['sic']<=6351) or (6360<=row['sic']<=6361) or (6370<=row['sic']<=6379) or (6390<=row['sic']<=6411):\n",
    "        ffi48=45\n",
    "        ffi48_desc='Insur'\n",
    "    elif (row['sic']==6500) or (row['sic']==6510) or (6512<=row['sic']<=6515) or (6517<=row['sic']<=6532) or (6540<=row['sic']<=6541)\\\n",
    "    or (6550<=row['sic']<=6553) or (6590<=row['sic']<=6599) or (6610<=row['sic']<=6611):\n",
    "        ffi48=46\n",
    "        ffi48_desc='RlEst'\n",
    "    elif (6200<=row['sic']<=6299) or (row['sic']==6700) or (6710<=row['sic']<=6726) or (6730<=row['sic']<=6733) or (6740<=row['sic']<=6779)\\\n",
    "    or (6790<=row['sic']<=6795) or (6798<=row['sic']<=6799):\n",
    "        ffi48=47\n",
    "        ffi48_desc='Fin'\n",
    "    elif (4950<=row['sic']<=4961) or (4970<=row['sic']<=4971) or (4990<=row['sic']<=4991) or (row['sic']==9999):\n",
    "        ffi48=48\n",
    "        ffi48_desc='Other'\n",
    "    else:\n",
    "        ffi48=np.nan\n",
    "        ffi48_desc=''\n",
    "    return pd.Series({'sic': row['sic'], 'ffi48': ffi48, 'ffi48_desc': ffi48_desc})\n",
    "\n",
    "# assign SIC code\n",
    "df2 = df.copy()\n",
    "\n",
    "# and adjust some SIC code to fit F&F 48 ind delineation\n",
    "df2['sic']=np.where(df2['sic'].isin([3990,3999]), 3991, df2['sic'])\n",
    "df2['sic']=df2.sic.astype(int)\n",
    "\n",
    "# assign the ffi48 function to df\n",
    "_sic = df2['sic'].unique()\n",
    "_sicff = pd.DataFrame(_sic).rename(columns={0:'sic'})\n",
    "_sicff = _sicff.apply(ffi48, axis=1)\n",
    "df2 = pd.merge(df2, _sicff, how='left', on=['sic'])\n",
    "\n",
    "# keep only records with non-missing bm and ffi48 classification\n",
    "df2 = df2[(df2['ffi48_desc'] !='')] \n",
    "df2 = df2.sort_values(['gvkey'])"
   ]
  },
  {
   "cell_type": "code",
   "execution_count": 123,
   "metadata": {},
   "outputs": [],
   "source": [
    "df = df2"
   ]
  },
  {
   "cell_type": "code",
   "execution_count": 124,
   "metadata": {},
   "outputs": [],
   "source": [
    "df.loc[df.index,'TFP_frontier_fyear_ff48'] = df.groupby(['fyear', 'ffi48'])['TFP'].transform(max)\n",
    "df.loc[df.index,'TFP_mean_fyear_ff48'] = df.groupby(['fyear', 'ffi48'])['TFP'].transform(np.mean)\n",
    "df.loc[df.index,'TFP_median_fyear_ff48'] = df.groupby(['fyear', 'ffi48'])['TFP'].transform(np.median)\n",
    "\n",
    "df.loc[df.index,'gap'] = df['TFP_frontier_fyear_ff48'] - df['TFP']"
   ]
  },
  {
   "cell_type": "code",
   "execution_count": 125,
   "metadata": {},
   "outputs": [
    {
     "data": {
      "text/plain": [
       "<matplotlib.axes._subplots.AxesSubplot at 0x7fe8b8d7c518>"
      ]
     },
     "execution_count": 125,
     "metadata": {},
     "output_type": "execute_result"
    },
    {
     "data": {
      "image/png": "[encoded data removed]",
      "text/plain": [
       "<Figure size 432x288 with 1 Axes>"
      ]
     },
     "metadata": {
      "needs_background": "light"
     },
     "output_type": "display_data"
    }
   ],
   "source": [
    "df.gap.hist(bins=100)"
   ]
  },
  {
   "cell_type": "code",
   "execution_count": 126,
   "metadata": {},
   "outputs": [],
   "source": [
    "# remove gap == 0\n",
    "#df = df[df.gap > 0]"
   ]
  },
  {
   "cell_type": "code",
   "execution_count": 127,
   "metadata": {},
   "outputs": [
    {
     "data": {
      "text/plain": [
       "<matplotlib.axes._subplots.AxesSubplot at 0x7fed222f3a58>"
      ]
     },
     "execution_count": 127,
     "metadata": {},
     "output_type": "execute_result"
    },
    {
     "data": {
      "image/png": "[encoded data removed]",
      "text/plain": [
       "<Figure size 432x288 with 1 Axes>"
      ]
     },
     "metadata": {
      "needs_background": "light"
     },
     "output_type": "display_data"
    }
   ],
   "source": [
    "df.gap.hist(bins=100)"
   ]
  },
  {
   "cell_type": "markdown",
   "metadata": {},
   "source": [
    "# Construct Book to Market"
   ]
  },
  {
   "cell_type": "code",
   "execution_count": 128,
   "metadata": {},
   "outputs": [],
   "source": [
    "df=df[df['be'].notna()]\n",
    "df=df[df['me'].notna()]\n",
    "\n",
    "df=df[df['be']>0]\n",
    "df=df[df['me']>0]"
   ]
  },
  {
   "cell_type": "code",
   "execution_count": 129,
   "metadata": {},
   "outputs": [
    {
     "data": {
      "text/plain": [
       "(125317, 992)"
      ]
     },
     "execution_count": 129,
     "metadata": {},
     "output_type": "execute_result"
    }
   ],
   "source": [
    "df.shape"
   ]
  },
  {
   "cell_type": "code",
   "execution_count": 130,
   "metadata": {},
   "outputs": [],
   "source": [
    "df['beme'] = df['be']/df['me']"
   ]
  },
  {
   "cell_type": "code",
   "execution_count": 131,
   "metadata": {},
   "outputs": [
    {
     "data": {
      "text/plain": [
       "count    125317.000000\n",
       "mean         12.006429\n",
       "std        1376.646402\n",
       "min           0.000052\n",
       "25%           0.376906\n",
       "50%           0.651460\n",
       "75%           1.104969\n",
       "max      308133.891213\n",
       "Name: beme, dtype: float64"
      ]
     },
     "execution_count": 131,
     "metadata": {},
     "output_type": "execute_result"
    }
   ],
   "source": [
    "df['beme'].describe()"
   ]
  },
  {
   "cell_type": "code",
   "execution_count": 132,
   "metadata": {},
   "outputs": [
    {
     "data": {
      "text/plain": [
       "<matplotlib.axes._subplots.AxesSubplot at 0x7fec629192e8>"
      ]
     },
     "execution_count": 132,
     "metadata": {},
     "output_type": "execute_result"
    },
    {
     "data": {
      "image/png": "[encoded data removed]",
      "text/plain": [
       "<Figure size 432x288 with 1 Axes>"
      ]
     },
     "metadata": {
      "needs_background": "light"
     },
     "output_type": "display_data"
    }
   ],
   "source": [
    "df['beme'].hist(bins=100)"
   ]
  },
  {
   "cell_type": "code",
   "execution_count": 133,
   "metadata": {},
   "outputs": [
    {
     "data": {
      "text/html": [
       "<div>\n",
       "<style scoped>\n",
       "    .dataframe tbody tr th:only-of-type {\n",
       "        vertical-align: middle;\n",
       "    }\n",
       "\n",
       "    .dataframe tbody tr th {\n",
       "        vertical-align: top;\n",
       "    }\n",
       "\n",
       "    .dataframe thead th {\n",
       "        text-align: right;\n",
       "    }\n",
       "</style>\n",
       "<table border=\"1\" class=\"dataframe\">\n",
       "  <thead>\n",
       "    <tr style=\"text-align: right;\">\n",
       "      <th></th>\n",
       "      <th>gap</th>\n",
       "      <th>beme</th>\n",
       "    </tr>\n",
       "  </thead>\n",
       "  <tbody>\n",
       "    <tr>\n",
       "      <th>gap</th>\n",
       "      <td>1.000000</td>\n",
       "      <td>-0.002386</td>\n",
       "    </tr>\n",
       "    <tr>\n",
       "      <th>beme</th>\n",
       "      <td>-0.002386</td>\n",
       "      <td>1.000000</td>\n",
       "    </tr>\n",
       "  </tbody>\n",
       "</table>\n",
       "</div>"
      ],
      "text/plain": [
       "           gap      beme\n",
       "gap   1.000000 -0.002386\n",
       "beme -0.002386  1.000000"
      ]
     },
     "execution_count": 133,
     "metadata": {},
     "output_type": "execute_result"
    }
   ],
   "source": [
    "df[['gap', 'beme']].corr()"
   ]
  },
  {
   "cell_type": "code",
   "execution_count": 134,
   "metadata": {},
   "outputs": [],
   "source": [
    "lr = df['beme'].describe(percentiles=[0.005])['0.5%']\n",
    "up = df['beme'].describe(percentiles=[0.995])['99.5%']\n",
    "df.beme = df.beme.clip(lr, up)"
   ]
  },
  {
   "cell_type": "code",
   "execution_count": 135,
   "metadata": {},
   "outputs": [
    {
     "data": {
      "text/plain": [
       "(125317, 993)"
      ]
     },
     "execution_count": 135,
     "metadata": {},
     "output_type": "execute_result"
    }
   ],
   "source": [
    "df.shape"
   ]
  },
  {
   "cell_type": "code",
   "execution_count": 136,
   "metadata": {
    "scrolled": true
   },
   "outputs": [
    {
     "data": {
      "text/plain": [
       "<matplotlib.axes._subplots.AxesSubplot at 0x7fed04866dd8>"
      ]
     },
     "execution_count": 136,
     "metadata": {},
     "output_type": "execute_result"
    },
    {
     "data": {
      "image/png": "[encoded data removed]",
      "text/plain": [
       "<Figure size 432x288 with 1 Axes>"
      ]
     },
     "metadata": {
      "needs_background": "light"
     },
     "output_type": "display_data"
    }
   ],
   "source": [
    "df.beme.hist(bins=100)"
   ]
  },
  {
   "cell_type": "code",
   "execution_count": 137,
   "metadata": {},
   "outputs": [],
   "source": [
    "# clip gap\n",
    "# lr = df['gap'].describe(percentiles=[0.005])['0.5%']\n",
    "# up = df['gap'].describe(percentiles=[0.995])['99.5%']\n",
    "# df.gap = df.gap.clip(lr, up)"
   ]
  },
  {
   "cell_type": "code",
   "execution_count": 138,
   "metadata": {},
   "outputs": [
    {
     "data": {
      "text/html": [
       "<div>\n",
       "<style scoped>\n",
       "    .dataframe tbody tr th:only-of-type {\n",
       "        vertical-align: middle;\n",
       "    }\n",
       "\n",
       "    .dataframe tbody tr th {\n",
       "        vertical-align: top;\n",
       "    }\n",
       "\n",
       "    .dataframe thead th {\n",
       "        text-align: right;\n",
       "    }\n",
       "</style>\n",
       "<table border=\"1\" class=\"dataframe\">\n",
       "  <thead>\n",
       "    <tr style=\"text-align: right;\">\n",
       "      <th></th>\n",
       "      <th>gap</th>\n",
       "      <th>beme</th>\n",
       "    </tr>\n",
       "  </thead>\n",
       "  <tbody>\n",
       "    <tr>\n",
       "      <th>gap</th>\n",
       "      <td>1.000000</td>\n",
       "      <td>0.104423</td>\n",
       "    </tr>\n",
       "    <tr>\n",
       "      <th>beme</th>\n",
       "      <td>0.104423</td>\n",
       "      <td>1.000000</td>\n",
       "    </tr>\n",
       "  </tbody>\n",
       "</table>\n",
       "</div>"
      ],
      "text/plain": [
       "           gap      beme\n",
       "gap   1.000000  0.104423\n",
       "beme  0.104423  1.000000"
      ]
     },
     "execution_count": 138,
     "metadata": {},
     "output_type": "execute_result"
    }
   ],
   "source": [
    "df[['gap', 'beme']].corr()"
   ]
  },
  {
   "cell_type": "code",
   "execution_count": 139,
   "metadata": {
    "scrolled": false
   },
   "outputs": [
    {
     "data": {
      "text/plain": [
       "<matplotlib.axes._subplots.AxesSubplot at 0x7fecea413b38>"
      ]
     },
     "execution_count": 139,
     "metadata": {},
     "output_type": "execute_result"
    },
    {
     "data": {
      "image/png": "[encoded data removed]",
      "text/plain": [
       "<Figure size 432x288 with 1 Axes>"
      ]
     },
     "metadata": {
      "needs_background": "light"
     },
     "output_type": "display_data"
    }
   ],
   "source": [
    "df.plot.scatter(x='gap', y='beme')"
   ]
  },
  {
   "cell_type": "markdown",
   "metadata": {},
   "source": [
    "# Control Variables"
   ]
  },
  {
   "cell_type": "markdown",
   "metadata": {},
   "source": [
    "## Size: Natural logarithm of total assets in \\$ Million"
   ]
  },
  {
   "cell_type": "code",
   "execution_count": 140,
   "metadata": {},
   "outputs": [],
   "source": [
    "df['size'] = np.log(df['at'])"
   ]
  },
  {
   "cell_type": "markdown",
   "metadata": {},
   "source": [
    "## Leverage ratio: the ratio of total debt to the market value of equity"
   ]
  },
  {
   "cell_type": "code",
   "execution_count": 141,
   "metadata": {},
   "outputs": [],
   "source": [
    "df['lev'] = (df['dltt'] + df['dlc']) / (df['prcc_f'] * df['csho'])"
   ]
  },
  {
   "cell_type": "markdown",
   "metadata": {},
   "source": [
    "## R&D Intensity\n",
    "research and development expenditures over sales"
   ]
  },
  {
   "cell_type": "code",
   "execution_count": 142,
   "metadata": {},
   "outputs": [],
   "source": [
    "df['rdi'] = df['xrd'] / df['sale']"
   ]
  },
  {
   "cell_type": "markdown",
   "metadata": {},
   "source": [
    "# Advertising Intensity\n",
    "advertising expenses over sales;"
   ]
  },
  {
   "cell_type": "code",
   "execution_count": 143,
   "metadata": {},
   "outputs": [],
   "source": [
    "df['adi'] = df['xad'] / df['sale']"
   ]
  },
  {
   "cell_type": "markdown",
   "metadata": {},
   "source": [
    "# Employee Size"
   ]
  },
  {
   "cell_type": "code",
   "execution_count": 144,
   "metadata": {},
   "outputs": [
    {
     "name": "stderr",
     "output_type": "stream",
     "text": [
      "/Users/shinggg/anaconda3/lib/python3.6/site-packages/pandas/core/series.py:726: RuntimeWarning: divide by zero encountered in log\n",
      "  result = getattr(ufunc, method)(*inputs, **kwargs)\n"
     ]
    }
   ],
   "source": [
    "df['emp_size'] = np.log(df['emp'])"
   ]
  },
  {
   "cell_type": "markdown",
   "metadata": {},
   "source": [
    "# ROA\n",
    "The net income in year t divided by total assets for year t."
   ]
  },
  {
   "cell_type": "code",
   "execution_count": 145,
   "metadata": {},
   "outputs": [],
   "source": [
    "df['roa'] = df['ni']/df['at']"
   ]
  },
  {
   "cell_type": "markdown",
   "metadata": {},
   "source": [
    "# ROE\n",
    "The net income in year t divided by book equity for year t."
   ]
  },
  {
   "cell_type": "code",
   "execution_count": 146,
   "metadata": {},
   "outputs": [],
   "source": [
    "df['roe'] = df['ni']/df['be']"
   ]
  },
  {
   "cell_type": "markdown",
   "metadata": {},
   "source": [
    "# GPR \n",
    "The gross profits in year t divided by book assets for year t."
   ]
  },
  {
   "cell_type": "code",
   "execution_count": 147,
   "metadata": {},
   "outputs": [],
   "source": [
    "df['gpr'] = df['gp']/df['at']"
   ]
  },
  {
   "cell_type": "markdown",
   "metadata": {},
   "source": [
    "# Panel Regressions"
   ]
  },
  {
   "cell_type": "code",
   "execution_count": 148,
   "metadata": {},
   "outputs": [],
   "source": [
    "from linearmodels import PanelOLS"
   ]
  },
  {
   "cell_type": "code",
   "execution_count": 149,
   "metadata": {},
   "outputs": [],
   "source": [
    "df=df.set_index(['gvkey','fyear'])"
   ]
  },
  {
   "cell_type": "code",
   "execution_count": 150,
   "metadata": {
    "scrolled": false
   },
   "outputs": [
    {
     "name": "stderr",
     "output_type": "stream",
     "text": [
      "/Users/shinggg/anaconda3/lib/python3.6/site-packages/linearmodels/panel/data.py:98: FutureWarning: is_categorical is deprecated and will be removed in a future version.  Use is_categorical_dtype instead\n",
      "  if is_categorical(s):\n"
     ]
    },
    {
     "name": "stdout",
     "output_type": "stream",
     "text": [
      "                          PanelOLS Estimation Summary                           \n",
      "================================================================================\n",
      "Dep. Variable:                   beme   R-squared:                        0.0428\n",
      "Estimator:                   PanelOLS   R-squared (Between):             -0.1674\n",
      "No. Observations:              125317   R-squared (Within):               0.0049\n",
      "Date:                Wed, Dec 09 2020   R-squared (Overall):             -0.1079\n",
      "Time:                        19:22:04   Log-likelihood                -9.749e+04\n",
      "Cov. Estimator:             Clustered                                           \n",
      "                                        F-statistic:                      2530.5\n",
      "Entities:                       12038   P-value                           0.0000\n",
      "Avg Obs:                       10.410   Distribution:                F(2,113224)\n",
      "Min Obs:                       1.0000                                           \n",
      "Max Obs:                       54.000   F-statistic (robust):             742.39\n",
      "                                        P-value                           0.0000\n",
      "Time periods:                      54   Distribution:                F(2,113224)\n",
      "Avg Obs:                       2320.7                                           \n",
      "Min Obs:                       22.000                                           \n",
      "Max Obs:                       3457.0                                           \n",
      "                                                                                \n",
      "                             Parameter Estimates                              \n",
      "==============================================================================\n",
      "            Parameter  Std. Err.     T-stat    P-value    Lower CI    Upper CI\n",
      "------------------------------------------------------------------------------\n",
      "Intercept      0.0824     0.0402     2.0501     0.0404      0.0036      0.1612\n",
      "gap            0.3433     0.0090     38.090     0.0000      0.3257      0.3610\n",
      "size           0.0840     0.0068     12.322     0.0000      0.0706      0.0973\n",
      "==============================================================================\n",
      "\n",
      "F-test for Poolability: 12.854\n",
      "P-value: 0.0000\n",
      "Distribution: F(12090,113224)\n",
      "\n",
      "Included effects: Entity, Time\n"
     ]
    }
   ],
   "source": [
    "mod = PanelOLS.from_formula('beme ~ 1 + gap + size + EntityEffects + TimeEffects', data=df)\n",
    "res = mod.fit(cov_type='clustered', cluster_entity=True)\n",
    "print(res)"
   ]
  },
  {
   "cell_type": "code",
   "execution_count": 151,
   "metadata": {},
   "outputs": [
    {
     "name": "stdout",
     "output_type": "stream",
     "text": [
      "                          PanelOLS Estimation Summary                           \n",
      "================================================================================\n",
      "Dep. Variable:                   beme   R-squared:                        0.0428\n",
      "Estimator:                   PanelOLS   R-squared (Between):             -0.1674\n",
      "No. Observations:              125317   R-squared (Within):               0.0049\n",
      "Date:                Wed, Dec 09 2020   R-squared (Overall):             -0.1079\n",
      "Time:                        19:22:07   Log-likelihood                -9.749e+04\n",
      "Cov. Estimator:             Clustered                                           \n",
      "                                        F-statistic:                      2530.5\n",
      "Entities:                       12038   P-value                           0.0000\n",
      "Avg Obs:                       10.410   Distribution:                F(2,113224)\n",
      "Min Obs:                       1.0000                                           \n",
      "Max Obs:                       54.000   F-statistic (robust):             204.76\n",
      "                                        P-value                           0.0000\n",
      "Time periods:                      54   Distribution:                F(2,113224)\n",
      "Avg Obs:                       2320.7                                           \n",
      "Min Obs:                       22.000                                           \n",
      "Max Obs:                       3457.0                                           \n",
      "                                                                                \n",
      "                             Parameter Estimates                              \n",
      "==============================================================================\n",
      "            Parameter  Std. Err.     T-stat    P-value    Lower CI    Upper CI\n",
      "------------------------------------------------------------------------------\n",
      "Intercept      0.0824     0.0640     1.2867     0.1982     -0.0431      0.2080\n",
      "gap            0.3433     0.0177     19.374     0.0000      0.3086      0.3781\n",
      "size           0.0840     0.0108     7.7562     0.0000      0.0627      0.1052\n",
      "==============================================================================\n",
      "\n",
      "F-test for Poolability: 12.854\n",
      "P-value: 0.0000\n",
      "Distribution: F(12090,113224)\n",
      "\n",
      "Included effects: Entity, Time\n"
     ]
    }
   ],
   "source": [
    "mod = PanelOLS.from_formula('beme ~ 1 + gap + size + EntityEffects + TimeEffects', data=df)\n",
    "res = mod.fit(cov_type='clustered', cluster_entity=True, cluster_time=True)\n",
    "print(res)"
   ]
  },
  {
   "cell_type": "code",
   "execution_count": 152,
   "metadata": {
    "scrolled": false
   },
   "outputs": [
    {
     "name": "stderr",
     "output_type": "stream",
     "text": [
      "/Users/shinggg/anaconda3/lib/python3.6/site-packages/linearmodels/utility.py:549: MissingValueWarning: \n",
      "Inputs contain missing values. Dropping rows with missing observations.\n",
      "  warnings.warn(missing_value_warning_msg, MissingValueWarning)\n"
     ]
    },
    {
     "name": "stdout",
     "output_type": "stream",
     "text": [
      "                          PanelOLS Estimation Summary                           \n",
      "================================================================================\n",
      "Dep. Variable:                   beme   R-squared:                        0.0697\n",
      "Estimator:                   PanelOLS   R-squared (Between):             -0.0884\n",
      "No. Observations:               32889   R-squared (Within):               0.0352\n",
      "Date:                Wed, Dec 09 2020   R-squared (Overall):             -0.0384\n",
      "Time:                        19:22:10   Log-likelihood                -2.097e+04\n",
      "Cov. Estimator:             Clustered                                           \n",
      "                                        F-statistic:                      234.56\n",
      "Entities:                        4632   P-value                           0.0000\n",
      "Avg Obs:                       7.1004   Distribution:                 F(9,28196)\n",
      "Min Obs:                       1.0000                                           \n",
      "Max Obs:                       51.000   F-statistic (robust):             20.168\n",
      "                                        P-value                           0.0000\n",
      "Time periods:                      53   Distribution:                 F(9,28196)\n",
      "Avg Obs:                       620.55                                           \n",
      "Min Obs:                       3.0000                                           \n",
      "Max Obs:                       923.00                                           \n",
      "                                                                                \n",
      "                             Parameter Estimates                              \n",
      "==============================================================================\n",
      "            Parameter  Std. Err.     T-stat    P-value    Lower CI    Upper CI\n",
      "------------------------------------------------------------------------------\n",
      "Intercept      0.5339     0.1707     3.1275     0.0018      0.1993      0.8684\n",
      "gap            0.2332     0.0229     10.165     0.0000      0.1882      0.2782\n",
      "size           0.0613     0.0297     2.0616     0.0393      0.0030      0.1196\n",
      "emp_size      -0.0281     0.0290    -0.9689     0.3326     -0.0850      0.0288\n",
      "lev         6.907e-05   3.15e-05     2.1929     0.0283   7.334e-06      0.0001\n",
      "rdi           -0.3836     0.1130    -3.3943     0.0007     -0.6051     -0.1621\n",
      "adi           -0.1021     0.3030    -0.3369     0.7362     -0.6959      0.4918\n",
      "roa           -0.5041     0.0886    -5.6896     0.0000     -0.6778     -0.3305\n",
      "roe            0.0020     0.0010     2.0685     0.0386      0.0001      0.0040\n",
      "gpr           -0.3868     0.0677    -5.7133     0.0000     -0.5195     -0.2541\n",
      "==============================================================================\n",
      "\n",
      "F-test for Poolability: 9.7202\n",
      "P-value: 0.0000\n",
      "Distribution: F(4683,28196)\n",
      "\n",
      "Included effects: Entity, Time\n"
     ]
    }
   ],
   "source": [
    "mod = PanelOLS.from_formula('beme ~ 1 + gap + size + emp_size + lev + rdi + adi + roa + roe + gpr + EntityEffects + TimeEffects', data=df)\n",
    "res = mod.fit(cov_type='clustered', cluster_entity=True, cluster_time=True)\n",
    "print(res)"
   ]
  },
  {
   "cell_type": "code",
   "execution_count": 153,
   "metadata": {
    "scrolled": false
   },
   "outputs": [
    {
     "name": "stdout",
     "output_type": "stream",
     "text": [
      "                          PanelOLS Estimation Summary                           \n",
      "================================================================================\n",
      "Dep. Variable:                   beme   R-squared:                        0.0748\n",
      "Estimator:                   PanelOLS   R-squared (Between):             -0.0717\n",
      "No. Observations:               32889   R-squared (Within):               0.0344\n",
      "Date:                Wed, Dec 09 2020   R-squared (Overall):             -0.0284\n",
      "Time:                        19:22:11   Log-likelihood                -2.088e+04\n",
      "Cov. Estimator:             Clustered                                           \n",
      "                                        F-statistic:                      253.12\n",
      "Entities:                        4632   P-value                           0.0000\n",
      "Avg Obs:                       7.1004   Distribution:                 F(9,28196)\n",
      "Min Obs:                       1.0000                                           \n",
      "Max Obs:                       51.000   F-statistic (robust):             24.349\n",
      "                                        P-value                           0.0000\n",
      "Time periods:                      53   Distribution:                 F(9,28196)\n",
      "Avg Obs:                       620.55                                           \n",
      "Min Obs:                       3.0000                                           \n",
      "Max Obs:                       923.00                                           \n",
      "                                                                                \n",
      "                             Parameter Estimates                              \n",
      "==============================================================================\n",
      "            Parameter  Std. Err.     T-stat    P-value    Lower CI    Upper CI\n",
      "------------------------------------------------------------------------------\n",
      "Intercept      0.4300     0.1712     2.5121     0.0120      0.0945      0.7656\n",
      "TFP           -0.3281     0.0279    -11.775     0.0000     -0.3827     -0.2734\n",
      "size           0.1038     0.0314     3.3060     0.0009      0.0422      0.1653\n",
      "emp_size      -0.0592     0.0305    -1.9364     0.0528     -0.1190      0.0007\n",
      "lev         6.933e-05   3.12e-05     2.2220     0.0263   8.173e-06      0.0001\n",
      "rdi           -0.4934     0.1238    -3.9835     0.0001     -0.7361     -0.2506\n",
      "adi           -0.2783     0.3030    -0.9186     0.3583     -0.8722      0.3155\n",
      "roa           -0.4015     0.0932    -4.3100     0.0000     -0.5841     -0.2189\n",
      "roe            0.0020     0.0010     2.0012     0.0454   4.127e-05      0.0040\n",
      "gpr           -0.3182     0.0640    -4.9681     0.0000     -0.4437     -0.1927\n",
      "==============================================================================\n",
      "\n",
      "F-test for Poolability: 9.7088\n",
      "P-value: 0.0000\n",
      "Distribution: F(4683,28196)\n",
      "\n",
      "Included effects: Entity, Time\n"
     ]
    }
   ],
   "source": [
    "mod = PanelOLS.from_formula('beme ~ 1 + TFP + size + emp_size + lev + rdi + adi + roa + roe + gpr + EntityEffects + TimeEffects', data=df)\n",
    "res = mod.fit(cov_type='clustered', cluster_entity=True, cluster_time=True)\n",
    "print(res)"
   ]
  },
  {
   "cell_type": "markdown",
   "metadata": {},
   "source": [
    "# Sort Portfolios"
   ]
  },
  {
   "cell_type": "markdown",
   "metadata": {},
   "source": [
    "## Overall sort"
   ]
  },
  {
   "cell_type": "code",
   "execution_count": 154,
   "metadata": {},
   "outputs": [],
   "source": [
    "dec_dict=df.gap.quantile([0, 0.1, 0.2, 0.3, 0.4, 0.5, 0.6, 0.7, 0.8, 0.9, 1]).to_dict()\n",
    "#dec_dict=df.gap.quantile([0, 0.2, 0.4, 0.6, 0.8, 1]).to_dict()"
   ]
  },
  {
   "cell_type": "code",
   "execution_count": 155,
   "metadata": {},
   "outputs": [
    {
     "data": {
      "text/plain": [
       "{0.0: 0.0,\n",
       " 0.1: 0.37213224000000006,\n",
       " 0.2: 0.55423492,\n",
       " 0.3: 0.6938805599999988,\n",
       " 0.4: 0.8181438000000001,\n",
       " 0.5: 0.9441631000000001,\n",
       " 0.6: 1.0761085199999962,\n",
       " 0.7: 1.2215794599999987,\n",
       " 0.8: 1.3879006599999955,\n",
       " 0.9: 1.629032419999998,\n",
       " 1.0: 3.268710949999994}"
      ]
     },
     "execution_count": 155,
     "metadata": {},
     "output_type": "execute_result"
    }
   ],
   "source": [
    "dec_dict"
   ]
  },
  {
   "cell_type": "code",
   "execution_count": 156,
   "metadata": {},
   "outputs": [
    {
     "data": {
      "text/plain": [
       "gap     0.191067\n",
       "TFP     0.187991\n",
       "beme    0.613954\n",
       "dtype: float64"
      ]
     },
     "execution_count": 156,
     "metadata": {},
     "output_type": "execute_result"
    }
   ],
   "source": [
    "df.loc[(df.gap >=dec_dict[0.0]) & (df.gap <= dec_dict[0.1]),['gap','TFP','beme']].mean()"
   ]
  },
  {
   "cell_type": "code",
   "execution_count": 157,
   "metadata": {},
   "outputs": [
    {
     "data": {
      "text/plain": [
       "[0.1, 0.2, 0.3, 0.4, 0.5, 0.6, 0.7, 0.8, 0.9, 1.0]"
      ]
     },
     "execution_count": 157,
     "metadata": {},
     "output_type": "execute_result"
    }
   ],
   "source": [
    "list(dec_dict.keys())[1::]"
   ]
  },
  {
   "cell_type": "code",
   "execution_count": 158,
   "metadata": {},
   "outputs": [
    {
     "name": "stdout",
     "output_type": "stream",
     "text": [
      "decile = 0.1\n",
      "0.2\n",
      "0.3\n",
      "0.4\n",
      "0.5\n",
      "0.6\n",
      "0.7\n",
      "0.8\n",
      "0.9\n",
      "1.0\n"
     ]
    }
   ],
   "source": [
    "var_list=['gap','TFP','beme']\n",
    "overall_sort_dict={}\n",
    "overall_sort_gap=[]\n",
    "overall_sort_TFP=[]\n",
    "overall_sort_beme=[]\n",
    "\n",
    "for i in range(0,10):\n",
    "    decile = list(dec_dict.keys())[1::][i]\n",
    "    if i == 0:\n",
    "        print('decile = 0.1')\n",
    "        overall_sort_gap.append(df.loc[(df.gap >=dec_dict[0]) & (df.gap <= dec_dict[decile]),var_list].mean()['gap'])\n",
    "        overall_sort_TFP.append(df.loc[(df.gap >=dec_dict[0]) & (df.gap <= dec_dict[decile]),var_list].mean()['TFP'])\n",
    "        overall_sort_beme.append(df.loc[(df.gap >=dec_dict[0]) & (df.gap <= dec_dict[decile]),var_list].mean()['beme'])\n",
    "    else:\n",
    "        print(decile)\n",
    "        decile0 = list(dec_dict.keys())[1::][i-1]\n",
    "        overall_sort_gap.append(df.loc[(df.gap >dec_dict[decile0]) & (df.gap <= dec_dict[decile]),var_list].mean()['gap'])\n",
    "        overall_sort_TFP.append(df.loc[(df.gap >dec_dict[decile0]) & (df.gap <= dec_dict[decile]),var_list].mean()['TFP'])\n",
    "        overall_sort_beme.append(df.loc[(df.gap >dec_dict[decile0]) & (df.gap <= dec_dict[decile]),var_list].mean()['beme'])\n",
    "        \n",
    "overall_sort_dict['gap']=overall_sort_gap\n",
    "overall_sort_dict['TFP']=overall_sort_TFP\n",
    "overall_sort_dict['beme']=overall_sort_beme"
   ]
  },
  {
   "cell_type": "code",
   "execution_count": 159,
   "metadata": {},
   "outputs": [
    {
     "data": {
      "text/plain": [
       "{'gap': [0.191067026819342,\n",
       "  0.46908945161985177,\n",
       "  0.6258764103742701,\n",
       "  0.7568012578598768,\n",
       "  0.8813961273459869,\n",
       "  1.0092498750913752,\n",
       "  1.1472490933929067,\n",
       "  1.3021962830420541,\n",
       "  1.4959747176109113,\n",
       "  2.0407184042930098],\n",
       " 'TFP': [0.18799060576523943,\n",
       "  -0.07390185434088697,\n",
       "  -0.1456036257441537,\n",
       "  -0.20550261583147128,\n",
       "  -0.2425805965368655,\n",
       "  -0.28507034680153337,\n",
       "  -0.3270691418528571,\n",
       "  -0.4096317082994194,\n",
       "  -0.5530721702122553,\n",
       "  -1.0825396928503075],\n",
       " 'beme': [0.6139536201465465,\n",
       "  0.7747899634415223,\n",
       "  0.8631695953380722,\n",
       "  0.9105441850116606,\n",
       "  0.9344377861670359,\n",
       "  0.9363070668486558,\n",
       "  0.9108127233816726,\n",
       "  0.9334991727433851,\n",
       "  0.9948074150963152,\n",
       "  1.000376438228021]}"
      ]
     },
     "execution_count": 159,
     "metadata": {},
     "output_type": "execute_result"
    }
   ],
   "source": [
    "overall_sort_dict"
   ]
  },
  {
   "cell_type": "code",
   "execution_count": 160,
   "metadata": {},
   "outputs": [],
   "source": [
    "overall_sort_df=pd.DataFrame(overall_sort_dict)"
   ]
  },
  {
   "cell_type": "code",
   "execution_count": 161,
   "metadata": {},
   "outputs": [
    {
     "data": {
      "text/plain": [
       "<matplotlib.axes._subplots.AxesSubplot at 0x7fe8a1d19358>"
      ]
     },
     "execution_count": 161,
     "metadata": {},
     "output_type": "execute_result"
    },
    {
     "data": {
      "image/png": "[encoded data removed]",
      "text/plain": [
       "<Figure size 432x288 with 1 Axes>"
      ]
     },
     "metadata": {
      "needs_background": "light"
     },
     "output_type": "display_data"
    }
   ],
   "source": [
    "overall_sort_df.plot()"
   ]
  },
  {
   "cell_type": "code",
   "execution_count": 162,
   "metadata": {},
   "outputs": [
    {
     "data": {
      "text/plain": [
       "gap     1.849651\n",
       "TFP    -1.270530\n",
       "beme    0.386423\n",
       "dtype: float64"
      ]
     },
     "execution_count": 162,
     "metadata": {},
     "output_type": "execute_result"
    }
   ],
   "source": [
    "overall_sort_df.loc[9]-overall_sort_df.loc[0]"
   ]
  },
  {
   "cell_type": "markdown",
   "metadata": {},
   "source": [
    "## Sort within year then average across year"
   ]
  },
  {
   "cell_type": "code",
   "execution_count": 163,
   "metadata": {},
   "outputs": [],
   "source": [
    "df.reset_index(inplace=True)"
   ]
  },
  {
   "cell_type": "code",
   "execution_count": 164,
   "metadata": {},
   "outputs": [],
   "source": [
    "dec_year_dict=df[df.fyear==1987].gap.quantile([0, 0.1, 0.2, 0.3, 0.4, 0.5, 0.6, 0.7, 0.8, 0.9, 1]).to_dict()"
   ]
  },
  {
   "cell_type": "code",
   "execution_count": 165,
   "metadata": {},
   "outputs": [
    {
     "data": {
      "text/plain": [
       "{0.0: 0.0,\n",
       " 0.1: 0.3682740799999994,\n",
       " 0.2: 0.5399441199999999,\n",
       " 0.3: 0.6708237799999982,\n",
       " 0.4: 0.7827724,\n",
       " 0.5: 0.9072957499999972,\n",
       " 0.6: 1.02376706,\n",
       " 0.7: 1.1587837199999982,\n",
       " 0.8: 1.3156951599999955,\n",
       " 0.9: 1.5474295699999996,\n",
       " 1.0: 3.268710949999994}"
      ]
     },
     "execution_count": 165,
     "metadata": {},
     "output_type": "execute_result"
    }
   ],
   "source": [
    "dec_year_dict"
   ]
  },
  {
   "cell_type": "code",
   "execution_count": 166,
   "metadata": {},
   "outputs": [
    {
     "data": {
      "text/plain": [
       "gap     0.460534\n",
       "TFP    -0.106371\n",
       "beme    0.801264\n",
       "dtype: float64"
      ]
     },
     "execution_count": 166,
     "metadata": {},
     "output_type": "execute_result"
    }
   ],
   "source": [
    "df[df.fyear==1987].loc[(df[df.fyear==1987].gap >dec_year_dict[0.1]) & (df[df.fyear==1987].gap <= dec_year_dict[0.2]), ['gap','TFP','beme']].mean()"
   ]
  },
  {
   "cell_type": "code",
   "execution_count": 167,
   "metadata": {},
   "outputs": [
    {
     "data": {
      "text/plain": [
       "[0.1, 0.2, 0.3, 0.4, 0.5, 0.6, 0.7, 0.8, 0.9, 1.0]"
      ]
     },
     "execution_count": 167,
     "metadata": {},
     "output_type": "execute_result"
    }
   ],
   "source": [
    "list(dec_year_dict.keys())[1::]"
   ]
  },
  {
   "cell_type": "code",
   "execution_count": 168,
   "metadata": {},
   "outputs": [
    {
     "data": {
      "text/plain": [
       "54"
      ]
     },
     "execution_count": 168,
     "metadata": {},
     "output_type": "execute_result"
    }
   ],
   "source": [
    "len(set(df.fyear))"
   ]
  },
  {
   "cell_type": "code",
   "execution_count": 169,
   "metadata": {},
   "outputs": [
    {
     "name": "stdout",
     "output_type": "stream",
     "text": [
      "1963\n",
      "1964\n",
      "1965\n",
      "1966\n",
      "1967\n",
      "1968\n",
      "1969\n",
      "1970\n",
      "1971\n",
      "1972\n",
      "1973\n",
      "1974\n",
      "1975\n",
      "1976\n",
      "1977\n",
      "1978\n",
      "1979\n",
      "1980\n",
      "1981\n",
      "1982\n",
      "1983\n",
      "1984\n",
      "1985\n",
      "1986\n",
      "1987\n",
      "1988\n",
      "1989\n",
      "1990\n",
      "1991\n",
      "1992\n",
      "1993\n",
      "1994\n",
      "1995\n",
      "1996\n",
      "1997\n",
      "1998\n",
      "1999\n",
      "2000\n",
      "2001\n",
      "2002\n",
      "2003\n",
      "2004\n",
      "2005\n",
      "2006\n",
      "2007\n",
      "2008\n",
      "2009\n",
      "2010\n",
      "2011\n",
      "2012\n",
      "2013\n",
      "2014\n",
      "2015\n",
      "2016\n"
     ]
    }
   ],
   "source": [
    "var_list=['gap','TFP','beme']\n",
    "for year in set(df.fyear):\n",
    "    overall_sort_dict={}\n",
    "    overall_sort_gap=[]\n",
    "    overall_sort_TFP=[]\n",
    "    overall_sort_beme=[]\n",
    "    dec_year_dict=df[df.fyear==year].gap.quantile([0, 0.1, 0.2, 0.3, 0.4, 0.5, 0.6, 0.7, 0.8, 0.9, 1]).to_dict()\n",
    "    print(year)\n",
    "\n",
    "    for i in range(0,10):\n",
    "        decile = list(dec_year_dict.keys())[1::][i]\n",
    "        if i == 0:\n",
    "            #print('decile = 0.1')\n",
    "            overall_sort_gap.append(df[df.fyear==year].loc[(df[df.fyear==year].gap >=dec_year_dict[0]) & (df[df.fyear==year].gap <= dec_year_dict[decile]), var_list].mean()['gap'])\n",
    "            overall_sort_TFP.append(df[df.fyear==year].loc[(df[df.fyear==year].gap >=dec_year_dict[0]) & (df[df.fyear==year].gap <= dec_year_dict[decile]), var_list].mean()['TFP'])\n",
    "            overall_sort_beme.append(df[df.fyear==year].loc[(df[df.fyear==year].gap >=dec_year_dict[0]) & (df[df.fyear==year].gap <= dec_year_dict[decile]), var_list].mean()['beme'])\n",
    "        else:\n",
    "            #print(decile)\n",
    "            decile0 = list(dec_year_dict.keys())[1::][i-1]\n",
    "            overall_sort_gap.append(df[df.fyear==year].loc[(df[df.fyear==year].gap >dec_year_dict[decile0]) & (df[df.fyear==year].gap <= dec_year_dict[decile]), var_list].mean()['gap'])\n",
    "            overall_sort_TFP.append(df[df.fyear==year].loc[(df[df.fyear==year].gap >dec_year_dict[decile0]) & (df[df.fyear==year].gap <= dec_year_dict[decile]), var_list].mean()['TFP'])\n",
    "            overall_sort_beme.append(df[df.fyear==year].loc[(df[df.fyear==year].gap >dec_year_dict[decile0]) & (df[df.fyear==year].gap <= dec_year_dict[decile]), var_list].mean()['beme'])\n",
    "\n",
    "    overall_sort_dict['gap']=overall_sort_gap\n",
    "    overall_sort_dict['TFP']=overall_sort_TFP\n",
    "    overall_sort_dict['beme']=overall_sort_beme\n",
    "\n",
    "    if year==1987:\n",
    "        overall_sort_df=pd.DataFrame(overall_sort_dict)\n",
    "    else:\n",
    "        overall_sort_df+=pd.DataFrame(overall_sort_dict)\n",
    "\n",
    "overall_sort_df=overall_sort_df/len(set(df.fyear))"
   ]
  },
  {
   "cell_type": "code",
   "execution_count": 170,
   "metadata": {},
   "outputs": [
    {
     "data": {
      "text/plain": [
       "<matplotlib.axes._subplots.AxesSubplot at 0x7fecba412a20>"
      ]
     },
     "execution_count": 170,
     "metadata": {},
     "output_type": "execute_result"
    },
    {
     "data": {
      "image/png": "[encoded data removed]",
      "text/plain": [
       "<Figure size 432x288 with 1 Axes>"
      ]
     },
     "metadata": {
      "needs_background": "light"
     },
     "output_type": "display_data"
    }
   ],
   "source": [
    "overall_sort_df.plot()"
   ]
  },
  {
   "cell_type": "code",
   "execution_count": 171,
   "metadata": {},
   "outputs": [
    {
     "data": {
      "text/html": [
       "<div>\n",
       "<style scoped>\n",
       "    .dataframe tbody tr th:only-of-type {\n",
       "        vertical-align: middle;\n",
       "    }\n",
       "\n",
       "    .dataframe tbody tr th {\n",
       "        vertical-align: top;\n",
       "    }\n",
       "\n",
       "    .dataframe thead th {\n",
       "        text-align: right;\n",
       "    }\n",
       "</style>\n",
       "<table border=\"1\" class=\"dataframe\">\n",
       "  <thead>\n",
       "    <tr style=\"text-align: right;\">\n",
       "      <th></th>\n",
       "      <th>gap</th>\n",
       "      <th>TFP</th>\n",
       "      <th>beme</th>\n",
       "    </tr>\n",
       "  </thead>\n",
       "  <tbody>\n",
       "    <tr>\n",
       "      <th>0</th>\n",
       "      <td>0.128160</td>\n",
       "      <td>0.153241</td>\n",
       "      <td>0.291415</td>\n",
       "    </tr>\n",
       "    <tr>\n",
       "      <th>1</th>\n",
       "      <td>0.312551</td>\n",
       "      <td>-0.009000</td>\n",
       "      <td>0.347163</td>\n",
       "    </tr>\n",
       "    <tr>\n",
       "      <th>2</th>\n",
       "      <td>0.412622</td>\n",
       "      <td>-0.064593</td>\n",
       "      <td>0.359048</td>\n",
       "    </tr>\n",
       "    <tr>\n",
       "      <th>3</th>\n",
       "      <td>0.492246</td>\n",
       "      <td>-0.105188</td>\n",
       "      <td>0.391262</td>\n",
       "    </tr>\n",
       "    <tr>\n",
       "      <th>4</th>\n",
       "      <td>0.562995</td>\n",
       "      <td>-0.133506</td>\n",
       "      <td>0.396016</td>\n",
       "    </tr>\n",
       "    <tr>\n",
       "      <th>5</th>\n",
       "      <td>0.632828</td>\n",
       "      <td>-0.167218</td>\n",
       "      <td>0.413124</td>\n",
       "    </tr>\n",
       "    <tr>\n",
       "      <th>6</th>\n",
       "      <td>0.704758</td>\n",
       "      <td>-0.209325</td>\n",
       "      <td>0.430548</td>\n",
       "    </tr>\n",
       "    <tr>\n",
       "      <th>7</th>\n",
       "      <td>0.782660</td>\n",
       "      <td>-0.264815</td>\n",
       "      <td>0.472843</td>\n",
       "    </tr>\n",
       "    <tr>\n",
       "      <th>8</th>\n",
       "      <td>0.889876</td>\n",
       "      <td>-0.357215</td>\n",
       "      <td>0.523313</td>\n",
       "    </tr>\n",
       "    <tr>\n",
       "      <th>9</th>\n",
       "      <td>1.205630</td>\n",
       "      <td>-0.669463</td>\n",
       "      <td>0.523611</td>\n",
       "    </tr>\n",
       "  </tbody>\n",
       "</table>\n",
       "</div>"
      ],
      "text/plain": [
       "        gap       TFP      beme\n",
       "0  0.128160  0.153241  0.291415\n",
       "1  0.312551 -0.009000  0.347163\n",
       "2  0.412622 -0.064593  0.359048\n",
       "3  0.492246 -0.105188  0.391262\n",
       "4  0.562995 -0.133506  0.396016\n",
       "5  0.632828 -0.167218  0.413124\n",
       "6  0.704758 -0.209325  0.430548\n",
       "7  0.782660 -0.264815  0.472843\n",
       "8  0.889876 -0.357215  0.523313\n",
       "9  1.205630 -0.669463  0.523611"
      ]
     },
     "execution_count": 171,
     "metadata": {},
     "output_type": "execute_result"
    }
   ],
   "source": [
    "overall_sort_df"
   ]
  },
  {
   "cell_type": "code",
   "execution_count": 172,
   "metadata": {},
   "outputs": [
    {
     "data": {
      "text/html": [
       "<div>\n",
       "<style scoped>\n",
       "    .dataframe tbody tr th:only-of-type {\n",
       "        vertical-align: middle;\n",
       "    }\n",
       "\n",
       "    .dataframe tbody tr th {\n",
       "        vertical-align: top;\n",
       "    }\n",
       "\n",
       "    .dataframe thead th {\n",
       "        text-align: right;\n",
       "    }\n",
       "</style>\n",
       "<table border=\"1\" class=\"dataframe\">\n",
       "  <thead>\n",
       "    <tr style=\"text-align: right;\">\n",
       "      <th></th>\n",
       "      <th>gap</th>\n",
       "      <th>TFP</th>\n",
       "      <th>beme</th>\n",
       "    </tr>\n",
       "  </thead>\n",
       "  <tbody>\n",
       "    <tr>\n",
       "      <th>gap</th>\n",
       "      <td>1.000000</td>\n",
       "      <td>-0.987269</td>\n",
       "      <td>0.965493</td>\n",
       "    </tr>\n",
       "    <tr>\n",
       "      <th>TFP</th>\n",
       "      <td>-0.987269</td>\n",
       "      <td>1.000000</td>\n",
       "      <td>-0.931252</td>\n",
       "    </tr>\n",
       "    <tr>\n",
       "      <th>beme</th>\n",
       "      <td>0.965493</td>\n",
       "      <td>-0.931252</td>\n",
       "      <td>1.000000</td>\n",
       "    </tr>\n",
       "  </tbody>\n",
       "</table>\n",
       "</div>"
      ],
      "text/plain": [
       "           gap       TFP      beme\n",
       "gap   1.000000 -0.987269  0.965493\n",
       "TFP  -0.987269  1.000000 -0.931252\n",
       "beme  0.965493 -0.931252  1.000000"
      ]
     },
     "execution_count": 172,
     "metadata": {},
     "output_type": "execute_result"
    }
   ],
   "source": [
    "overall_sort_df.corr()"
   ]
  },
  {
   "cell_type": "code",
   "execution_count": 173,
   "metadata": {},
   "outputs": [
    {
     "data": {
      "text/plain": [
       "<matplotlib.axes._subplots.AxesSubplot at 0x7fecba711c50>"
      ]
     },
     "execution_count": 173,
     "metadata": {},
     "output_type": "execute_result"
    },
    {
     "data": {
      "image/png": "[encoded data removed]",
      "text/plain": [
       "<Figure size 432x288 with 1 Axes>"
      ]
     },
     "metadata": {
      "needs_background": "light"
     },
     "output_type": "display_data"
    }
   ],
   "source": [
    "overall_sort_df.plot.line(y='beme',x='gap')"
   ]
  },
  {
   "cell_type": "code",
   "execution_count": 174,
   "metadata": {},
   "outputs": [],
   "source": [
    "var_list_keep = ['gvkey', 'fyear', 'ffi48', 'sic', 'beme', 'TFP', 'gap', 'size', 'emp_size', 'lev', 'rdi', 'adi', 'roa', 'roe', 'gpr', 'age']"
   ]
  },
  {
   "cell_type": "code",
   "execution_count": 175,
   "metadata": {},
   "outputs": [],
   "source": [
    "df2 = df[var_list_keep]"
   ]
  },
  {
   "cell_type": "code",
   "execution_count": 176,
   "metadata": {},
   "outputs": [],
   "source": [
    "df2.to_csv('../data/TFP_Compustat_ff48_keep.csv', index=False)"
   ]
  }
 ],
 "metadata": {
  "kernelspec": {
   "display_name": "Python 3",
   "language": "python",
   "name": "python3"
  },
  "language_info": {
   "codemirror_mode": {
    "name": "ipython",
    "version": 3
   },
   "file_extension": ".py",
   "mimetype": "text/x-python",
   "name": "python",
   "nbconvert_exporter": "python",
   "pygments_lexer": "ipython3",
   "version": "3.6.10"
  }
 },
 "nbformat": 4,
 "nbformat_minor": 4
}
