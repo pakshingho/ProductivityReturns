{
 "cells": [
  {
   "cell_type": "markdown",
   "metadata": {},
   "source": [
    "# Total Factor of Productivity (TFP)"
   ]
  },
  {
   "cell_type": "code",
   "execution_count": 31,
   "metadata": {
    "scrolled": true
   },
   "outputs": [
    {
     "name": "stdout",
     "output_type": "stream",
     "text": [
      "Enter your WRDS username [shinggg]:shinggg\n",
      "Enter your password:········\n",
      "WRDS recommends setting up a .pgpass file.\n",
      "You can find more info here:\n",
      "https://www.postgresql.org/docs/9.5/static/libpq-pgpass.html.\n",
      "Loading library list...\n",
      "Done\n"
     ]
    }
   ],
   "source": [
    "import pandas as pd\n",
    "import numpy as np\n",
    "import matplotlib.pyplot as plt\n",
    "import wrds\n",
    "db = wrds.Connection()"
   ]
  },
  {
   "cell_type": "code",
   "execution_count": 86,
   "metadata": {},
   "outputs": [],
   "source": [
    "dt = pd.read_csv('../data/TFPData_updated_ImrohorogluTuzel.csv')"
   ]
  },
  {
   "cell_type": "code",
   "execution_count": 38,
   "metadata": {},
   "outputs": [],
   "source": [
    "comp = db.raw_sql(\"\"\"\n",
    "                    select gvkey, tic, conm, datadate, fyear, sich, prcc_f, csho,\n",
    "                    at, aqc, ppegt, ppent, emp, capx, capxv, sale, cogs, xad, xrd, xsga,\n",
    "                    pstkl, txditc,\n",
    "                    pstkrv, seq, pstk, mkvalt\n",
    "                    from comp.funda\n",
    "                    where \n",
    "                    (sale > 0 or at > 0)\n",
    "                    and indfmt='INDL'\n",
    "                    and datafmt='STD'\n",
    "                    and popsrc='D'\n",
    "                    and consol='C'\n",
    "                    and curcd='USD'\n",
    "                    and datadate >= '1963-01-01'\n",
    "                    and fic='USA'\n",
    "                    and final='Y'\n",
    "                    \"\"\")"
   ]
  },
  {
   "cell_type": "code",
   "execution_count": 4,
   "metadata": {},
   "outputs": [
    {
     "data": {
      "text/plain": [
       "(136523, 3)"
      ]
     },
     "execution_count": 4,
     "metadata": {},
     "output_type": "execute_result"
    }
   ],
   "source": [
    "dt.shape"
   ]
  },
  {
   "cell_type": "code",
   "execution_count": 104,
   "metadata": {},
   "outputs": [
    {
     "data": {
      "text/plain": [
       "(354814, 29)"
      ]
     },
     "execution_count": 104,
     "metadata": {},
     "output_type": "execute_result"
    }
   ],
   "source": [
    "comp.shape"
   ]
  },
  {
   "cell_type": "code",
   "execution_count": 5,
   "metadata": {},
   "outputs": [
    {
     "data": {
      "text/html": [
       "<div>\n",
       "<style scoped>\n",
       "    .dataframe tbody tr th:only-of-type {\n",
       "        vertical-align: middle;\n",
       "    }\n",
       "\n",
       "    .dataframe tbody tr th {\n",
       "        vertical-align: top;\n",
       "    }\n",
       "\n",
       "    .dataframe thead th {\n",
       "        text-align: right;\n",
       "    }\n",
       "</style>\n",
       "<table border=\"1\" class=\"dataframe\">\n",
       "  <thead>\n",
       "    <tr style=\"text-align: right;\">\n",
       "      <th></th>\n",
       "      <th>gvkey</th>\n",
       "      <th>fyear</th>\n",
       "      <th>TFP</th>\n",
       "    </tr>\n",
       "  </thead>\n",
       "  <tbody>\n",
       "    <tr>\n",
       "      <th>0</th>\n",
       "      <td>1000</td>\n",
       "      <td>1970</td>\n",
       "      <td>-0.142948</td>\n",
       "    </tr>\n",
       "    <tr>\n",
       "      <th>1</th>\n",
       "      <td>1000</td>\n",
       "      <td>1971</td>\n",
       "      <td>-0.447827</td>\n",
       "    </tr>\n",
       "    <tr>\n",
       "      <th>2</th>\n",
       "      <td>1000</td>\n",
       "      <td>1972</td>\n",
       "      <td>-0.270695</td>\n",
       "    </tr>\n",
       "    <tr>\n",
       "      <th>3</th>\n",
       "      <td>1000</td>\n",
       "      <td>1973</td>\n",
       "      <td>-0.242724</td>\n",
       "    </tr>\n",
       "    <tr>\n",
       "      <th>4</th>\n",
       "      <td>1000</td>\n",
       "      <td>1974</td>\n",
       "      <td>-0.296757</td>\n",
       "    </tr>\n",
       "  </tbody>\n",
       "</table>\n",
       "</div>"
      ],
      "text/plain": [
       "   gvkey  fyear       TFP\n",
       "0   1000   1970 -0.142948\n",
       "1   1000   1971 -0.447827\n",
       "2   1000   1972 -0.270695\n",
       "3   1000   1973 -0.242724\n",
       "4   1000   1974 -0.296757"
      ]
     },
     "execution_count": 5,
     "metadata": {},
     "output_type": "execute_result"
    }
   ],
   "source": [
    "dt.head()"
   ]
  },
  {
   "cell_type": "code",
   "execution_count": 9,
   "metadata": {},
   "outputs": [
    {
     "data": {
      "text/plain": [
       "count    136523.000000\n",
       "mean         -0.323590\n",
       "std           0.438831\n",
       "min          -5.530810\n",
       "25%          -0.507897\n",
       "50%          -0.304374\n",
       "75%          -0.111074\n",
       "max           3.360018\n",
       "Name: TFP, dtype: float64"
      ]
     },
     "execution_count": 9,
     "metadata": {},
     "output_type": "execute_result"
    }
   ],
   "source": [
    "dt.TFP.describe()"
   ]
  },
  {
   "cell_type": "code",
   "execution_count": 16,
   "metadata": {},
   "outputs": [
    {
     "data": {
      "text/plain": [
       "<matplotlib.axes._subplots.AxesSubplot at 0x7fc3e5f7c630>"
      ]
     },
     "execution_count": 16,
     "metadata": {},
     "output_type": "execute_result"
    },
    {
     "data": {
      "image/png": "[encoded data removed]",
      "text/plain": [
       "<Figure size 432x288 with 1 Axes>"
      ]
     },
     "metadata": {
      "needs_background": "light"
     },
     "output_type": "display_data"
    }
   ],
   "source": [
    "dt.TFP.hist(bins=100)"
   ]
  },
  {
   "cell_type": "code",
   "execution_count": 26,
   "metadata": {},
   "outputs": [],
   "source": [
    "dt_TFP_frontier_yearly = dt.groupby('fyear')[['TFP']].max()\n",
    "dt_TFP_mean_yearly = dt.groupby('fyear')[['TFP']].mean()\n",
    "dt_TFP_median_yearly = dt.groupby('fyear')[['TFP']].median()"
   ]
  },
  {
   "cell_type": "code",
   "execution_count": 28,
   "metadata": {},
   "outputs": [
    {
     "data": {
      "text/plain": [
       "<matplotlib.axes._subplots.AxesSubplot at 0x7fc3e6b7bac8>"
      ]
     },
     "execution_count": 28,
     "metadata": {},
     "output_type": "execute_result"
    },
    {
     "data": {
      "image/png": "[encoded data removed]",
      "text/plain": [
       "<Figure size 432x288 with 1 Axes>"
      ]
     },
     "metadata": {
      "needs_background": "light"
     },
     "output_type": "display_data"
    },
    {
     "data": {
      "image/png": "[encoded data removed]",
      "text/plain": [
       "<Figure size 432x288 with 1 Axes>"
      ]
     },
     "metadata": {
      "needs_background": "light"
     },
     "output_type": "display_data"
    },
    {
     "data": {
      "image/png": "[encoded data removed]",
      "text/plain": [
       "<Figure size 432x288 with 1 Axes>"
      ]
     },
     "metadata": {
      "needs_background": "light"
     },
     "output_type": "display_data"
    }
   ],
   "source": [
    "dt_TFP_frontier_yearly.plot()\n",
    "dt_TFP_mean_yearly.plot()\n",
    "dt_TFP_median_yearly.plot()"
   ]
  },
  {
   "cell_type": "code",
   "execution_count": 39,
   "metadata": {},
   "outputs": [],
   "source": [
    "# create preferrerd stock\n",
    "comp['ps']=np.where(comp['pstkrv'].isnull(), comp['pstkl'], comp['pstkrv'])\n",
    "comp['ps']=np.where(comp['ps'].isnull(),comp['pstk'], comp['ps'])\n",
    "comp['ps']=np.where(comp['ps'].isnull(),0,comp['ps'])\n",
    "\n",
    "comp['txditc']=comp['txditc'].fillna(0)\n",
    "\n",
    "# create book equity\n",
    "comp['be']=comp['seq']+comp['txditc']-comp['ps']\n",
    "comp['be']=np.where(comp['be']>0, comp['be'], np.nan)"
   ]
  },
  {
   "cell_type": "code",
   "execution_count": 40,
   "metadata": {},
   "outputs": [],
   "source": [
    "# create market value\n",
    "comp['me']=comp['prcc_f']*comp['csho']"
   ]
  },
  {
   "cell_type": "code",
   "execution_count": 102,
   "metadata": {
    "scrolled": true
   },
   "outputs": [
    {
     "data": {
      "text/html": [
       "<div>\n",
       "<style scoped>\n",
       "    .dataframe tbody tr th:only-of-type {\n",
       "        vertical-align: middle;\n",
       "    }\n",
       "\n",
       "    .dataframe tbody tr th {\n",
       "        vertical-align: top;\n",
       "    }\n",
       "\n",
       "    .dataframe thead th {\n",
       "        text-align: right;\n",
       "    }\n",
       "</style>\n",
       "<table border=\"1\" class=\"dataframe\">\n",
       "  <thead>\n",
       "    <tr style=\"text-align: right;\">\n",
       "      <th></th>\n",
       "      <th>fyear</th>\n",
       "      <th>mkvalt</th>\n",
       "      <th>me</th>\n",
       "      <th>sich</th>\n",
       "    </tr>\n",
       "  </thead>\n",
       "  <tbody>\n",
       "    <tr>\n",
       "      <th>188925</th>\n",
       "      <td>1985.0</td>\n",
       "      <td>NaN</td>\n",
       "      <td>NaN</td>\n",
       "      <td>NaN</td>\n",
       "    </tr>\n",
       "    <tr>\n",
       "      <th>188926</th>\n",
       "      <td>1986.0</td>\n",
       "      <td>NaN</td>\n",
       "      <td>7.847394e+02</td>\n",
       "      <td>NaN</td>\n",
       "    </tr>\n",
       "    <tr>\n",
       "      <th>188927</th>\n",
       "      <td>1987.0</td>\n",
       "      <td>NaN</td>\n",
       "      <td>2.688411e+03</td>\n",
       "      <td>7372.0</td>\n",
       "    </tr>\n",
       "    <tr>\n",
       "      <th>188928</th>\n",
       "      <td>1988.0</td>\n",
       "      <td>NaN</td>\n",
       "      <td>3.595418e+03</td>\n",
       "      <td>7372.0</td>\n",
       "    </tr>\n",
       "    <tr>\n",
       "      <th>188929</th>\n",
       "      <td>1989.0</td>\n",
       "      <td>NaN</td>\n",
       "      <td>2.893054e+03</td>\n",
       "      <td>7372.0</td>\n",
       "    </tr>\n",
       "    <tr>\n",
       "      <th>188930</th>\n",
       "      <td>1990.0</td>\n",
       "      <td>NaN</td>\n",
       "      <td>8.641114e+03</td>\n",
       "      <td>7372.0</td>\n",
       "    </tr>\n",
       "    <tr>\n",
       "      <th>188931</th>\n",
       "      <td>1991.0</td>\n",
       "      <td>NaN</td>\n",
       "      <td>1.186969e+04</td>\n",
       "      <td>7372.0</td>\n",
       "    </tr>\n",
       "    <tr>\n",
       "      <th>188932</th>\n",
       "      <td>1992.0</td>\n",
       "      <td>NaN</td>\n",
       "      <td>1.904973e+04</td>\n",
       "      <td>7372.0</td>\n",
       "    </tr>\n",
       "    <tr>\n",
       "      <th>188933</th>\n",
       "      <td>1993.0</td>\n",
       "      <td>NaN</td>\n",
       "      <td>2.481600e+04</td>\n",
       "      <td>7372.0</td>\n",
       "    </tr>\n",
       "    <tr>\n",
       "      <th>188934</th>\n",
       "      <td>1994.0</td>\n",
       "      <td>NaN</td>\n",
       "      <td>2.999412e+04</td>\n",
       "      <td>7372.0</td>\n",
       "    </tr>\n",
       "    <tr>\n",
       "      <th>188935</th>\n",
       "      <td>1995.0</td>\n",
       "      <td>NaN</td>\n",
       "      <td>5.314050e+04</td>\n",
       "      <td>7372.0</td>\n",
       "    </tr>\n",
       "    <tr>\n",
       "      <th>188936</th>\n",
       "      <td>1996.0</td>\n",
       "      <td>NaN</td>\n",
       "      <td>7.171462e+04</td>\n",
       "      <td>7372.0</td>\n",
       "    </tr>\n",
       "    <tr>\n",
       "      <th>188938</th>\n",
       "      <td>1997.0</td>\n",
       "      <td>NaN</td>\n",
       "      <td>1.521555e+05</td>\n",
       "      <td>7372.0</td>\n",
       "    </tr>\n",
       "    <tr>\n",
       "      <th>188939</th>\n",
       "      <td>1998.0</td>\n",
       "      <td>2.676862e+05</td>\n",
       "      <td>2.676862e+05</td>\n",
       "      <td>7372.0</td>\n",
       "    </tr>\n",
       "    <tr>\n",
       "      <th>188940</th>\n",
       "      <td>1999.0</td>\n",
       "      <td>4.607679e+05</td>\n",
       "      <td>4.607679e+05</td>\n",
       "      <td>7372.0</td>\n",
       "    </tr>\n",
       "    <tr>\n",
       "      <th>188941</th>\n",
       "      <td>2000.0</td>\n",
       "      <td>4.226400e+05</td>\n",
       "      <td>4.226400e+05</td>\n",
       "      <td>7372.0</td>\n",
       "    </tr>\n",
       "    <tr>\n",
       "      <th>188942</th>\n",
       "      <td>2001.0</td>\n",
       "      <td>3.929590e+05</td>\n",
       "      <td>3.929590e+05</td>\n",
       "      <td>7372.0</td>\n",
       "    </tr>\n",
       "    <tr>\n",
       "      <th>188944</th>\n",
       "      <td>2002.0</td>\n",
       "      <td>2.931373e+05</td>\n",
       "      <td>2.931373e+05</td>\n",
       "      <td>7372.0</td>\n",
       "    </tr>\n",
       "    <tr>\n",
       "      <th>188945</th>\n",
       "      <td>2003.0</td>\n",
       "      <td>2.761684e+05</td>\n",
       "      <td>2.761684e+05</td>\n",
       "      <td>7372.0</td>\n",
       "    </tr>\n",
       "    <tr>\n",
       "      <th>188947</th>\n",
       "      <td>2004.0</td>\n",
       "      <td>3.102187e+05</td>\n",
       "      <td>3.102187e+05</td>\n",
       "      <td>7372.0</td>\n",
       "    </tr>\n",
       "    <tr>\n",
       "      <th>188948</th>\n",
       "      <td>2005.0</td>\n",
       "      <td>2.660364e+05</td>\n",
       "      <td>2.660364e+05</td>\n",
       "      <td>7372.0</td>\n",
       "    </tr>\n",
       "    <tr>\n",
       "      <th>188949</th>\n",
       "      <td>2006.0</td>\n",
       "      <td>2.344446e+05</td>\n",
       "      <td>2.344446e+05</td>\n",
       "      <td>7372.0</td>\n",
       "    </tr>\n",
       "    <tr>\n",
       "      <th>188950</th>\n",
       "      <td>2007.0</td>\n",
       "      <td>2.764286e+05</td>\n",
       "      <td>2.764286e+05</td>\n",
       "      <td>7372.0</td>\n",
       "    </tr>\n",
       "    <tr>\n",
       "      <th>188952</th>\n",
       "      <td>2008.0</td>\n",
       "      <td>2.517440e+05</td>\n",
       "      <td>2.517440e+05</td>\n",
       "      <td>7372.0</td>\n",
       "    </tr>\n",
       "    <tr>\n",
       "      <th>188953</th>\n",
       "      <td>2009.0</td>\n",
       "      <td>2.117432e+05</td>\n",
       "      <td>2.117432e+05</td>\n",
       "      <td>7372.0</td>\n",
       "    </tr>\n",
       "    <tr>\n",
       "      <th>188954</th>\n",
       "      <td>2010.0</td>\n",
       "      <td>1.994507e+05</td>\n",
       "      <td>1.994507e+05</td>\n",
       "      <td>7372.0</td>\n",
       "    </tr>\n",
       "    <tr>\n",
       "      <th>188955</th>\n",
       "      <td>2011.0</td>\n",
       "      <td>2.177760e+05</td>\n",
       "      <td>2.177760e+05</td>\n",
       "      <td>7372.0</td>\n",
       "    </tr>\n",
       "    <tr>\n",
       "      <th>188956</th>\n",
       "      <td>2012.0</td>\n",
       "      <td>2.563748e+05</td>\n",
       "      <td>2.563748e+05</td>\n",
       "      <td>7372.0</td>\n",
       "    </tr>\n",
       "    <tr>\n",
       "      <th>188957</th>\n",
       "      <td>2013.0</td>\n",
       "      <td>2.876908e+05</td>\n",
       "      <td>2.876908e+05</td>\n",
       "      <td>7372.0</td>\n",
       "    </tr>\n",
       "    <tr>\n",
       "      <th>188958</th>\n",
       "      <td>2014.0</td>\n",
       "      <td>3.435663e+05</td>\n",
       "      <td>3.435663e+05</td>\n",
       "      <td>7372.0</td>\n",
       "    </tr>\n",
       "    <tr>\n",
       "      <th>188959</th>\n",
       "      <td>2015.0</td>\n",
       "      <td>3.543920e+05</td>\n",
       "      <td>3.543920e+05</td>\n",
       "      <td>7372.0</td>\n",
       "    </tr>\n",
       "    <tr>\n",
       "      <th>188960</th>\n",
       "      <td>2016.0</td>\n",
       "      <td>3.995354e+05</td>\n",
       "      <td>3.995354e+05</td>\n",
       "      <td>7372.0</td>\n",
       "    </tr>\n",
       "    <tr>\n",
       "      <th>188961</th>\n",
       "      <td>2017.0</td>\n",
       "      <td>5.313124e+05</td>\n",
       "      <td>5.313124e+05</td>\n",
       "      <td>7372.0</td>\n",
       "    </tr>\n",
       "    <tr>\n",
       "      <th>188962</th>\n",
       "      <td>2018.0</td>\n",
       "      <td>7.570290e+05</td>\n",
       "      <td>7.570290e+05</td>\n",
       "      <td>7372.0</td>\n",
       "    </tr>\n",
       "    <tr>\n",
       "      <th>188963</th>\n",
       "      <td>2019.0</td>\n",
       "      <td>1.023856e+06</td>\n",
       "      <td>1.023856e+06</td>\n",
       "      <td>7372.0</td>\n",
       "    </tr>\n",
       "    <tr>\n",
       "      <th>188964</th>\n",
       "      <td>2020.0</td>\n",
       "      <td>1.540774e+06</td>\n",
       "      <td>1.540774e+06</td>\n",
       "      <td>7372.0</td>\n",
       "    </tr>\n",
       "  </tbody>\n",
       "</table>\n",
       "</div>"
      ],
      "text/plain": [
       "         fyear        mkvalt            me    sich\n",
       "188925  1985.0           NaN           NaN     NaN\n",
       "188926  1986.0           NaN  7.847394e+02     NaN\n",
       "188927  1987.0           NaN  2.688411e+03  7372.0\n",
       "188928  1988.0           NaN  3.595418e+03  7372.0\n",
       "188929  1989.0           NaN  2.893054e+03  7372.0\n",
       "188930  1990.0           NaN  8.641114e+03  7372.0\n",
       "188931  1991.0           NaN  1.186969e+04  7372.0\n",
       "188932  1992.0           NaN  1.904973e+04  7372.0\n",
       "188933  1993.0           NaN  2.481600e+04  7372.0\n",
       "188934  1994.0           NaN  2.999412e+04  7372.0\n",
       "188935  1995.0           NaN  5.314050e+04  7372.0\n",
       "188936  1996.0           NaN  7.171462e+04  7372.0\n",
       "188938  1997.0           NaN  1.521555e+05  7372.0\n",
       "188939  1998.0  2.676862e+05  2.676862e+05  7372.0\n",
       "188940  1999.0  4.607679e+05  4.607679e+05  7372.0\n",
       "188941  2000.0  4.226400e+05  4.226400e+05  7372.0\n",
       "188942  2001.0  3.929590e+05  3.929590e+05  7372.0\n",
       "188944  2002.0  2.931373e+05  2.931373e+05  7372.0\n",
       "188945  2003.0  2.761684e+05  2.761684e+05  7372.0\n",
       "188947  2004.0  3.102187e+05  3.102187e+05  7372.0\n",
       "188948  2005.0  2.660364e+05  2.660364e+05  7372.0\n",
       "188949  2006.0  2.344446e+05  2.344446e+05  7372.0\n",
       "188950  2007.0  2.764286e+05  2.764286e+05  7372.0\n",
       "188952  2008.0  2.517440e+05  2.517440e+05  7372.0\n",
       "188953  2009.0  2.117432e+05  2.117432e+05  7372.0\n",
       "188954  2010.0  1.994507e+05  1.994507e+05  7372.0\n",
       "188955  2011.0  2.177760e+05  2.177760e+05  7372.0\n",
       "188956  2012.0  2.563748e+05  2.563748e+05  7372.0\n",
       "188957  2013.0  2.876908e+05  2.876908e+05  7372.0\n",
       "188958  2014.0  3.435663e+05  3.435663e+05  7372.0\n",
       "188959  2015.0  3.543920e+05  3.543920e+05  7372.0\n",
       "188960  2016.0  3.995354e+05  3.995354e+05  7372.0\n",
       "188961  2017.0  5.313124e+05  5.313124e+05  7372.0\n",
       "188962  2018.0  7.570290e+05  7.570290e+05  7372.0\n",
       "188963  2019.0  1.023856e+06  1.023856e+06  7372.0\n",
       "188964  2020.0  1.540774e+06  1.540774e+06  7372.0"
      ]
     },
     "execution_count": 102,
     "metadata": {},
     "output_type": "execute_result"
    }
   ],
   "source": [
    "# compare me and mkvalt\n",
    "comp[comp.tic=='MSFT'][['fyear','mkvalt','me','sich']]"
   ]
  },
  {
   "cell_type": "code",
   "execution_count": 94,
   "metadata": {},
   "outputs": [],
   "source": [
    "comp['gvkey']=comp.gvkey.astype('int')"
   ]
  },
  {
   "cell_type": "code",
   "execution_count": 356,
   "metadata": {},
   "outputs": [],
   "source": [
    "df=pd.merge(dt,comp, on=['gvkey','fyear'])"
   ]
  },
  {
   "cell_type": "code",
   "execution_count": 357,
   "metadata": {},
   "outputs": [
    {
     "data": {
      "text/html": [
       "<div>\n",
       "<style scoped>\n",
       "    .dataframe tbody tr th:only-of-type {\n",
       "        vertical-align: middle;\n",
       "    }\n",
       "\n",
       "    .dataframe tbody tr th {\n",
       "        vertical-align: top;\n",
       "    }\n",
       "\n",
       "    .dataframe thead th {\n",
       "        text-align: right;\n",
       "    }\n",
       "</style>\n",
       "<table border=\"1\" class=\"dataframe\">\n",
       "  <thead>\n",
       "    <tr style=\"text-align: right;\">\n",
       "      <th></th>\n",
       "      <th>gvkey</th>\n",
       "      <th>fyear</th>\n",
       "      <th>TFP</th>\n",
       "      <th>tic</th>\n",
       "      <th>conm</th>\n",
       "      <th>datadate</th>\n",
       "      <th>sich</th>\n",
       "      <th>prcc_f</th>\n",
       "      <th>csho</th>\n",
       "      <th>at</th>\n",
       "      <th>...</th>\n",
       "      <th>xsga</th>\n",
       "      <th>pstkl</th>\n",
       "      <th>txditc</th>\n",
       "      <th>pstkrv</th>\n",
       "      <th>seq</th>\n",
       "      <th>pstk</th>\n",
       "      <th>mkvalt</th>\n",
       "      <th>ps</th>\n",
       "      <th>be</th>\n",
       "      <th>me</th>\n",
       "    </tr>\n",
       "  </thead>\n",
       "  <tbody>\n",
       "    <tr>\n",
       "      <th>0</th>\n",
       "      <td>1000</td>\n",
       "      <td>1970</td>\n",
       "      <td>-0.142948</td>\n",
       "      <td>AE.2</td>\n",
       "      <td>A &amp; E PLASTIK PAK INC</td>\n",
       "      <td>1970-12-31</td>\n",
       "      <td>NaN</td>\n",
       "      <td>10.000</td>\n",
       "      <td>2.446</td>\n",
       "      <td>33.450</td>\n",
       "      <td>...</td>\n",
       "      <td>9.420</td>\n",
       "      <td>0.000</td>\n",
       "      <td>0.000</td>\n",
       "      <td>0.000</td>\n",
       "      <td>10.544</td>\n",
       "      <td>0.000</td>\n",
       "      <td>NaN</td>\n",
       "      <td>0.000</td>\n",
       "      <td>10.544</td>\n",
       "      <td>24.46000</td>\n",
       "    </tr>\n",
       "    <tr>\n",
       "      <th>1</th>\n",
       "      <td>1000</td>\n",
       "      <td>1971</td>\n",
       "      <td>-0.447827</td>\n",
       "      <td>AE.2</td>\n",
       "      <td>A &amp; E PLASTIK PAK INC</td>\n",
       "      <td>1971-12-31</td>\n",
       "      <td>NaN</td>\n",
       "      <td>5.750</td>\n",
       "      <td>2.995</td>\n",
       "      <td>29.330</td>\n",
       "      <td>...</td>\n",
       "      <td>10.548</td>\n",
       "      <td>0.000</td>\n",
       "      <td>0.000</td>\n",
       "      <td>0.000</td>\n",
       "      <td>8.382</td>\n",
       "      <td>0.000</td>\n",
       "      <td>NaN</td>\n",
       "      <td>0.000</td>\n",
       "      <td>8.382</td>\n",
       "      <td>17.22125</td>\n",
       "    </tr>\n",
       "    <tr>\n",
       "      <th>2</th>\n",
       "      <td>1000</td>\n",
       "      <td>1972</td>\n",
       "      <td>-0.270695</td>\n",
       "      <td>AE.2</td>\n",
       "      <td>A &amp; E PLASTIK PAK INC</td>\n",
       "      <td>1972-12-31</td>\n",
       "      <td>NaN</td>\n",
       "      <td>5.125</td>\n",
       "      <td>2.902</td>\n",
       "      <td>19.907</td>\n",
       "      <td>...</td>\n",
       "      <td>7.551</td>\n",
       "      <td>0.000</td>\n",
       "      <td>0.288</td>\n",
       "      <td>0.000</td>\n",
       "      <td>7.021</td>\n",
       "      <td>0.000</td>\n",
       "      <td>NaN</td>\n",
       "      <td>0.000</td>\n",
       "      <td>7.309</td>\n",
       "      <td>14.87275</td>\n",
       "    </tr>\n",
       "    <tr>\n",
       "      <th>3</th>\n",
       "      <td>1000</td>\n",
       "      <td>1973</td>\n",
       "      <td>-0.242724</td>\n",
       "      <td>AE.2</td>\n",
       "      <td>A &amp; E PLASTIK PAK INC</td>\n",
       "      <td>1973-12-31</td>\n",
       "      <td>NaN</td>\n",
       "      <td>1.750</td>\n",
       "      <td>2.840</td>\n",
       "      <td>21.771</td>\n",
       "      <td>...</td>\n",
       "      <td>8.532</td>\n",
       "      <td>0.000</td>\n",
       "      <td>0.231</td>\n",
       "      <td>0.000</td>\n",
       "      <td>8.567</td>\n",
       "      <td>0.000</td>\n",
       "      <td>NaN</td>\n",
       "      <td>0.000</td>\n",
       "      <td>8.798</td>\n",
       "      <td>4.97000</td>\n",
       "    </tr>\n",
       "    <tr>\n",
       "      <th>4</th>\n",
       "      <td>1000</td>\n",
       "      <td>1974</td>\n",
       "      <td>-0.296757</td>\n",
       "      <td>AE.2</td>\n",
       "      <td>A &amp; E PLASTIK PAK INC</td>\n",
       "      <td>1974-12-31</td>\n",
       "      <td>NaN</td>\n",
       "      <td>2.125</td>\n",
       "      <td>2.150</td>\n",
       "      <td>25.638</td>\n",
       "      <td>...</td>\n",
       "      <td>8.859</td>\n",
       "      <td>0.414</td>\n",
       "      <td>0.091</td>\n",
       "      <td>2.069</td>\n",
       "      <td>10.257</td>\n",
       "      <td>0.414</td>\n",
       "      <td>NaN</td>\n",
       "      <td>2.069</td>\n",
       "      <td>8.279</td>\n",
       "      <td>4.56875</td>\n",
       "    </tr>\n",
       "  </tbody>\n",
       "</table>\n",
       "<p>5 rows × 30 columns</p>\n",
       "</div>"
      ],
      "text/plain": [
       "   gvkey  fyear       TFP   tic                   conm    datadate  sich  \\\n",
       "0   1000   1970 -0.142948  AE.2  A & E PLASTIK PAK INC  1970-12-31   NaN   \n",
       "1   1000   1971 -0.447827  AE.2  A & E PLASTIK PAK INC  1971-12-31   NaN   \n",
       "2   1000   1972 -0.270695  AE.2  A & E PLASTIK PAK INC  1972-12-31   NaN   \n",
       "3   1000   1973 -0.242724  AE.2  A & E PLASTIK PAK INC  1973-12-31   NaN   \n",
       "4   1000   1974 -0.296757  AE.2  A & E PLASTIK PAK INC  1974-12-31   NaN   \n",
       "\n",
       "   prcc_f   csho      at  ...    xsga  pstkl  txditc  pstkrv     seq   pstk  \\\n",
       "0  10.000  2.446  33.450  ...   9.420  0.000   0.000   0.000  10.544  0.000   \n",
       "1   5.750  2.995  29.330  ...  10.548  0.000   0.000   0.000   8.382  0.000   \n",
       "2   5.125  2.902  19.907  ...   7.551  0.000   0.288   0.000   7.021  0.000   \n",
       "3   1.750  2.840  21.771  ...   8.532  0.000   0.231   0.000   8.567  0.000   \n",
       "4   2.125  2.150  25.638  ...   8.859  0.414   0.091   2.069  10.257  0.414   \n",
       "\n",
       "   mkvalt     ps      be        me  \n",
       "0     NaN  0.000  10.544  24.46000  \n",
       "1     NaN  0.000   8.382  17.22125  \n",
       "2     NaN  0.000   7.309  14.87275  \n",
       "3     NaN  0.000   8.798   4.97000  \n",
       "4     NaN  2.069   8.279   4.56875  \n",
       "\n",
       "[5 rows x 30 columns]"
      ]
     },
     "execution_count": 357,
     "metadata": {},
     "output_type": "execute_result"
    }
   ],
   "source": [
    "df.head()"
   ]
  },
  {
   "cell_type": "code",
   "execution_count": 358,
   "metadata": {},
   "outputs": [],
   "source": [
    "df=df[df['sich'].notna()]"
   ]
  },
  {
   "cell_type": "code",
   "execution_count": 359,
   "metadata": {},
   "outputs": [
    {
     "data": {
      "text/plain": [
       "(75229, 30)"
      ]
     },
     "execution_count": 359,
     "metadata": {},
     "output_type": "execute_result"
    }
   ],
   "source": [
    "df.shape"
   ]
  },
  {
   "cell_type": "code",
   "execution_count": 360,
   "metadata": {},
   "outputs": [],
   "source": [
    "df= df[~((df.sich >= 4900) & (df.sich < 5000))]\n",
    "df= df[~((df.sich >= 6000) & (df.sich < 7000))]"
   ]
  },
  {
   "cell_type": "code",
   "execution_count": 361,
   "metadata": {},
   "outputs": [
    {
     "data": {
      "text/plain": [
       "(74896, 30)"
      ]
     },
     "execution_count": 361,
     "metadata": {},
     "output_type": "execute_result"
    }
   ],
   "source": [
    "df.shape"
   ]
  },
  {
   "cell_type": "code",
   "execution_count": 362,
   "metadata": {},
   "outputs": [],
   "source": [
    "df=df[(df.aqc <= (0.05 * df['at']))]"
   ]
  },
  {
   "cell_type": "code",
   "execution_count": 363,
   "metadata": {},
   "outputs": [
    {
     "data": {
      "text/plain": [
       "(62117, 30)"
      ]
     },
     "execution_count": 363,
     "metadata": {},
     "output_type": "execute_result"
    }
   ],
   "source": [
    "df.shape"
   ]
  },
  {
   "cell_type": "code",
   "execution_count": 364,
   "metadata": {
    "scrolled": true
   },
   "outputs": [
    {
     "data": {
      "text/html": [
       "<div>\n",
       "<style scoped>\n",
       "    .dataframe tbody tr th:only-of-type {\n",
       "        vertical-align: middle;\n",
       "    }\n",
       "\n",
       "    .dataframe tbody tr th {\n",
       "        vertical-align: top;\n",
       "    }\n",
       "\n",
       "    .dataframe thead th {\n",
       "        text-align: right;\n",
       "    }\n",
       "</style>\n",
       "<table border=\"1\" class=\"dataframe\">\n",
       "  <thead>\n",
       "    <tr style=\"text-align: right;\">\n",
       "      <th></th>\n",
       "      <th></th>\n",
       "      <th>TFP</th>\n",
       "    </tr>\n",
       "    <tr>\n",
       "      <th>fyear</th>\n",
       "      <th>sich</th>\n",
       "      <th></th>\n",
       "    </tr>\n",
       "  </thead>\n",
       "  <tbody>\n",
       "    <tr>\n",
       "      <th>1984</th>\n",
       "      <th>3661.0</th>\n",
       "      <td>-0.234663</td>\n",
       "    </tr>\n",
       "    <tr>\n",
       "      <th>1985</th>\n",
       "      <th>3661.0</th>\n",
       "      <td>-0.273479</td>\n",
       "    </tr>\n",
       "    <tr>\n",
       "      <th>1986</th>\n",
       "      <th>3661.0</th>\n",
       "      <td>-0.276334</td>\n",
       "    </tr>\n",
       "    <tr>\n",
       "      <th rowspan=\"2\" valign=\"top\">1987</th>\n",
       "      <th>100.0</th>\n",
       "      <td>-1.012725</td>\n",
       "    </tr>\n",
       "    <tr>\n",
       "      <th>1040.0</th>\n",
       "      <td>0.549777</td>\n",
       "    </tr>\n",
       "    <tr>\n",
       "      <th>...</th>\n",
       "      <th>...</th>\n",
       "      <td>...</td>\n",
       "    </tr>\n",
       "    <tr>\n",
       "      <th rowspan=\"5\" valign=\"top\">2013</th>\n",
       "      <th>8731.0</th>\n",
       "      <td>0.313157</td>\n",
       "    </tr>\n",
       "    <tr>\n",
       "      <th>8734.0</th>\n",
       "      <td>-0.187932</td>\n",
       "    </tr>\n",
       "    <tr>\n",
       "      <th>8741.0</th>\n",
       "      <td>-0.305392</td>\n",
       "    </tr>\n",
       "    <tr>\n",
       "      <th>8742.0</th>\n",
       "      <td>0.003263</td>\n",
       "    </tr>\n",
       "    <tr>\n",
       "      <th>9997.0</th>\n",
       "      <td>0.372422</td>\n",
       "    </tr>\n",
       "  </tbody>\n",
       "</table>\n",
       "<p>8094 rows × 1 columns</p>\n",
       "</div>"
      ],
      "text/plain": [
       "                   TFP\n",
       "fyear sich            \n",
       "1984  3661.0 -0.234663\n",
       "1985  3661.0 -0.273479\n",
       "1986  3661.0 -0.276334\n",
       "1987  100.0  -1.012725\n",
       "      1040.0  0.549777\n",
       "...                ...\n",
       "2013  8731.0  0.313157\n",
       "      8734.0 -0.187932\n",
       "      8741.0 -0.305392\n",
       "      8742.0  0.003263\n",
       "      9997.0  0.372422\n",
       "\n",
       "[8094 rows x 1 columns]"
      ]
     },
     "execution_count": 364,
     "metadata": {},
     "output_type": "execute_result"
    }
   ],
   "source": [
    "df.groupby(['fyear', 'sich'])[['TFP']].max()"
   ]
  },
  {
   "cell_type": "code",
   "execution_count": 365,
   "metadata": {},
   "outputs": [],
   "source": [
    "df.loc[df.index,'TFP_frontier_fyear_sich'] = df.groupby(['fyear', 'sich'])['TFP'].transform(max)\n",
    "df.loc[df.index,'TFP_mean_fyear_sich'] = df.groupby(['fyear', 'sich'])['TFP'].transform(np.mean)\n",
    "df.loc[df.index,'TFP_median_fyear_sich'] = df.groupby(['fyear', 'sich'])['TFP'].transform(np.median)"
   ]
  },
  {
   "cell_type": "code",
   "execution_count": 366,
   "metadata": {},
   "outputs": [],
   "source": [
    "df.loc[df.index,'gap'] = df['TFP_frontier_fyear_sich'] - df['TFP']"
   ]
  },
  {
   "cell_type": "code",
   "execution_count": 367,
   "metadata": {},
   "outputs": [
    {
     "data": {
      "text/plain": [
       "<matplotlib.axes._subplots.AxesSubplot at 0x7fc3cd2acc18>"
      ]
     },
     "execution_count": 367,
     "metadata": {},
     "output_type": "execute_result"
    },
    {
     "data": {
      "image/png": "[encoded data removed]",
      "text/plain": [
       "<Figure size 432x288 with 1 Axes>"
      ]
     },
     "metadata": {
      "needs_background": "light"
     },
     "output_type": "display_data"
    }
   ],
   "source": [
    "df.gap.hist()"
   ]
  },
  {
   "cell_type": "code",
   "execution_count": 368,
   "metadata": {},
   "outputs": [],
   "source": [
    "df=df[df['be'].notna()]\n",
    "df=df[df['me'].notna()]\n",
    "\n",
    "df=df[df['be']>0]\n",
    "df=df[df['me']>0]"
   ]
  },
  {
   "cell_type": "code",
   "execution_count": 369,
   "metadata": {},
   "outputs": [
    {
     "data": {
      "text/plain": [
       "(54691, 34)"
      ]
     },
     "execution_count": 369,
     "metadata": {},
     "output_type": "execute_result"
    }
   ],
   "source": [
    "df.shape"
   ]
  },
  {
   "cell_type": "code",
   "execution_count": 370,
   "metadata": {},
   "outputs": [],
   "source": [
    "df['beme'] = df['be']/df['me']"
   ]
  },
  {
   "cell_type": "code",
   "execution_count": 371,
   "metadata": {},
   "outputs": [
    {
     "data": {
      "text/plain": [
       "count     54691.000000\n",
       "mean          6.346672\n",
       "std         747.583863\n",
       "min           0.000141\n",
       "25%           0.340502\n",
       "50%           0.583724\n",
       "75%           0.958056\n",
       "max      159169.086392\n",
       "Name: beme, dtype: float64"
      ]
     },
     "execution_count": 371,
     "metadata": {},
     "output_type": "execute_result"
    }
   ],
   "source": [
    "df['beme'].describe()"
   ]
  },
  {
   "cell_type": "code",
   "execution_count": 372,
   "metadata": {},
   "outputs": [
    {
     "data": {
      "text/plain": [
       "<matplotlib.axes._subplots.AxesSubplot at 0x7fc3cd43fcf8>"
      ]
     },
     "execution_count": 372,
     "metadata": {},
     "output_type": "execute_result"
    },
    {
     "data": {
      "image/png": "[encoded data removed]",
      "text/plain": [
       "<Figure size 432x288 with 1 Axes>"
      ]
     },
     "metadata": {
      "needs_background": "light"
     },
     "output_type": "display_data"
    }
   ],
   "source": [
    "df['beme'].hist()"
   ]
  },
  {
   "cell_type": "code",
   "execution_count": 373,
   "metadata": {},
   "outputs": [
    {
     "data": {
      "text/html": [
       "<div>\n",
       "<style scoped>\n",
       "    .dataframe tbody tr th:only-of-type {\n",
       "        vertical-align: middle;\n",
       "    }\n",
       "\n",
       "    .dataframe tbody tr th {\n",
       "        vertical-align: top;\n",
       "    }\n",
       "\n",
       "    .dataframe thead th {\n",
       "        text-align: right;\n",
       "    }\n",
       "</style>\n",
       "<table border=\"1\" class=\"dataframe\">\n",
       "  <thead>\n",
       "    <tr style=\"text-align: right;\">\n",
       "      <th></th>\n",
       "      <th>gap</th>\n",
       "      <th>beme</th>\n",
       "    </tr>\n",
       "  </thead>\n",
       "  <tbody>\n",
       "    <tr>\n",
       "      <th>gap</th>\n",
       "      <td>1.000000</td>\n",
       "      <td>-0.001605</td>\n",
       "    </tr>\n",
       "    <tr>\n",
       "      <th>beme</th>\n",
       "      <td>-0.001605</td>\n",
       "      <td>1.000000</td>\n",
       "    </tr>\n",
       "  </tbody>\n",
       "</table>\n",
       "</div>"
      ],
      "text/plain": [
       "           gap      beme\n",
       "gap   1.000000 -0.001605\n",
       "beme -0.001605  1.000000"
      ]
     },
     "execution_count": 373,
     "metadata": {},
     "output_type": "execute_result"
    }
   ],
   "source": [
    "df[['gap', 'beme']].corr()"
   ]
  },
  {
   "cell_type": "code",
   "execution_count": 374,
   "metadata": {},
   "outputs": [],
   "source": [
    "from scipy.stats.mstats import winsorize"
   ]
  },
  {
   "cell_type": "code",
   "execution_count": 375,
   "metadata": {},
   "outputs": [
    {
     "data": {
      "text/plain": [
       "count     54691.000000\n",
       "mean          6.346672\n",
       "std         747.583863\n",
       "min           0.000141\n",
       "25%           0.340502\n",
       "50%           0.583724\n",
       "75%           0.958056\n",
       "max      159169.086392\n",
       "Name: beme, dtype: float64"
      ]
     },
     "execution_count": 375,
     "metadata": {},
     "output_type": "execute_result"
    }
   ],
   "source": [
    "df['beme'].describe()"
   ]
  },
  {
   "cell_type": "code",
   "execution_count": 376,
   "metadata": {},
   "outputs": [],
   "source": [
    "lr = df['beme'].describe(percentiles=[0.005])['0.5%']"
   ]
  },
  {
   "cell_type": "code",
   "execution_count": 377,
   "metadata": {},
   "outputs": [],
   "source": [
    "up = df['beme'].describe(percentiles=[0.995])['99.5%']"
   ]
  },
  {
   "cell_type": "code",
   "execution_count": 378,
   "metadata": {},
   "outputs": [],
   "source": [
    "df.beme = df.beme.clip(lr, up)"
   ]
  },
  {
   "cell_type": "code",
   "execution_count": 379,
   "metadata": {},
   "outputs": [],
   "source": [
    "#df = df[(df['beme'] >= df['beme'].describe(percentiles=[0.005])['0.5%']) & (df['beme'] <= df['beme'].describe(percentiles=[0.995])['99.5%'])]"
   ]
  },
  {
   "cell_type": "code",
   "execution_count": 380,
   "metadata": {},
   "outputs": [
    {
     "data": {
      "text/plain": [
       "(54691, 35)"
      ]
     },
     "execution_count": 380,
     "metadata": {},
     "output_type": "execute_result"
    }
   ],
   "source": [
    "df.shape"
   ]
  },
  {
   "cell_type": "code",
   "execution_count": 381,
   "metadata": {
    "scrolled": true
   },
   "outputs": [
    {
     "data": {
      "text/plain": [
       "<matplotlib.axes._subplots.AxesSubplot at 0x7fc3cd4f8358>"
      ]
     },
     "execution_count": 381,
     "metadata": {},
     "output_type": "execute_result"
    },
    {
     "data": {
      "image/png": "[encoded data removed]",
      "text/plain": [
       "<Figure size 432x288 with 1 Axes>"
      ]
     },
     "metadata": {
      "needs_background": "light"
     },
     "output_type": "display_data"
    }
   ],
   "source": [
    "df.beme.hist()"
   ]
  },
  {
   "cell_type": "code",
   "execution_count": 382,
   "metadata": {},
   "outputs": [
    {
     "data": {
      "text/html": [
       "<div>\n",
       "<style scoped>\n",
       "    .dataframe tbody tr th:only-of-type {\n",
       "        vertical-align: middle;\n",
       "    }\n",
       "\n",
       "    .dataframe tbody tr th {\n",
       "        vertical-align: top;\n",
       "    }\n",
       "\n",
       "    .dataframe thead th {\n",
       "        text-align: right;\n",
       "    }\n",
       "</style>\n",
       "<table border=\"1\" class=\"dataframe\">\n",
       "  <thead>\n",
       "    <tr style=\"text-align: right;\">\n",
       "      <th></th>\n",
       "      <th>gap</th>\n",
       "      <th>beme</th>\n",
       "    </tr>\n",
       "  </thead>\n",
       "  <tbody>\n",
       "    <tr>\n",
       "      <th>gap</th>\n",
       "      <td>1.000000</td>\n",
       "      <td>0.055633</td>\n",
       "    </tr>\n",
       "    <tr>\n",
       "      <th>beme</th>\n",
       "      <td>0.055633</td>\n",
       "      <td>1.000000</td>\n",
       "    </tr>\n",
       "  </tbody>\n",
       "</table>\n",
       "</div>"
      ],
      "text/plain": [
       "           gap      beme\n",
       "gap   1.000000  0.055633\n",
       "beme  0.055633  1.000000"
      ]
     },
     "execution_count": 382,
     "metadata": {},
     "output_type": "execute_result"
    }
   ],
   "source": [
    "df[['gap', 'beme']].corr()"
   ]
  },
  {
   "cell_type": "code",
   "execution_count": 383,
   "metadata": {
    "scrolled": false
   },
   "outputs": [
    {
     "data": {
      "text/plain": [
       "<matplotlib.axes._subplots.AxesSubplot at 0x7fc3d7d1a1d0>"
      ]
     },
     "execution_count": 383,
     "metadata": {},
     "output_type": "execute_result"
    },
    {
     "data": {
      "image/png": "[encoded data removed]",
      "text/plain": [
       "<Figure size 432x288 with 1 Axes>"
      ]
     },
     "metadata": {
      "needs_background": "light"
     },
     "output_type": "display_data"
    }
   ],
   "source": [
    "df.plot.scatter(x='gap', y='beme')"
   ]
  },
  {
   "cell_type": "markdown",
   "metadata": {},
   "source": [
    "# Panel Regressions"
   ]
  },
  {
   "cell_type": "code",
   "execution_count": 384,
   "metadata": {},
   "outputs": [],
   "source": [
    "from linearmodels import PanelOLS"
   ]
  },
  {
   "cell_type": "code",
   "execution_count": 385,
   "metadata": {},
   "outputs": [],
   "source": [
    "df=df.set_index(['gvkey','fyear'])"
   ]
  },
  {
   "cell_type": "code",
   "execution_count": 393,
   "metadata": {},
   "outputs": [],
   "source": [
    "df['size'] = np.log(df['at'])"
   ]
  },
  {
   "cell_type": "code",
   "execution_count": 394,
   "metadata": {
    "scrolled": true
   },
   "outputs": [
    {
     "name": "stdout",
     "output_type": "stream",
     "text": [
      "                          PanelOLS Estimation Summary                           \n",
      "================================================================================\n",
      "Dep. Variable:                   beme   R-squared:                        0.0190\n",
      "Estimator:                   PanelOLS   R-squared (Between):             -0.0880\n",
      "No. Observations:               54691   R-squared (Within):               0.0218\n",
      "Date:                Tue, Dec 08 2020   R-squared (Overall):             -0.0493\n",
      "Time:                        23:30:18   Log-likelihood                 -4.15e+04\n",
      "Cov. Estimator:        Driscoll-Kraay                                           \n",
      "                                        F-statistic:                      453.27\n",
      "Entities:                        7896   P-value                           0.0000\n",
      "Avg Obs:                       6.9264   Distribution:                 F(2,46764)\n",
      "Min Obs:                       1.0000                                           \n",
      "Max Obs:                       27.000   F-statistic (robust):             143.54\n",
      "                                        P-value                           0.0000\n",
      "Time periods:                      30   Distribution:                 F(2,46764)\n",
      "Avg Obs:                       1823.0                                           \n",
      "Min Obs:                       1.0000                                           \n",
      "Max Obs:                       2440.0                                           \n",
      "                                                                                \n",
      "                             Parameter Estimates                              \n",
      "==============================================================================\n",
      "            Parameter  Std. Err.     T-stat    P-value    Lower CI    Upper CI\n",
      "------------------------------------------------------------------------------\n",
      "Intercept      0.3743     0.0866     4.3242     0.0000      0.2046      0.5440\n",
      "gap            0.1861     0.0132     14.113     0.0000      0.1602      0.2119\n",
      "size           0.0513     0.0161     3.1837     0.0015      0.0197      0.0829\n",
      "==============================================================================\n",
      "\n",
      "F-test for Poolability: 7.2074\n",
      "P-value: 0.0000\n",
      "Distribution: F(7924,46764)\n",
      "\n",
      "Included effects: Entity, Time\n"
     ]
    }
   ],
   "source": [
    "mod = PanelOLS.from_formula('beme ~ 1 + gap + size + EntityEffects + TimeEffects', data=df)\n",
    "res = mod.fit(cov_type='kernel')\n",
    "print(res)"
   ]
  },
  {
   "cell_type": "code",
   "execution_count": 400,
   "metadata": {
    "scrolled": true
   },
   "outputs": [
    {
     "name": "stdout",
     "output_type": "stream",
     "text": [
      "                          PanelOLS Estimation Summary                           \n",
      "================================================================================\n",
      "Dep. Variable:                   beme   R-squared:                        0.0216\n",
      "Estimator:                   PanelOLS   R-squared (Between):             -0.0900\n",
      "No. Observations:               32539   R-squared (Within):               0.0205\n",
      "Date:                Tue, Dec 08 2020   R-squared (Overall):             -0.0540\n",
      "Time:                        23:32:39   Log-likelihood                -2.145e+04\n",
      "Cov. Estimator:        Driscoll-Kraay                                           \n",
      "                                        F-statistic:                      67.994\n",
      "Entities:                        4844   P-value                           0.0000\n",
      "Avg Obs:                       6.7174   Distribution:                 F(9,27657)\n",
      "Min Obs:                       1.0000                                           \n",
      "Max Obs:                       27.000   F-statistic (robust):             38.533\n",
      "                                        P-value                           0.0000\n",
      "Time periods:                      30   Distribution:                 F(9,27657)\n",
      "Avg Obs:                       1084.6                                           \n",
      "Min Obs:                       1.0000                                           \n",
      "Max Obs:                       1447.0                                           \n",
      "                                                                                \n",
      "                             Parameter Estimates                              \n",
      "==============================================================================\n",
      "            Parameter  Std. Err.     T-stat    P-value    Lower CI    Upper CI\n",
      "------------------------------------------------------------------------------\n",
      "Intercept      0.3537     0.0775     4.5651     0.0000      0.2019      0.5056\n",
      "gap            0.1664     0.0153     10.861     0.0000      0.1364      0.1964\n",
      "size           0.0442     0.0144     3.0638     0.0022      0.0159      0.0725\n",
      "ppent       1.533e-05  2.074e-06     7.3926     0.0000   1.126e-05   1.939e-05\n",
      "emp           -0.0005     0.0005    -1.0238     0.3059     -0.0014      0.0004\n",
      "capx       -5.108e-05  7.198e-06    -7.0973     0.0000  -6.519e-05  -3.698e-05\n",
      "sale       -1.444e-05  7.747e-06    -1.8641     0.0623  -2.963e-05   7.431e-07\n",
      "cogs        1.299e-05  9.455e-06     1.3738     0.1695  -5.543e-06   3.152e-05\n",
      "xrd        -1.655e-05  1.429e-05    -1.1579     0.2469  -4.457e-05   1.147e-05\n",
      "xsga        2.655e-05  1.427e-05     1.8610     0.0628  -1.413e-06   5.452e-05\n",
      "==============================================================================\n",
      "\n",
      "F-test for Poolability: 6.9662\n",
      "P-value: 0.0000\n",
      "Distribution: F(4872,27657)\n",
      "\n",
      "Included effects: Entity, Time\n"
     ]
    }
   ],
   "source": [
    "mod = PanelOLS.from_formula('beme ~ 1 + gap + size + ppent+ emp+ capx+ sale+ cogs+ xrd+ xsga+ EntityEffects + TimeEffects', data=df)\n",
    "res = mod.fit(cov_type='kernel')\n",
    "print(res)"
   ]
  },
  {
   "cell_type": "code",
   "execution_count": 405,
   "metadata": {
    "scrolled": true
   },
   "outputs": [
    {
     "name": "stdout",
     "output_type": "stream",
     "text": [
      "                          PanelOLS Estimation Summary                           \n",
      "================================================================================\n",
      "Dep. Variable:                   beme   R-squared:                        0.0571\n",
      "Estimator:                   PanelOLS   R-squared (Between):             -0.0357\n",
      "No. Observations:               54691   R-squared (Within):               0.0524\n",
      "Date:                Tue, Dec 08 2020   R-squared (Overall):              0.0117\n",
      "Time:                        23:33:51   Log-likelihood                -4.041e+04\n",
      "Cov. Estimator:        Driscoll-Kraay                                           \n",
      "                                        F-statistic:                      472.32\n",
      "Entities:                        7896   P-value                           0.0000\n",
      "Avg Obs:                       6.9264   Distribution:                 F(6,46760)\n",
      "Min Obs:                       1.0000                                           \n",
      "Max Obs:                       27.000   F-statistic (robust):             98.222\n",
      "                                        P-value                           0.0000\n",
      "Time periods:                      30   Distribution:                 F(6,46760)\n",
      "Avg Obs:                       1823.0                                           \n",
      "Min Obs:                       1.0000                                           \n",
      "Max Obs:                       2440.0                                           \n",
      "                                                                                \n",
      "                              Parameter Estimates                               \n",
      "================================================================================\n",
      "              Parameter  Std. Err.     T-stat    P-value    Lower CI    Upper CI\n",
      "--------------------------------------------------------------------------------\n",
      "Intercept        0.0530     0.0630     0.8420     0.3998     -0.0704      0.1765\n",
      "TFP             -0.3218     0.0224    -14.383     0.0000     -0.3656     -0.2779\n",
      "size             0.2777     0.0248     11.178     0.0000      0.2290      0.3264\n",
      "ppent         2.389e-06  1.213e-06     1.9693     0.0489   1.121e-08   4.767e-06\n",
      "np.sqrt(emp)    -0.0093     0.0054    -1.7280     0.0840     -0.0198      0.0012\n",
      "np.log(capx)    -0.1008     0.0111    -9.1205     0.0000     -0.1225     -0.0792\n",
      "np.log(sale)    -0.1185     0.0201    -5.9033     0.0000     -0.1579     -0.0792\n",
      "================================================================================\n",
      "\n",
      "F-test for Poolability: 7.0826\n",
      "P-value: 0.0000\n",
      "Distribution: F(7924,46760)\n",
      "\n",
      "Included effects: Entity, Time\n"
     ]
    }
   ],
   "source": [
    "mod = PanelOLS.from_formula('beme ~ 1 + TFP + size + ppent + np.sqrt(emp) + np.log(capx)+ np.log(sale)+ EntityEffects + TimeEffects', data=df)\n",
    "res = mod.fit(cov_type='kernel')\n",
    "print(res)"
   ]
  },
  {
   "cell_type": "markdown",
   "metadata": {},
   "source": [
    "# Sort Portfolios"
   ]
  },
  {
   "cell_type": "code",
   "execution_count": 320,
   "metadata": {},
   "outputs": [
    {
     "data": {
      "text/html": [
       "<div>\n",
       "<style scoped>\n",
       "    .dataframe tbody tr th:only-of-type {\n",
       "        vertical-align: middle;\n",
       "    }\n",
       "\n",
       "    .dataframe tbody tr th {\n",
       "        vertical-align: top;\n",
       "    }\n",
       "\n",
       "    .dataframe thead th {\n",
       "        text-align: right;\n",
       "    }\n",
       "</style>\n",
       "<table border=\"1\" class=\"dataframe\">\n",
       "  <thead>\n",
       "    <tr style=\"text-align: right;\">\n",
       "      <th></th>\n",
       "      <th></th>\n",
       "      <th>TFP</th>\n",
       "      <th>tic</th>\n",
       "      <th>conm</th>\n",
       "      <th>datadate</th>\n",
       "      <th>sich</th>\n",
       "      <th>prcc_f</th>\n",
       "      <th>csho</th>\n",
       "      <th>at</th>\n",
       "      <th>aqc</th>\n",
       "      <th>ppegt</th>\n",
       "      <th>...</th>\n",
       "      <th>pstk</th>\n",
       "      <th>mkvalt</th>\n",
       "      <th>ps</th>\n",
       "      <th>be</th>\n",
       "      <th>me</th>\n",
       "      <th>TFP_frontier_fyear_sich</th>\n",
       "      <th>TFP_mean_fyear_sich</th>\n",
       "      <th>TFP_median_fyear_sich</th>\n",
       "      <th>gap</th>\n",
       "      <th>beme</th>\n",
       "    </tr>\n",
       "    <tr>\n",
       "      <th>gvkey</th>\n",
       "      <th>fyear</th>\n",
       "      <th></th>\n",
       "      <th></th>\n",
       "      <th></th>\n",
       "      <th></th>\n",
       "      <th></th>\n",
       "      <th></th>\n",
       "      <th></th>\n",
       "      <th></th>\n",
       "      <th></th>\n",
       "      <th></th>\n",
       "      <th></th>\n",
       "      <th></th>\n",
       "      <th></th>\n",
       "      <th></th>\n",
       "      <th></th>\n",
       "      <th></th>\n",
       "      <th></th>\n",
       "      <th></th>\n",
       "      <th></th>\n",
       "      <th></th>\n",
       "      <th></th>\n",
       "    </tr>\n",
       "  </thead>\n",
       "  <tbody>\n",
       "    <tr>\n",
       "      <th>1003</th>\n",
       "      <th>1987</th>\n",
       "      <td>-0.431385</td>\n",
       "      <td>ANTQ</td>\n",
       "      <td>A.A. IMPORTING CO INC</td>\n",
       "      <td>1988-01-31</td>\n",
       "      <td>5712.0</td>\n",
       "      <td>2.750000</td>\n",
       "      <td>2.683</td>\n",
       "      <td>16.042</td>\n",
       "      <td>0.000</td>\n",
       "      <td>2.297</td>\n",
       "      <td>...</td>\n",
       "      <td>0.0</td>\n",
       "      <td>NaN</td>\n",
       "      <td>0.0</td>\n",
       "      <td>7.643</td>\n",
       "      <td>7.378250</td>\n",
       "      <td>-0.055870</td>\n",
       "      <td>-0.402403</td>\n",
       "      <td>-0.299200</td>\n",
       "      <td>0.375515</td>\n",
       "      <td>1.035882</td>\n",
       "    </tr>\n",
       "    <tr>\n",
       "      <th rowspan=\"4\" valign=\"top\">1004</th>\n",
       "      <th>1987</th>\n",
       "      <td>-0.094028</td>\n",
       "      <td>AIR</td>\n",
       "      <td>AAR CORP</td>\n",
       "      <td>1988-05-31</td>\n",
       "      <td>5080.0</td>\n",
       "      <td>25.124977</td>\n",
       "      <td>15.870</td>\n",
       "      <td>284.948</td>\n",
       "      <td>2.749</td>\n",
       "      <td>76.251</td>\n",
       "      <td>...</td>\n",
       "      <td>0.0</td>\n",
       "      <td>NaN</td>\n",
       "      <td>0.0</td>\n",
       "      <td>158.497</td>\n",
       "      <td>398.733387</td>\n",
       "      <td>-0.094028</td>\n",
       "      <td>-0.387616</td>\n",
       "      <td>-0.395167</td>\n",
       "      <td>0.000000</td>\n",
       "      <td>0.397501</td>\n",
       "    </tr>\n",
       "    <tr>\n",
       "      <th>1988</th>\n",
       "      <td>0.093879</td>\n",
       "      <td>AIR</td>\n",
       "      <td>AAR CORP</td>\n",
       "      <td>1989-05-31</td>\n",
       "      <td>5080.0</td>\n",
       "      <td>31.249992</td>\n",
       "      <td>16.009</td>\n",
       "      <td>356.391</td>\n",
       "      <td>2.397</td>\n",
       "      <td>85.414</td>\n",
       "      <td>...</td>\n",
       "      <td>0.0</td>\n",
       "      <td>NaN</td>\n",
       "      <td>0.0</td>\n",
       "      <td>202.580</td>\n",
       "      <td>500.281128</td>\n",
       "      <td>0.093879</td>\n",
       "      <td>-0.647322</td>\n",
       "      <td>-0.564653</td>\n",
       "      <td>0.000000</td>\n",
       "      <td>0.404932</td>\n",
       "    </tr>\n",
       "    <tr>\n",
       "      <th>1989</th>\n",
       "      <td>-0.176446</td>\n",
       "      <td>AIR</td>\n",
       "      <td>AAR CORP</td>\n",
       "      <td>1990-05-31</td>\n",
       "      <td>5080.0</td>\n",
       "      <td>21.249998</td>\n",
       "      <td>16.082</td>\n",
       "      <td>388.521</td>\n",
       "      <td>0.000</td>\n",
       "      <td>105.646</td>\n",
       "      <td>...</td>\n",
       "      <td>0.0</td>\n",
       "      <td>NaN</td>\n",
       "      <td>0.0</td>\n",
       "      <td>225.548</td>\n",
       "      <td>341.742462</td>\n",
       "      <td>0.225044</td>\n",
       "      <td>-0.359115</td>\n",
       "      <td>-0.420692</td>\n",
       "      <td>0.401490</td>\n",
       "      <td>0.659994</td>\n",
       "    </tr>\n",
       "    <tr>\n",
       "      <th>1990</th>\n",
       "      <td>-0.032535</td>\n",
       "      <td>AIR</td>\n",
       "      <td>AAR CORP</td>\n",
       "      <td>1991-05-31</td>\n",
       "      <td>5080.0</td>\n",
       "      <td>14.124999</td>\n",
       "      <td>15.891</td>\n",
       "      <td>379.958</td>\n",
       "      <td>0.000</td>\n",
       "      <td>113.060</td>\n",
       "      <td>...</td>\n",
       "      <td>0.0</td>\n",
       "      <td>NaN</td>\n",
       "      <td>0.0</td>\n",
       "      <td>231.778</td>\n",
       "      <td>224.460360</td>\n",
       "      <td>0.428965</td>\n",
       "      <td>-0.504218</td>\n",
       "      <td>-0.142946</td>\n",
       "      <td>0.461501</td>\n",
       "      <td>1.032601</td>\n",
       "    </tr>\n",
       "  </tbody>\n",
       "</table>\n",
       "<p>5 rows × 33 columns</p>\n",
       "</div>"
      ],
      "text/plain": [
       "                  TFP   tic                   conm    datadate    sich  \\\n",
       "gvkey fyear                                                              \n",
       "1003  1987  -0.431385  ANTQ  A.A. IMPORTING CO INC  1988-01-31  5712.0   \n",
       "1004  1987  -0.094028   AIR               AAR CORP  1988-05-31  5080.0   \n",
       "      1988   0.093879   AIR               AAR CORP  1989-05-31  5080.0   \n",
       "      1989  -0.176446   AIR               AAR CORP  1990-05-31  5080.0   \n",
       "      1990  -0.032535   AIR               AAR CORP  1991-05-31  5080.0   \n",
       "\n",
       "                prcc_f    csho       at    aqc    ppegt  ...  pstk  mkvalt  \\\n",
       "gvkey fyear                                              ...                 \n",
       "1003  1987    2.750000   2.683   16.042  0.000    2.297  ...   0.0     NaN   \n",
       "1004  1987   25.124977  15.870  284.948  2.749   76.251  ...   0.0     NaN   \n",
       "      1988   31.249992  16.009  356.391  2.397   85.414  ...   0.0     NaN   \n",
       "      1989   21.249998  16.082  388.521  0.000  105.646  ...   0.0     NaN   \n",
       "      1990   14.124999  15.891  379.958  0.000  113.060  ...   0.0     NaN   \n",
       "\n",
       "              ps       be          me  TFP_frontier_fyear_sich  \\\n",
       "gvkey fyear                                                      \n",
       "1003  1987   0.0    7.643    7.378250                -0.055870   \n",
       "1004  1987   0.0  158.497  398.733387                -0.094028   \n",
       "      1988   0.0  202.580  500.281128                 0.093879   \n",
       "      1989   0.0  225.548  341.742462                 0.225044   \n",
       "      1990   0.0  231.778  224.460360                 0.428965   \n",
       "\n",
       "             TFP_mean_fyear_sich  TFP_median_fyear_sich       gap      beme  \n",
       "gvkey fyear                                                                  \n",
       "1003  1987             -0.402403              -0.299200  0.375515  1.035882  \n",
       "1004  1987             -0.387616              -0.395167  0.000000  0.397501  \n",
       "      1988             -0.647322              -0.564653  0.000000  0.404932  \n",
       "      1989             -0.359115              -0.420692  0.401490  0.659994  \n",
       "      1990             -0.504218              -0.142946  0.461501  1.032601  \n",
       "\n",
       "[5 rows x 33 columns]"
      ]
     },
     "execution_count": 320,
     "metadata": {},
     "output_type": "execute_result"
    }
   ],
   "source": [
    "df.head()"
   ]
  },
  {
   "cell_type": "code",
   "execution_count": 322,
   "metadata": {},
   "outputs": [
    {
     "data": {
      "text/plain": [
       "count    54691.000000\n",
       "mean         0.681567\n",
       "std          0.666575\n",
       "min          0.000000\n",
       "25%          0.188584\n",
       "50%          0.505944\n",
       "75%          0.988610\n",
       "max          5.917861\n",
       "Name: gap, dtype: float64"
      ]
     },
     "execution_count": 322,
     "metadata": {},
     "output_type": "execute_result"
    }
   ],
   "source": [
    "df.gap.describe()"
   ]
  },
  {
   "cell_type": "markdown",
   "metadata": {},
   "source": [
    "## Overall sort"
   ]
  },
  {
   "cell_type": "code",
   "execution_count": 345,
   "metadata": {},
   "outputs": [],
   "source": [
    "dec_dict=df.gap.quantile([0, 0.1, 0.2, 0.3, 0.4, 0.5, 0.6, 0.7, 0.8, 0.9, 1]).to_dict()"
   ]
  },
  {
   "cell_type": "code",
   "execution_count": 355,
   "metadata": {},
   "outputs": [
    {
     "data": {
      "text/plain": [
       "{0.0: 0.0,\n",
       " 0.1: 0.0,\n",
       " 0.2: 0.1182927,\n",
       " 0.3: 0.2507585,\n",
       " 0.4: 0.3726301999999999,\n",
       " 0.5: 0.5059440000000001,\n",
       " 0.6: 0.6644545000000001,\n",
       " 0.7: 0.8632778000000001,\n",
       " 0.8: 1.1364332,\n",
       " 0.9: 1.584652,\n",
       " 1.0: 5.917861}"
      ]
     },
     "execution_count": 355,
     "metadata": {},
     "output_type": "execute_result"
    }
   ],
   "source": [
    "dec_dict"
   ]
  },
  {
   "cell_type": "code",
   "execution_count": 447,
   "metadata": {},
   "outputs": [
    {
     "data": {
      "text/plain": [
       "gap     0.000000\n",
       "TFP     0.020626\n",
       "beme    0.581108\n",
       "dtype: float64"
      ]
     },
     "execution_count": 447,
     "metadata": {},
     "output_type": "execute_result"
    }
   ],
   "source": [
    "df.loc[(df.gap >=dec_dict[0.0]) & (df.gap <= dec_dict[0.1]),['gap','TFP','beme']].mean()"
   ]
  },
  {
   "cell_type": "code",
   "execution_count": 415,
   "metadata": {},
   "outputs": [
    {
     "data": {
      "text/plain": [
       "gap     0.064305\n",
       "TFP    -0.136588\n",
       "beme    0.630245\n",
       "dtype: float64"
      ]
     },
     "execution_count": 415,
     "metadata": {},
     "output_type": "execute_result"
    }
   ],
   "source": [
    "df.loc[(df.gap > dec_dict[0.1]) & (df.gap <= dec_dict[0.2]),['gap','TFP','beme']].mean()"
   ]
  },
  {
   "cell_type": "code",
   "execution_count": 416,
   "metadata": {},
   "outputs": [
    {
     "data": {
      "text/plain": [
       "gap     0.187150\n",
       "TFP    -0.205804\n",
       "beme    0.696792\n",
       "dtype: float64"
      ]
     },
     "execution_count": 416,
     "metadata": {},
     "output_type": "execute_result"
    }
   ],
   "source": [
    "df.loc[(df.gap > dec_dict[0.2]) & (df.gap <= dec_dict[0.3]),['gap','TFP','beme']].mean()"
   ]
  },
  {
   "cell_type": "code",
   "execution_count": 422,
   "metadata": {},
   "outputs": [
    {
     "data": {
      "text/plain": [
       "gap     0.311075\n",
       "TFP    -0.269103\n",
       "beme    0.836170\n",
       "dtype: float64"
      ]
     },
     "execution_count": 422,
     "metadata": {},
     "output_type": "execute_result"
    }
   ],
   "source": [
    "df.loc[(df.gap > dec_dict[0.3]) & (df.gap <= dec_dict[0.4]),['gap','TFP','beme']].mean()"
   ]
  },
  {
   "cell_type": "code",
   "execution_count": 418,
   "metadata": {},
   "outputs": [
    {
     "data": {
      "text/plain": [
       "gap     0.438368\n",
       "TFP    -0.313056\n",
       "beme    0.867048\n",
       "dtype: float64"
      ]
     },
     "execution_count": 418,
     "metadata": {},
     "output_type": "execute_result"
    }
   ],
   "source": [
    "df.loc[(df.gap > dec_dict[0.4]) & (df.gap <= dec_dict[0.5]),['gap','TFP','beme']].mean()"
   ]
  },
  {
   "cell_type": "code",
   "execution_count": 423,
   "metadata": {},
   "outputs": [
    {
     "data": {
      "text/plain": [
       "gap     0.582330\n",
       "TFP    -0.357824\n",
       "beme    0.888244\n",
       "dtype: float64"
      ]
     },
     "execution_count": 423,
     "metadata": {},
     "output_type": "execute_result"
    }
   ],
   "source": [
    "df.loc[(df.gap > dec_dict[0.5]) & (df.gap <= dec_dict[0.6]),['gap','TFP','beme']].mean()"
   ]
  },
  {
   "cell_type": "code",
   "execution_count": 434,
   "metadata": {},
   "outputs": [
    {
     "data": {
      "text/plain": [
       "[0.1, 0.2, 0.3, 0.4, 0.5, 0.6, 0.7, 0.8, 0.9, 1.0]"
      ]
     },
     "execution_count": 434,
     "metadata": {},
     "output_type": "execute_result"
    }
   ],
   "source": [
    "list(dec_dict.keys())[1::]"
   ]
  },
  {
   "cell_type": "code",
   "execution_count": 480,
   "metadata": {},
   "outputs": [
    {
     "name": "stdout",
     "output_type": "stream",
     "text": [
      "decile = 0.1\n",
      "0.2\n",
      "0.3\n",
      "0.4\n",
      "0.5\n",
      "0.6\n",
      "0.7\n",
      "0.8\n",
      "0.9\n",
      "1.0\n"
     ]
    }
   ],
   "source": [
    "var_list=['gap','TFP','beme']\n",
    "overall_sort_dict={}\n",
    "overall_sort_gap=[]\n",
    "overall_sort_TFP=[]\n",
    "overall_sort_beme=[]\n",
    "#for decile in list(dec_dict.keys())[1::]:\n",
    "for i in range(0,10):\n",
    "    decile = list(dec_dict.keys())[1::][i]\n",
    "    if i == 0:\n",
    "        print('decile = 0.1')\n",
    "        overall_sort_gap.append(df.loc[(df.gap >=dec_dict[0]) & (df.gap <= dec_dict[decile]),var_list].mean()['gap'])\n",
    "        overall_sort_TFP.append(df.loc[(df.gap >=dec_dict[0]) & (df.gap <= dec_dict[decile]),var_list].mean()['TFP'])\n",
    "        overall_sort_beme.append(df.loc[(df.gap >=dec_dict[0]) & (df.gap <= dec_dict[decile]),var_list].mean()['beme'])\n",
    "    else:\n",
    "        print(decile)\n",
    "        decile0 = list(dec_dict.keys())[1::][i-1]\n",
    "        overall_sort_gap.append(df.loc[(df.gap >dec_dict[decile0]) & (df.gap <= dec_dict[decile]),var_list].mean()['gap'])\n",
    "        overall_sort_TFP.append(df.loc[(df.gap >dec_dict[decile0]) & (df.gap <= dec_dict[decile]),var_list].mean()['TFP'])\n",
    "        overall_sort_beme.append(df.loc[(df.gap >dec_dict[decile0]) & (df.gap <= dec_dict[decile]),var_list].mean()['beme'])\n",
    "        \n",
    "overall_sort_dict['gap']=overall_sort_gap\n",
    "overall_sort_dict['TFP']=overall_sort_TFP\n",
    "overall_sort_dict['beme']=overall_sort_beme"
   ]
  },
  {
   "cell_type": "code",
   "execution_count": 481,
   "metadata": {},
   "outputs": [
    {
     "data": {
      "text/plain": [
       "{'gap': [0.0,\n",
       "  0.06430467525423711,\n",
       "  0.18714964623148606,\n",
       "  0.31107459139147986,\n",
       "  0.4383676699396612,\n",
       "  0.582329633355276,\n",
       "  0.7592977789175349,\n",
       "  0.9912924955238628,\n",
       "  1.337749443755711,\n",
       "  2.164824333940383],\n",
       " 'TFP': [0.020626212769315994,\n",
       "  -0.13658766572504724,\n",
       "  -0.20580406547815,\n",
       "  -0.2691028843115742,\n",
       "  -0.3130555010056686,\n",
       "  -0.3578238882793926,\n",
       "  -0.40174758431157326,\n",
       "  -0.46954084328030565,\n",
       "  -0.5603772616200426,\n",
       "  -1.0370279127994173],\n",
       " 'beme': [0.5811076195068833,\n",
       "  0.6302446724218741,\n",
       "  0.6967919284594676,\n",
       "  0.8361699863833009,\n",
       "  0.867047928380739,\n",
       "  0.8882435087907358,\n",
       "  0.9027694427249188,\n",
       "  0.8757490802173975,\n",
       "  0.8292644312960082,\n",
       "  0.7735128781421922]}"
      ]
     },
     "execution_count": 481,
     "metadata": {},
     "output_type": "execute_result"
    }
   ],
   "source": [
    "overall_sort_dict"
   ]
  },
  {
   "cell_type": "code",
   "execution_count": 482,
   "metadata": {},
   "outputs": [
    {
     "data": {
      "text/html": [
       "<div>\n",
       "<style scoped>\n",
       "    .dataframe tbody tr th:only-of-type {\n",
       "        vertical-align: middle;\n",
       "    }\n",
       "\n",
       "    .dataframe tbody tr th {\n",
       "        vertical-align: top;\n",
       "    }\n",
       "\n",
       "    .dataframe thead th {\n",
       "        text-align: right;\n",
       "    }\n",
       "</style>\n",
       "<table border=\"1\" class=\"dataframe\">\n",
       "  <thead>\n",
       "    <tr style=\"text-align: right;\">\n",
       "      <th></th>\n",
       "      <th>gap</th>\n",
       "      <th>TFP</th>\n",
       "      <th>beme</th>\n",
       "    </tr>\n",
       "  </thead>\n",
       "  <tbody>\n",
       "    <tr>\n",
       "      <th>0</th>\n",
       "      <td>0.000000</td>\n",
       "      <td>0.020626</td>\n",
       "      <td>0.581108</td>\n",
       "    </tr>\n",
       "    <tr>\n",
       "      <th>1</th>\n",
       "      <td>0.064305</td>\n",
       "      <td>-0.136588</td>\n",
       "      <td>0.630245</td>\n",
       "    </tr>\n",
       "    <tr>\n",
       "      <th>2</th>\n",
       "      <td>0.187150</td>\n",
       "      <td>-0.205804</td>\n",
       "      <td>0.696792</td>\n",
       "    </tr>\n",
       "    <tr>\n",
       "      <th>3</th>\n",
       "      <td>0.311075</td>\n",
       "      <td>-0.269103</td>\n",
       "      <td>0.836170</td>\n",
       "    </tr>\n",
       "    <tr>\n",
       "      <th>4</th>\n",
       "      <td>0.438368</td>\n",
       "      <td>-0.313056</td>\n",
       "      <td>0.867048</td>\n",
       "    </tr>\n",
       "    <tr>\n",
       "      <th>5</th>\n",
       "      <td>0.582330</td>\n",
       "      <td>-0.357824</td>\n",
       "      <td>0.888244</td>\n",
       "    </tr>\n",
       "    <tr>\n",
       "      <th>6</th>\n",
       "      <td>0.759298</td>\n",
       "      <td>-0.401748</td>\n",
       "      <td>0.902769</td>\n",
       "    </tr>\n",
       "    <tr>\n",
       "      <th>7</th>\n",
       "      <td>0.991292</td>\n",
       "      <td>-0.469541</td>\n",
       "      <td>0.875749</td>\n",
       "    </tr>\n",
       "    <tr>\n",
       "      <th>8</th>\n",
       "      <td>1.337749</td>\n",
       "      <td>-0.560377</td>\n",
       "      <td>0.829264</td>\n",
       "    </tr>\n",
       "    <tr>\n",
       "      <th>9</th>\n",
       "      <td>2.164824</td>\n",
       "      <td>-1.037028</td>\n",
       "      <td>0.773513</td>\n",
       "    </tr>\n",
       "  </tbody>\n",
       "</table>\n",
       "</div>"
      ],
      "text/plain": [
       "        gap       TFP      beme\n",
       "0  0.000000  0.020626  0.581108\n",
       "1  0.064305 -0.136588  0.630245\n",
       "2  0.187150 -0.205804  0.696792\n",
       "3  0.311075 -0.269103  0.836170\n",
       "4  0.438368 -0.313056  0.867048\n",
       "5  0.582330 -0.357824  0.888244\n",
       "6  0.759298 -0.401748  0.902769\n",
       "7  0.991292 -0.469541  0.875749\n",
       "8  1.337749 -0.560377  0.829264\n",
       "9  2.164824 -1.037028  0.773513"
      ]
     },
     "execution_count": 482,
     "metadata": {},
     "output_type": "execute_result"
    }
   ],
   "source": [
    "pd.DataFrame(overall_sort_dict)"
   ]
  },
  {
   "cell_type": "code",
   "execution_count": null,
   "metadata": {},
   "outputs": [],
   "source": []
  }
 ],
 "metadata": {
  "kernelspec": {
   "display_name": "Python 3",
   "language": "python",
   "name": "python3"
  },
  "language_info": {
   "codemirror_mode": {
    "name": "ipython",
    "version": 3
   },
   "file_extension": ".py",
   "mimetype": "text/x-python",
   "name": "python",
   "nbconvert_exporter": "python",
   "pygments_lexer": "ipython3",
   "version": "3.6.10"
  }
 },
 "nbformat": 4,
 "nbformat_minor": 4
}
