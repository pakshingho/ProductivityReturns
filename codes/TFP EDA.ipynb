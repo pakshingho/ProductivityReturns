{
 "cells": [
  {
   "cell_type": "markdown",
   "metadata": {},
   "source": [
    "# Total Factor of Productivity (TFP)"
   ]
  },
  {
   "cell_type": "code",
   "execution_count": null,
   "metadata": {
    "scrolled": true
   },
   "outputs": [],
   "source": [
    "import pandas as pd\n",
    "import numpy as np\n",
    "import matplotlib.pyplot as plt\n",
    "import wrds\n",
    "db = wrds.Connection()"
   ]
  },
  {
   "cell_type": "code",
   "execution_count": 86,
   "metadata": {},
   "outputs": [],
   "source": [
    "dt = pd.read_csv('../data/TFPData_updated_ImrohorogluTuzel.csv')"
   ]
  },
  {
   "cell_type": "code",
   "execution_count": 38,
   "metadata": {},
   "outputs": [],
   "source": [
    "comp = db.raw_sql(\"\"\"\n",
    "                    select gvkey, tic, conm, datadate, fyear, sich, prcc_f, csho,\n",
    "                    at, aqc, ppegt, ppent, emp, capx, capxv, sale, cogs, xad, xrd, xsga,\n",
    "                    pstkl, txditc,\n",
    "                    pstkrv, seq, pstk, mkvalt\n",
    "                    from comp.funda\n",
    "                    where \n",
    "                    (sale > 0 or at > 0)\n",
    "                    and indfmt='INDL'\n",
    "                    and datafmt='STD'\n",
    "                    and popsrc='D'\n",
    "                    and consol='C'\n",
    "                    and curcd='USD'\n",
    "                    and datadate >= '1963-01-01'\n",
    "                    and fic='USA'\n",
    "                    and final='Y'\n",
    "                    \"\"\")"
   ]
  },
  {
   "cell_type": "code",
   "execution_count": 4,
   "metadata": {},
   "outputs": [
    {
     "data": {
      "text/plain": [
       "(136523, 3)"
      ]
     },
     "execution_count": 4,
     "metadata": {},
     "output_type": "execute_result"
    }
   ],
   "source": [
    "dt.shape"
   ]
  },
  {
   "cell_type": "code",
   "execution_count": 104,
   "metadata": {},
   "outputs": [
    {
     "data": {
      "text/plain": [
       "(354814, 29)"
      ]
     },
     "execution_count": 104,
     "metadata": {},
     "output_type": "execute_result"
    }
   ],
   "source": [
    "comp.shape"
   ]
  },
  {
   "cell_type": "code",
   "execution_count": 5,
   "metadata": {},
   "outputs": [
    {
     "data": {
      "text/html": [
       "<div>\n",
       "<style scoped>\n",
       "    .dataframe tbody tr th:only-of-type {\n",
       "        vertical-align: middle;\n",
       "    }\n",
       "\n",
       "    .dataframe tbody tr th {\n",
       "        vertical-align: top;\n",
       "    }\n",
       "\n",
       "    .dataframe thead th {\n",
       "        text-align: right;\n",
       "    }\n",
       "</style>\n",
       "<table border=\"1\" class=\"dataframe\">\n",
       "  <thead>\n",
       "    <tr style=\"text-align: right;\">\n",
       "      <th></th>\n",
       "      <th>gvkey</th>\n",
       "      <th>fyear</th>\n",
       "      <th>TFP</th>\n",
       "    </tr>\n",
       "  </thead>\n",
       "  <tbody>\n",
       "    <tr>\n",
       "      <th>0</th>\n",
       "      <td>1000</td>\n",
       "      <td>1970</td>\n",
       "      <td>-0.142948</td>\n",
       "    </tr>\n",
       "    <tr>\n",
       "      <th>1</th>\n",
       "      <td>1000</td>\n",
       "      <td>1971</td>\n",
       "      <td>-0.447827</td>\n",
       "    </tr>\n",
       "    <tr>\n",
       "      <th>2</th>\n",
       "      <td>1000</td>\n",
       "      <td>1972</td>\n",
       "      <td>-0.270695</td>\n",
       "    </tr>\n",
       "    <tr>\n",
       "      <th>3</th>\n",
       "      <td>1000</td>\n",
       "      <td>1973</td>\n",
       "      <td>-0.242724</td>\n",
       "    </tr>\n",
       "    <tr>\n",
       "      <th>4</th>\n",
       "      <td>1000</td>\n",
       "      <td>1974</td>\n",
       "      <td>-0.296757</td>\n",
       "    </tr>\n",
       "  </tbody>\n",
       "</table>\n",
       "</div>"
      ],
      "text/plain": [
       "   gvkey  fyear       TFP\n",
       "0   1000   1970 -0.142948\n",
       "1   1000   1971 -0.447827\n",
       "2   1000   1972 -0.270695\n",
       "3   1000   1973 -0.242724\n",
       "4   1000   1974 -0.296757"
      ]
     },
     "execution_count": 5,
     "metadata": {},
     "output_type": "execute_result"
    }
   ],
   "source": [
    "dt.head()"
   ]
  },
  {
   "cell_type": "code",
   "execution_count": 9,
   "metadata": {},
   "outputs": [
    {
     "data": {
      "text/plain": [
       "count    136523.000000\n",
       "mean         -0.323590\n",
       "std           0.438831\n",
       "min          -5.530810\n",
       "25%          -0.507897\n",
       "50%          -0.304374\n",
       "75%          -0.111074\n",
       "max           3.360018\n",
       "Name: TFP, dtype: float64"
      ]
     },
     "execution_count": 9,
     "metadata": {},
     "output_type": "execute_result"
    }
   ],
   "source": [
    "dt.TFP.describe()"
   ]
  },
  {
   "cell_type": "code",
   "execution_count": 16,
   "metadata": {},
   "outputs": [
    {
     "data": {
      "text/plain": [
       "<matplotlib.axes._subplots.AxesSubplot at 0x7fc3e5f7c630>"
      ]
     },
     "execution_count": 16,
     "metadata": {},
     "output_type": "execute_result"
    },
    {
     "data": {
      "image/png": "[encoded data removed]",
      "text/plain": [
       "<Figure size 432x288 with 1 Axes>"
      ]
     },
     "metadata": {
      "needs_background": "light"
     },
     "output_type": "display_data"
    }
   ],
   "source": [
    "dt.TFP.hist(bins=100)"
   ]
  },
  {
   "cell_type": "code",
   "execution_count": 26,
   "metadata": {},
   "outputs": [],
   "source": [
    "dt_TFP_frontier_yearly = dt.groupby('fyear')[['TFP']].max()\n",
    "dt_TFP_mean_yearly = dt.groupby('fyear')[['TFP']].mean()\n",
    "dt_TFP_median_yearly = dt.groupby('fyear')[['TFP']].median()"
   ]
  },
  {
   "cell_type": "code",
   "execution_count": 28,
   "metadata": {},
   "outputs": [
    {
     "data": {
      "text/plain": [
       "<matplotlib.axes._subplots.AxesSubplot at 0x7fc3e6b7bac8>"
      ]
     },
     "execution_count": 28,
     "metadata": {},
     "output_type": "execute_result"
    },
    {
     "data": {
      "image/png": "[encoded data removed]",
      "text/plain": [
       "<Figure size 432x288 with 1 Axes>"
      ]
     },
     "metadata": {
      "needs_background": "light"
     },
     "output_type": "display_data"
    },
    {
     "data": {
      "image/png": "[encoded data removed]",
      "text/plain": [
       "<Figure size 432x288 with 1 Axes>"
      ]
     },
     "metadata": {
      "needs_background": "light"
     },
     "output_type": "display_data"
    },
    {
     "data": {
      "image/png": "[encoded data removed]",
      "text/plain": [
       "<Figure size 432x288 with 1 Axes>"
      ]
     },
     "metadata": {
      "needs_background": "light"
     },
     "output_type": "display_data"
    }
   ],
   "source": [
    "dt_TFP_frontier_yearly.plot()\n",
    "dt_TFP_mean_yearly.plot()\n",
    "dt_TFP_median_yearly.plot()"
   ]
  },
  {
   "cell_type": "code",
   "execution_count": 39,
   "metadata": {},
   "outputs": [],
   "source": [
    "# create preferrerd stock\n",
    "comp['ps']=np.where(comp['pstkrv'].isnull(), comp['pstkl'], comp['pstkrv'])\n",
    "comp['ps']=np.where(comp['ps'].isnull(),comp['pstk'], comp['ps'])\n",
    "comp['ps']=np.where(comp['ps'].isnull(),0,comp['ps'])\n",
    "\n",
    "comp['txditc']=comp['txditc'].fillna(0)\n",
    "\n",
    "# create book equity\n",
    "comp['be']=comp['seq']+comp['txditc']-comp['ps']\n",
    "comp['be']=np.where(comp['be']>0, comp['be'], np.nan)"
   ]
  },
  {
   "cell_type": "code",
   "execution_count": 40,
   "metadata": {},
   "outputs": [],
   "source": [
    "# create market value\n",
    "comp['me']=comp['prcc_f']*comp['csho']"
   ]
  },
  {
   "cell_type": "code",
   "execution_count": 102,
   "metadata": {
    "scrolled": true
   },
   "outputs": [
    {
     "data": {
      "text/html": [
       "<div>\n",
       "<style scoped>\n",
       "    .dataframe tbody tr th:only-of-type {\n",
       "        vertical-align: middle;\n",
       "    }\n",
       "\n",
       "    .dataframe tbody tr th {\n",
       "        vertical-align: top;\n",
       "    }\n",
       "\n",
       "    .dataframe thead th {\n",
       "        text-align: right;\n",
       "    }\n",
       "</style>\n",
       "<table border=\"1\" class=\"dataframe\">\n",
       "  <thead>\n",
       "    <tr style=\"text-align: right;\">\n",
       "      <th></th>\n",
       "      <th>fyear</th>\n",
       "      <th>mkvalt</th>\n",
       "      <th>me</th>\n",
       "      <th>sich</th>\n",
       "    </tr>\n",
       "  </thead>\n",
       "  <tbody>\n",
       "    <tr>\n",
       "      <th>188925</th>\n",
       "      <td>1985.0</td>\n",
       "      <td>NaN</td>\n",
       "      <td>NaN</td>\n",
       "      <td>NaN</td>\n",
       "    </tr>\n",
       "    <tr>\n",
       "      <th>188926</th>\n",
       "      <td>1986.0</td>\n",
       "      <td>NaN</td>\n",
       "      <td>7.847394e+02</td>\n",
       "      <td>NaN</td>\n",
       "    </tr>\n",
       "    <tr>\n",
       "      <th>188927</th>\n",
       "      <td>1987.0</td>\n",
       "      <td>NaN</td>\n",
       "      <td>2.688411e+03</td>\n",
       "      <td>7372.0</td>\n",
       "    </tr>\n",
       "    <tr>\n",
       "      <th>188928</th>\n",
       "      <td>1988.0</td>\n",
       "      <td>NaN</td>\n",
       "      <td>3.595418e+03</td>\n",
       "      <td>7372.0</td>\n",
       "    </tr>\n",
       "    <tr>\n",
       "      <th>188929</th>\n",
       "      <td>1989.0</td>\n",
       "      <td>NaN</td>\n",
       "      <td>2.893054e+03</td>\n",
       "      <td>7372.0</td>\n",
       "    </tr>\n",
       "    <tr>\n",
       "      <th>188930</th>\n",
       "      <td>1990.0</td>\n",
       "      <td>NaN</td>\n",
       "      <td>8.641114e+03</td>\n",
       "      <td>7372.0</td>\n",
       "    </tr>\n",
       "    <tr>\n",
       "      <th>188931</th>\n",
       "      <td>1991.0</td>\n",
       "      <td>NaN</td>\n",
       "      <td>1.186969e+04</td>\n",
       "      <td>7372.0</td>\n",
       "    </tr>\n",
       "    <tr>\n",
       "      <th>188932</th>\n",
       "      <td>1992.0</td>\n",
       "      <td>NaN</td>\n",
       "      <td>1.904973e+04</td>\n",
       "      <td>7372.0</td>\n",
       "    </tr>\n",
       "    <tr>\n",
       "      <th>188933</th>\n",
       "      <td>1993.0</td>\n",
       "      <td>NaN</td>\n",
       "      <td>2.481600e+04</td>\n",
       "      <td>7372.0</td>\n",
       "    </tr>\n",
       "    <tr>\n",
       "      <th>188934</th>\n",
       "      <td>1994.0</td>\n",
       "      <td>NaN</td>\n",
       "      <td>2.999412e+04</td>\n",
       "      <td>7372.0</td>\n",
       "    </tr>\n",
       "    <tr>\n",
       "      <th>188935</th>\n",
       "      <td>1995.0</td>\n",
       "      <td>NaN</td>\n",
       "      <td>5.314050e+04</td>\n",
       "      <td>7372.0</td>\n",
       "    </tr>\n",
       "    <tr>\n",
       "      <th>188936</th>\n",
       "      <td>1996.0</td>\n",
       "      <td>NaN</td>\n",
       "      <td>7.171462e+04</td>\n",
       "      <td>7372.0</td>\n",
       "    </tr>\n",
       "    <tr>\n",
       "      <th>188938</th>\n",
       "      <td>1997.0</td>\n",
       "      <td>NaN</td>\n",
       "      <td>1.521555e+05</td>\n",
       "      <td>7372.0</td>\n",
       "    </tr>\n",
       "    <tr>\n",
       "      <th>188939</th>\n",
       "      <td>1998.0</td>\n",
       "      <td>2.676862e+05</td>\n",
       "      <td>2.676862e+05</td>\n",
       "      <td>7372.0</td>\n",
       "    </tr>\n",
       "    <tr>\n",
       "      <th>188940</th>\n",
       "      <td>1999.0</td>\n",
       "      <td>4.607679e+05</td>\n",
       "      <td>4.607679e+05</td>\n",
       "      <td>7372.0</td>\n",
       "    </tr>\n",
       "    <tr>\n",
       "      <th>188941</th>\n",
       "      <td>2000.0</td>\n",
       "      <td>4.226400e+05</td>\n",
       "      <td>4.226400e+05</td>\n",
       "      <td>7372.0</td>\n",
       "    </tr>\n",
       "    <tr>\n",
       "      <th>188942</th>\n",
       "      <td>2001.0</td>\n",
       "      <td>3.929590e+05</td>\n",
       "      <td>3.929590e+05</td>\n",
       "      <td>7372.0</td>\n",
       "    </tr>\n",
       "    <tr>\n",
       "      <th>188944</th>\n",
       "      <td>2002.0</td>\n",
       "      <td>2.931373e+05</td>\n",
       "      <td>2.931373e+05</td>\n",
       "      <td>7372.0</td>\n",
       "    </tr>\n",
       "    <tr>\n",
       "      <th>188945</th>\n",
       "      <td>2003.0</td>\n",
       "      <td>2.761684e+05</td>\n",
       "      <td>2.761684e+05</td>\n",
       "      <td>7372.0</td>\n",
       "    </tr>\n",
       "    <tr>\n",
       "      <th>188947</th>\n",
       "      <td>2004.0</td>\n",
       "      <td>3.102187e+05</td>\n",
       "      <td>3.102187e+05</td>\n",
       "      <td>7372.0</td>\n",
       "    </tr>\n",
       "    <tr>\n",
       "      <th>188948</th>\n",
       "      <td>2005.0</td>\n",
       "      <td>2.660364e+05</td>\n",
       "      <td>2.660364e+05</td>\n",
       "      <td>7372.0</td>\n",
       "    </tr>\n",
       "    <tr>\n",
       "      <th>188949</th>\n",
       "      <td>2006.0</td>\n",
       "      <td>2.344446e+05</td>\n",
       "      <td>2.344446e+05</td>\n",
       "      <td>7372.0</td>\n",
       "    </tr>\n",
       "    <tr>\n",
       "      <th>188950</th>\n",
       "      <td>2007.0</td>\n",
       "      <td>2.764286e+05</td>\n",
       "      <td>2.764286e+05</td>\n",
       "      <td>7372.0</td>\n",
       "    </tr>\n",
       "    <tr>\n",
       "      <th>188952</th>\n",
       "      <td>2008.0</td>\n",
       "      <td>2.517440e+05</td>\n",
       "      <td>2.517440e+05</td>\n",
       "      <td>7372.0</td>\n",
       "    </tr>\n",
       "    <tr>\n",
       "      <th>188953</th>\n",
       "      <td>2009.0</td>\n",
       "      <td>2.117432e+05</td>\n",
       "      <td>2.117432e+05</td>\n",
       "      <td>7372.0</td>\n",
       "    </tr>\n",
       "    <tr>\n",
       "      <th>188954</th>\n",
       "      <td>2010.0</td>\n",
       "      <td>1.994507e+05</td>\n",
       "      <td>1.994507e+05</td>\n",
       "      <td>7372.0</td>\n",
       "    </tr>\n",
       "    <tr>\n",
       "      <th>188955</th>\n",
       "      <td>2011.0</td>\n",
       "      <td>2.177760e+05</td>\n",
       "      <td>2.177760e+05</td>\n",
       "      <td>7372.0</td>\n",
       "    </tr>\n",
       "    <tr>\n",
       "      <th>188956</th>\n",
       "      <td>2012.0</td>\n",
       "      <td>2.563748e+05</td>\n",
       "      <td>2.563748e+05</td>\n",
       "      <td>7372.0</td>\n",
       "    </tr>\n",
       "    <tr>\n",
       "      <th>188957</th>\n",
       "      <td>2013.0</td>\n",
       "      <td>2.876908e+05</td>\n",
       "      <td>2.876908e+05</td>\n",
       "      <td>7372.0</td>\n",
       "    </tr>\n",
       "    <tr>\n",
       "      <th>188958</th>\n",
       "      <td>2014.0</td>\n",
       "      <td>3.435663e+05</td>\n",
       "      <td>3.435663e+05</td>\n",
       "      <td>7372.0</td>\n",
       "    </tr>\n",
       "    <tr>\n",
       "      <th>188959</th>\n",
       "      <td>2015.0</td>\n",
       "      <td>3.543920e+05</td>\n",
       "      <td>3.543920e+05</td>\n",
       "      <td>7372.0</td>\n",
       "    </tr>\n",
       "    <tr>\n",
       "      <th>188960</th>\n",
       "      <td>2016.0</td>\n",
       "      <td>3.995354e+05</td>\n",
       "      <td>3.995354e+05</td>\n",
       "      <td>7372.0</td>\n",
       "    </tr>\n",
       "    <tr>\n",
       "      <th>188961</th>\n",
       "      <td>2017.0</td>\n",
       "      <td>5.313124e+05</td>\n",
       "      <td>5.313124e+05</td>\n",
       "      <td>7372.0</td>\n",
       "    </tr>\n",
       "    <tr>\n",
       "      <th>188962</th>\n",
       "      <td>2018.0</td>\n",
       "      <td>7.570290e+05</td>\n",
       "      <td>7.570290e+05</td>\n",
       "      <td>7372.0</td>\n",
       "    </tr>\n",
       "    <tr>\n",
       "      <th>188963</th>\n",
       "      <td>2019.0</td>\n",
       "      <td>1.023856e+06</td>\n",
       "      <td>1.023856e+06</td>\n",
       "      <td>7372.0</td>\n",
       "    </tr>\n",
       "    <tr>\n",
       "      <th>188964</th>\n",
       "      <td>2020.0</td>\n",
       "      <td>1.540774e+06</td>\n",
       "      <td>1.540774e+06</td>\n",
       "      <td>7372.0</td>\n",
       "    </tr>\n",
       "  </tbody>\n",
       "</table>\n",
       "</div>"
      ],
      "text/plain": [
       "         fyear        mkvalt            me    sich\n",
       "188925  1985.0           NaN           NaN     NaN\n",
       "188926  1986.0           NaN  7.847394e+02     NaN\n",
       "188927  1987.0           NaN  2.688411e+03  7372.0\n",
       "188928  1988.0           NaN  3.595418e+03  7372.0\n",
       "188929  1989.0           NaN  2.893054e+03  7372.0\n",
       "188930  1990.0           NaN  8.641114e+03  7372.0\n",
       "188931  1991.0           NaN  1.186969e+04  7372.0\n",
       "188932  1992.0           NaN  1.904973e+04  7372.0\n",
       "188933  1993.0           NaN  2.481600e+04  7372.0\n",
       "188934  1994.0           NaN  2.999412e+04  7372.0\n",
       "188935  1995.0           NaN  5.314050e+04  7372.0\n",
       "188936  1996.0           NaN  7.171462e+04  7372.0\n",
       "188938  1997.0           NaN  1.521555e+05  7372.0\n",
       "188939  1998.0  2.676862e+05  2.676862e+05  7372.0\n",
       "188940  1999.0  4.607679e+05  4.607679e+05  7372.0\n",
       "188941  2000.0  4.226400e+05  4.226400e+05  7372.0\n",
       "188942  2001.0  3.929590e+05  3.929590e+05  7372.0\n",
       "188944  2002.0  2.931373e+05  2.931373e+05  7372.0\n",
       "188945  2003.0  2.761684e+05  2.761684e+05  7372.0\n",
       "188947  2004.0  3.102187e+05  3.102187e+05  7372.0\n",
       "188948  2005.0  2.660364e+05  2.660364e+05  7372.0\n",
       "188949  2006.0  2.344446e+05  2.344446e+05  7372.0\n",
       "188950  2007.0  2.764286e+05  2.764286e+05  7372.0\n",
       "188952  2008.0  2.517440e+05  2.517440e+05  7372.0\n",
       "188953  2009.0  2.117432e+05  2.117432e+05  7372.0\n",
       "188954  2010.0  1.994507e+05  1.994507e+05  7372.0\n",
       "188955  2011.0  2.177760e+05  2.177760e+05  7372.0\n",
       "188956  2012.0  2.563748e+05  2.563748e+05  7372.0\n",
       "188957  2013.0  2.876908e+05  2.876908e+05  7372.0\n",
       "188958  2014.0  3.435663e+05  3.435663e+05  7372.0\n",
       "188959  2015.0  3.543920e+05  3.543920e+05  7372.0\n",
       "188960  2016.0  3.995354e+05  3.995354e+05  7372.0\n",
       "188961  2017.0  5.313124e+05  5.313124e+05  7372.0\n",
       "188962  2018.0  7.570290e+05  7.570290e+05  7372.0\n",
       "188963  2019.0  1.023856e+06  1.023856e+06  7372.0\n",
       "188964  2020.0  1.540774e+06  1.540774e+06  7372.0"
      ]
     },
     "execution_count": 102,
     "metadata": {},
     "output_type": "execute_result"
    }
   ],
   "source": [
    "# compare me and mkvalt\n",
    "comp[comp.tic=='MSFT'][['fyear','mkvalt','me','sich']]"
   ]
  },
  {
   "cell_type": "code",
   "execution_count": 94,
   "metadata": {},
   "outputs": [],
   "source": [
    "comp['gvkey']=comp.gvkey.astype('int')"
   ]
  },
  {
   "cell_type": "markdown",
   "metadata": {},
   "source": [
    "# Merge"
   ]
  },
  {
   "cell_type": "code",
   "execution_count": 1034,
   "metadata": {},
   "outputs": [],
   "source": [
    "df=pd.merge(dt,comp, on=['gvkey','fyear'])"
   ]
  },
  {
   "cell_type": "code",
   "execution_count": 1035,
   "metadata": {},
   "outputs": [
    {
     "data": {
      "text/plain": [
       "(126096, 30)"
      ]
     },
     "execution_count": 1035,
     "metadata": {},
     "output_type": "execute_result"
    }
   ],
   "source": [
    "df.shape"
   ]
  },
  {
   "cell_type": "code",
   "execution_count": 1036,
   "metadata": {},
   "outputs": [],
   "source": [
    "df=df[df['sich'].notna()]"
   ]
  },
  {
   "cell_type": "code",
   "execution_count": 1037,
   "metadata": {},
   "outputs": [
    {
     "data": {
      "text/plain": [
       "(75229, 30)"
      ]
     },
     "execution_count": 1037,
     "metadata": {},
     "output_type": "execute_result"
    }
   ],
   "source": [
    "df.shape"
   ]
  },
  {
   "cell_type": "code",
   "execution_count": 1038,
   "metadata": {},
   "outputs": [],
   "source": [
    "#df= df[~((df.sich >= 4900) & (df.sich < 5000))]\n",
    "#df= df[~((df.sich >= 6000) & (df.sich < 7000))]"
   ]
  },
  {
   "cell_type": "code",
   "execution_count": 1039,
   "metadata": {},
   "outputs": [
    {
     "data": {
      "text/plain": [
       "(75229, 30)"
      ]
     },
     "execution_count": 1039,
     "metadata": {},
     "output_type": "execute_result"
    }
   ],
   "source": [
    "df.shape"
   ]
  },
  {
   "cell_type": "code",
   "execution_count": 1040,
   "metadata": {},
   "outputs": [],
   "source": [
    "#df=df[(df.aqc <= (0.05 * df['at']))]"
   ]
  },
  {
   "cell_type": "code",
   "execution_count": 1041,
   "metadata": {},
   "outputs": [
    {
     "data": {
      "text/plain": [
       "(75229, 30)"
      ]
     },
     "execution_count": 1041,
     "metadata": {},
     "output_type": "execute_result"
    }
   ],
   "source": [
    "df.shape"
   ]
  },
  {
   "cell_type": "code",
   "execution_count": 1042,
   "metadata": {
    "scrolled": true
   },
   "outputs": [],
   "source": [
    "# clip TFP\n",
    "lr = df['TFP'].describe(percentiles=[0.005])['0.5%']\n",
    "up = df['TFP'].describe(percentiles=[0.995])['99.5%']\n",
    "df.TFP = df.TFP.clip(lr, up)"
   ]
  },
  {
   "cell_type": "code",
   "execution_count": 1043,
   "metadata": {},
   "outputs": [
    {
     "data": {
      "text/plain": [
       "<matplotlib.axes._subplots.AxesSubplot at 0x7fc3c7a4f4a8>"
      ]
     },
     "execution_count": 1043,
     "metadata": {},
     "output_type": "execute_result"
    },
    {
     "data": {
      "image/png": "[encoded data removed]",
      "text/plain": [
       "<Figure size 432x288 with 1 Axes>"
      ]
     },
     "metadata": {
      "needs_background": "light"
     },
     "output_type": "display_data"
    }
   ],
   "source": [
    "df.TFP.hist()"
   ]
  },
  {
   "cell_type": "code",
   "execution_count": 1044,
   "metadata": {},
   "outputs": [],
   "source": [
    "df.loc[df.index,'TFP_frontier_fyear_sich'] = df.groupby(['fyear', 'sich'])['TFP'].transform(max)\n",
    "df.loc[df.index,'TFP_mean_fyear_sich'] = df.groupby(['fyear', 'sich'])['TFP'].transform(np.mean)\n",
    "df.loc[df.index,'TFP_median_fyear_sich'] = df.groupby(['fyear', 'sich'])['TFP'].transform(np.median)"
   ]
  },
  {
   "cell_type": "code",
   "execution_count": 1045,
   "metadata": {},
   "outputs": [],
   "source": [
    "df.loc[df.index,'gap'] = df['TFP_frontier_fyear_sich'] - df['TFP']"
   ]
  },
  {
   "cell_type": "code",
   "execution_count": 1046,
   "metadata": {
    "scrolled": true
   },
   "outputs": [
    {
     "data": {
      "text/plain": [
       "fyear\n",
       "1984       1\n",
       "1985       1\n",
       "1986       1\n",
       "1987    2272\n",
       "1988    2342\n",
       "1989    2328\n",
       "1990    2326\n",
       "1991    2337\n",
       "1992    2425\n",
       "1993    2543\n",
       "1994    2718\n",
       "1995    2901\n",
       "1996    2958\n",
       "1997    3117\n",
       "1998    3195\n",
       "1999    3117\n",
       "2000    2840\n",
       "2001    2671\n",
       "2002    2612\n",
       "2003    2597\n",
       "2004    2527\n",
       "2005    2436\n",
       "2006    2308\n",
       "2007    2156\n",
       "2008    2092\n",
       "2009    2033\n",
       "2010    2008\n",
       "2011    1921\n",
       "2012    1849\n",
       "2013    1787\n",
       "Name: gap, dtype: int64"
      ]
     },
     "execution_count": 1046,
     "metadata": {},
     "output_type": "execute_result"
    }
   ],
   "source": [
    "df.groupby('fyear').gap.nunique()"
   ]
  },
  {
   "cell_type": "code",
   "execution_count": 1047,
   "metadata": {},
   "outputs": [],
   "source": [
    "df=df[df.fyear>=1987]"
   ]
  },
  {
   "cell_type": "code",
   "execution_count": 1048,
   "metadata": {},
   "outputs": [
    {
     "data": {
      "text/plain": [
       "<matplotlib.axes._subplots.AxesSubplot at 0x7fc3c7eaa320>"
      ]
     },
     "execution_count": 1048,
     "metadata": {},
     "output_type": "execute_result"
    },
    {
     "data": {
      "image/png": "[encoded data removed]",
      "text/plain": [
       "<Figure size 432x288 with 1 Axes>"
      ]
     },
     "metadata": {
      "needs_background": "light"
     },
     "output_type": "display_data"
    }
   ],
   "source": [
    "df.gap.hist()"
   ]
  },
  {
   "cell_type": "code",
   "execution_count": 1049,
   "metadata": {},
   "outputs": [],
   "source": [
    "df=df[df['be'].notna()]\n",
    "df=df[df['me'].notna()]\n",
    "\n",
    "df=df[df['be']>0]\n",
    "df=df[df['me']>0]"
   ]
  },
  {
   "cell_type": "code",
   "execution_count": 1050,
   "metadata": {},
   "outputs": [
    {
     "data": {
      "text/plain": [
       "(67000, 34)"
      ]
     },
     "execution_count": 1050,
     "metadata": {},
     "output_type": "execute_result"
    }
   ],
   "source": [
    "df.shape"
   ]
  },
  {
   "cell_type": "code",
   "execution_count": 1051,
   "metadata": {},
   "outputs": [],
   "source": [
    "df['beme'] = df['be']/df['me']"
   ]
  },
  {
   "cell_type": "code",
   "execution_count": 1052,
   "metadata": {},
   "outputs": [
    {
     "data": {
      "text/plain": [
       "count     67000.000000\n",
       "mean         18.685475\n",
       "std        1697.681110\n",
       "min           0.000141\n",
       "25%           0.329861\n",
       "50%           0.559164\n",
       "75%           0.913425\n",
       "max      267639.093318\n",
       "Name: beme, dtype: float64"
      ]
     },
     "execution_count": 1052,
     "metadata": {},
     "output_type": "execute_result"
    }
   ],
   "source": [
    "df['beme'].describe()"
   ]
  },
  {
   "cell_type": "code",
   "execution_count": 1053,
   "metadata": {},
   "outputs": [
    {
     "data": {
      "text/plain": [
       "<matplotlib.axes._subplots.AxesSubplot at 0x7fc3bb887e80>"
      ]
     },
     "execution_count": 1053,
     "metadata": {},
     "output_type": "execute_result"
    },
    {
     "data": {
      "image/png": "[encoded data removed]",
      "text/plain": [
       "<Figure size 432x288 with 1 Axes>"
      ]
     },
     "metadata": {
      "needs_background": "light"
     },
     "output_type": "display_data"
    }
   ],
   "source": [
    "df['beme'].hist()"
   ]
  },
  {
   "cell_type": "code",
   "execution_count": 1054,
   "metadata": {},
   "outputs": [
    {
     "data": {
      "text/html": [
       "<div>\n",
       "<style scoped>\n",
       "    .dataframe tbody tr th:only-of-type {\n",
       "        vertical-align: middle;\n",
       "    }\n",
       "\n",
       "    .dataframe tbody tr th {\n",
       "        vertical-align: top;\n",
       "    }\n",
       "\n",
       "    .dataframe thead th {\n",
       "        text-align: right;\n",
       "    }\n",
       "</style>\n",
       "<table border=\"1\" class=\"dataframe\">\n",
       "  <thead>\n",
       "    <tr style=\"text-align: right;\">\n",
       "      <th></th>\n",
       "      <th>gap</th>\n",
       "      <th>beme</th>\n",
       "    </tr>\n",
       "  </thead>\n",
       "  <tbody>\n",
       "    <tr>\n",
       "      <th>gap</th>\n",
       "      <td>1.000000</td>\n",
       "      <td>-0.007303</td>\n",
       "    </tr>\n",
       "    <tr>\n",
       "      <th>beme</th>\n",
       "      <td>-0.007303</td>\n",
       "      <td>1.000000</td>\n",
       "    </tr>\n",
       "  </tbody>\n",
       "</table>\n",
       "</div>"
      ],
      "text/plain": [
       "           gap      beme\n",
       "gap   1.000000 -0.007303\n",
       "beme -0.007303  1.000000"
      ]
     },
     "execution_count": 1054,
     "metadata": {},
     "output_type": "execute_result"
    }
   ],
   "source": [
    "df[['gap', 'beme']].corr()"
   ]
  },
  {
   "cell_type": "code",
   "execution_count": 1055,
   "metadata": {},
   "outputs": [],
   "source": [
    "from scipy.stats.mstats import winsorize"
   ]
  },
  {
   "cell_type": "code",
   "execution_count": 1056,
   "metadata": {},
   "outputs": [
    {
     "data": {
      "text/plain": [
       "count     67000.000000\n",
       "mean         18.685475\n",
       "std        1697.681110\n",
       "min           0.000141\n",
       "25%           0.329861\n",
       "50%           0.559164\n",
       "75%           0.913425\n",
       "max      267639.093318\n",
       "Name: beme, dtype: float64"
      ]
     },
     "execution_count": 1056,
     "metadata": {},
     "output_type": "execute_result"
    }
   ],
   "source": [
    "df['beme'].describe()"
   ]
  },
  {
   "cell_type": "code",
   "execution_count": 1057,
   "metadata": {},
   "outputs": [],
   "source": [
    "lr = df['beme'].describe(percentiles=[0.005])['0.5%']\n",
    "up = df['beme'].describe(percentiles=[0.995])['99.5%']\n",
    "df.beme = df.beme.clip(lr, up)"
   ]
  },
  {
   "cell_type": "code",
   "execution_count": 1058,
   "metadata": {},
   "outputs": [
    {
     "data": {
      "text/plain": [
       "(67000, 35)"
      ]
     },
     "execution_count": 1058,
     "metadata": {},
     "output_type": "execute_result"
    }
   ],
   "source": [
    "df.shape"
   ]
  },
  {
   "cell_type": "code",
   "execution_count": 1059,
   "metadata": {
    "scrolled": true
   },
   "outputs": [
    {
     "data": {
      "text/plain": [
       "<matplotlib.axes._subplots.AxesSubplot at 0x7fc3c5078898>"
      ]
     },
     "execution_count": 1059,
     "metadata": {},
     "output_type": "execute_result"
    },
    {
     "data": {
      "image/png": "[encoded data removed]",
      "text/plain": [
       "<Figure size 432x288 with 1 Axes>"
      ]
     },
     "metadata": {
      "needs_background": "light"
     },
     "output_type": "display_data"
    }
   ],
   "source": [
    "df.beme.hist()"
   ]
  },
  {
   "cell_type": "code",
   "execution_count": 1060,
   "metadata": {},
   "outputs": [],
   "source": [
    "# clip gap\n",
    "# lr = df['gap'].describe(percentiles=[0.005])['0.5%']\n",
    "# up = df['gap'].describe(percentiles=[0.995])['99.5%']\n",
    "# df.gap = df.gap.clip(lr, up)"
   ]
  },
  {
   "cell_type": "code",
   "execution_count": 1061,
   "metadata": {},
   "outputs": [
    {
     "data": {
      "text/html": [
       "<div>\n",
       "<style scoped>\n",
       "    .dataframe tbody tr th:only-of-type {\n",
       "        vertical-align: middle;\n",
       "    }\n",
       "\n",
       "    .dataframe tbody tr th {\n",
       "        vertical-align: top;\n",
       "    }\n",
       "\n",
       "    .dataframe thead th {\n",
       "        text-align: right;\n",
       "    }\n",
       "</style>\n",
       "<table border=\"1\" class=\"dataframe\">\n",
       "  <thead>\n",
       "    <tr style=\"text-align: right;\">\n",
       "      <th></th>\n",
       "      <th>gap</th>\n",
       "      <th>beme</th>\n",
       "    </tr>\n",
       "  </thead>\n",
       "  <tbody>\n",
       "    <tr>\n",
       "      <th>gap</th>\n",
       "      <td>1.000000</td>\n",
       "      <td>0.084366</td>\n",
       "    </tr>\n",
       "    <tr>\n",
       "      <th>beme</th>\n",
       "      <td>0.084366</td>\n",
       "      <td>1.000000</td>\n",
       "    </tr>\n",
       "  </tbody>\n",
       "</table>\n",
       "</div>"
      ],
      "text/plain": [
       "           gap      beme\n",
       "gap   1.000000  0.084366\n",
       "beme  0.084366  1.000000"
      ]
     },
     "execution_count": 1061,
     "metadata": {},
     "output_type": "execute_result"
    }
   ],
   "source": [
    "df[['gap', 'beme']].corr()"
   ]
  },
  {
   "cell_type": "code",
   "execution_count": 1062,
   "metadata": {
    "scrolled": false
   },
   "outputs": [
    {
     "data": {
      "text/plain": [
       "<matplotlib.axes._subplots.AxesSubplot at 0x7fc3b7e79550>"
      ]
     },
     "execution_count": 1062,
     "metadata": {},
     "output_type": "execute_result"
    },
    {
     "data": {
      "image/png": "[encoded data removed]",
      "text/plain": [
       "<Figure size 432x288 with 1 Axes>"
      ]
     },
     "metadata": {
      "needs_background": "light"
     },
     "output_type": "display_data"
    }
   ],
   "source": [
    "df.plot.scatter(x='gap', y='beme')"
   ]
  },
  {
   "cell_type": "markdown",
   "metadata": {},
   "source": [
    "# Panel Regressions"
   ]
  },
  {
   "cell_type": "code",
   "execution_count": 1063,
   "metadata": {},
   "outputs": [],
   "source": [
    "from linearmodels import PanelOLS"
   ]
  },
  {
   "cell_type": "code",
   "execution_count": 1064,
   "metadata": {},
   "outputs": [],
   "source": [
    "df=df.set_index(['gvkey','fyear'])"
   ]
  },
  {
   "cell_type": "code",
   "execution_count": 1065,
   "metadata": {},
   "outputs": [],
   "source": [
    "df['size'] = np.log(df['at'])"
   ]
  },
  {
   "cell_type": "code",
   "execution_count": 1066,
   "metadata": {
    "scrolled": true
   },
   "outputs": [
    {
     "name": "stderr",
     "output_type": "stream",
     "text": [
      "/Users/shinggg/anaconda3/lib/python3.6/site-packages/linearmodels/panel/data.py:98: FutureWarning: is_categorical is deprecated and will be removed in a future version.  Use is_categorical_dtype instead\n",
      "  if is_categorical(s):\n"
     ]
    },
    {
     "name": "stdout",
     "output_type": "stream",
     "text": [
      "                          PanelOLS Estimation Summary                           \n",
      "================================================================================\n",
      "Dep. Variable:                   beme   R-squared:                        0.0271\n",
      "Estimator:                   PanelOLS   R-squared (Between):             -0.0964\n",
      "No. Observations:               67000   R-squared (Within):               0.0283\n",
      "Date:                Wed, Dec 09 2020   R-squared (Overall):             -0.0454\n",
      "Time:                        15:07:25   Log-likelihood                -4.904e+04\n",
      "Cov. Estimator:        Driscoll-Kraay                                           \n",
      "                                        F-statistic:                      545.41\n",
      "Entities:                        8286   P-value                           0.0000\n",
      "Avg Obs:                       8.0859   Distribution:                 F(3,58685)\n",
      "Min Obs:                       1.0000                                           \n",
      "Max Obs:                       27.000   F-statistic (robust):             80.682\n",
      "                                        P-value                           0.0000\n",
      "Time periods:                      27   Distribution:                 F(3,58685)\n",
      "Avg Obs:                       2481.5                                           \n",
      "Min Obs:                       1909.0                                           \n",
      "Max Obs:                       3221.0                                           \n",
      "                                                                                \n",
      "                                  Parameter Estimates                                   \n",
      "========================================================================================\n",
      "                      Parameter  Std. Err.     T-stat    P-value    Lower CI    Upper CI\n",
      "----------------------------------------------------------------------------------------\n",
      "Intercept                0.3257     0.0833     3.9098     0.0001      0.1624      0.4890\n",
      "gap                      0.2039     0.0165     12.368     0.0000      0.1715      0.2362\n",
      "np.log(gap + 0.0001)     0.0115     0.0014     8.2840     0.0000      0.0088      0.0142\n",
      "size                     0.0539     0.0150     3.5876     0.0003      0.0245      0.0834\n",
      "========================================================================================\n",
      "\n",
      "F-test for Poolability: 7.7171\n",
      "P-value: 0.0000\n",
      "Distribution: F(8311,58685)\n",
      "\n",
      "Included effects: Entity, Time\n"
     ]
    }
   ],
   "source": [
    "mod = PanelOLS.from_formula('beme ~ 1 + gap + np.log(gap+0.0001) + size + EntityEffects + TimeEffects', data=df)\n",
    "res = mod.fit(cov_type='kernel')\n",
    "print(res)"
   ]
  },
  {
   "cell_type": "code",
   "execution_count": 1067,
   "metadata": {
    "scrolled": true
   },
   "outputs": [
    {
     "name": "stderr",
     "output_type": "stream",
     "text": [
      "/Users/shinggg/anaconda3/lib/python3.6/site-packages/linearmodels/utility.py:549: MissingValueWarning: \n",
      "Inputs contain missing values. Dropping rows with missing observations.\n",
      "  warnings.warn(missing_value_warning_msg, MissingValueWarning)\n"
     ]
    },
    {
     "name": "stdout",
     "output_type": "stream",
     "text": [
      "                          PanelOLS Estimation Summary                           \n",
      "================================================================================\n",
      "Dep. Variable:                   beme   R-squared:                        0.0300\n",
      "Estimator:                   PanelOLS   R-squared (Between):             -0.1200\n",
      "No. Observations:               39466   R-squared (Within):               0.0255\n",
      "Date:                Wed, Dec 09 2020   R-squared (Overall):             -0.0697\n",
      "Time:                        15:07:26   Log-likelihood                -2.472e+04\n",
      "Cov. Estimator:        Driscoll-Kraay                                           \n",
      "                                        F-statistic:                      118.14\n",
      "Entities:                        5039   P-value                           0.0000\n",
      "Avg Obs:                       7.8321   Distribution:                 F(9,34392)\n",
      "Min Obs:                       1.0000                                           \n",
      "Max Obs:                       27.000   F-statistic (robust):             74.092\n",
      "                                        P-value                           0.0000\n",
      "Time periods:                      27   Distribution:                 F(9,34392)\n",
      "Avg Obs:                       1461.7                                           \n",
      "Min Obs:                       1218.0                                           \n",
      "Max Obs:                       1822.0                                           \n",
      "                                                                                \n",
      "                             Parameter Estimates                              \n",
      "==============================================================================\n",
      "            Parameter  Std. Err.     T-stat    P-value    Lower CI    Upper CI\n",
      "------------------------------------------------------------------------------\n",
      "Intercept      0.2073     0.0773     2.6809     0.0073      0.0557      0.3589\n",
      "gap            0.2170     0.0157     13.844     0.0000      0.1863      0.2477\n",
      "size           0.0577     0.0141     4.1019     0.0000      0.0301      0.0853\n",
      "ppent       1.447e-05  1.544e-06     9.3703     0.0000   1.144e-05    1.75e-05\n",
      "emp           -0.0005     0.0004    -1.2274     0.2197     -0.0012      0.0003\n",
      "capx       -4.352e-05  6.398e-06    -6.8026     0.0000  -5.606e-05  -3.098e-05\n",
      "sale       -1.032e-05  6.482e-06    -1.5917     0.1115  -2.302e-05   2.388e-06\n",
      "cogs         7.96e-06  7.827e-06     1.0169     0.3092  -7.382e-06    2.33e-05\n",
      "xrd        -2.765e-05  1.301e-05    -2.1249     0.0336  -5.315e-05  -2.145e-06\n",
      "xsga        2.299e-05  1.197e-05     1.9206     0.0548  -4.724e-07   4.646e-05\n",
      "==============================================================================\n",
      "\n",
      "F-test for Poolability: 7.7521\n",
      "P-value: 0.0000\n",
      "Distribution: F(5064,34392)\n",
      "\n",
      "Included effects: Entity, Time\n"
     ]
    }
   ],
   "source": [
    "mod = PanelOLS.from_formula('beme ~ 1 + gap + size + ppent+ emp+ capx+ sale+ cogs+ xrd+ xsga+ EntityEffects + TimeEffects', data=df)\n",
    "res = mod.fit(cov_type='kernel')\n",
    "print(res)"
   ]
  },
  {
   "cell_type": "code",
   "execution_count": 1068,
   "metadata": {
    "scrolled": true
   },
   "outputs": [
    {
     "name": "stdout",
     "output_type": "stream",
     "text": [
      "                          PanelOLS Estimation Summary                           \n",
      "================================================================================\n",
      "Dep. Variable:                   beme   R-squared:                        0.0598\n",
      "Estimator:                   PanelOLS   R-squared (Between):             -0.0412\n",
      "No. Observations:               67000   R-squared (Within):               0.0550\n",
      "Date:                Wed, Dec 09 2020   R-squared (Overall):              0.0155\n",
      "Time:                        15:07:26   Log-likelihood                -4.789e+04\n",
      "Cov. Estimator:        Driscoll-Kraay                                           \n",
      "                                        F-statistic:                      622.13\n",
      "Entities:                        8286   P-value                           0.0000\n",
      "Avg Obs:                       8.0859   Distribution:                 F(6,58682)\n",
      "Min Obs:                       1.0000                                           \n",
      "Max Obs:                       27.000   F-statistic (robust):             78.120\n",
      "                                        P-value                           0.0000\n",
      "Time periods:                      27   Distribution:                 F(6,58682)\n",
      "Avg Obs:                       2481.5                                           \n",
      "Min Obs:                       1909.0                                           \n",
      "Max Obs:                       3221.0                                           \n",
      "                                                                                \n",
      "                              Parameter Estimates                               \n",
      "================================================================================\n",
      "              Parameter  Std. Err.     T-stat    P-value    Lower CI    Upper CI\n",
      "--------------------------------------------------------------------------------\n",
      "Intercept       -0.0350     0.0688    -0.5080     0.6114     -0.1698      0.0999\n",
      "TFP             -0.3581     0.0229    -15.664     0.0000     -0.4029     -0.3133\n",
      "size             0.2375     0.0236     10.046     0.0000      0.1911      0.2838\n",
      "ppent         3.399e-06  1.085e-06     3.1326     0.0017   1.272e-06   5.526e-06\n",
      "np.sqrt(emp)    -0.0142     0.0050    -2.8190     0.0048     -0.0241     -0.0043\n",
      "np.log(capx)    -0.0976     0.0100    -9.7762     0.0000     -0.1172     -0.0780\n",
      "np.log(sale)    -0.0728     0.0217    -3.3576     0.0008     -0.1154     -0.0303\n",
      "================================================================================\n",
      "\n",
      "F-test for Poolability: 7.5580\n",
      "P-value: 0.0000\n",
      "Distribution: F(8311,58682)\n",
      "\n",
      "Included effects: Entity, Time\n"
     ]
    }
   ],
   "source": [
    "mod = PanelOLS.from_formula('beme ~ 1 + TFP + size + ppent + np.sqrt(emp) + np.log(capx)+ np.log(sale)+ EntityEffects + TimeEffects', data=df)\n",
    "res = mod.fit(cov_type='kernel')\n",
    "print(res)"
   ]
  },
  {
   "cell_type": "markdown",
   "metadata": {},
   "source": [
    "# Sort Portfolios"
   ]
  },
  {
   "cell_type": "code",
   "execution_count": 1069,
   "metadata": {},
   "outputs": [
    {
     "data": {
      "text/html": [
       "<div>\n",
       "<style scoped>\n",
       "    .dataframe tbody tr th:only-of-type {\n",
       "        vertical-align: middle;\n",
       "    }\n",
       "\n",
       "    .dataframe tbody tr th {\n",
       "        vertical-align: top;\n",
       "    }\n",
       "\n",
       "    .dataframe thead th {\n",
       "        text-align: right;\n",
       "    }\n",
       "</style>\n",
       "<table border=\"1\" class=\"dataframe\">\n",
       "  <thead>\n",
       "    <tr style=\"text-align: right;\">\n",
       "      <th></th>\n",
       "      <th></th>\n",
       "      <th>TFP</th>\n",
       "      <th>tic</th>\n",
       "      <th>conm</th>\n",
       "      <th>datadate</th>\n",
       "      <th>sich</th>\n",
       "      <th>prcc_f</th>\n",
       "      <th>csho</th>\n",
       "      <th>at</th>\n",
       "      <th>aqc</th>\n",
       "      <th>ppegt</th>\n",
       "      <th>...</th>\n",
       "      <th>mkvalt</th>\n",
       "      <th>ps</th>\n",
       "      <th>be</th>\n",
       "      <th>me</th>\n",
       "      <th>TFP_frontier_fyear_sich</th>\n",
       "      <th>TFP_mean_fyear_sich</th>\n",
       "      <th>TFP_median_fyear_sich</th>\n",
       "      <th>gap</th>\n",
       "      <th>beme</th>\n",
       "      <th>size</th>\n",
       "    </tr>\n",
       "    <tr>\n",
       "      <th>gvkey</th>\n",
       "      <th>fyear</th>\n",
       "      <th></th>\n",
       "      <th></th>\n",
       "      <th></th>\n",
       "      <th></th>\n",
       "      <th></th>\n",
       "      <th></th>\n",
       "      <th></th>\n",
       "      <th></th>\n",
       "      <th></th>\n",
       "      <th></th>\n",
       "      <th></th>\n",
       "      <th></th>\n",
       "      <th></th>\n",
       "      <th></th>\n",
       "      <th></th>\n",
       "      <th></th>\n",
       "      <th></th>\n",
       "      <th></th>\n",
       "      <th></th>\n",
       "      <th></th>\n",
       "      <th></th>\n",
       "    </tr>\n",
       "  </thead>\n",
       "  <tbody>\n",
       "    <tr>\n",
       "      <th>1003</th>\n",
       "      <th>1987</th>\n",
       "      <td>-0.431385</td>\n",
       "      <td>ANTQ</td>\n",
       "      <td>A.A. IMPORTING CO INC</td>\n",
       "      <td>1988-01-31</td>\n",
       "      <td>5712.0</td>\n",
       "      <td>2.750000</td>\n",
       "      <td>2.683</td>\n",
       "      <td>16.042</td>\n",
       "      <td>0.000</td>\n",
       "      <td>2.297</td>\n",
       "      <td>...</td>\n",
       "      <td>NaN</td>\n",
       "      <td>0.0</td>\n",
       "      <td>7.643</td>\n",
       "      <td>7.378250</td>\n",
       "      <td>0.281747</td>\n",
       "      <td>-0.326386</td>\n",
       "      <td>-0.228362</td>\n",
       "      <td>0.713133</td>\n",
       "      <td>1.035882</td>\n",
       "      <td>2.775210</td>\n",
       "    </tr>\n",
       "    <tr>\n",
       "      <th rowspan=\"4\" valign=\"top\">1004</th>\n",
       "      <th>1987</th>\n",
       "      <td>-0.094028</td>\n",
       "      <td>AIR</td>\n",
       "      <td>AAR CORP</td>\n",
       "      <td>1988-05-31</td>\n",
       "      <td>5080.0</td>\n",
       "      <td>25.124977</td>\n",
       "      <td>15.870</td>\n",
       "      <td>284.948</td>\n",
       "      <td>2.749</td>\n",
       "      <td>76.251</td>\n",
       "      <td>...</td>\n",
       "      <td>NaN</td>\n",
       "      <td>0.0</td>\n",
       "      <td>158.497</td>\n",
       "      <td>398.733387</td>\n",
       "      <td>-0.020875</td>\n",
       "      <td>-0.314268</td>\n",
       "      <td>-0.369059</td>\n",
       "      <td>0.073152</td>\n",
       "      <td>0.397501</td>\n",
       "      <td>5.652307</td>\n",
       "    </tr>\n",
       "    <tr>\n",
       "      <th>1988</th>\n",
       "      <td>0.093879</td>\n",
       "      <td>AIR</td>\n",
       "      <td>AAR CORP</td>\n",
       "      <td>1989-05-31</td>\n",
       "      <td>5080.0</td>\n",
       "      <td>31.249992</td>\n",
       "      <td>16.009</td>\n",
       "      <td>356.391</td>\n",
       "      <td>2.397</td>\n",
       "      <td>85.414</td>\n",
       "      <td>...</td>\n",
       "      <td>NaN</td>\n",
       "      <td>0.0</td>\n",
       "      <td>202.580</td>\n",
       "      <td>500.281128</td>\n",
       "      <td>0.093879</td>\n",
       "      <td>-0.647322</td>\n",
       "      <td>-0.564653</td>\n",
       "      <td>0.000000</td>\n",
       "      <td>0.404932</td>\n",
       "      <td>5.876028</td>\n",
       "    </tr>\n",
       "    <tr>\n",
       "      <th>1989</th>\n",
       "      <td>-0.176446</td>\n",
       "      <td>AIR</td>\n",
       "      <td>AAR CORP</td>\n",
       "      <td>1990-05-31</td>\n",
       "      <td>5080.0</td>\n",
       "      <td>21.249998</td>\n",
       "      <td>16.082</td>\n",
       "      <td>388.521</td>\n",
       "      <td>0.000</td>\n",
       "      <td>105.646</td>\n",
       "      <td>...</td>\n",
       "      <td>NaN</td>\n",
       "      <td>0.0</td>\n",
       "      <td>225.548</td>\n",
       "      <td>341.742462</td>\n",
       "      <td>0.225044</td>\n",
       "      <td>-0.363125</td>\n",
       "      <td>-0.387185</td>\n",
       "      <td>0.401490</td>\n",
       "      <td>0.659994</td>\n",
       "      <td>5.962347</td>\n",
       "    </tr>\n",
       "    <tr>\n",
       "      <th>1990</th>\n",
       "      <td>-0.032535</td>\n",
       "      <td>AIR</td>\n",
       "      <td>AAR CORP</td>\n",
       "      <td>1991-05-31</td>\n",
       "      <td>5080.0</td>\n",
       "      <td>14.124999</td>\n",
       "      <td>15.891</td>\n",
       "      <td>379.958</td>\n",
       "      <td>0.000</td>\n",
       "      <td>113.060</td>\n",
       "      <td>...</td>\n",
       "      <td>NaN</td>\n",
       "      <td>0.0</td>\n",
       "      <td>231.778</td>\n",
       "      <td>224.460360</td>\n",
       "      <td>0.428965</td>\n",
       "      <td>-0.451156</td>\n",
       "      <td>-0.164397</td>\n",
       "      <td>0.461501</td>\n",
       "      <td>1.032601</td>\n",
       "      <td>5.940061</td>\n",
       "    </tr>\n",
       "  </tbody>\n",
       "</table>\n",
       "<p>5 rows × 34 columns</p>\n",
       "</div>"
      ],
      "text/plain": [
       "                  TFP   tic                   conm    datadate    sich  \\\n",
       "gvkey fyear                                                              \n",
       "1003  1987  -0.431385  ANTQ  A.A. IMPORTING CO INC  1988-01-31  5712.0   \n",
       "1004  1987  -0.094028   AIR               AAR CORP  1988-05-31  5080.0   \n",
       "      1988   0.093879   AIR               AAR CORP  1989-05-31  5080.0   \n",
       "      1989  -0.176446   AIR               AAR CORP  1990-05-31  5080.0   \n",
       "      1990  -0.032535   AIR               AAR CORP  1991-05-31  5080.0   \n",
       "\n",
       "                prcc_f    csho       at    aqc    ppegt  ...  mkvalt   ps  \\\n",
       "gvkey fyear                                              ...                \n",
       "1003  1987    2.750000   2.683   16.042  0.000    2.297  ...     NaN  0.0   \n",
       "1004  1987   25.124977  15.870  284.948  2.749   76.251  ...     NaN  0.0   \n",
       "      1988   31.249992  16.009  356.391  2.397   85.414  ...     NaN  0.0   \n",
       "      1989   21.249998  16.082  388.521  0.000  105.646  ...     NaN  0.0   \n",
       "      1990   14.124999  15.891  379.958  0.000  113.060  ...     NaN  0.0   \n",
       "\n",
       "                  be          me  TFP_frontier_fyear_sich  \\\n",
       "gvkey fyear                                                 \n",
       "1003  1987     7.643    7.378250                 0.281747   \n",
       "1004  1987   158.497  398.733387                -0.020875   \n",
       "      1988   202.580  500.281128                 0.093879   \n",
       "      1989   225.548  341.742462                 0.225044   \n",
       "      1990   231.778  224.460360                 0.428965   \n",
       "\n",
       "             TFP_mean_fyear_sich  TFP_median_fyear_sich       gap      beme  \\\n",
       "gvkey fyear                                                                   \n",
       "1003  1987             -0.326386              -0.228362  0.713133  1.035882   \n",
       "1004  1987             -0.314268              -0.369059  0.073152  0.397501   \n",
       "      1988             -0.647322              -0.564653  0.000000  0.404932   \n",
       "      1989             -0.363125              -0.387185  0.401490  0.659994   \n",
       "      1990             -0.451156              -0.164397  0.461501  1.032601   \n",
       "\n",
       "                 size  \n",
       "gvkey fyear            \n",
       "1003  1987   2.775210  \n",
       "1004  1987   5.652307  \n",
       "      1988   5.876028  \n",
       "      1989   5.962347  \n",
       "      1990   5.940061  \n",
       "\n",
       "[5 rows x 34 columns]"
      ]
     },
     "execution_count": 1069,
     "metadata": {},
     "output_type": "execute_result"
    }
   ],
   "source": [
    "df.head()"
   ]
  },
  {
   "cell_type": "code",
   "execution_count": 1070,
   "metadata": {},
   "outputs": [
    {
     "data": {
      "text/plain": [
       "count    67000.000000\n",
       "mean         0.670598\n",
       "std          0.594392\n",
       "min          0.000000\n",
       "25%          0.218009\n",
       "50%          0.532843\n",
       "75%          0.993217\n",
       "max          3.440073\n",
       "Name: gap, dtype: float64"
      ]
     },
     "execution_count": 1070,
     "metadata": {},
     "output_type": "execute_result"
    }
   ],
   "source": [
    "df.gap.describe()"
   ]
  },
  {
   "cell_type": "markdown",
   "metadata": {},
   "source": [
    "## Overall sort"
   ]
  },
  {
   "cell_type": "code",
   "execution_count": 1071,
   "metadata": {},
   "outputs": [],
   "source": [
    "dec_dict=df.gap.quantile([0, 0.1, 0.2, 0.3, 0.4, 0.5, 0.6, 0.7, 0.8, 0.9, 1]).to_dict()\n",
    "#dec_dict=df.gap.quantile([0, 0.2, 0.4, 0.6, 0.8, 1]).to_dict()"
   ]
  },
  {
   "cell_type": "code",
   "execution_count": 1072,
   "metadata": {},
   "outputs": [
    {
     "data": {
      "text/plain": [
       "{0.0: 0.0,\n",
       " 0.1: 0.0,\n",
       " 0.2: 0.15052082000000003,\n",
       " 0.3: 0.27938987,\n",
       " 0.4: 0.4023993,\n",
       " 0.5: 0.53284265,\n",
       " 0.6: 0.6885857000000002,\n",
       " 0.7: 0.8766934060000002,\n",
       " 0.8: 1.12425224,\n",
       " 0.9: 1.4777494300000003,\n",
       " 1.0: 3.4400725400000005}"
      ]
     },
     "execution_count": 1072,
     "metadata": {},
     "output_type": "execute_result"
    }
   ],
   "source": [
    "dec_dict"
   ]
  },
  {
   "cell_type": "code",
   "execution_count": 1073,
   "metadata": {},
   "outputs": [
    {
     "data": {
      "text/plain": [
       "gap     0.000000\n",
       "TFP     0.067226\n",
       "beme    0.556835\n",
       "dtype: float64"
      ]
     },
     "execution_count": 1073,
     "metadata": {},
     "output_type": "execute_result"
    }
   ],
   "source": [
    "df.loc[(df.gap >=dec_dict[0.0]) & (df.gap <= dec_dict[0.1]),['gap','TFP','beme']].mean()"
   ]
  },
  {
   "cell_type": "code",
   "execution_count": 1074,
   "metadata": {},
   "outputs": [
    {
     "data": {
      "text/plain": [
       "[0.1, 0.2, 0.3, 0.4, 0.5, 0.6, 0.7, 0.8, 0.9, 1.0]"
      ]
     },
     "execution_count": 1074,
     "metadata": {},
     "output_type": "execute_result"
    }
   ],
   "source": [
    "list(dec_dict.keys())[1::]"
   ]
  },
  {
   "cell_type": "code",
   "execution_count": 1075,
   "metadata": {},
   "outputs": [
    {
     "name": "stdout",
     "output_type": "stream",
     "text": [
      "decile = 0.1\n",
      "0.2\n",
      "0.3\n",
      "0.4\n",
      "0.5\n",
      "0.6\n",
      "0.7\n",
      "0.8\n",
      "0.9\n",
      "1.0\n"
     ]
    }
   ],
   "source": [
    "var_list=['gap','TFP','beme']\n",
    "overall_sort_dict={}\n",
    "overall_sort_gap=[]\n",
    "overall_sort_TFP=[]\n",
    "overall_sort_beme=[]\n",
    "\n",
    "for i in range(0,10):\n",
    "    decile = list(dec_dict.keys())[1::][i]\n",
    "    if i == 0:\n",
    "        print('decile = 0.1')\n",
    "        overall_sort_gap.append(df.loc[(df.gap >=dec_dict[0]) & (df.gap <= dec_dict[decile]),var_list].mean()['gap'])\n",
    "        overall_sort_TFP.append(df.loc[(df.gap >=dec_dict[0]) & (df.gap <= dec_dict[decile]),var_list].mean()['TFP'])\n",
    "        overall_sort_beme.append(df.loc[(df.gap >=dec_dict[0]) & (df.gap <= dec_dict[decile]),var_list].mean()['beme'])\n",
    "    else:\n",
    "        print(decile)\n",
    "        decile0 = list(dec_dict.keys())[1::][i-1]\n",
    "        overall_sort_gap.append(df.loc[(df.gap >dec_dict[decile0]) & (df.gap <= dec_dict[decile]),var_list].mean()['gap'])\n",
    "        overall_sort_TFP.append(df.loc[(df.gap >dec_dict[decile0]) & (df.gap <= dec_dict[decile]),var_list].mean()['TFP'])\n",
    "        overall_sort_beme.append(df.loc[(df.gap >dec_dict[decile0]) & (df.gap <= dec_dict[decile]),var_list].mean()['beme'])\n",
    "        \n",
    "overall_sort_dict['gap']=overall_sort_gap\n",
    "overall_sort_dict['TFP']=overall_sort_TFP\n",
    "overall_sort_dict['beme']=overall_sort_beme"
   ]
  },
  {
   "cell_type": "code",
   "execution_count": 1076,
   "metadata": {},
   "outputs": [
    {
     "data": {
      "text/plain": [
       "{'gap': [0.0,\n",
       "  0.08237434948156065,\n",
       "  0.21681652009253854,\n",
       "  0.34050011289253834,\n",
       "  0.46661361824776154,\n",
       "  0.6086273300149257,\n",
       "  0.7790682804865691,\n",
       "  0.9949706126835797,\n",
       "  1.288768774952242,\n",
       "  1.941601104035814],\n",
       " 'TFP': [0.06722551806857563,\n",
       "  -0.10491684119009374,\n",
       "  -0.18113325168656744,\n",
       "  -0.2339380599701488,\n",
       "  -0.2851077481492539,\n",
       "  -0.3159484932925375,\n",
       "  -0.3640260104477618,\n",
       "  -0.41933592455223856,\n",
       "  -0.5328061304507478,\n",
       "  -1.0762119208507401],\n",
       " 'beme': [0.5568346644645168,\n",
       "  0.5947000940930518,\n",
       "  0.676683117722942,\n",
       "  0.782247456126896,\n",
       "  0.8152148378088216,\n",
       "  0.8262994648120415,\n",
       "  0.8326543572411088,\n",
       "  0.8084057290301496,\n",
       "  0.7959182306451212,\n",
       "  0.8212147259736211]}"
      ]
     },
     "execution_count": 1076,
     "metadata": {},
     "output_type": "execute_result"
    }
   ],
   "source": [
    "overall_sort_dict"
   ]
  },
  {
   "cell_type": "code",
   "execution_count": 1077,
   "metadata": {},
   "outputs": [],
   "source": [
    "overall_sort_df=pd.DataFrame(overall_sort_dict)"
   ]
  },
  {
   "cell_type": "code",
   "execution_count": 1078,
   "metadata": {},
   "outputs": [
    {
     "data": {
      "text/plain": [
       "<matplotlib.axes._subplots.AxesSubplot at 0x7fc3acedaa58>"
      ]
     },
     "execution_count": 1078,
     "metadata": {},
     "output_type": "execute_result"
    },
    {
     "data": {
      "image/png": "[encoded data removed]",
      "text/plain": [
       "<Figure size 432x288 with 1 Axes>"
      ]
     },
     "metadata": {
      "needs_background": "light"
     },
     "output_type": "display_data"
    }
   ],
   "source": [
    "overall_sort_df.plot()"
   ]
  },
  {
   "cell_type": "code",
   "execution_count": 1079,
   "metadata": {},
   "outputs": [
    {
     "data": {
      "text/plain": [
       "gap     1.941601\n",
       "TFP    -1.143437\n",
       "beme    0.264380\n",
       "dtype: float64"
      ]
     },
     "execution_count": 1079,
     "metadata": {},
     "output_type": "execute_result"
    }
   ],
   "source": [
    "overall_sort_df.loc[9]-overall_sort_df.loc[0]"
   ]
  },
  {
   "cell_type": "markdown",
   "metadata": {},
   "source": [
    "## Sort within year then average across year"
   ]
  },
  {
   "cell_type": "code",
   "execution_count": 1080,
   "metadata": {},
   "outputs": [],
   "source": [
    "df.reset_index(inplace=True)"
   ]
  },
  {
   "cell_type": "code",
   "execution_count": 1081,
   "metadata": {},
   "outputs": [
    {
     "data": {
      "text/plain": [
       "fyear\n",
       "1987    3.440073\n",
       "1988    3.058306\n",
       "1989    3.344874\n",
       "1990    3.330000\n",
       "1991    3.317053\n",
       "1992    3.404767\n",
       "1993    3.440073\n",
       "1994    3.440073\n",
       "1995    3.368245\n",
       "1996    3.440073\n",
       "1997    3.440073\n",
       "1998    3.440073\n",
       "1999    3.440073\n",
       "2000    3.440073\n",
       "2001    3.440073\n",
       "2002    3.440073\n",
       "2003    3.440073\n",
       "2004    3.440073\n",
       "2005    3.440073\n",
       "2006    3.440073\n",
       "2007    3.440073\n",
       "2008    3.440073\n",
       "2009    3.440073\n",
       "2010    3.440073\n",
       "2011    3.440073\n",
       "2012    3.440073\n",
       "2013    3.440073\n",
       "Name: gap, dtype: float64"
      ]
     },
     "execution_count": 1081,
     "metadata": {},
     "output_type": "execute_result"
    }
   ],
   "source": [
    "df.groupby('fyear').gap.max()"
   ]
  },
  {
   "cell_type": "code",
   "execution_count": 1082,
   "metadata": {},
   "outputs": [],
   "source": [
    "dec_year_dict=df[df.fyear==1987].gap.quantile([0, 0.1, 0.2, 0.3, 0.4, 0.5, 0.6, 0.7, 0.8, 0.9, 1]).to_dict()"
   ]
  },
  {
   "cell_type": "code",
   "execution_count": 1083,
   "metadata": {},
   "outputs": [
    {
     "data": {
      "text/plain": [
       "{0.0: 0.0,\n",
       " 0.1: 0.0,\n",
       " 0.2: 0.10290959999999999,\n",
       " 0.3: 0.20570029999999997,\n",
       " 0.4: 0.2992575,\n",
       " 0.5: 0.40166995000000005,\n",
       " 0.6: 0.49959139999999996,\n",
       " 0.7: 0.6384341,\n",
       " 0.8: 0.8131877,\n",
       " 0.9: 1.08815225,\n",
       " 1.0: 3.4400725400000005}"
      ]
     },
     "execution_count": 1083,
     "metadata": {},
     "output_type": "execute_result"
    }
   ],
   "source": [
    "dec_year_dict"
   ]
  },
  {
   "cell_type": "code",
   "execution_count": 1084,
   "metadata": {},
   "outputs": [
    {
     "data": {
      "text/plain": [
       "gap     0.053124\n",
       "TFP    -0.092117\n",
       "beme    0.653706\n",
       "dtype: float64"
      ]
     },
     "execution_count": 1084,
     "metadata": {},
     "output_type": "execute_result"
    }
   ],
   "source": [
    "df[df.fyear==1987].loc[(df[df.fyear==1987].gap >dec_year_dict[0.1]) & (df[df.fyear==1987].gap <= dec_year_dict[0.2]), ['gap','TFP','beme']].mean()"
   ]
  },
  {
   "cell_type": "code",
   "execution_count": 1085,
   "metadata": {},
   "outputs": [
    {
     "data": {
      "text/plain": [
       "[0.1, 0.2, 0.3, 0.4, 0.5, 0.6, 0.7, 0.8, 0.9, 1.0]"
      ]
     },
     "execution_count": 1085,
     "metadata": {},
     "output_type": "execute_result"
    }
   ],
   "source": [
    "list(dec_year_dict.keys())[1::]"
   ]
  },
  {
   "cell_type": "code",
   "execution_count": 1086,
   "metadata": {},
   "outputs": [
    {
     "data": {
      "text/plain": [
       "27"
      ]
     },
     "execution_count": 1086,
     "metadata": {},
     "output_type": "execute_result"
    }
   ],
   "source": [
    "len(set(df.fyear))"
   ]
  },
  {
   "cell_type": "code",
   "execution_count": 1087,
   "metadata": {},
   "outputs": [
    {
     "name": "stdout",
     "output_type": "stream",
     "text": [
      "1987\n",
      "1988\n",
      "1989\n",
      "1990\n",
      "1991\n",
      "1992\n",
      "1993\n",
      "1994\n",
      "1995\n",
      "1996\n",
      "1997\n",
      "1998\n",
      "1999\n",
      "2000\n",
      "2001\n",
      "2002\n",
      "2003\n",
      "2004\n",
      "2005\n",
      "2006\n",
      "2007\n",
      "2008\n",
      "2009\n",
      "2010\n",
      "2011\n",
      "2012\n",
      "2013\n"
     ]
    }
   ],
   "source": [
    "var_list=['gap','TFP','beme']\n",
    "for year in set(df.fyear):\n",
    "    overall_sort_dict={}\n",
    "    overall_sort_gap=[]\n",
    "    overall_sort_TFP=[]\n",
    "    overall_sort_beme=[]\n",
    "    dec_year_dict=df[df.fyear==year].gap.quantile([0, 0.1, 0.2, 0.3, 0.4, 0.5, 0.6, 0.7, 0.8, 0.9, 1]).to_dict()\n",
    "    print(year)\n",
    "\n",
    "    for i in range(0,10):\n",
    "        decile = list(dec_year_dict.keys())[1::][i]\n",
    "        if i == 0:\n",
    "            #print('decile = 0.1')\n",
    "            overall_sort_gap.append(df[df.fyear==year].loc[(df[df.fyear==year].gap >=dec_year_dict[0]) & (df[df.fyear==year].gap <= dec_year_dict[decile]), var_list].mean()['gap'])\n",
    "            overall_sort_TFP.append(df[df.fyear==year].loc[(df[df.fyear==year].gap >=dec_year_dict[0]) & (df[df.fyear==year].gap <= dec_year_dict[decile]), var_list].mean()['TFP'])\n",
    "            overall_sort_beme.append(df[df.fyear==year].loc[(df[df.fyear==year].gap >=dec_year_dict[0]) & (df[df.fyear==year].gap <= dec_year_dict[decile]), var_list].mean()['beme'])\n",
    "        else:\n",
    "            #print(decile)\n",
    "            decile0 = list(dec_year_dict.keys())[1::][i-1]\n",
    "            overall_sort_gap.append(df[df.fyear==year].loc[(df[df.fyear==year].gap >dec_year_dict[decile0]) & (df[df.fyear==year].gap <= dec_year_dict[decile]), var_list].mean()['gap'])\n",
    "            overall_sort_TFP.append(df[df.fyear==year].loc[(df[df.fyear==year].gap >dec_year_dict[decile0]) & (df[df.fyear==year].gap <= dec_year_dict[decile]), var_list].mean()['TFP'])\n",
    "            overall_sort_beme.append(df[df.fyear==year].loc[(df[df.fyear==year].gap >dec_year_dict[decile0]) & (df[df.fyear==year].gap <= dec_year_dict[decile]), var_list].mean()['beme'])\n",
    "\n",
    "    overall_sort_dict['gap']=overall_sort_gap\n",
    "    overall_sort_dict['TFP']=overall_sort_TFP\n",
    "    overall_sort_dict['beme']=overall_sort_beme\n",
    "\n",
    "    if year==1987:\n",
    "        overall_sort_df=pd.DataFrame(overall_sort_dict)\n",
    "    else:\n",
    "        overall_sort_df+=pd.DataFrame(overall_sort_dict)\n",
    "\n",
    "overall_sort_df=overall_sort_df/len(set(df.fyear))"
   ]
  },
  {
   "cell_type": "code",
   "execution_count": 1088,
   "metadata": {},
   "outputs": [
    {
     "data": {
      "text/plain": [
       "<matplotlib.axes._subplots.AxesSubplot at 0x7fc3b38555c0>"
      ]
     },
     "execution_count": 1088,
     "metadata": {},
     "output_type": "execute_result"
    },
    {
     "data": {
      "image/png": "[encoded data removed]",
      "text/plain": [
       "<Figure size 432x288 with 1 Axes>"
      ]
     },
     "metadata": {
      "needs_background": "light"
     },
     "output_type": "display_data"
    }
   ],
   "source": [
    "overall_sort_df[['gap','beme']].plot()"
   ]
  },
  {
   "cell_type": "code",
   "execution_count": 1089,
   "metadata": {},
   "outputs": [
    {
     "data": {
      "text/html": [
       "<div>\n",
       "<style scoped>\n",
       "    .dataframe tbody tr th:only-of-type {\n",
       "        vertical-align: middle;\n",
       "    }\n",
       "\n",
       "    .dataframe tbody tr th {\n",
       "        vertical-align: top;\n",
       "    }\n",
       "\n",
       "    .dataframe thead th {\n",
       "        text-align: right;\n",
       "    }\n",
       "</style>\n",
       "<table border=\"1\" class=\"dataframe\">\n",
       "  <thead>\n",
       "    <tr style=\"text-align: right;\">\n",
       "      <th></th>\n",
       "      <th>gap</th>\n",
       "      <th>TFP</th>\n",
       "      <th>beme</th>\n",
       "    </tr>\n",
       "  </thead>\n",
       "  <tbody>\n",
       "    <tr>\n",
       "      <th>0</th>\n",
       "      <td>0.000001</td>\n",
       "      <td>0.067483</td>\n",
       "      <td>0.558977</td>\n",
       "    </tr>\n",
       "    <tr>\n",
       "      <th>1</th>\n",
       "      <td>0.082872</td>\n",
       "      <td>-0.105907</td>\n",
       "      <td>0.598478</td>\n",
       "    </tr>\n",
       "    <tr>\n",
       "      <th>2</th>\n",
       "      <td>0.219310</td>\n",
       "      <td>-0.178829</td>\n",
       "      <td>0.678159</td>\n",
       "    </tr>\n",
       "    <tr>\n",
       "      <th>3</th>\n",
       "      <td>0.346662</td>\n",
       "      <td>-0.232933</td>\n",
       "      <td>0.772034</td>\n",
       "    </tr>\n",
       "    <tr>\n",
       "      <th>4</th>\n",
       "      <td>0.480063</td>\n",
       "      <td>-0.272254</td>\n",
       "      <td>0.813648</td>\n",
       "    </tr>\n",
       "    <tr>\n",
       "      <th>5</th>\n",
       "      <td>0.627547</td>\n",
       "      <td>-0.315622</td>\n",
       "      <td>0.812140</td>\n",
       "    </tr>\n",
       "    <tr>\n",
       "      <th>6</th>\n",
       "      <td>0.796703</td>\n",
       "      <td>-0.368627</td>\n",
       "      <td>0.814653</td>\n",
       "    </tr>\n",
       "    <tr>\n",
       "      <th>7</th>\n",
       "      <td>1.004563</td>\n",
       "      <td>-0.430595</td>\n",
       "      <td>0.835627</td>\n",
       "    </tr>\n",
       "    <tr>\n",
       "      <th>8</th>\n",
       "      <td>1.278047</td>\n",
       "      <td>-0.541631</td>\n",
       "      <td>0.818416</td>\n",
       "    </tr>\n",
       "    <tr>\n",
       "      <th>9</th>\n",
       "      <td>1.908603</td>\n",
       "      <td>-1.087891</td>\n",
       "      <td>0.838792</td>\n",
       "    </tr>\n",
       "  </tbody>\n",
       "</table>\n",
       "</div>"
      ],
      "text/plain": [
       "        gap       TFP      beme\n",
       "0  0.000001  0.067483  0.558977\n",
       "1  0.082872 -0.105907  0.598478\n",
       "2  0.219310 -0.178829  0.678159\n",
       "3  0.346662 -0.232933  0.772034\n",
       "4  0.480063 -0.272254  0.813648\n",
       "5  0.627547 -0.315622  0.812140\n",
       "6  0.796703 -0.368627  0.814653\n",
       "7  1.004563 -0.430595  0.835627\n",
       "8  1.278047 -0.541631  0.818416\n",
       "9  1.908603 -1.087891  0.838792"
      ]
     },
     "execution_count": 1089,
     "metadata": {},
     "output_type": "execute_result"
    }
   ],
   "source": [
    "overall_sort_df"
   ]
  },
  {
   "cell_type": "code",
   "execution_count": 1090,
   "metadata": {},
   "outputs": [
    {
     "data": {
      "text/html": [
       "<div>\n",
       "<style scoped>\n",
       "    .dataframe tbody tr th:only-of-type {\n",
       "        vertical-align: middle;\n",
       "    }\n",
       "\n",
       "    .dataframe tbody tr th {\n",
       "        vertical-align: top;\n",
       "    }\n",
       "\n",
       "    .dataframe thead th {\n",
       "        text-align: right;\n",
       "    }\n",
       "</style>\n",
       "<table border=\"1\" class=\"dataframe\">\n",
       "  <thead>\n",
       "    <tr style=\"text-align: right;\">\n",
       "      <th></th>\n",
       "      <th>gap</th>\n",
       "      <th>TFP</th>\n",
       "      <th>beme</th>\n",
       "    </tr>\n",
       "  </thead>\n",
       "  <tbody>\n",
       "    <tr>\n",
       "      <th>gap</th>\n",
       "      <td>1.000000</td>\n",
       "      <td>-0.970739</td>\n",
       "      <td>0.749904</td>\n",
       "    </tr>\n",
       "    <tr>\n",
       "      <th>TFP</th>\n",
       "      <td>-0.970739</td>\n",
       "      <td>1.000000</td>\n",
       "      <td>-0.709415</td>\n",
       "    </tr>\n",
       "    <tr>\n",
       "      <th>beme</th>\n",
       "      <td>0.749904</td>\n",
       "      <td>-0.709415</td>\n",
       "      <td>1.000000</td>\n",
       "    </tr>\n",
       "  </tbody>\n",
       "</table>\n",
       "</div>"
      ],
      "text/plain": [
       "           gap       TFP      beme\n",
       "gap   1.000000 -0.970739  0.749904\n",
       "TFP  -0.970739  1.000000 -0.709415\n",
       "beme  0.749904 -0.709415  1.000000"
      ]
     },
     "execution_count": 1090,
     "metadata": {},
     "output_type": "execute_result"
    }
   ],
   "source": [
    "overall_sort_df.corr()"
   ]
  },
  {
   "cell_type": "code",
   "execution_count": 1091,
   "metadata": {},
   "outputs": [
    {
     "data": {
      "text/plain": [
       "<matplotlib.axes._subplots.AxesSubplot at 0x7fc3ca3f3160>"
      ]
     },
     "execution_count": 1091,
     "metadata": {},
     "output_type": "execute_result"
    },
    {
     "data": {
      "image/png": "[encoded data removed]",
      "text/plain": [
       "<Figure size 432x288 with 1 Axes>"
      ]
     },
     "metadata": {
      "needs_background": "light"
     },
     "output_type": "display_data"
    },
    {
     "data": {
      "image/png": "[encoded data removed]",
      "text/plain": [
       "<Figure size 432x288 with 1 Axes>"
      ]
     },
     "metadata": {
      "needs_background": "light"
     },
     "output_type": "display_data"
    }
   ],
   "source": [
    "overall_sort_df.plot.scatter(y='beme',x='gap')\n",
    "overall_sort_df.plot.line(y='beme',x='gap')"
   ]
  },
  {
   "cell_type": "code",
   "execution_count": null,
   "metadata": {},
   "outputs": [],
   "source": []
  }
 ],
 "metadata": {
  "kernelspec": {
   "display_name": "Python 3",
   "language": "python",
   "name": "python3"
  },
  "language_info": {
   "codemirror_mode": {
    "name": "ipython",
    "version": 3
   },
   "file_extension": ".py",
   "mimetype": "text/x-python",
   "name": "python",
   "nbconvert_exporter": "python",
   "pygments_lexer": "ipython3",
   "version": "3.6.10"
  }
 },
 "nbformat": 4,
 "nbformat_minor": 4
}
