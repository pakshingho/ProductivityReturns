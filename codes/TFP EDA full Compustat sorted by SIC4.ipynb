{
 "cells": [
  {
   "cell_type": "markdown",
   "metadata": {},
   "source": [
    "# Total Factor of Productivity (TFP)"
   ]
  },
  {
   "cell_type": "code",
   "execution_count": 124,
   "metadata": {
    "scrolled": true
   },
   "outputs": [],
   "source": [
    "import pandas as pd\n",
    "import numpy as np\n",
    "import matplotlib.pyplot as plt"
   ]
  },
  {
   "cell_type": "code",
   "execution_count": 125,
   "metadata": {},
   "outputs": [],
   "source": [
    "dt = pd.read_csv('../data/TFPData_updated.csv')"
   ]
  },
  {
   "cell_type": "code",
   "execution_count": 15,
   "metadata": {},
   "outputs": [
    {
     "name": "stderr",
     "output_type": "stream",
     "text": [
      "/Users/shinggg/anaconda3/lib/python3.6/site-packages/IPython/core/interactiveshell.py:3072: DtypeWarning: Columns (8,10,12,26,30,945,946,948,949,950,955,965,969,970,975,976) have mixed types.Specify dtype option on import or set low_memory=False.\n",
      "  interactivity=interactivity, compiler=compiler, result=result)\n"
     ]
    }
   ],
   "source": [
    "comp = pd.read_csv('../data/CompFunda.csv')"
   ]
  },
  {
   "cell_type": "code",
   "execution_count": 36,
   "metadata": {},
   "outputs": [
    {
     "data": {
      "text/plain": [
       "(136523, 3)"
      ]
     },
     "execution_count": 36,
     "metadata": {},
     "output_type": "execute_result"
    }
   ],
   "source": [
    "dt.shape"
   ]
  },
  {
   "cell_type": "code",
   "execution_count": 19,
   "metadata": {},
   "outputs": [
    {
     "data": {
      "text/plain": [
       "1963"
      ]
     },
     "execution_count": 19,
     "metadata": {},
     "output_type": "execute_result"
    }
   ],
   "source": [
    "dt.fyear.max()"
   ]
  },
  {
   "cell_type": "code",
   "execution_count": 18,
   "metadata": {},
   "outputs": [
    {
     "data": {
      "text/plain": [
       "(429025, 981)"
      ]
     },
     "execution_count": 18,
     "metadata": {},
     "output_type": "execute_result"
    }
   ],
   "source": [
    "comp.shape"
   ]
  },
  {
   "cell_type": "code",
   "execution_count": 22,
   "metadata": {},
   "outputs": [
    {
     "data": {
      "text/plain": [
       "1963"
      ]
     },
     "execution_count": 22,
     "metadata": {},
     "output_type": "execute_result"
    }
   ],
   "source": [
    "comp.fyear.min()"
   ]
  },
  {
   "cell_type": "code",
   "execution_count": 5,
   "metadata": {},
   "outputs": [
    {
     "data": {
      "text/html": [
       "<div>\n",
       "<style scoped>\n",
       "    .dataframe tbody tr th:only-of-type {\n",
       "        vertical-align: middle;\n",
       "    }\n",
       "\n",
       "    .dataframe tbody tr th {\n",
       "        vertical-align: top;\n",
       "    }\n",
       "\n",
       "    .dataframe thead th {\n",
       "        text-align: right;\n",
       "    }\n",
       "</style>\n",
       "<table border=\"1\" class=\"dataframe\">\n",
       "  <thead>\n",
       "    <tr style=\"text-align: right;\">\n",
       "      <th></th>\n",
       "      <th>gvkey</th>\n",
       "      <th>fyear</th>\n",
       "      <th>TFP</th>\n",
       "    </tr>\n",
       "  </thead>\n",
       "  <tbody>\n",
       "    <tr>\n",
       "      <th>0</th>\n",
       "      <td>1000</td>\n",
       "      <td>1970</td>\n",
       "      <td>-0.142948</td>\n",
       "    </tr>\n",
       "    <tr>\n",
       "      <th>1</th>\n",
       "      <td>1000</td>\n",
       "      <td>1971</td>\n",
       "      <td>-0.447827</td>\n",
       "    </tr>\n",
       "    <tr>\n",
       "      <th>2</th>\n",
       "      <td>1000</td>\n",
       "      <td>1972</td>\n",
       "      <td>-0.270695</td>\n",
       "    </tr>\n",
       "    <tr>\n",
       "      <th>3</th>\n",
       "      <td>1000</td>\n",
       "      <td>1973</td>\n",
       "      <td>-0.242724</td>\n",
       "    </tr>\n",
       "    <tr>\n",
       "      <th>4</th>\n",
       "      <td>1000</td>\n",
       "      <td>1974</td>\n",
       "      <td>-0.296757</td>\n",
       "    </tr>\n",
       "  </tbody>\n",
       "</table>\n",
       "</div>"
      ],
      "text/plain": [
       "   gvkey  fyear       TFP\n",
       "0   1000   1970 -0.142948\n",
       "1   1000   1971 -0.447827\n",
       "2   1000   1972 -0.270695\n",
       "3   1000   1973 -0.242724\n",
       "4   1000   1974 -0.296757"
      ]
     },
     "execution_count": 5,
     "metadata": {},
     "output_type": "execute_result"
    }
   ],
   "source": [
    "dt.head()"
   ]
  },
  {
   "cell_type": "code",
   "execution_count": 9,
   "metadata": {},
   "outputs": [
    {
     "data": {
      "text/plain": [
       "count    136523.000000\n",
       "mean         -0.323590\n",
       "std           0.438831\n",
       "min          -5.530810\n",
       "25%          -0.507897\n",
       "50%          -0.304374\n",
       "75%          -0.111074\n",
       "max           3.360018\n",
       "Name: TFP, dtype: float64"
      ]
     },
     "execution_count": 9,
     "metadata": {},
     "output_type": "execute_result"
    }
   ],
   "source": [
    "dt.TFP.describe()"
   ]
  },
  {
   "cell_type": "code",
   "execution_count": 23,
   "metadata": {},
   "outputs": [
    {
     "data": {
      "text/plain": [
       "<matplotlib.axes._subplots.AxesSubplot at 0x7fcbfd61b9e8>"
      ]
     },
     "execution_count": 23,
     "metadata": {},
     "output_type": "execute_result"
    },
    {
     "data": {
      "image/png": "[encoded data removed]",
      "text/plain": [
       "<Figure size 432x288 with 1 Axes>"
      ]
     },
     "metadata": {
      "needs_background": "light"
     },
     "output_type": "display_data"
    }
   ],
   "source": [
    "dt.TFP.hist(bins=100)"
   ]
  },
  {
   "cell_type": "code",
   "execution_count": 24,
   "metadata": {},
   "outputs": [],
   "source": [
    "dt_TFP_frontier_yearly = dt.groupby('fyear')[['TFP']].max()\n",
    "dt_TFP_mean_yearly = dt.groupby('fyear')[['TFP']].mean()\n",
    "dt_TFP_median_yearly = dt.groupby('fyear')[['TFP']].median()"
   ]
  },
  {
   "cell_type": "code",
   "execution_count": 25,
   "metadata": {},
   "outputs": [
    {
     "data": {
      "text/plain": [
       "<matplotlib.axes._subplots.AxesSubplot at 0x7fcc90559c50>"
      ]
     },
     "execution_count": 25,
     "metadata": {},
     "output_type": "execute_result"
    },
    {
     "data": {
      "image/png": "[encoded data removed]",
      "text/plain": [
       "<Figure size 432x288 with 1 Axes>"
      ]
     },
     "metadata": {
      "needs_background": "light"
     },
     "output_type": "display_data"
    },
    {
     "data": {
      "image/png": "[encoded data removed]",
      "text/plain": [
       "<Figure size 432x288 with 1 Axes>"
      ]
     },
     "metadata": {
      "needs_background": "light"
     },
     "output_type": "display_data"
    },
    {
     "data": {
      "image/png": "[encoded data removed]",
      "text/plain": [
       "<Figure size 432x288 with 1 Axes>"
      ]
     },
     "metadata": {
      "needs_background": "light"
     },
     "output_type": "display_data"
    }
   ],
   "source": [
    "dt_TFP_frontier_yearly.plot()\n",
    "dt_TFP_mean_yearly.plot()\n",
    "dt_TFP_median_yearly.plot()"
   ]
  },
  {
   "cell_type": "code",
   "execution_count": 26,
   "metadata": {},
   "outputs": [],
   "source": [
    "# create preferrerd stock\n",
    "comp['ps']=np.where(comp['pstkrv'].isnull(), comp['pstkl'], comp['pstkrv'])\n",
    "comp['ps']=np.where(comp['ps'].isnull(),comp['pstk'], comp['ps'])\n",
    "comp['ps']=np.where(comp['ps'].isnull(),0,comp['ps'])\n",
    "\n",
    "comp['txditc']=comp['txditc'].fillna(0)\n",
    "\n",
    "# create book equity\n",
    "comp['be']=comp['seq']+comp['txditc']-comp['ps']\n",
    "comp['be']=np.where(comp['be']>0, comp['be'], np.nan)"
   ]
  },
  {
   "cell_type": "code",
   "execution_count": 27,
   "metadata": {},
   "outputs": [],
   "source": [
    "# create market value\n",
    "comp['me']=comp['prcc_f']*comp['csho']"
   ]
  },
  {
   "cell_type": "code",
   "execution_count": 30,
   "metadata": {
    "scrolled": true
   },
   "outputs": [
    {
     "data": {
      "text/html": [
       "<div>\n",
       "<style scoped>\n",
       "    .dataframe tbody tr th:only-of-type {\n",
       "        vertical-align: middle;\n",
       "    }\n",
       "\n",
       "    .dataframe tbody tr th {\n",
       "        vertical-align: top;\n",
       "    }\n",
       "\n",
       "    .dataframe thead th {\n",
       "        text-align: right;\n",
       "    }\n",
       "</style>\n",
       "<table border=\"1\" class=\"dataframe\">\n",
       "  <thead>\n",
       "    <tr style=\"text-align: right;\">\n",
       "      <th></th>\n",
       "      <th>fyear</th>\n",
       "      <th>mkvalt</th>\n",
       "      <th>me</th>\n",
       "      <th>sic</th>\n",
       "    </tr>\n",
       "  </thead>\n",
       "  <tbody>\n",
       "    <tr>\n",
       "      <th>114088</th>\n",
       "      <td>1964</td>\n",
       "      <td>NaN</td>\n",
       "      <td>2953.093375</td>\n",
       "      <td>2670</td>\n",
       "    </tr>\n",
       "    <tr>\n",
       "      <th>114089</th>\n",
       "      <td>1965</td>\n",
       "      <td>NaN</td>\n",
       "      <td>3631.676000</td>\n",
       "      <td>2670</td>\n",
       "    </tr>\n",
       "    <tr>\n",
       "      <th>114090</th>\n",
       "      <td>1966</td>\n",
       "      <td>NaN</td>\n",
       "      <td>4175.730000</td>\n",
       "      <td>2670</td>\n",
       "    </tr>\n",
       "    <tr>\n",
       "      <th>114091</th>\n",
       "      <td>1967</td>\n",
       "      <td>NaN</td>\n",
       "      <td>5079.847500</td>\n",
       "      <td>2670</td>\n",
       "    </tr>\n",
       "    <tr>\n",
       "      <th>114092</th>\n",
       "      <td>1968</td>\n",
       "      <td>NaN</td>\n",
       "      <td>5678.041260</td>\n",
       "      <td>2670</td>\n",
       "    </tr>\n",
       "    <tr>\n",
       "      <th>114093</th>\n",
       "      <td>1969</td>\n",
       "      <td>NaN</td>\n",
       "      <td>6145.358250</td>\n",
       "      <td>2670</td>\n",
       "    </tr>\n",
       "    <tr>\n",
       "      <th>114094</th>\n",
       "      <td>1970</td>\n",
       "      <td>NaN</td>\n",
       "      <td>5553.801000</td>\n",
       "      <td>2670</td>\n",
       "    </tr>\n",
       "    <tr>\n",
       "      <th>114095</th>\n",
       "      <td>1971</td>\n",
       "      <td>NaN</td>\n",
       "      <td>7597.935000</td>\n",
       "      <td>2670</td>\n",
       "    </tr>\n",
       "    <tr>\n",
       "      <th>114096</th>\n",
       "      <td>1972</td>\n",
       "      <td>NaN</td>\n",
       "      <td>9679.991875</td>\n",
       "      <td>2670</td>\n",
       "    </tr>\n",
       "    <tr>\n",
       "      <th>114097</th>\n",
       "      <td>1973</td>\n",
       "      <td>NaN</td>\n",
       "      <td>8821.800000</td>\n",
       "      <td>2670</td>\n",
       "    </tr>\n",
       "    <tr>\n",
       "      <th>114098</th>\n",
       "      <td>1974</td>\n",
       "      <td>NaN</td>\n",
       "      <td>5267.475000</td>\n",
       "      <td>2670</td>\n",
       "    </tr>\n",
       "    <tr>\n",
       "      <th>114099</th>\n",
       "      <td>1975</td>\n",
       "      <td>NaN</td>\n",
       "      <td>6370.290000</td>\n",
       "      <td>2670</td>\n",
       "    </tr>\n",
       "    <tr>\n",
       "      <th>114100</th>\n",
       "      <td>1976</td>\n",
       "      <td>NaN</td>\n",
       "      <td>6534.411750</td>\n",
       "      <td>2670</td>\n",
       "    </tr>\n",
       "    <tr>\n",
       "      <th>114101</th>\n",
       "      <td>1977</td>\n",
       "      <td>NaN</td>\n",
       "      <td>5628.037000</td>\n",
       "      <td>2670</td>\n",
       "    </tr>\n",
       "    <tr>\n",
       "      <th>114102</th>\n",
       "      <td>1978</td>\n",
       "      <td>NaN</td>\n",
       "      <td>7397.303125</td>\n",
       "      <td>2670</td>\n",
       "    </tr>\n",
       "    <tr>\n",
       "      <th>114103</th>\n",
       "      <td>1979</td>\n",
       "      <td>NaN</td>\n",
       "      <td>5894.124000</td>\n",
       "      <td>2670</td>\n",
       "    </tr>\n",
       "    <tr>\n",
       "      <th>114104</th>\n",
       "      <td>1980</td>\n",
       "      <td>NaN</td>\n",
       "      <td>6920.877000</td>\n",
       "      <td>2670</td>\n",
       "    </tr>\n",
       "    <tr>\n",
       "      <th>114105</th>\n",
       "      <td>1981</td>\n",
       "      <td>NaN</td>\n",
       "      <td>6401.951500</td>\n",
       "      <td>2670</td>\n",
       "    </tr>\n",
       "    <tr>\n",
       "      <th>114106</th>\n",
       "      <td>1982</td>\n",
       "      <td>NaN</td>\n",
       "      <td>8841.825000</td>\n",
       "      <td>2670</td>\n",
       "    </tr>\n",
       "    <tr>\n",
       "      <th>114107</th>\n",
       "      <td>1983</td>\n",
       "      <td>NaN</td>\n",
       "      <td>9671.887500</td>\n",
       "      <td>2670</td>\n",
       "    </tr>\n",
       "    <tr>\n",
       "      <th>114108</th>\n",
       "      <td>1984</td>\n",
       "      <td>NaN</td>\n",
       "      <td>9143.930250</td>\n",
       "      <td>2670</td>\n",
       "    </tr>\n",
       "    <tr>\n",
       "      <th>114109</th>\n",
       "      <td>1985</td>\n",
       "      <td>NaN</td>\n",
       "      <td>10282.837000</td>\n",
       "      <td>2670</td>\n",
       "    </tr>\n",
       "    <tr>\n",
       "      <th>114110</th>\n",
       "      <td>1986</td>\n",
       "      <td>NaN</td>\n",
       "      <td>13326.272250</td>\n",
       "      <td>2670</td>\n",
       "    </tr>\n",
       "    <tr>\n",
       "      <th>114111</th>\n",
       "      <td>1987</td>\n",
       "      <td>NaN</td>\n",
       "      <td>14644.861875</td>\n",
       "      <td>2670</td>\n",
       "    </tr>\n",
       "    <tr>\n",
       "      <th>114112</th>\n",
       "      <td>1988</td>\n",
       "      <td>NaN</td>\n",
       "      <td>13908.646000</td>\n",
       "      <td>2670</td>\n",
       "    </tr>\n",
       "    <tr>\n",
       "      <th>114113</th>\n",
       "      <td>1989</td>\n",
       "      <td>NaN</td>\n",
       "      <td>17729.621000</td>\n",
       "      <td>2670</td>\n",
       "    </tr>\n",
       "    <tr>\n",
       "      <th>114114</th>\n",
       "      <td>1990</td>\n",
       "      <td>NaN</td>\n",
       "      <td>18850.679750</td>\n",
       "      <td>2670</td>\n",
       "    </tr>\n",
       "    <tr>\n",
       "      <th>114115</th>\n",
       "      <td>1991</td>\n",
       "      <td>NaN</td>\n",
       "      <td>20873.085000</td>\n",
       "      <td>2670</td>\n",
       "    </tr>\n",
       "    <tr>\n",
       "      <th>114116</th>\n",
       "      <td>1992</td>\n",
       "      <td>NaN</td>\n",
       "      <td>22040.296250</td>\n",
       "      <td>2670</td>\n",
       "    </tr>\n",
       "    <tr>\n",
       "      <th>114117</th>\n",
       "      <td>1993</td>\n",
       "      <td>NaN</td>\n",
       "      <td>23352.866250</td>\n",
       "      <td>2670</td>\n",
       "    </tr>\n",
       "    <tr>\n",
       "      <th>114118</th>\n",
       "      <td>1994</td>\n",
       "      <td>NaN</td>\n",
       "      <td>22406.504750</td>\n",
       "      <td>2670</td>\n",
       "    </tr>\n",
       "    <tr>\n",
       "      <th>114119</th>\n",
       "      <td>1995</td>\n",
       "      <td>NaN</td>\n",
       "      <td>27791.411625</td>\n",
       "      <td>2670</td>\n",
       "    </tr>\n",
       "    <tr>\n",
       "      <th>114120</th>\n",
       "      <td>1996</td>\n",
       "      <td>NaN</td>\n",
       "      <td>34597.388000</td>\n",
       "      <td>2670</td>\n",
       "    </tr>\n",
       "    <tr>\n",
       "      <th>114121</th>\n",
       "      <td>1997</td>\n",
       "      <td>NaN</td>\n",
       "      <td>33212.542950</td>\n",
       "      <td>2670</td>\n",
       "    </tr>\n",
       "    <tr>\n",
       "      <th>114122</th>\n",
       "      <td>1998</td>\n",
       "      <td>28586.8445</td>\n",
       "      <td>28586.844500</td>\n",
       "      <td>2670</td>\n",
       "    </tr>\n",
       "    <tr>\n",
       "      <th>114123</th>\n",
       "      <td>1999</td>\n",
       "      <td>39023.8391</td>\n",
       "      <td>39023.839125</td>\n",
       "      <td>2670</td>\n",
       "    </tr>\n",
       "    <tr>\n",
       "      <th>114124</th>\n",
       "      <td>2000</td>\n",
       "      <td>47728.2425</td>\n",
       "      <td>47728.242500</td>\n",
       "      <td>2670</td>\n",
       "    </tr>\n",
       "    <tr>\n",
       "      <th>114125</th>\n",
       "      <td>2001</td>\n",
       "      <td>46256.0458</td>\n",
       "      <td>46256.045840</td>\n",
       "      <td>2670</td>\n",
       "    </tr>\n",
       "    <tr>\n",
       "      <th>114126</th>\n",
       "      <td>2002</td>\n",
       "      <td>48111.1668</td>\n",
       "      <td>48111.166800</td>\n",
       "      <td>2670</td>\n",
       "    </tr>\n",
       "    <tr>\n",
       "      <th>114127</th>\n",
       "      <td>2003</td>\n",
       "      <td>66673.4685</td>\n",
       "      <td>66673.468510</td>\n",
       "      <td>2670</td>\n",
       "    </tr>\n",
       "    <tr>\n",
       "      <th>114128</th>\n",
       "      <td>2004</td>\n",
       "      <td>63482.6223</td>\n",
       "      <td>63482.622260</td>\n",
       "      <td>2670</td>\n",
       "    </tr>\n",
       "    <tr>\n",
       "      <th>114129</th>\n",
       "      <td>2005</td>\n",
       "      <td>58476.6950</td>\n",
       "      <td>58476.695000</td>\n",
       "      <td>2670</td>\n",
       "    </tr>\n",
       "    <tr>\n",
       "      <th>114130</th>\n",
       "      <td>2006</td>\n",
       "      <td>57228.9086</td>\n",
       "      <td>57228.908590</td>\n",
       "      <td>2670</td>\n",
       "    </tr>\n",
       "    <tr>\n",
       "      <th>114131</th>\n",
       "      <td>2007</td>\n",
       "      <td>59796.0339</td>\n",
       "      <td>59796.033920</td>\n",
       "      <td>2670</td>\n",
       "    </tr>\n",
       "    <tr>\n",
       "      <th>114132</th>\n",
       "      <td>2008</td>\n",
       "      <td>39906.4642</td>\n",
       "      <td>39906.464220</td>\n",
       "      <td>2670</td>\n",
       "    </tr>\n",
       "    <tr>\n",
       "      <th>114133</th>\n",
       "      <td>2009</td>\n",
       "      <td>58745.2193</td>\n",
       "      <td>58745.219330</td>\n",
       "      <td>2670</td>\n",
       "    </tr>\n",
       "    <tr>\n",
       "      <th>114134</th>\n",
       "      <td>2010</td>\n",
       "      <td>61443.7014</td>\n",
       "      <td>61443.701400</td>\n",
       "      <td>2670</td>\n",
       "    </tr>\n",
       "    <tr>\n",
       "      <th>114135</th>\n",
       "      <td>2011</td>\n",
       "      <td>56799.8981</td>\n",
       "      <td>56799.898100</td>\n",
       "      <td>2670</td>\n",
       "    </tr>\n",
       "    <tr>\n",
       "      <th>114136</th>\n",
       "      <td>2012</td>\n",
       "      <td>63796.4922</td>\n",
       "      <td>63796.492200</td>\n",
       "      <td>2670</td>\n",
       "    </tr>\n",
       "    <tr>\n",
       "      <th>114137</th>\n",
       "      <td>2013</td>\n",
       "      <td>93027.2640</td>\n",
       "      <td>93027.264000</td>\n",
       "      <td>2670</td>\n",
       "    </tr>\n",
       "    <tr>\n",
       "      <th>114138</th>\n",
       "      <td>2014</td>\n",
       "      <td>104365.3832</td>\n",
       "      <td>104365.383200</td>\n",
       "      <td>2670</td>\n",
       "    </tr>\n",
       "    <tr>\n",
       "      <th>114139</th>\n",
       "      <td>2015</td>\n",
       "      <td>91789.4712</td>\n",
       "      <td>91789.471200</td>\n",
       "      <td>2670</td>\n",
       "    </tr>\n",
       "    <tr>\n",
       "      <th>114140</th>\n",
       "      <td>2016</td>\n",
       "      <td>106557.3618</td>\n",
       "      <td>106557.361820</td>\n",
       "      <td>2670</td>\n",
       "    </tr>\n",
       "    <tr>\n",
       "      <th>114141</th>\n",
       "      <td>2017</td>\n",
       "      <td>140017.8471</td>\n",
       "      <td>140017.847080</td>\n",
       "      <td>2670</td>\n",
       "    </tr>\n",
       "  </tbody>\n",
       "</table>\n",
       "</div>"
      ],
      "text/plain": [
       "        fyear       mkvalt             me   sic\n",
       "114088   1964          NaN    2953.093375  2670\n",
       "114089   1965          NaN    3631.676000  2670\n",
       "114090   1966          NaN    4175.730000  2670\n",
       "114091   1967          NaN    5079.847500  2670\n",
       "114092   1968          NaN    5678.041260  2670\n",
       "114093   1969          NaN    6145.358250  2670\n",
       "114094   1970          NaN    5553.801000  2670\n",
       "114095   1971          NaN    7597.935000  2670\n",
       "114096   1972          NaN    9679.991875  2670\n",
       "114097   1973          NaN    8821.800000  2670\n",
       "114098   1974          NaN    5267.475000  2670\n",
       "114099   1975          NaN    6370.290000  2670\n",
       "114100   1976          NaN    6534.411750  2670\n",
       "114101   1977          NaN    5628.037000  2670\n",
       "114102   1978          NaN    7397.303125  2670\n",
       "114103   1979          NaN    5894.124000  2670\n",
       "114104   1980          NaN    6920.877000  2670\n",
       "114105   1981          NaN    6401.951500  2670\n",
       "114106   1982          NaN    8841.825000  2670\n",
       "114107   1983          NaN    9671.887500  2670\n",
       "114108   1984          NaN    9143.930250  2670\n",
       "114109   1985          NaN   10282.837000  2670\n",
       "114110   1986          NaN   13326.272250  2670\n",
       "114111   1987          NaN   14644.861875  2670\n",
       "114112   1988          NaN   13908.646000  2670\n",
       "114113   1989          NaN   17729.621000  2670\n",
       "114114   1990          NaN   18850.679750  2670\n",
       "114115   1991          NaN   20873.085000  2670\n",
       "114116   1992          NaN   22040.296250  2670\n",
       "114117   1993          NaN   23352.866250  2670\n",
       "114118   1994          NaN   22406.504750  2670\n",
       "114119   1995          NaN   27791.411625  2670\n",
       "114120   1996          NaN   34597.388000  2670\n",
       "114121   1997          NaN   33212.542950  2670\n",
       "114122   1998   28586.8445   28586.844500  2670\n",
       "114123   1999   39023.8391   39023.839125  2670\n",
       "114124   2000   47728.2425   47728.242500  2670\n",
       "114125   2001   46256.0458   46256.045840  2670\n",
       "114126   2002   48111.1668   48111.166800  2670\n",
       "114127   2003   66673.4685   66673.468510  2670\n",
       "114128   2004   63482.6223   63482.622260  2670\n",
       "114129   2005   58476.6950   58476.695000  2670\n",
       "114130   2006   57228.9086   57228.908590  2670\n",
       "114131   2007   59796.0339   59796.033920  2670\n",
       "114132   2008   39906.4642   39906.464220  2670\n",
       "114133   2009   58745.2193   58745.219330  2670\n",
       "114134   2010   61443.7014   61443.701400  2670\n",
       "114135   2011   56799.8981   56799.898100  2670\n",
       "114136   2012   63796.4922   63796.492200  2670\n",
       "114137   2013   93027.2640   93027.264000  2670\n",
       "114138   2014  104365.3832  104365.383200  2670\n",
       "114139   2015   91789.4712   91789.471200  2670\n",
       "114140   2016  106557.3618  106557.361820  2670\n",
       "114141   2017  140017.8471  140017.847080  2670"
      ]
     },
     "execution_count": 30,
     "metadata": {},
     "output_type": "execute_result"
    }
   ],
   "source": [
    "# compare me and mkvalt\n",
    "comp[comp.tic=='MMM'][['fyear','mkvalt','me','sic']]"
   ]
  },
  {
   "cell_type": "code",
   "execution_count": 31,
   "metadata": {},
   "outputs": [],
   "source": [
    "comp['gvkey']=comp.gvkey.astype('int')"
   ]
  },
  {
   "cell_type": "markdown",
   "metadata": {},
   "source": [
    "# Control\n",
    "## Age\n",
    "AGE is the number of years since the firm first shows up in Compustat."
   ]
  },
  {
   "cell_type": "code",
   "execution_count": 326,
   "metadata": {},
   "outputs": [],
   "source": [
    "comp['age']=comp.fyear - comp.groupby('gvkey').fyear.transform(min)"
   ]
  },
  {
   "cell_type": "markdown",
   "metadata": {},
   "source": [
    "# Merge"
   ]
  },
  {
   "cell_type": "code",
   "execution_count": 481,
   "metadata": {},
   "outputs": [],
   "source": [
    "df_merged=pd.merge(dt,comp, on=['gvkey','fyear'])"
   ]
  },
  {
   "cell_type": "code",
   "execution_count": 482,
   "metadata": {},
   "outputs": [],
   "source": [
    "df = df_merged.copy()"
   ]
  },
  {
   "cell_type": "code",
   "execution_count": 483,
   "metadata": {},
   "outputs": [
    {
     "data": {
      "text/plain": [
       "(143391, 986)"
      ]
     },
     "execution_count": 483,
     "metadata": {},
     "output_type": "execute_result"
    }
   ],
   "source": [
    "df.shape"
   ]
  },
  {
   "cell_type": "code",
   "execution_count": 484,
   "metadata": {},
   "outputs": [],
   "source": [
    "df=df[df['sic'].notna()]"
   ]
  },
  {
   "cell_type": "code",
   "execution_count": 485,
   "metadata": {},
   "outputs": [
    {
     "data": {
      "text/plain": [
       "(143391, 986)"
      ]
     },
     "execution_count": 485,
     "metadata": {},
     "output_type": "execute_result"
    }
   ],
   "source": [
    "df.shape"
   ]
  },
  {
   "cell_type": "code",
   "execution_count": 486,
   "metadata": {},
   "outputs": [],
   "source": [
    "#df= df[~((df.sic >= 4900) & (df.sic < 5000))]\n",
    "#df= df[~((df.sic >= 6000) & (df.sic < 7000))]"
   ]
  },
  {
   "cell_type": "code",
   "execution_count": 487,
   "metadata": {},
   "outputs": [
    {
     "data": {
      "text/plain": [
       "(143391, 986)"
      ]
     },
     "execution_count": 487,
     "metadata": {},
     "output_type": "execute_result"
    }
   ],
   "source": [
    "df.shape"
   ]
  },
  {
   "cell_type": "code",
   "execution_count": 488,
   "metadata": {},
   "outputs": [],
   "source": [
    "#df=df[(df.aqc <= (0.05 * df['at']))]"
   ]
  },
  {
   "cell_type": "code",
   "execution_count": 489,
   "metadata": {},
   "outputs": [
    {
     "data": {
      "text/plain": [
       "(143391, 986)"
      ]
     },
     "execution_count": 489,
     "metadata": {},
     "output_type": "execute_result"
    }
   ],
   "source": [
    "df.shape"
   ]
  },
  {
   "cell_type": "markdown",
   "metadata": {},
   "source": [
    "# Construct Frontier Productivity"
   ]
  },
  {
   "cell_type": "code",
   "execution_count": 490,
   "metadata": {
    "scrolled": true
   },
   "outputs": [],
   "source": [
    "# clip TFP\n",
    "lr = df['TFP'].describe(percentiles=[0.005])['0.5%']\n",
    "up = df['TFP'].describe(percentiles=[0.995])['99.5%']\n",
    "df.TFP = df.TFP.clip(lr, up)"
   ]
  },
  {
   "cell_type": "code",
   "execution_count": 491,
   "metadata": {},
   "outputs": [
    {
     "data": {
      "text/plain": [
       "<matplotlib.axes._subplots.AxesSubplot at 0x7fc4b2213ef0>"
      ]
     },
     "execution_count": 491,
     "metadata": {},
     "output_type": "execute_result"
    },
    {
     "data": {
      "image/png": "[encoded data removed]",
      "text/plain": [
       "<Figure size 432x288 with 1 Axes>"
      ]
     },
     "metadata": {
      "needs_background": "light"
     },
     "output_type": "display_data"
    }
   ],
   "source": [
    "df.TFP.hist(bins=100)"
   ]
  },
  {
   "cell_type": "code",
   "execution_count": 492,
   "metadata": {},
   "outputs": [],
   "source": [
    "df['sic'] = df.sic.astype('str')"
   ]
  },
  {
   "cell_type": "markdown",
   "metadata": {},
   "source": [
    "## Construct Froniter using by SIC4"
   ]
  },
  {
   "cell_type": "code",
   "execution_count": 493,
   "metadata": {},
   "outputs": [],
   "source": [
    "df.loc[df.index,'TFP_frontier_fyear_sic'] = df.groupby(['fyear', 'sic'])['TFP'].transform(max)\n",
    "df.loc[df.index,'TFP_mean_fyear_sic'] = df.groupby(['fyear', 'sic'])['TFP'].transform(np.mean)\n",
    "df.loc[df.index,'TFP_median_fyear_sic'] = df.groupby(['fyear', 'sic'])['TFP'].transform(np.median)\n",
    "\n",
    "df.loc[df.index,'gap'] = df['TFP_frontier_fyear_sic'] - df['TFP']"
   ]
  },
  {
   "cell_type": "code",
   "execution_count": 494,
   "metadata": {},
   "outputs": [
    {
     "data": {
      "text/plain": [
       "<matplotlib.axes._subplots.AxesSubplot at 0x7fc56fae73c8>"
      ]
     },
     "execution_count": 494,
     "metadata": {},
     "output_type": "execute_result"
    },
    {
     "data": {
      "image/png": "[encoded data removed]",
      "text/plain": [
       "<Figure size 432x288 with 1 Axes>"
      ]
     },
     "metadata": {
      "needs_background": "light"
     },
     "output_type": "display_data"
    }
   ],
   "source": [
    "df.gap.hist(bins=100)"
   ]
  },
  {
   "cell_type": "markdown",
   "metadata": {},
   "source": [
    "# Construct Book to Market"
   ]
  },
  {
   "cell_type": "code",
   "execution_count": 495,
   "metadata": {},
   "outputs": [],
   "source": [
    "df=df[df['be'].notna()]\n",
    "df=df[df['me'].notna()]\n",
    "\n",
    "df=df[df['be']>0]\n",
    "df=df[df['me']>0]"
   ]
  },
  {
   "cell_type": "code",
   "execution_count": 496,
   "metadata": {},
   "outputs": [
    {
     "data": {
      "text/plain": [
       "(126988, 990)"
      ]
     },
     "execution_count": 496,
     "metadata": {},
     "output_type": "execute_result"
    }
   ],
   "source": [
    "df.shape"
   ]
  },
  {
   "cell_type": "code",
   "execution_count": 497,
   "metadata": {},
   "outputs": [],
   "source": [
    "df['beme'] = df['be']/df['me']"
   ]
  },
  {
   "cell_type": "code",
   "execution_count": 498,
   "metadata": {},
   "outputs": [
    {
     "data": {
      "text/plain": [
       "count    126988.000000\n",
       "mean         11.861749\n",
       "std        1367.559461\n",
       "min           0.000052\n",
       "25%           0.377312\n",
       "50%           0.652482\n",
       "75%           1.107454\n",
       "max      308133.891213\n",
       "Name: beme, dtype: float64"
      ]
     },
     "execution_count": 498,
     "metadata": {},
     "output_type": "execute_result"
    }
   ],
   "source": [
    "df['beme'].describe()"
   ]
  },
  {
   "cell_type": "code",
   "execution_count": 499,
   "metadata": {},
   "outputs": [
    {
     "data": {
      "text/plain": [
       "<matplotlib.axes._subplots.AxesSubplot at 0x7fc5119847b8>"
      ]
     },
     "execution_count": 499,
     "metadata": {},
     "output_type": "execute_result"
    },
    {
     "data": {
      "image/png": "[encoded data removed]",
      "text/plain": [
       "<Figure size 432x288 with 1 Axes>"
      ]
     },
     "metadata": {
      "needs_background": "light"
     },
     "output_type": "display_data"
    }
   ],
   "source": [
    "df['beme'].hist(bins=100)"
   ]
  },
  {
   "cell_type": "code",
   "execution_count": 500,
   "metadata": {},
   "outputs": [
    {
     "data": {
      "text/html": [
       "<div>\n",
       "<style scoped>\n",
       "    .dataframe tbody tr th:only-of-type {\n",
       "        vertical-align: middle;\n",
       "    }\n",
       "\n",
       "    .dataframe tbody tr th {\n",
       "        vertical-align: top;\n",
       "    }\n",
       "\n",
       "    .dataframe thead th {\n",
       "        text-align: right;\n",
       "    }\n",
       "</style>\n",
       "<table border=\"1\" class=\"dataframe\">\n",
       "  <thead>\n",
       "    <tr style=\"text-align: right;\">\n",
       "      <th></th>\n",
       "      <th>gap</th>\n",
       "      <th>beme</th>\n",
       "    </tr>\n",
       "  </thead>\n",
       "  <tbody>\n",
       "    <tr>\n",
       "      <th>gap</th>\n",
       "      <td>1.00000</td>\n",
       "      <td>-0.00031</td>\n",
       "    </tr>\n",
       "    <tr>\n",
       "      <th>beme</th>\n",
       "      <td>-0.00031</td>\n",
       "      <td>1.00000</td>\n",
       "    </tr>\n",
       "  </tbody>\n",
       "</table>\n",
       "</div>"
      ],
      "text/plain": [
       "          gap     beme\n",
       "gap   1.00000 -0.00031\n",
       "beme -0.00031  1.00000"
      ]
     },
     "execution_count": 500,
     "metadata": {},
     "output_type": "execute_result"
    }
   ],
   "source": [
    "df[['gap', 'beme']].corr()"
   ]
  },
  {
   "cell_type": "code",
   "execution_count": 501,
   "metadata": {},
   "outputs": [],
   "source": [
    "lr = df['beme'].describe(percentiles=[0.005])['0.5%']\n",
    "up = df['beme'].describe(percentiles=[0.995])['99.5%']\n",
    "df.beme = df.beme.clip(lr, up)"
   ]
  },
  {
   "cell_type": "code",
   "execution_count": 502,
   "metadata": {},
   "outputs": [
    {
     "data": {
      "text/plain": [
       "(126988, 991)"
      ]
     },
     "execution_count": 502,
     "metadata": {},
     "output_type": "execute_result"
    }
   ],
   "source": [
    "df.shape"
   ]
  },
  {
   "cell_type": "code",
   "execution_count": 503,
   "metadata": {
    "scrolled": true
   },
   "outputs": [
    {
     "data": {
      "text/plain": [
       "<matplotlib.axes._subplots.AxesSubplot at 0x7fc570a600b8>"
      ]
     },
     "execution_count": 503,
     "metadata": {},
     "output_type": "execute_result"
    },
    {
     "data": {
      "image/png": "[encoded data removed]",
      "text/plain": [
       "<Figure size 432x288 with 1 Axes>"
      ]
     },
     "metadata": {
      "needs_background": "light"
     },
     "output_type": "display_data"
    }
   ],
   "source": [
    "df.beme.hist(bins=100)"
   ]
  },
  {
   "cell_type": "code",
   "execution_count": 504,
   "metadata": {},
   "outputs": [],
   "source": [
    "# clip gap\n",
    "# lr = df['gap'].describe(percentiles=[0.005])['0.5%']\n",
    "# up = df['gap'].describe(percentiles=[0.995])['99.5%']\n",
    "# df.gap = df.gap.clip(lr, up)"
   ]
  },
  {
   "cell_type": "code",
   "execution_count": 505,
   "metadata": {},
   "outputs": [
    {
     "data": {
      "text/html": [
       "<div>\n",
       "<style scoped>\n",
       "    .dataframe tbody tr th:only-of-type {\n",
       "        vertical-align: middle;\n",
       "    }\n",
       "\n",
       "    .dataframe tbody tr th {\n",
       "        vertical-align: top;\n",
       "    }\n",
       "\n",
       "    .dataframe thead th {\n",
       "        text-align: right;\n",
       "    }\n",
       "</style>\n",
       "<table border=\"1\" class=\"dataframe\">\n",
       "  <thead>\n",
       "    <tr style=\"text-align: right;\">\n",
       "      <th></th>\n",
       "      <th>gap</th>\n",
       "      <th>beme</th>\n",
       "    </tr>\n",
       "  </thead>\n",
       "  <tbody>\n",
       "    <tr>\n",
       "      <th>gap</th>\n",
       "      <td>1.000000</td>\n",
       "      <td>0.063685</td>\n",
       "    </tr>\n",
       "    <tr>\n",
       "      <th>beme</th>\n",
       "      <td>0.063685</td>\n",
       "      <td>1.000000</td>\n",
       "    </tr>\n",
       "  </tbody>\n",
       "</table>\n",
       "</div>"
      ],
      "text/plain": [
       "           gap      beme\n",
       "gap   1.000000  0.063685\n",
       "beme  0.063685  1.000000"
      ]
     },
     "execution_count": 505,
     "metadata": {},
     "output_type": "execute_result"
    }
   ],
   "source": [
    "df[['gap', 'beme']].corr()"
   ]
  },
  {
   "cell_type": "code",
   "execution_count": 506,
   "metadata": {
    "scrolled": false
   },
   "outputs": [
    {
     "data": {
      "text/plain": [
       "<matplotlib.axes._subplots.AxesSubplot at 0x7fc4b1bd8ba8>"
      ]
     },
     "execution_count": 506,
     "metadata": {},
     "output_type": "execute_result"
    },
    {
     "data": {
      "image/png": "[encoded data removed]",
      "text/plain": [
       "<Figure size 432x288 with 1 Axes>"
      ]
     },
     "metadata": {
      "needs_background": "light"
     },
     "output_type": "display_data"
    }
   ],
   "source": [
    "df.plot.scatter(x='gap', y='beme')"
   ]
  },
  {
   "cell_type": "markdown",
   "metadata": {},
   "source": [
    "# Control Variables"
   ]
  },
  {
   "cell_type": "markdown",
   "metadata": {},
   "source": [
    "## Size: Natural logarithm of total assets in \\$ Million"
   ]
  },
  {
   "cell_type": "code",
   "execution_count": 507,
   "metadata": {},
   "outputs": [],
   "source": [
    "df['size'] = np.log(df['at'])"
   ]
  },
  {
   "cell_type": "markdown",
   "metadata": {},
   "source": [
    "## Leverage ratio: the ratio of total debt to the market value of equity"
   ]
  },
  {
   "cell_type": "code",
   "execution_count": 508,
   "metadata": {},
   "outputs": [],
   "source": [
    "df['lev'] = (df['dltt'] + df['dlc']) / (df['prcc_f'] * df['csho'])"
   ]
  },
  {
   "cell_type": "markdown",
   "metadata": {},
   "source": [
    "## R&D Intensity\n",
    "research and development expenditures over sales"
   ]
  },
  {
   "cell_type": "code",
   "execution_count": 509,
   "metadata": {},
   "outputs": [],
   "source": [
    "df['rdi'] = df['xrd'] / df['sale']"
   ]
  },
  {
   "cell_type": "markdown",
   "metadata": {},
   "source": [
    "# Advertising Intensity\n",
    "advertising expenses over sales;"
   ]
  },
  {
   "cell_type": "code",
   "execution_count": 510,
   "metadata": {},
   "outputs": [],
   "source": [
    "df['adi'] = df['xad'] / df['sale']"
   ]
  },
  {
   "cell_type": "markdown",
   "metadata": {},
   "source": [
    "# Employee Size"
   ]
  },
  {
   "cell_type": "code",
   "execution_count": 511,
   "metadata": {},
   "outputs": [
    {
     "name": "stderr",
     "output_type": "stream",
     "text": [
      "/Users/shinggg/anaconda3/lib/python3.6/site-packages/pandas/core/series.py:726: RuntimeWarning: divide by zero encountered in log\n",
      "  result = getattr(ufunc, method)(*inputs, **kwargs)\n"
     ]
    }
   ],
   "source": [
    "df['emp_size'] = np.log(df['emp'])"
   ]
  },
  {
   "cell_type": "markdown",
   "metadata": {},
   "source": [
    "# ROA\n",
    "The net income in year t divided by total assets for year t."
   ]
  },
  {
   "cell_type": "code",
   "execution_count": 512,
   "metadata": {},
   "outputs": [],
   "source": [
    "df['roa'] = df['ni']/df['at']"
   ]
  },
  {
   "cell_type": "markdown",
   "metadata": {},
   "source": [
    "# ROE\n",
    "The net income in year t divided by book equity for year t."
   ]
  },
  {
   "cell_type": "code",
   "execution_count": 513,
   "metadata": {},
   "outputs": [],
   "source": [
    "df['roe'] = df['ni']/df['be']"
   ]
  },
  {
   "cell_type": "markdown",
   "metadata": {},
   "source": [
    "# GPR \n",
    "The gross profits in year t divided by book assets for year t."
   ]
  },
  {
   "cell_type": "code",
   "execution_count": 514,
   "metadata": {},
   "outputs": [],
   "source": [
    "df['gpr'] = df['gp']/df['at']"
   ]
  },
  {
   "cell_type": "markdown",
   "metadata": {},
   "source": [
    "# Panel Regressions"
   ]
  },
  {
   "cell_type": "code",
   "execution_count": 515,
   "metadata": {},
   "outputs": [],
   "source": [
    "from linearmodels import PanelOLS"
   ]
  },
  {
   "cell_type": "code",
   "execution_count": 516,
   "metadata": {},
   "outputs": [],
   "source": [
    "df=df.set_index(['gvkey','fyear'])"
   ]
  },
  {
   "cell_type": "code",
   "execution_count": 517,
   "metadata": {
    "scrolled": false
   },
   "outputs": [
    {
     "name": "stderr",
     "output_type": "stream",
     "text": [
      "/Users/shinggg/anaconda3/lib/python3.6/site-packages/linearmodels/panel/data.py:98: FutureWarning: is_categorical is deprecated and will be removed in a future version.  Use is_categorical_dtype instead\n",
      "  if is_categorical(s):\n"
     ]
    },
    {
     "name": "stdout",
     "output_type": "stream",
     "text": [
      "                          PanelOLS Estimation Summary                           \n",
      "================================================================================\n",
      "Dep. Variable:                   beme   R-squared:                        0.0371\n",
      "Estimator:                   PanelOLS   R-squared (Between):             -0.1883\n",
      "No. Observations:              126988   R-squared (Within):               0.0078\n",
      "Date:                Wed, Dec 09 2020   R-squared (Overall):             -0.1150\n",
      "Time:                        18:40:42   Log-likelihood                -9.942e+04\n",
      "Cov. Estimator:             Clustered                                           \n",
      "                                        F-statistic:                      2209.1\n",
      "Entities:                       12203   P-value                           0.0000\n",
      "Avg Obs:                       10.406   Distribution:                F(2,114730)\n",
      "Min Obs:                       1.0000                                           \n",
      "Max Obs:                       54.000   F-statistic (robust):             628.98\n",
      "                                        P-value                           0.0000\n",
      "Time periods:                      54   Distribution:                F(2,114730)\n",
      "Avg Obs:                       2351.6                                           \n",
      "Min Obs:                       22.000                                           \n",
      "Max Obs:                       3509.0                                           \n",
      "                                                                                \n",
      "                             Parameter Estimates                              \n",
      "==============================================================================\n",
      "            Parameter  Std. Err.     T-stat    P-value    Lower CI    Upper CI\n",
      "------------------------------------------------------------------------------\n",
      "Intercept      0.2684     0.0387     6.9318     0.0000      0.1925      0.3442\n",
      "gap            0.3159     0.0091     34.804     0.0000      0.2981      0.3337\n",
      "size           0.0762     0.0068     11.215     0.0000      0.0629      0.0895\n",
      "==============================================================================\n",
      "\n",
      "F-test for Poolability: 12.770\n",
      "P-value: 0.0000\n",
      "Distribution: F(12255,114730)\n",
      "\n",
      "Included effects: Entity, Time\n"
     ]
    }
   ],
   "source": [
    "mod = PanelOLS.from_formula('beme ~ 1 + gap + size + EntityEffects + TimeEffects', data=df)\n",
    "res = mod.fit(cov_type='clustered', cluster_entity=True)\n",
    "print(res)"
   ]
  },
  {
   "cell_type": "code",
   "execution_count": 518,
   "metadata": {},
   "outputs": [
    {
     "name": "stdout",
     "output_type": "stream",
     "text": [
      "                          PanelOLS Estimation Summary                           \n",
      "================================================================================\n",
      "Dep. Variable:                   beme   R-squared:                        0.0371\n",
      "Estimator:                   PanelOLS   R-squared (Between):             -0.1883\n",
      "No. Observations:              126988   R-squared (Within):               0.0078\n",
      "Date:                Wed, Dec 09 2020   R-squared (Overall):             -0.1150\n",
      "Time:                        18:40:45   Log-likelihood                -9.942e+04\n",
      "Cov. Estimator:             Clustered                                           \n",
      "                                        F-statistic:                      2209.1\n",
      "Entities:                       12203   P-value                           0.0000\n",
      "Avg Obs:                       10.406   Distribution:                F(2,114730)\n",
      "Min Obs:                       1.0000                                           \n",
      "Max Obs:                       54.000   F-statistic (robust):             190.04\n",
      "                                        P-value                           0.0000\n",
      "Time periods:                      54   Distribution:                F(2,114730)\n",
      "Avg Obs:                       2351.6                                           \n",
      "Min Obs:                       22.000                                           \n",
      "Max Obs:                       3509.0                                           \n",
      "                                                                                \n",
      "                             Parameter Estimates                              \n",
      "==============================================================================\n",
      "            Parameter  Std. Err.     T-stat    P-value    Lower CI    Upper CI\n",
      "------------------------------------------------------------------------------\n",
      "Intercept      0.2684     0.0610     4.4023     0.0000      0.1489      0.3878\n",
      "gap            0.3159     0.0171     18.477     0.0000      0.2824      0.3494\n",
      "size           0.0762     0.0108     7.0794     0.0000      0.0551      0.0973\n",
      "==============================================================================\n",
      "\n",
      "F-test for Poolability: 12.770\n",
      "P-value: 0.0000\n",
      "Distribution: F(12255,114730)\n",
      "\n",
      "Included effects: Entity, Time\n"
     ]
    }
   ],
   "source": [
    "mod = PanelOLS.from_formula('beme ~ 1 + gap + size + EntityEffects + TimeEffects', data=df)\n",
    "res = mod.fit(cov_type='clustered', cluster_entity=True, cluster_time=True)\n",
    "print(res)"
   ]
  },
  {
   "cell_type": "code",
   "execution_count": 519,
   "metadata": {
    "scrolled": true
   },
   "outputs": [
    {
     "name": "stderr",
     "output_type": "stream",
     "text": [
      "/Users/shinggg/anaconda3/lib/python3.6/site-packages/linearmodels/utility.py:549: MissingValueWarning: \n",
      "Inputs contain missing values. Dropping rows with missing observations.\n",
      "  warnings.warn(missing_value_warning_msg, MissingValueWarning)\n"
     ]
    },
    {
     "name": "stdout",
     "output_type": "stream",
     "text": [
      "                          PanelOLS Estimation Summary                           \n",
      "================================================================================\n",
      "Dep. Variable:                   beme   R-squared:                        0.0680\n",
      "Estimator:                   PanelOLS   R-squared (Between):             -0.0883\n",
      "No. Observations:               33214   R-squared (Within):               0.0430\n",
      "Date:                Wed, Dec 09 2020   R-squared (Overall):             -0.0367\n",
      "Time:                        18:40:48   Log-likelihood                -2.117e+04\n",
      "Cov. Estimator:             Clustered                                           \n",
      "                                        F-statistic:                      230.75\n",
      "Entities:                        4678   P-value                           0.0000\n",
      "Avg Obs:                       7.1000   Distribution:                 F(9,28475)\n",
      "Min Obs:                       1.0000                                           \n",
      "Max Obs:                       51.000   F-statistic (robust):             21.803\n",
      "                                        P-value                           0.0000\n",
      "Time periods:                      53   Distribution:                 F(9,28475)\n",
      "Avg Obs:                       626.68                                           \n",
      "Min Obs:                       3.0000                                           \n",
      "Max Obs:                       934.00                                           \n",
      "                                                                                \n",
      "                             Parameter Estimates                              \n",
      "==============================================================================\n",
      "            Parameter  Std. Err.     T-stat    P-value    Lower CI    Upper CI\n",
      "------------------------------------------------------------------------------\n",
      "Intercept      0.7268     0.1634     4.4469     0.0000      0.4064      1.0471\n",
      "gap            0.2148     0.0197     10.906     0.0000      0.1762      0.2534\n",
      "size           0.0426     0.0294     1.4514     0.1467     -0.0149      0.1002\n",
      "emp_size      -0.0114     0.0286    -0.3997     0.6894     -0.0674      0.0446\n",
      "lev         6.948e-05  3.136e-05     2.2157     0.0267   8.016e-06      0.0001\n",
      "rdi           -0.3429     0.1060    -3.2348     0.0012     -0.5506     -0.1351\n",
      "adi           -0.0771     0.3084    -0.2499     0.8026     -0.6815      0.5274\n",
      "roa           -0.5258     0.0929    -5.6568     0.0000     -0.7080     -0.3436\n",
      "roe            0.0020     0.0010     1.9784     0.0479   1.895e-05      0.0041\n",
      "gpr           -0.4186     0.0663    -6.3094     0.0000     -0.5487     -0.2886\n",
      "==============================================================================\n",
      "\n",
      "F-test for Poolability: 9.7108\n",
      "P-value: 0.0000\n",
      "Distribution: F(4729,28475)\n",
      "\n",
      "Included effects: Entity, Time\n"
     ]
    }
   ],
   "source": [
    "mod = PanelOLS.from_formula('beme ~ 1 + gap + size + emp_size + lev + rdi + adi + roa + roe + gpr + EntityEffects + TimeEffects', data=df)\n",
    "res = mod.fit(cov_type='clustered', cluster_entity=True, cluster_time=True)\n",
    "print(res)"
   ]
  },
  {
   "cell_type": "code",
   "execution_count": 520,
   "metadata": {
    "scrolled": true
   },
   "outputs": [
    {
     "name": "stdout",
     "output_type": "stream",
     "text": [
      "                          PanelOLS Estimation Summary                           \n",
      "================================================================================\n",
      "Dep. Variable:                   beme   R-squared:                        0.0744\n",
      "Estimator:                   PanelOLS   R-squared (Between):             -0.0748\n",
      "No. Observations:               33214   R-squared (Within):               0.0337\n",
      "Date:                Wed, Dec 09 2020   R-squared (Overall):             -0.0316\n",
      "Time:                        18:40:49   Log-likelihood                -2.105e+04\n",
      "Cov. Estimator:             Clustered                                           \n",
      "                                        F-statistic:                      254.32\n",
      "Entities:                        4678   P-value                           0.0000\n",
      "Avg Obs:                       7.1000   Distribution:                 F(9,28475)\n",
      "Min Obs:                       1.0000                                           \n",
      "Max Obs:                       51.000   F-statistic (robust):             24.425\n",
      "                                        P-value                           0.0000\n",
      "Time periods:                      53   Distribution:                 F(9,28475)\n",
      "Avg Obs:                       626.68                                           \n",
      "Min Obs:                       3.0000                                           \n",
      "Max Obs:                       934.00                                           \n",
      "                                                                                \n",
      "                             Parameter Estimates                              \n",
      "==============================================================================\n",
      "            Parameter  Std. Err.     T-stat    P-value    Lower CI    Upper CI\n",
      "------------------------------------------------------------------------------\n",
      "Intercept      0.4199     0.1706     2.4615     0.0138      0.0855      0.7542\n",
      "TFP           -0.3268     0.0279    -11.698     0.0000     -0.3816     -0.2721\n",
      "size           0.1051     0.0312     3.3640     0.0008      0.0439      0.1664\n",
      "emp_size      -0.0597     0.0301    -1.9841     0.0473     -0.1187     -0.0007\n",
      "lev         6.936e-05  3.123e-05     2.2210     0.0264    8.15e-06      0.0001\n",
      "rdi           -0.4827     0.1223    -3.9468     0.0001     -0.7225     -0.2430\n",
      "adi           -0.2450     0.3039    -0.8063     0.4201     -0.8406      0.3506\n",
      "roa           -0.3976     0.0935    -4.2506     0.0000     -0.5810     -0.2143\n",
      "roe            0.0020     0.0010     1.9969     0.0458   3.708e-05      0.0040\n",
      "gpr           -0.3169     0.0636    -4.9823     0.0000     -0.4415     -0.1922\n",
      "==============================================================================\n",
      "\n",
      "F-test for Poolability: 9.6988\n",
      "P-value: 0.0000\n",
      "Distribution: F(4729,28475)\n",
      "\n",
      "Included effects: Entity, Time\n"
     ]
    }
   ],
   "source": [
    "mod = PanelOLS.from_formula('beme ~ 1 + TFP + size + emp_size + lev + rdi + adi + roa + roe + gpr + EntityEffects + TimeEffects', data=df)\n",
    "res = mod.fit(cov_type='clustered', cluster_entity=True, cluster_time=True)\n",
    "print(res)"
   ]
  },
  {
   "cell_type": "markdown",
   "metadata": {},
   "source": [
    "# Sort Portfolios"
   ]
  },
  {
   "cell_type": "markdown",
   "metadata": {},
   "source": [
    "## Overall sort"
   ]
  },
  {
   "cell_type": "code",
   "execution_count": 521,
   "metadata": {},
   "outputs": [],
   "source": [
    "dec_dict=df.gap.quantile([0, 0.1, 0.2, 0.3, 0.4, 0.5, 0.6, 0.7, 0.8, 0.9, 1]).to_dict()\n",
    "#dec_dict=df.gap.quantile([0, 0.2, 0.4, 0.6, 0.8, 1]).to_dict()"
   ]
  },
  {
   "cell_type": "code",
   "execution_count": 522,
   "metadata": {},
   "outputs": [
    {
     "data": {
      "text/plain": [
       "{0.0: 0.0,\n",
       " 0.1: 0.0,\n",
       " 0.2: 0.15337597999999658,\n",
       " 0.3: 0.26926611999999944,\n",
       " 0.4: 0.37877464000000005,\n",
       " 0.5: 0.49830890000000005,\n",
       " 0.6: 0.6374114,\n",
       " 0.7: 0.8075201399999997,\n",
       " 0.8: 1.0415819999999978,\n",
       " 0.9: 1.388509659999996,\n",
       " 1.0: 3.268710949999994}"
      ]
     },
     "execution_count": 522,
     "metadata": {},
     "output_type": "execute_result"
    }
   ],
   "source": [
    "dec_dict"
   ]
  },
  {
   "cell_type": "code",
   "execution_count": 523,
   "metadata": {},
   "outputs": [
    {
     "data": {
      "text/plain": [
       "gap     0.000000\n",
       "TFP     0.106206\n",
       "beme    0.615659\n",
       "dtype: float64"
      ]
     },
     "execution_count": 523,
     "metadata": {},
     "output_type": "execute_result"
    }
   ],
   "source": [
    "df.loc[(df.gap >=dec_dict[0.0]) & (df.gap <= dec_dict[0.1]),['gap','TFP','beme']].mean()"
   ]
  },
  {
   "cell_type": "code",
   "execution_count": 524,
   "metadata": {},
   "outputs": [
    {
     "data": {
      "text/plain": [
       "[0.1, 0.2, 0.3, 0.4, 0.5, 0.6, 0.7, 0.8, 0.9, 1.0]"
      ]
     },
     "execution_count": 524,
     "metadata": {},
     "output_type": "execute_result"
    }
   ],
   "source": [
    "list(dec_dict.keys())[1::]"
   ]
  },
  {
   "cell_type": "code",
   "execution_count": 525,
   "metadata": {},
   "outputs": [
    {
     "name": "stdout",
     "output_type": "stream",
     "text": [
      "decile = 0.1\n",
      "0.2\n",
      "0.3\n",
      "0.4\n",
      "0.5\n",
      "0.6\n",
      "0.7\n",
      "0.8\n",
      "0.9\n",
      "1.0\n"
     ]
    }
   ],
   "source": [
    "var_list=['gap','TFP','beme']\n",
    "overall_sort_dict={}\n",
    "overall_sort_gap=[]\n",
    "overall_sort_TFP=[]\n",
    "overall_sort_beme=[]\n",
    "\n",
    "for i in range(0,10):\n",
    "    decile = list(dec_dict.keys())[1::][i]\n",
    "    if i == 0:\n",
    "        print('decile = 0.1')\n",
    "        overall_sort_gap.append(df.loc[(df.gap >=dec_dict[0]) & (df.gap <= dec_dict[decile]),var_list].mean()['gap'])\n",
    "        overall_sort_TFP.append(df.loc[(df.gap >=dec_dict[0]) & (df.gap <= dec_dict[decile]),var_list].mean()['TFP'])\n",
    "        overall_sort_beme.append(df.loc[(df.gap >=dec_dict[0]) & (df.gap <= dec_dict[decile]),var_list].mean()['beme'])\n",
    "    else:\n",
    "        print(decile)\n",
    "        decile0 = list(dec_dict.keys())[1::][i-1]\n",
    "        overall_sort_gap.append(df.loc[(df.gap >dec_dict[decile0]) & (df.gap <= dec_dict[decile]),var_list].mean()['gap'])\n",
    "        overall_sort_TFP.append(df.loc[(df.gap >dec_dict[decile0]) & (df.gap <= dec_dict[decile]),var_list].mean()['TFP'])\n",
    "        overall_sort_beme.append(df.loc[(df.gap >dec_dict[decile0]) & (df.gap <= dec_dict[decile]),var_list].mean()['beme'])\n",
    "        \n",
    "overall_sort_dict['gap']=overall_sort_gap\n",
    "overall_sort_dict['TFP']=overall_sort_TFP\n",
    "overall_sort_dict['beme']=overall_sort_beme"
   ]
  },
  {
   "cell_type": "code",
   "execution_count": 526,
   "metadata": {},
   "outputs": [
    {
     "data": {
      "text/plain": [
       "{'gap': [0.0,\n",
       "  0.08375577475004095,\n",
       "  0.21283919607843113,\n",
       "  0.32411136954244857,\n",
       "  0.43736467065123225,\n",
       "  0.5654273896031187,\n",
       "  0.7186366749330579,\n",
       "  0.9191087797070636,\n",
       "  1.200817560323643,\n",
       "  1.8419255692416725],\n",
       " 'TFP': [0.10620555996514064,\n",
       "  -0.09648163671529254,\n",
       "  -0.17635017432868672,\n",
       "  -0.23051070586312974,\n",
       "  -0.2662990966296566,\n",
       "  -0.30004604343413094,\n",
       "  -0.33574143582453964,\n",
       "  -0.38393688734546033,\n",
       "  -0.4798720155957174,\n",
       "  -0.9854330270493769],\n",
       " 'beme': [0.6156589590631925,\n",
       "  0.7239540730204029,\n",
       "  0.8360293348060958,\n",
       "  0.9299103715603586,\n",
       "  0.9961755343404669,\n",
       "  1.0183072803161812,\n",
       "  0.9995164011096538,\n",
       "  0.9700445518650533,\n",
       "  0.9033291055259502,\n",
       "  0.8982672203525777]}"
      ]
     },
     "execution_count": 526,
     "metadata": {},
     "output_type": "execute_result"
    }
   ],
   "source": [
    "overall_sort_dict"
   ]
  },
  {
   "cell_type": "code",
   "execution_count": 527,
   "metadata": {},
   "outputs": [],
   "source": [
    "overall_sort_df=pd.DataFrame(overall_sort_dict)"
   ]
  },
  {
   "cell_type": "code",
   "execution_count": 528,
   "metadata": {},
   "outputs": [
    {
     "data": {
      "text/plain": [
       "<matplotlib.axes._subplots.AxesSubplot at 0x7fc5112cb1d0>"
      ]
     },
     "execution_count": 528,
     "metadata": {},
     "output_type": "execute_result"
    },
    {
     "data": {
      "image/png": "[encoded data removed]",
      "text/plain": [
       "<Figure size 432x288 with 1 Axes>"
      ]
     },
     "metadata": {
      "needs_background": "light"
     },
     "output_type": "display_data"
    }
   ],
   "source": [
    "overall_sort_df.plot()"
   ]
  },
  {
   "cell_type": "code",
   "execution_count": 529,
   "metadata": {},
   "outputs": [
    {
     "data": {
      "text/plain": [
       "gap     1.841926\n",
       "TFP    -1.091639\n",
       "beme    0.282608\n",
       "dtype: float64"
      ]
     },
     "execution_count": 529,
     "metadata": {},
     "output_type": "execute_result"
    }
   ],
   "source": [
    "overall_sort_df.loc[9]-overall_sort_df.loc[0]"
   ]
  },
  {
   "cell_type": "markdown",
   "metadata": {},
   "source": [
    "## Sort within year then average across year"
   ]
  },
  {
   "cell_type": "code",
   "execution_count": 530,
   "metadata": {},
   "outputs": [],
   "source": [
    "df.reset_index(inplace=True)"
   ]
  },
  {
   "cell_type": "code",
   "execution_count": 531,
   "metadata": {},
   "outputs": [
    {
     "data": {
      "text/plain": [
       "fyear\n",
       "1963    1.275718\n",
       "1964    1.420540\n",
       "1965    1.389083\n",
       "1966    1.488279\n",
       "1967    1.885877\n",
       "1968    1.882364\n",
       "1969    2.007078\n",
       "1970    1.838156\n",
       "1971    2.789459\n",
       "1972    2.120526\n",
       "1973    2.553574\n",
       "1974    2.969722\n",
       "1975    2.979839\n",
       "1976    2.617953\n",
       "1977    2.634302\n",
       "1978    2.856892\n",
       "1979    3.198203\n",
       "1980    2.793608\n",
       "1981    3.265238\n",
       "1982    3.268711\n",
       "1983    3.268711\n",
       "1984    3.268711\n",
       "1985    3.203850\n",
       "1986    3.236234\n",
       "1987    3.265578\n",
       "1988    3.024949\n",
       "1989    3.205356\n",
       "1990    3.187688\n",
       "1991    3.268711\n",
       "1992    3.260934\n",
       "1993    3.268711\n",
       "1994    3.268711\n",
       "1995    3.268711\n",
       "1996    3.268711\n",
       "1997    3.268711\n",
       "1998    3.268711\n",
       "1999    3.268711\n",
       "2000    3.268711\n",
       "2001    3.268711\n",
       "2002    3.268711\n",
       "2003    3.268711\n",
       "2004    3.268711\n",
       "2005    3.268711\n",
       "2006    3.268711\n",
       "2007    3.268711\n",
       "2008    3.268711\n",
       "2009    3.268711\n",
       "2010    3.268711\n",
       "2011    3.268711\n",
       "2012    3.268711\n",
       "2013    3.268711\n",
       "2014    3.268711\n",
       "2015    3.268711\n",
       "2016    3.268711\n",
       "Name: gap, dtype: float64"
      ]
     },
     "execution_count": 531,
     "metadata": {},
     "output_type": "execute_result"
    }
   ],
   "source": [
    "df.groupby('fyear').gap.max()"
   ]
  },
  {
   "cell_type": "code",
   "execution_count": 532,
   "metadata": {},
   "outputs": [],
   "source": [
    "dec_year_dict=df[df.fyear==1987].gap.quantile([0, 0.1, 0.2, 0.3, 0.4, 0.5, 0.6, 0.7, 0.8, 0.9, 1]).to_dict()"
   ]
  },
  {
   "cell_type": "code",
   "execution_count": 533,
   "metadata": {},
   "outputs": [
    {
     "data": {
      "text/plain": [
       "{0.0: 0.0,\n",
       " 0.1: 0.0,\n",
       " 0.2: 0.13608546000000002,\n",
       " 0.3: 0.2389444,\n",
       " 0.4: 0.34066112000000004,\n",
       " 0.5: 0.44306360000000006,\n",
       " 0.6: 0.55291362,\n",
       " 0.7: 0.7093411199999999,\n",
       " 0.8: 0.90770616,\n",
       " 0.9: 1.2044222600000005,\n",
       " 1.0: 3.26557805}"
      ]
     },
     "execution_count": 533,
     "metadata": {},
     "output_type": "execute_result"
    }
   ],
   "source": [
    "dec_year_dict"
   ]
  },
  {
   "cell_type": "code",
   "execution_count": 534,
   "metadata": {},
   "outputs": [
    {
     "data": {
      "text/plain": [
       "gap     0.072231\n",
       "TFP    -0.090839\n",
       "beme    0.685501\n",
       "dtype: float64"
      ]
     },
     "execution_count": 534,
     "metadata": {},
     "output_type": "execute_result"
    }
   ],
   "source": [
    "df[df.fyear==1987].loc[(df[df.fyear==1987].gap >dec_year_dict[0.1]) & (df[df.fyear==1987].gap <= dec_year_dict[0.2]), ['gap','TFP','beme']].mean()"
   ]
  },
  {
   "cell_type": "code",
   "execution_count": 535,
   "metadata": {},
   "outputs": [
    {
     "data": {
      "text/plain": [
       "[0.1, 0.2, 0.3, 0.4, 0.5, 0.6, 0.7, 0.8, 0.9, 1.0]"
      ]
     },
     "execution_count": 535,
     "metadata": {},
     "output_type": "execute_result"
    }
   ],
   "source": [
    "list(dec_year_dict.keys())[1::]"
   ]
  },
  {
   "cell_type": "code",
   "execution_count": 536,
   "metadata": {},
   "outputs": [
    {
     "data": {
      "text/plain": [
       "54"
      ]
     },
     "execution_count": 536,
     "metadata": {},
     "output_type": "execute_result"
    }
   ],
   "source": [
    "len(set(df.fyear))"
   ]
  },
  {
   "cell_type": "code",
   "execution_count": 537,
   "metadata": {},
   "outputs": [
    {
     "name": "stdout",
     "output_type": "stream",
     "text": [
      "1963\n",
      "1964\n",
      "1965\n",
      "1966\n",
      "1967\n",
      "1968\n",
      "1969\n",
      "1970\n",
      "1971\n",
      "1972\n",
      "1973\n",
      "1974\n",
      "1975\n",
      "1976\n",
      "1977\n",
      "1978\n",
      "1979\n",
      "1980\n",
      "1981\n",
      "1982\n",
      "1983\n",
      "1984\n",
      "1985\n",
      "1986\n",
      "1987\n",
      "1988\n",
      "1989\n",
      "1990\n",
      "1991\n",
      "1992\n",
      "1993\n",
      "1994\n",
      "1995\n",
      "1996\n",
      "1997\n",
      "1998\n",
      "1999\n",
      "2000\n",
      "2001\n",
      "2002\n",
      "2003\n",
      "2004\n",
      "2005\n",
      "2006\n",
      "2007\n",
      "2008\n",
      "2009\n",
      "2010\n",
      "2011\n",
      "2012\n",
      "2013\n",
      "2014\n",
      "2015\n",
      "2016\n"
     ]
    }
   ],
   "source": [
    "var_list=['gap','TFP','beme']\n",
    "for year in set(df.fyear):\n",
    "    overall_sort_dict={}\n",
    "    overall_sort_gap=[]\n",
    "    overall_sort_TFP=[]\n",
    "    overall_sort_beme=[]\n",
    "    dec_year_dict=df[df.fyear==year].gap.quantile([0, 0.1, 0.2, 0.3, 0.4, 0.5, 0.6, 0.7, 0.8, 0.9, 1]).to_dict()\n",
    "    print(year)\n",
    "\n",
    "    for i in range(0,10):\n",
    "        decile = list(dec_year_dict.keys())[1::][i]\n",
    "        if i == 0:\n",
    "            #print('decile = 0.1')\n",
    "            overall_sort_gap.append(df[df.fyear==year].loc[(df[df.fyear==year].gap >=dec_year_dict[0]) & (df[df.fyear==year].gap <= dec_year_dict[decile]), var_list].mean()['gap'])\n",
    "            overall_sort_TFP.append(df[df.fyear==year].loc[(df[df.fyear==year].gap >=dec_year_dict[0]) & (df[df.fyear==year].gap <= dec_year_dict[decile]), var_list].mean()['TFP'])\n",
    "            overall_sort_beme.append(df[df.fyear==year].loc[(df[df.fyear==year].gap >=dec_year_dict[0]) & (df[df.fyear==year].gap <= dec_year_dict[decile]), var_list].mean()['beme'])\n",
    "        else:\n",
    "            #print(decile)\n",
    "            decile0 = list(dec_year_dict.keys())[1::][i-1]\n",
    "            overall_sort_gap.append(df[df.fyear==year].loc[(df[df.fyear==year].gap >dec_year_dict[decile0]) & (df[df.fyear==year].gap <= dec_year_dict[decile]), var_list].mean()['gap'])\n",
    "            overall_sort_TFP.append(df[df.fyear==year].loc[(df[df.fyear==year].gap >dec_year_dict[decile0]) & (df[df.fyear==year].gap <= dec_year_dict[decile]), var_list].mean()['TFP'])\n",
    "            overall_sort_beme.append(df[df.fyear==year].loc[(df[df.fyear==year].gap >dec_year_dict[decile0]) & (df[df.fyear==year].gap <= dec_year_dict[decile]), var_list].mean()['beme'])\n",
    "\n",
    "    overall_sort_dict['gap']=overall_sort_gap\n",
    "    overall_sort_dict['TFP']=overall_sort_TFP\n",
    "    overall_sort_dict['beme']=overall_sort_beme\n",
    "\n",
    "    if year==1987:\n",
    "        overall_sort_df=pd.DataFrame(overall_sort_dict)\n",
    "    else:\n",
    "        overall_sort_df+=pd.DataFrame(overall_sort_dict)\n",
    "\n",
    "overall_sort_df=overall_sort_df/len(set(df.fyear))"
   ]
  },
  {
   "cell_type": "code",
   "execution_count": 538,
   "metadata": {},
   "outputs": [
    {
     "data": {
      "text/plain": [
       "<matplotlib.axes._subplots.AxesSubplot at 0x7fc56f9b4630>"
      ]
     },
     "execution_count": 538,
     "metadata": {},
     "output_type": "execute_result"
    },
    {
     "data": {
      "image/png": "[encoded data removed]",
      "text/plain": [
       "<Figure size 432x288 with 1 Axes>"
      ]
     },
     "metadata": {
      "needs_background": "light"
     },
     "output_type": "display_data"
    }
   ],
   "source": [
    "overall_sort_df.plot()"
   ]
  },
  {
   "cell_type": "code",
   "execution_count": 539,
   "metadata": {},
   "outputs": [
    {
     "data": {
      "text/html": [
       "<div>\n",
       "<style scoped>\n",
       "    .dataframe tbody tr th:only-of-type {\n",
       "        vertical-align: middle;\n",
       "    }\n",
       "\n",
       "    .dataframe tbody tr th {\n",
       "        vertical-align: top;\n",
       "    }\n",
       "\n",
       "    .dataframe thead th {\n",
       "        text-align: right;\n",
       "    }\n",
       "</style>\n",
       "<table border=\"1\" class=\"dataframe\">\n",
       "  <thead>\n",
       "    <tr style=\"text-align: right;\">\n",
       "      <th></th>\n",
       "      <th>gap</th>\n",
       "      <th>TFP</th>\n",
       "      <th>beme</th>\n",
       "    </tr>\n",
       "  </thead>\n",
       "  <tbody>\n",
       "    <tr>\n",
       "      <th>0</th>\n",
       "      <td>0.000463</td>\n",
       "      <td>0.074180</td>\n",
       "      <td>0.296639</td>\n",
       "    </tr>\n",
       "    <tr>\n",
       "      <th>1</th>\n",
       "      <td>0.060890</td>\n",
       "      <td>-0.047595</td>\n",
       "      <td>0.329494</td>\n",
       "    </tr>\n",
       "    <tr>\n",
       "      <th>2</th>\n",
       "      <td>0.144221</td>\n",
       "      <td>-0.095009</td>\n",
       "      <td>0.389396</td>\n",
       "    </tr>\n",
       "    <tr>\n",
       "      <th>3</th>\n",
       "      <td>0.220567</td>\n",
       "      <td>-0.117473</td>\n",
       "      <td>0.421665</td>\n",
       "    </tr>\n",
       "    <tr>\n",
       "      <th>4</th>\n",
       "      <td>0.300734</td>\n",
       "      <td>-0.136318</td>\n",
       "      <td>0.441882</td>\n",
       "    </tr>\n",
       "    <tr>\n",
       "      <th>5</th>\n",
       "      <td>0.385658</td>\n",
       "      <td>-0.161895</td>\n",
       "      <td>0.442190</td>\n",
       "    </tr>\n",
       "    <tr>\n",
       "      <th>6</th>\n",
       "      <td>0.483159</td>\n",
       "      <td>-0.190343</td>\n",
       "      <td>0.448561</td>\n",
       "    </tr>\n",
       "    <tr>\n",
       "      <th>7</th>\n",
       "      <td>0.598601</td>\n",
       "      <td>-0.230100</td>\n",
       "      <td>0.448604</td>\n",
       "    </tr>\n",
       "    <tr>\n",
       "      <th>8</th>\n",
       "      <td>0.744849</td>\n",
       "      <td>-0.305593</td>\n",
       "      <td>0.457892</td>\n",
       "    </tr>\n",
       "    <tr>\n",
       "      <th>9</th>\n",
       "      <td>1.096109</td>\n",
       "      <td>-0.620820</td>\n",
       "      <td>0.480660</td>\n",
       "    </tr>\n",
       "  </tbody>\n",
       "</table>\n",
       "</div>"
      ],
      "text/plain": [
       "        gap       TFP      beme\n",
       "0  0.000463  0.074180  0.296639\n",
       "1  0.060890 -0.047595  0.329494\n",
       "2  0.144221 -0.095009  0.389396\n",
       "3  0.220567 -0.117473  0.421665\n",
       "4  0.300734 -0.136318  0.441882\n",
       "5  0.385658 -0.161895  0.442190\n",
       "6  0.483159 -0.190343  0.448561\n",
       "7  0.598601 -0.230100  0.448604\n",
       "8  0.744849 -0.305593  0.457892\n",
       "9  1.096109 -0.620820  0.480660"
      ]
     },
     "execution_count": 539,
     "metadata": {},
     "output_type": "execute_result"
    }
   ],
   "source": [
    "overall_sort_df"
   ]
  },
  {
   "cell_type": "code",
   "execution_count": 540,
   "metadata": {},
   "outputs": [
    {
     "data": {
      "text/html": [
       "<div>\n",
       "<style scoped>\n",
       "    .dataframe tbody tr th:only-of-type {\n",
       "        vertical-align: middle;\n",
       "    }\n",
       "\n",
       "    .dataframe tbody tr th {\n",
       "        vertical-align: top;\n",
       "    }\n",
       "\n",
       "    .dataframe thead th {\n",
       "        text-align: right;\n",
       "    }\n",
       "</style>\n",
       "<table border=\"1\" class=\"dataframe\">\n",
       "  <thead>\n",
       "    <tr style=\"text-align: right;\">\n",
       "      <th></th>\n",
       "      <th>gap</th>\n",
       "      <th>TFP</th>\n",
       "      <th>beme</th>\n",
       "    </tr>\n",
       "  </thead>\n",
       "  <tbody>\n",
       "    <tr>\n",
       "      <th>gap</th>\n",
       "      <td>1.000000</td>\n",
       "      <td>-0.966254</td>\n",
       "      <td>0.818740</td>\n",
       "    </tr>\n",
       "    <tr>\n",
       "      <th>TFP</th>\n",
       "      <td>-0.966254</td>\n",
       "      <td>1.000000</td>\n",
       "      <td>-0.785325</td>\n",
       "    </tr>\n",
       "    <tr>\n",
       "      <th>beme</th>\n",
       "      <td>0.818740</td>\n",
       "      <td>-0.785325</td>\n",
       "      <td>1.000000</td>\n",
       "    </tr>\n",
       "  </tbody>\n",
       "</table>\n",
       "</div>"
      ],
      "text/plain": [
       "           gap       TFP      beme\n",
       "gap   1.000000 -0.966254  0.818740\n",
       "TFP  -0.966254  1.000000 -0.785325\n",
       "beme  0.818740 -0.785325  1.000000"
      ]
     },
     "execution_count": 540,
     "metadata": {},
     "output_type": "execute_result"
    }
   ],
   "source": [
    "overall_sort_df.corr()"
   ]
  },
  {
   "cell_type": "code",
   "execution_count": 541,
   "metadata": {},
   "outputs": [
    {
     "data": {
      "text/plain": [
       "<matplotlib.axes._subplots.AxesSubplot at 0x7fc56f98df60>"
      ]
     },
     "execution_count": 541,
     "metadata": {},
     "output_type": "execute_result"
    },
    {
     "data": {
      "image/png": "[encoded data removed]",
      "text/plain": [
       "<Figure size 432x288 with 1 Axes>"
      ]
     },
     "metadata": {
      "needs_background": "light"
     },
     "output_type": "display_data"
    }
   ],
   "source": [
    "overall_sort_df.plot.scatter(y='beme',x='gap')"
   ]
  },
  {
   "cell_type": "code",
   "execution_count": 544,
   "metadata": {},
   "outputs": [],
   "source": [
    "var_list_keep = ['gvkey', 'fyear', 'sic', 'beme', 'TFP', 'gap', 'size', 'emp_size', 'lev', 'rdi', 'adi', 'roa', 'roe', 'gpr', 'age']"
   ]
  },
  {
   "cell_type": "code",
   "execution_count": 545,
   "metadata": {},
   "outputs": [],
   "source": [
    "df2 = df[var_list_keep]"
   ]
  },
  {
   "cell_type": "code",
   "execution_count": 546,
   "metadata": {},
   "outputs": [],
   "source": [
    "df2.to_csv('../data/TFP_Compustat_keep.csv', index=False)"
   ]
  }
 ],
 "metadata": {
  "kernelspec": {
   "display_name": "Python 3",
   "language": "python",
   "name": "python3"
  },
  "language_info": {
   "codemirror_mode": {
    "name": "ipython",
    "version": 3
   },
   "file_extension": ".py",
   "mimetype": "text/x-python",
   "name": "python",
   "nbconvert_exporter": "python",
   "pygments_lexer": "ipython3",
   "version": "3.6.10"
  }
 },
 "nbformat": 4,
 "nbformat_minor": 4
}
